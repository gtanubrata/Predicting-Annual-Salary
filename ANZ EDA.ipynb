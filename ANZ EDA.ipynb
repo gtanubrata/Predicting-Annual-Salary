{
 "cells": [
  {
   "cell_type": "markdown",
   "metadata": {},
   "source": [
    "# Init"
   ]
  },
  {
   "cell_type": "code",
   "execution_count": 1,
   "metadata": {
    "ExecuteTime": {
     "end_time": "2020-07-27T14:37:39.438345Z",
     "start_time": "2020-07-27T14:37:38.105739Z"
    }
   },
   "outputs": [],
   "source": [
    "import numpy as np\n",
    "import pandas as pd\n",
    "\n",
    "import matplotlib.pyplot as plt\n",
    "plt.style.use('fivethirtyeight')\n",
    "%matplotlib inline\n",
    "import seaborn as sns"
   ]
  },
  {
   "cell_type": "markdown",
   "metadata": {},
   "source": [
    "# Load"
   ]
  },
  {
   "cell_type": "code",
   "execution_count": 2,
   "metadata": {
    "ExecuteTime": {
     "end_time": "2020-07-27T14:37:43.092251Z",
     "start_time": "2020-07-27T14:37:39.440350Z"
    }
   },
   "outputs": [],
   "source": [
    "df = pd.ExcelFile('ANZ synthesised transaction dataset.xlsx')"
   ]
  },
  {
   "cell_type": "code",
   "execution_count": 3,
   "metadata": {
    "ExecuteTime": {
     "end_time": "2020-07-27T14:37:43.108241Z",
     "start_time": "2020-07-27T14:37:43.094246Z"
    }
   },
   "outputs": [
    {
     "name": "stdout",
     "output_type": "stream",
     "text": [
      "['DSynth_Output_100c_3m_v3']\n"
     ]
    }
   ],
   "source": [
    "print(df.sheet_names)"
   ]
  },
  {
   "cell_type": "code",
   "execution_count": 4,
   "metadata": {
    "ExecuteTime": {
     "end_time": "2020-07-27T14:37:43.550180Z",
     "start_time": "2020-07-27T14:37:43.110236Z"
    }
   },
   "outputs": [],
   "source": [
    "df = df.parse('DSynth_Output_100c_3m_v3')"
   ]
  },
  {
   "cell_type": "markdown",
   "metadata": {},
   "source": [
    "# Check"
   ]
  },
  {
   "cell_type": "code",
   "execution_count": 5,
   "metadata": {
    "ExecuteTime": {
     "end_time": "2020-07-27T14:37:43.612774Z",
     "start_time": "2020-07-27T14:37:43.554176Z"
    }
   },
   "outputs": [
    {
     "data": {
      "text/html": [
       "<div>\n",
       "<style scoped>\n",
       "    .dataframe tbody tr th:only-of-type {\n",
       "        vertical-align: middle;\n",
       "    }\n",
       "\n",
       "    .dataframe tbody tr th {\n",
       "        vertical-align: top;\n",
       "    }\n",
       "\n",
       "    .dataframe thead th {\n",
       "        text-align: right;\n",
       "    }\n",
       "</style>\n",
       "<table border=\"1\" class=\"dataframe\">\n",
       "  <thead>\n",
       "    <tr style=\"text-align: right;\">\n",
       "      <th></th>\n",
       "      <th>status</th>\n",
       "      <th>card_present_flag</th>\n",
       "      <th>bpay_biller_code</th>\n",
       "      <th>account</th>\n",
       "      <th>currency</th>\n",
       "      <th>long_lat</th>\n",
       "      <th>txn_description</th>\n",
       "      <th>merchant_id</th>\n",
       "      <th>merchant_code</th>\n",
       "      <th>first_name</th>\n",
       "      <th>...</th>\n",
       "      <th>age</th>\n",
       "      <th>merchant_suburb</th>\n",
       "      <th>merchant_state</th>\n",
       "      <th>extraction</th>\n",
       "      <th>amount</th>\n",
       "      <th>transaction_id</th>\n",
       "      <th>country</th>\n",
       "      <th>customer_id</th>\n",
       "      <th>merchant_long_lat</th>\n",
       "      <th>movement</th>\n",
       "    </tr>\n",
       "  </thead>\n",
       "  <tbody>\n",
       "    <tr>\n",
       "      <th>0</th>\n",
       "      <td>authorized</td>\n",
       "      <td>1.0</td>\n",
       "      <td>NaN</td>\n",
       "      <td>ACC-1598451071</td>\n",
       "      <td>AUD</td>\n",
       "      <td>153.41 -27.95</td>\n",
       "      <td>POS</td>\n",
       "      <td>81c48296-73be-44a7-befa-d053f48ce7cd</td>\n",
       "      <td>NaN</td>\n",
       "      <td>Diana</td>\n",
       "      <td>...</td>\n",
       "      <td>26</td>\n",
       "      <td>Ashmore</td>\n",
       "      <td>QLD</td>\n",
       "      <td>2018-08-01T01:01:15.000+0000</td>\n",
       "      <td>16.25</td>\n",
       "      <td>a623070bfead4541a6b0fff8a09e706c</td>\n",
       "      <td>Australia</td>\n",
       "      <td>CUS-2487424745</td>\n",
       "      <td>153.38 -27.99</td>\n",
       "      <td>debit</td>\n",
       "    </tr>\n",
       "    <tr>\n",
       "      <th>1</th>\n",
       "      <td>authorized</td>\n",
       "      <td>0.0</td>\n",
       "      <td>NaN</td>\n",
       "      <td>ACC-1598451071</td>\n",
       "      <td>AUD</td>\n",
       "      <td>153.41 -27.95</td>\n",
       "      <td>SALES-POS</td>\n",
       "      <td>830a451c-316e-4a6a-bf25-e37caedca49e</td>\n",
       "      <td>NaN</td>\n",
       "      <td>Diana</td>\n",
       "      <td>...</td>\n",
       "      <td>26</td>\n",
       "      <td>Sydney</td>\n",
       "      <td>NSW</td>\n",
       "      <td>2018-08-01T01:13:45.000+0000</td>\n",
       "      <td>14.19</td>\n",
       "      <td>13270a2a902145da9db4c951e04b51b9</td>\n",
       "      <td>Australia</td>\n",
       "      <td>CUS-2487424745</td>\n",
       "      <td>151.21 -33.87</td>\n",
       "      <td>debit</td>\n",
       "    </tr>\n",
       "    <tr>\n",
       "      <th>2</th>\n",
       "      <td>authorized</td>\n",
       "      <td>1.0</td>\n",
       "      <td>NaN</td>\n",
       "      <td>ACC-1222300524</td>\n",
       "      <td>AUD</td>\n",
       "      <td>151.23 -33.94</td>\n",
       "      <td>POS</td>\n",
       "      <td>835c231d-8cdf-4e96-859d-e9d571760cf0</td>\n",
       "      <td>NaN</td>\n",
       "      <td>Michael</td>\n",
       "      <td>...</td>\n",
       "      <td>38</td>\n",
       "      <td>Sydney</td>\n",
       "      <td>NSW</td>\n",
       "      <td>2018-08-01T01:26:15.000+0000</td>\n",
       "      <td>6.42</td>\n",
       "      <td>feb79e7ecd7048a5a36ec889d1a94270</td>\n",
       "      <td>Australia</td>\n",
       "      <td>CUS-2142601169</td>\n",
       "      <td>151.21 -33.87</td>\n",
       "      <td>debit</td>\n",
       "    </tr>\n",
       "    <tr>\n",
       "      <th>3</th>\n",
       "      <td>authorized</td>\n",
       "      <td>1.0</td>\n",
       "      <td>NaN</td>\n",
       "      <td>ACC-1037050564</td>\n",
       "      <td>AUD</td>\n",
       "      <td>153.10 -27.66</td>\n",
       "      <td>SALES-POS</td>\n",
       "      <td>48514682-c78a-4a88-b0da-2d6302e64673</td>\n",
       "      <td>NaN</td>\n",
       "      <td>Rhonda</td>\n",
       "      <td>...</td>\n",
       "      <td>40</td>\n",
       "      <td>Buderim</td>\n",
       "      <td>QLD</td>\n",
       "      <td>2018-08-01T01:38:45.000+0000</td>\n",
       "      <td>40.90</td>\n",
       "      <td>2698170da3704fd981b15e64a006079e</td>\n",
       "      <td>Australia</td>\n",
       "      <td>CUS-1614226872</td>\n",
       "      <td>153.05 -26.68</td>\n",
       "      <td>debit</td>\n",
       "    </tr>\n",
       "    <tr>\n",
       "      <th>4</th>\n",
       "      <td>authorized</td>\n",
       "      <td>1.0</td>\n",
       "      <td>NaN</td>\n",
       "      <td>ACC-1598451071</td>\n",
       "      <td>AUD</td>\n",
       "      <td>153.41 -27.95</td>\n",
       "      <td>SALES-POS</td>\n",
       "      <td>b4e02c10-0852-4273-b8fd-7b3395e32eb0</td>\n",
       "      <td>NaN</td>\n",
       "      <td>Diana</td>\n",
       "      <td>...</td>\n",
       "      <td>26</td>\n",
       "      <td>Mermaid Beach</td>\n",
       "      <td>QLD</td>\n",
       "      <td>2018-08-01T01:51:15.000+0000</td>\n",
       "      <td>3.25</td>\n",
       "      <td>329adf79878c4cf0aeb4188b4691c266</td>\n",
       "      <td>Australia</td>\n",
       "      <td>CUS-2487424745</td>\n",
       "      <td>153.44 -28.06</td>\n",
       "      <td>debit</td>\n",
       "    </tr>\n",
       "  </tbody>\n",
       "</table>\n",
       "<p>5 rows × 23 columns</p>\n",
       "</div>"
      ],
      "text/plain": [
       "       status  card_present_flag bpay_biller_code         account currency  \\\n",
       "0  authorized                1.0              NaN  ACC-1598451071      AUD   \n",
       "1  authorized                0.0              NaN  ACC-1598451071      AUD   \n",
       "2  authorized                1.0              NaN  ACC-1222300524      AUD   \n",
       "3  authorized                1.0              NaN  ACC-1037050564      AUD   \n",
       "4  authorized                1.0              NaN  ACC-1598451071      AUD   \n",
       "\n",
       "        long_lat txn_description                           merchant_id  \\\n",
       "0  153.41 -27.95             POS  81c48296-73be-44a7-befa-d053f48ce7cd   \n",
       "1  153.41 -27.95       SALES-POS  830a451c-316e-4a6a-bf25-e37caedca49e   \n",
       "2  151.23 -33.94             POS  835c231d-8cdf-4e96-859d-e9d571760cf0   \n",
       "3  153.10 -27.66       SALES-POS  48514682-c78a-4a88-b0da-2d6302e64673   \n",
       "4  153.41 -27.95       SALES-POS  b4e02c10-0852-4273-b8fd-7b3395e32eb0   \n",
       "\n",
       "   merchant_code first_name  ...  age merchant_suburb merchant_state  \\\n",
       "0            NaN      Diana  ...   26         Ashmore            QLD   \n",
       "1            NaN      Diana  ...   26          Sydney            NSW   \n",
       "2            NaN    Michael  ...   38          Sydney            NSW   \n",
       "3            NaN     Rhonda  ...   40         Buderim            QLD   \n",
       "4            NaN      Diana  ...   26   Mermaid Beach            QLD   \n",
       "\n",
       "                     extraction amount                    transaction_id  \\\n",
       "0  2018-08-01T01:01:15.000+0000  16.25  a623070bfead4541a6b0fff8a09e706c   \n",
       "1  2018-08-01T01:13:45.000+0000  14.19  13270a2a902145da9db4c951e04b51b9   \n",
       "2  2018-08-01T01:26:15.000+0000   6.42  feb79e7ecd7048a5a36ec889d1a94270   \n",
       "3  2018-08-01T01:38:45.000+0000  40.90  2698170da3704fd981b15e64a006079e   \n",
       "4  2018-08-01T01:51:15.000+0000   3.25  329adf79878c4cf0aeb4188b4691c266   \n",
       "\n",
       "     country     customer_id merchant_long_lat movement  \n",
       "0  Australia  CUS-2487424745     153.38 -27.99    debit  \n",
       "1  Australia  CUS-2487424745     151.21 -33.87    debit  \n",
       "2  Australia  CUS-2142601169     151.21 -33.87    debit  \n",
       "3  Australia  CUS-1614226872     153.05 -26.68    debit  \n",
       "4  Australia  CUS-2487424745     153.44 -28.06    debit  \n",
       "\n",
       "[5 rows x 23 columns]"
      ]
     },
     "execution_count": 5,
     "metadata": {},
     "output_type": "execute_result"
    }
   ],
   "source": [
    "df.head()"
   ]
  },
  {
   "cell_type": "code",
   "execution_count": 6,
   "metadata": {
    "ExecuteTime": {
     "end_time": "2020-07-27T14:37:43.737163Z",
     "start_time": "2020-07-27T14:37:43.614773Z"
    }
   },
   "outputs": [
    {
     "name": "stdout",
     "output_type": "stream",
     "text": [
      "<class 'pandas.core.frame.DataFrame'>\n",
      "RangeIndex: 12043 entries, 0 to 12042\n",
      "Data columns (total 23 columns):\n",
      " #   Column             Non-Null Count  Dtype         \n",
      "---  ------             --------------  -----         \n",
      " 0   status             12043 non-null  object        \n",
      " 1   card_present_flag  7717 non-null   float64       \n",
      " 2   bpay_biller_code   885 non-null    object        \n",
      " 3   account            12043 non-null  object        \n",
      " 4   currency           12043 non-null  object        \n",
      " 5   long_lat           12043 non-null  object        \n",
      " 6   txn_description    12043 non-null  object        \n",
      " 7   merchant_id        7717 non-null   object        \n",
      " 8   merchant_code      883 non-null    float64       \n",
      " 9   first_name         12043 non-null  object        \n",
      " 10  balance            12043 non-null  float64       \n",
      " 11  date               12043 non-null  datetime64[ns]\n",
      " 12  gender             12043 non-null  object        \n",
      " 13  age                12043 non-null  int64         \n",
      " 14  merchant_suburb    7717 non-null   object        \n",
      " 15  merchant_state     7717 non-null   object        \n",
      " 16  extraction         12043 non-null  object        \n",
      " 17  amount             12043 non-null  float64       \n",
      " 18  transaction_id     12043 non-null  object        \n",
      " 19  country            12043 non-null  object        \n",
      " 20  customer_id        12043 non-null  object        \n",
      " 21  merchant_long_lat  7717 non-null   object        \n",
      " 22  movement           12043 non-null  object        \n",
      "dtypes: datetime64[ns](1), float64(4), int64(1), object(17)\n",
      "memory usage: 1.3+ MB\n"
     ]
    }
   ],
   "source": [
    "df.info()"
   ]
  },
  {
   "cell_type": "code",
   "execution_count": 7,
   "metadata": {
    "ExecuteTime": {
     "end_time": "2020-07-27T14:37:43.830462Z",
     "start_time": "2020-07-27T14:37:43.740161Z"
    }
   },
   "outputs": [
    {
     "data": {
      "text/html": [
       "<div>\n",
       "<style scoped>\n",
       "    .dataframe tbody tr th:only-of-type {\n",
       "        vertical-align: middle;\n",
       "    }\n",
       "\n",
       "    .dataframe tbody tr th {\n",
       "        vertical-align: top;\n",
       "    }\n",
       "\n",
       "    .dataframe thead th {\n",
       "        text-align: right;\n",
       "    }\n",
       "</style>\n",
       "<table border=\"1\" class=\"dataframe\">\n",
       "  <thead>\n",
       "    <tr style=\"text-align: right;\">\n",
       "      <th></th>\n",
       "      <th>card_present_flag</th>\n",
       "      <th>merchant_code</th>\n",
       "      <th>balance</th>\n",
       "      <th>age</th>\n",
       "      <th>amount</th>\n",
       "    </tr>\n",
       "  </thead>\n",
       "  <tbody>\n",
       "    <tr>\n",
       "      <th>count</th>\n",
       "      <td>7717.000000</td>\n",
       "      <td>883.0</td>\n",
       "      <td>12043.000000</td>\n",
       "      <td>12043.000000</td>\n",
       "      <td>12043.000000</td>\n",
       "    </tr>\n",
       "    <tr>\n",
       "      <th>mean</th>\n",
       "      <td>0.802644</td>\n",
       "      <td>0.0</td>\n",
       "      <td>14704.195553</td>\n",
       "      <td>30.582330</td>\n",
       "      <td>187.933588</td>\n",
       "    </tr>\n",
       "    <tr>\n",
       "      <th>std</th>\n",
       "      <td>0.398029</td>\n",
       "      <td>0.0</td>\n",
       "      <td>31503.722652</td>\n",
       "      <td>10.046343</td>\n",
       "      <td>592.599934</td>\n",
       "    </tr>\n",
       "    <tr>\n",
       "      <th>min</th>\n",
       "      <td>0.000000</td>\n",
       "      <td>0.0</td>\n",
       "      <td>0.240000</td>\n",
       "      <td>18.000000</td>\n",
       "      <td>0.100000</td>\n",
       "    </tr>\n",
       "    <tr>\n",
       "      <th>25%</th>\n",
       "      <td>1.000000</td>\n",
       "      <td>0.0</td>\n",
       "      <td>3158.585000</td>\n",
       "      <td>22.000000</td>\n",
       "      <td>16.000000</td>\n",
       "    </tr>\n",
       "    <tr>\n",
       "      <th>50%</th>\n",
       "      <td>1.000000</td>\n",
       "      <td>0.0</td>\n",
       "      <td>6432.010000</td>\n",
       "      <td>28.000000</td>\n",
       "      <td>29.000000</td>\n",
       "    </tr>\n",
       "    <tr>\n",
       "      <th>75%</th>\n",
       "      <td>1.000000</td>\n",
       "      <td>0.0</td>\n",
       "      <td>12465.945000</td>\n",
       "      <td>38.000000</td>\n",
       "      <td>53.655000</td>\n",
       "    </tr>\n",
       "    <tr>\n",
       "      <th>max</th>\n",
       "      <td>1.000000</td>\n",
       "      <td>0.0</td>\n",
       "      <td>267128.520000</td>\n",
       "      <td>78.000000</td>\n",
       "      <td>8835.980000</td>\n",
       "    </tr>\n",
       "  </tbody>\n",
       "</table>\n",
       "</div>"
      ],
      "text/plain": [
       "       card_present_flag  merchant_code        balance           age  \\\n",
       "count        7717.000000          883.0   12043.000000  12043.000000   \n",
       "mean            0.802644            0.0   14704.195553     30.582330   \n",
       "std             0.398029            0.0   31503.722652     10.046343   \n",
       "min             0.000000            0.0       0.240000     18.000000   \n",
       "25%             1.000000            0.0    3158.585000     22.000000   \n",
       "50%             1.000000            0.0    6432.010000     28.000000   \n",
       "75%             1.000000            0.0   12465.945000     38.000000   \n",
       "max             1.000000            0.0  267128.520000     78.000000   \n",
       "\n",
       "             amount  \n",
       "count  12043.000000  \n",
       "mean     187.933588  \n",
       "std      592.599934  \n",
       "min        0.100000  \n",
       "25%       16.000000  \n",
       "50%       29.000000  \n",
       "75%       53.655000  \n",
       "max     8835.980000  "
      ]
     },
     "execution_count": 7,
     "metadata": {},
     "output_type": "execute_result"
    }
   ],
   "source": [
    "df.describe()"
   ]
  },
  {
   "cell_type": "code",
   "execution_count": 8,
   "metadata": {
    "ExecuteTime": {
     "end_time": "2020-07-27T14:37:44.004356Z",
     "start_time": "2020-07-27T14:37:43.833460Z"
    },
    "scrolled": false
   },
   "outputs": [
    {
     "data": {
      "text/html": [
       "<div>\n",
       "<style scoped>\n",
       "    .dataframe tbody tr th:only-of-type {\n",
       "        vertical-align: middle;\n",
       "    }\n",
       "\n",
       "    .dataframe tbody tr th {\n",
       "        vertical-align: top;\n",
       "    }\n",
       "\n",
       "    .dataframe thead th {\n",
       "        text-align: right;\n",
       "    }\n",
       "</style>\n",
       "<table border=\"1\" class=\"dataframe\">\n",
       "  <thead>\n",
       "    <tr style=\"text-align: right;\">\n",
       "      <th></th>\n",
       "      <th>status</th>\n",
       "      <th>bpay_biller_code</th>\n",
       "      <th>account</th>\n",
       "      <th>currency</th>\n",
       "      <th>long_lat</th>\n",
       "      <th>txn_description</th>\n",
       "      <th>merchant_id</th>\n",
       "      <th>first_name</th>\n",
       "      <th>date</th>\n",
       "      <th>gender</th>\n",
       "      <th>merchant_suburb</th>\n",
       "      <th>merchant_state</th>\n",
       "      <th>extraction</th>\n",
       "      <th>transaction_id</th>\n",
       "      <th>country</th>\n",
       "      <th>customer_id</th>\n",
       "      <th>merchant_long_lat</th>\n",
       "      <th>movement</th>\n",
       "    </tr>\n",
       "  </thead>\n",
       "  <tbody>\n",
       "    <tr>\n",
       "      <th>count</th>\n",
       "      <td>12043</td>\n",
       "      <td>885.0</td>\n",
       "      <td>12043</td>\n",
       "      <td>12043</td>\n",
       "      <td>12043</td>\n",
       "      <td>12043</td>\n",
       "      <td>7717</td>\n",
       "      <td>12043</td>\n",
       "      <td>12043</td>\n",
       "      <td>12043</td>\n",
       "      <td>7717</td>\n",
       "      <td>7717</td>\n",
       "      <td>12043</td>\n",
       "      <td>12043</td>\n",
       "      <td>12043</td>\n",
       "      <td>12043</td>\n",
       "      <td>7717</td>\n",
       "      <td>12043</td>\n",
       "    </tr>\n",
       "    <tr>\n",
       "      <th>unique</th>\n",
       "      <td>2</td>\n",
       "      <td>3.0</td>\n",
       "      <td>100</td>\n",
       "      <td>1</td>\n",
       "      <td>100</td>\n",
       "      <td>6</td>\n",
       "      <td>5725</td>\n",
       "      <td>80</td>\n",
       "      <td>91</td>\n",
       "      <td>2</td>\n",
       "      <td>1609</td>\n",
       "      <td>8</td>\n",
       "      <td>9442</td>\n",
       "      <td>12043</td>\n",
       "      <td>1</td>\n",
       "      <td>100</td>\n",
       "      <td>2703</td>\n",
       "      <td>2</td>\n",
       "    </tr>\n",
       "    <tr>\n",
       "      <th>top</th>\n",
       "      <td>authorized</td>\n",
       "      <td>0.0</td>\n",
       "      <td>ACC-1598451071</td>\n",
       "      <td>AUD</td>\n",
       "      <td>153.41 -27.95</td>\n",
       "      <td>SALES-POS</td>\n",
       "      <td>106e1272-44ab-4dcb-a438-dd98e0071e51</td>\n",
       "      <td>Michael</td>\n",
       "      <td>2018-09-28 00:00:00</td>\n",
       "      <td>M</td>\n",
       "      <td>Melbourne</td>\n",
       "      <td>NSW</td>\n",
       "      <td>2018-09-03T11:00:00.000+0000</td>\n",
       "      <td>8baa3e3e68124bcdaf12f84c0cb10ffd</td>\n",
       "      <td>Australia</td>\n",
       "      <td>CUS-2487424745</td>\n",
       "      <td>151.21 -33.87</td>\n",
       "      <td>debit</td>\n",
       "    </tr>\n",
       "    <tr>\n",
       "      <th>freq</th>\n",
       "      <td>7717</td>\n",
       "      <td>883.0</td>\n",
       "      <td>578</td>\n",
       "      <td>12043</td>\n",
       "      <td>578</td>\n",
       "      <td>3934</td>\n",
       "      <td>14</td>\n",
       "      <td>746</td>\n",
       "      <td>174</td>\n",
       "      <td>6285</td>\n",
       "      <td>255</td>\n",
       "      <td>2169</td>\n",
       "      <td>10</td>\n",
       "      <td>1</td>\n",
       "      <td>12043</td>\n",
       "      <td>578</td>\n",
       "      <td>145</td>\n",
       "      <td>11160</td>\n",
       "    </tr>\n",
       "    <tr>\n",
       "      <th>first</th>\n",
       "      <td>NaN</td>\n",
       "      <td>NaN</td>\n",
       "      <td>NaN</td>\n",
       "      <td>NaN</td>\n",
       "      <td>NaN</td>\n",
       "      <td>NaN</td>\n",
       "      <td>NaN</td>\n",
       "      <td>NaN</td>\n",
       "      <td>2018-08-01 00:00:00</td>\n",
       "      <td>NaN</td>\n",
       "      <td>NaN</td>\n",
       "      <td>NaN</td>\n",
       "      <td>NaN</td>\n",
       "      <td>NaN</td>\n",
       "      <td>NaN</td>\n",
       "      <td>NaN</td>\n",
       "      <td>NaN</td>\n",
       "      <td>NaN</td>\n",
       "    </tr>\n",
       "    <tr>\n",
       "      <th>last</th>\n",
       "      <td>NaN</td>\n",
       "      <td>NaN</td>\n",
       "      <td>NaN</td>\n",
       "      <td>NaN</td>\n",
       "      <td>NaN</td>\n",
       "      <td>NaN</td>\n",
       "      <td>NaN</td>\n",
       "      <td>NaN</td>\n",
       "      <td>2018-10-31 00:00:00</td>\n",
       "      <td>NaN</td>\n",
       "      <td>NaN</td>\n",
       "      <td>NaN</td>\n",
       "      <td>NaN</td>\n",
       "      <td>NaN</td>\n",
       "      <td>NaN</td>\n",
       "      <td>NaN</td>\n",
       "      <td>NaN</td>\n",
       "      <td>NaN</td>\n",
       "    </tr>\n",
       "  </tbody>\n",
       "</table>\n",
       "</div>"
      ],
      "text/plain": [
       "            status  bpay_biller_code         account currency       long_lat  \\\n",
       "count        12043             885.0           12043    12043          12043   \n",
       "unique           2               3.0             100        1            100   \n",
       "top     authorized               0.0  ACC-1598451071      AUD  153.41 -27.95   \n",
       "freq          7717             883.0             578    12043            578   \n",
       "first          NaN               NaN             NaN      NaN            NaN   \n",
       "last           NaN               NaN             NaN      NaN            NaN   \n",
       "\n",
       "       txn_description                           merchant_id first_name  \\\n",
       "count            12043                                  7717      12043   \n",
       "unique               6                                  5725         80   \n",
       "top          SALES-POS  106e1272-44ab-4dcb-a438-dd98e0071e51    Michael   \n",
       "freq              3934                                    14        746   \n",
       "first              NaN                                   NaN        NaN   \n",
       "last               NaN                                   NaN        NaN   \n",
       "\n",
       "                       date gender merchant_suburb merchant_state  \\\n",
       "count                 12043  12043            7717           7717   \n",
       "unique                   91      2            1609              8   \n",
       "top     2018-09-28 00:00:00      M       Melbourne            NSW   \n",
       "freq                    174   6285             255           2169   \n",
       "first   2018-08-01 00:00:00    NaN             NaN            NaN   \n",
       "last    2018-10-31 00:00:00    NaN             NaN            NaN   \n",
       "\n",
       "                          extraction                    transaction_id  \\\n",
       "count                          12043                             12043   \n",
       "unique                          9442                             12043   \n",
       "top     2018-09-03T11:00:00.000+0000  8baa3e3e68124bcdaf12f84c0cb10ffd   \n",
       "freq                              10                                 1   \n",
       "first                            NaN                               NaN   \n",
       "last                             NaN                               NaN   \n",
       "\n",
       "          country     customer_id merchant_long_lat movement  \n",
       "count       12043           12043              7717    12043  \n",
       "unique          1             100              2703        2  \n",
       "top     Australia  CUS-2487424745     151.21 -33.87    debit  \n",
       "freq        12043             578               145    11160  \n",
       "first         NaN             NaN               NaN      NaN  \n",
       "last          NaN             NaN               NaN      NaN  "
      ]
     },
     "execution_count": 8,
     "metadata": {},
     "output_type": "execute_result"
    }
   ],
   "source": [
    "df.describe(exclude='number')"
   ]
  },
  {
   "cell_type": "markdown",
   "metadata": {},
   "source": [
    "# Missing/Useless Values"
   ]
  },
  {
   "cell_type": "code",
   "execution_count": 9,
   "metadata": {
    "ExecuteTime": {
     "end_time": "2020-07-27T14:37:44.052326Z",
     "start_time": "2020-07-27T14:37:44.006355Z"
    }
   },
   "outputs": [
    {
     "data": {
      "text/plain": [
       "card_present_flag     4326\n",
       "bpay_biller_code     11158\n",
       "merchant_id           4326\n",
       "merchant_code        11160\n",
       "merchant_suburb       4326\n",
       "merchant_state        4326\n",
       "merchant_long_lat     4326\n",
       "dtype: int64"
      ]
     },
     "execution_count": 9,
     "metadata": {},
     "output_type": "execute_result"
    }
   ],
   "source": [
    "df.isna().sum()[df.isna().sum() > 0]"
   ]
  },
  {
   "cell_type": "code",
   "execution_count": 10,
   "metadata": {
    "ExecuteTime": {
     "end_time": "2020-07-27T14:37:44.162403Z",
     "start_time": "2020-07-27T14:37:44.054324Z"
    }
   },
   "outputs": [
    {
     "data": {
      "text/plain": [
       "array(['posted'], dtype=object)"
      ]
     },
     "execution_count": 10,
     "metadata": {},
     "output_type": "execute_result"
    }
   ],
   "source": [
    "df[df['card_present_flag'].isna()]['status'].unique()\n",
    "\n",
    "# THIS TYPE OF TXN DO NOT REQUIRE MERCHANT DATA"
   ]
  },
  {
   "cell_type": "code",
   "execution_count": 11,
   "metadata": {
    "ExecuteTime": {
     "end_time": "2020-07-27T14:37:44.288389Z",
     "start_time": "2020-07-27T14:37:44.166402Z"
    }
   },
   "outputs": [
    {
     "data": {
      "text/plain": [
       "array(['authorized'], dtype=object)"
      ]
     },
     "execution_count": 11,
     "metadata": {},
     "output_type": "execute_result"
    }
   ],
   "source": [
    "df[df['card_present_flag'].notna()]['status'].unique()"
   ]
  },
  {
   "cell_type": "code",
   "execution_count": 12,
   "metadata": {
    "ExecuteTime": {
     "end_time": "2020-07-27T14:37:44.399702Z",
     "start_time": "2020-07-27T14:37:44.292386Z"
    }
   },
   "outputs": [
    {
     "data": {
      "text/plain": [
       "array(['PAYMENT', 'INTER BANK', 'PAY/SALARY', 'PHONE BANK'], dtype=object)"
      ]
     },
     "execution_count": 12,
     "metadata": {},
     "output_type": "execute_result"
    }
   ],
   "source": [
    "df[df['card_present_flag'].isna()]['txn_description'].unique()\n",
    "\n",
    "# THIS TYPE OF TXN DO NOT REQUIRE MERCHANT DATA"
   ]
  },
  {
   "cell_type": "code",
   "execution_count": 13,
   "metadata": {
    "ExecuteTime": {
     "end_time": "2020-07-27T14:37:44.524854Z",
     "start_time": "2020-07-27T14:37:44.401700Z"
    }
   },
   "outputs": [
    {
     "data": {
      "text/plain": [
       "array(['POS', 'SALES-POS'], dtype=object)"
      ]
     },
     "execution_count": 13,
     "metadata": {},
     "output_type": "execute_result"
    }
   ],
   "source": [
    "df[df['card_present_flag'].notna()]['txn_description'].unique()"
   ]
  },
  {
   "cell_type": "code",
   "execution_count": 14,
   "metadata": {
    "ExecuteTime": {
     "end_time": "2020-07-27T14:37:44.715702Z",
     "start_time": "2020-07-27T14:37:44.529845Z"
    }
   },
   "outputs": [
    {
     "data": {
      "text/plain": [
       "array([nan,  0.])"
      ]
     },
     "execution_count": 14,
     "metadata": {},
     "output_type": "execute_result"
    }
   ],
   "source": [
    "df['merchant_code'].unique()"
   ]
  },
  {
   "cell_type": "code",
   "execution_count": 15,
   "metadata": {
    "ExecuteTime": {
     "end_time": "2020-07-27T14:37:44.809241Z",
     "start_time": "2020-07-27T14:37:44.717701Z"
    }
   },
   "outputs": [
    {
     "data": {
      "text/plain": [
       "array(['PAY/SALARY'], dtype=object)"
      ]
     },
     "execution_count": 15,
     "metadata": {},
     "output_type": "execute_result"
    }
   ],
   "source": [
    "df[df['merchant_code'].notna()]['txn_description'].unique()"
   ]
  },
  {
   "cell_type": "code",
   "execution_count": 16,
   "metadata": {
    "ExecuteTime": {
     "end_time": "2020-07-27T14:37:44.936286Z",
     "start_time": "2020-07-27T14:37:44.814233Z"
    }
   },
   "outputs": [
    {
     "data": {
      "text/plain": [
       "array([0.])"
      ]
     },
     "execution_count": 16,
     "metadata": {},
     "output_type": "execute_result"
    }
   ],
   "source": [
    "df[df['txn_description'] == 'PAY/SALARY']['merchant_code'].unique()\n",
    "\n",
    "# ? NO USEFUL INFORMATION"
   ]
  },
  {
   "cell_type": "code",
   "execution_count": 17,
   "metadata": {
    "ExecuteTime": {
     "end_time": "2020-07-27T14:37:45.047210Z",
     "start_time": "2020-07-27T14:37:44.941283Z"
    }
   },
   "outputs": [
    {
     "data": {
      "text/plain": [
       "array([nan, 0, ' THE DISCOUNT CHEMIST GROUP',\n",
       "       ' LAND WATER & PLANNING East Melbourne'], dtype=object)"
      ]
     },
     "execution_count": 17,
     "metadata": {},
     "output_type": "execute_result"
    }
   ],
   "source": [
    "df['bpay_biller_code'].unique()"
   ]
  },
  {
   "cell_type": "code",
   "execution_count": 18,
   "metadata": {
    "ExecuteTime": {
     "end_time": "2020-07-27T14:37:45.174312Z",
     "start_time": "2020-07-27T14:37:45.049208Z"
    }
   },
   "outputs": [
    {
     "data": {
      "text/html": [
       "<div>\n",
       "<style scoped>\n",
       "    .dataframe tbody tr th:only-of-type {\n",
       "        vertical-align: middle;\n",
       "    }\n",
       "\n",
       "    .dataframe tbody tr th {\n",
       "        vertical-align: top;\n",
       "    }\n",
       "\n",
       "    .dataframe thead th {\n",
       "        text-align: right;\n",
       "    }\n",
       "</style>\n",
       "<table border=\"1\" class=\"dataframe\">\n",
       "  <thead>\n",
       "    <tr style=\"text-align: right;\">\n",
       "      <th></th>\n",
       "      <th>status</th>\n",
       "      <th>card_present_flag</th>\n",
       "      <th>bpay_biller_code</th>\n",
       "      <th>account</th>\n",
       "      <th>currency</th>\n",
       "      <th>long_lat</th>\n",
       "      <th>txn_description</th>\n",
       "      <th>merchant_id</th>\n",
       "      <th>merchant_code</th>\n",
       "      <th>first_name</th>\n",
       "      <th>...</th>\n",
       "      <th>age</th>\n",
       "      <th>merchant_suburb</th>\n",
       "      <th>merchant_state</th>\n",
       "      <th>extraction</th>\n",
       "      <th>amount</th>\n",
       "      <th>transaction_id</th>\n",
       "      <th>country</th>\n",
       "      <th>customer_id</th>\n",
       "      <th>merchant_long_lat</th>\n",
       "      <th>movement</th>\n",
       "    </tr>\n",
       "  </thead>\n",
       "  <tbody>\n",
       "    <tr>\n",
       "      <th>3050</th>\n",
       "      <td>authorized</td>\n",
       "      <td>1.0</td>\n",
       "      <td>THE DISCOUNT CHEMIST GROUP</td>\n",
       "      <td>ACC-2681137560</td>\n",
       "      <td>AUD</td>\n",
       "      <td>151.11 -33.99</td>\n",
       "      <td>POS</td>\n",
       "      <td>786e2dcb-aa00-4a01-a8d7-7cff67fd69e1</td>\n",
       "      <td>NaN</td>\n",
       "      <td>Nathaniel</td>\n",
       "      <td>...</td>\n",
       "      <td>31</td>\n",
       "      <td>Bondi Junction</td>\n",
       "      <td>NSW</td>\n",
       "      <td>2018-08-25T09:17:31.000+0000</td>\n",
       "      <td>20.69</td>\n",
       "      <td>156aa5c521d649099523070b2a40e2e9</td>\n",
       "      <td>Australia</td>\n",
       "      <td>CUS-2083971310</td>\n",
       "      <td>151.25 -33.89</td>\n",
       "      <td>debit</td>\n",
       "    </tr>\n",
       "  </tbody>\n",
       "</table>\n",
       "<p>1 rows × 23 columns</p>\n",
       "</div>"
      ],
      "text/plain": [
       "          status  card_present_flag             bpay_biller_code  \\\n",
       "3050  authorized                1.0   THE DISCOUNT CHEMIST GROUP   \n",
       "\n",
       "             account currency       long_lat txn_description  \\\n",
       "3050  ACC-2681137560      AUD  151.11 -33.99             POS   \n",
       "\n",
       "                               merchant_id  merchant_code first_name  ...  \\\n",
       "3050  786e2dcb-aa00-4a01-a8d7-7cff67fd69e1            NaN  Nathaniel  ...   \n",
       "\n",
       "      age merchant_suburb merchant_state                    extraction amount  \\\n",
       "3050   31  Bondi Junction            NSW  2018-08-25T09:17:31.000+0000  20.69   \n",
       "\n",
       "                        transaction_id    country     customer_id  \\\n",
       "3050  156aa5c521d649099523070b2a40e2e9  Australia  CUS-2083971310   \n",
       "\n",
       "     merchant_long_lat movement  \n",
       "3050     151.25 -33.89    debit  \n",
       "\n",
       "[1 rows x 23 columns]"
      ]
     },
     "execution_count": 18,
     "metadata": {},
     "output_type": "execute_result"
    }
   ],
   "source": [
    "df[df['bpay_biller_code'] == ' THE DISCOUNT CHEMIST GROUP']"
   ]
  },
  {
   "cell_type": "code",
   "execution_count": 19,
   "metadata": {
    "ExecuteTime": {
     "end_time": "2020-07-27T14:37:45.285538Z",
     "start_time": "2020-07-27T14:37:45.175313Z"
    }
   },
   "outputs": [
    {
     "data": {
      "text/html": [
       "<div>\n",
       "<style scoped>\n",
       "    .dataframe tbody tr th:only-of-type {\n",
       "        vertical-align: middle;\n",
       "    }\n",
       "\n",
       "    .dataframe tbody tr th {\n",
       "        vertical-align: top;\n",
       "    }\n",
       "\n",
       "    .dataframe thead th {\n",
       "        text-align: right;\n",
       "    }\n",
       "</style>\n",
       "<table border=\"1\" class=\"dataframe\">\n",
       "  <thead>\n",
       "    <tr style=\"text-align: right;\">\n",
       "      <th></th>\n",
       "      <th>status</th>\n",
       "      <th>card_present_flag</th>\n",
       "      <th>bpay_biller_code</th>\n",
       "      <th>account</th>\n",
       "      <th>currency</th>\n",
       "      <th>long_lat</th>\n",
       "      <th>txn_description</th>\n",
       "      <th>merchant_id</th>\n",
       "      <th>merchant_code</th>\n",
       "      <th>first_name</th>\n",
       "      <th>...</th>\n",
       "      <th>age</th>\n",
       "      <th>merchant_suburb</th>\n",
       "      <th>merchant_state</th>\n",
       "      <th>extraction</th>\n",
       "      <th>amount</th>\n",
       "      <th>transaction_id</th>\n",
       "      <th>country</th>\n",
       "      <th>customer_id</th>\n",
       "      <th>merchant_long_lat</th>\n",
       "      <th>movement</th>\n",
       "    </tr>\n",
       "  </thead>\n",
       "  <tbody>\n",
       "    <tr>\n",
       "      <th>4358</th>\n",
       "      <td>authorized</td>\n",
       "      <td>1.0</td>\n",
       "      <td>LAND WATER &amp; PLANNING East Melbourne</td>\n",
       "      <td>ACC-80388494</td>\n",
       "      <td>AUD</td>\n",
       "      <td>144.97 -37.42</td>\n",
       "      <td>SALES-POS</td>\n",
       "      <td>bfac8fdf-39fb-4300-9267-0a7097d3f365</td>\n",
       "      <td>NaN</td>\n",
       "      <td>Dustin</td>\n",
       "      <td>...</td>\n",
       "      <td>28</td>\n",
       "      <td>East Melbourne</td>\n",
       "      <td>VIC</td>\n",
       "      <td>2018-09-04T09:42:51.000+0000</td>\n",
       "      <td>24.01</td>\n",
       "      <td>77dfd0ea900745819a25200f1194185b</td>\n",
       "      <td>Australia</td>\n",
       "      <td>CUS-1140341822</td>\n",
       "      <td>144.97 -37.81</td>\n",
       "      <td>debit</td>\n",
       "    </tr>\n",
       "  </tbody>\n",
       "</table>\n",
       "<p>1 rows × 23 columns</p>\n",
       "</div>"
      ],
      "text/plain": [
       "          status  card_present_flag                       bpay_biller_code  \\\n",
       "4358  authorized                1.0   LAND WATER & PLANNING East Melbourne   \n",
       "\n",
       "           account currency       long_lat txn_description  \\\n",
       "4358  ACC-80388494      AUD  144.97 -37.42       SALES-POS   \n",
       "\n",
       "                               merchant_id  merchant_code first_name  ...  \\\n",
       "4358  bfac8fdf-39fb-4300-9267-0a7097d3f365            NaN     Dustin  ...   \n",
       "\n",
       "      age merchant_suburb merchant_state                    extraction amount  \\\n",
       "4358   28  East Melbourne            VIC  2018-09-04T09:42:51.000+0000  24.01   \n",
       "\n",
       "                        transaction_id    country     customer_id  \\\n",
       "4358  77dfd0ea900745819a25200f1194185b  Australia  CUS-1140341822   \n",
       "\n",
       "     merchant_long_lat movement  \n",
       "4358     144.97 -37.81    debit  \n",
       "\n",
       "[1 rows x 23 columns]"
      ]
     },
     "execution_count": 19,
     "metadata": {},
     "output_type": "execute_result"
    }
   ],
   "source": [
    "df[df['bpay_biller_code'] == ' LAND WATER & PLANNING East Melbourne']\n",
    "\n",
    "# THIS COLUMN ALSO SEEMS NOT USEFUL"
   ]
  },
  {
   "cell_type": "code",
   "execution_count": 20,
   "metadata": {
    "ExecuteTime": {
     "end_time": "2020-07-27T14:37:45.536384Z",
     "start_time": "2020-07-27T14:37:45.287538Z"
    }
   },
   "outputs": [
    {
     "data": {
      "text/plain": [
       "transaction_id    12043\n",
       "dtype: int64"
      ]
     },
     "execution_count": 20,
     "metadata": {},
     "output_type": "execute_result"
    }
   ],
   "source": [
    "df.nunique()[df.nunique()==len(df)]\n",
    "\n",
    "# THIS COLUMN IS REDUNDANT"
   ]
  },
  {
   "cell_type": "code",
   "execution_count": 21,
   "metadata": {
    "ExecuteTime": {
     "end_time": "2020-07-27T14:37:45.739258Z",
     "start_time": "2020-07-27T14:37:45.538382Z"
    }
   },
   "outputs": [
    {
     "data": {
      "text/plain": [
       "currency         1\n",
       "merchant_code    1\n",
       "country          1\n",
       "dtype: int64"
      ]
     },
     "execution_count": 21,
     "metadata": {},
     "output_type": "execute_result"
    }
   ],
   "source": [
    "df.nunique()[df.nunique()==1]\n",
    "\n",
    "# THESE COLUMNS ARE USELESS"
   ]
  },
  {
   "cell_type": "code",
   "execution_count": 22,
   "metadata": {
    "ExecuteTime": {
     "end_time": "2020-07-27T14:37:45.770240Z",
     "start_time": "2020-07-27T14:37:45.740256Z"
    }
   },
   "outputs": [
    {
     "data": {
      "text/plain": [
       "Index(['card_present_flag', 'bpay_biller_code', 'merchant_id', 'merchant_code',\n",
       "       'merchant_suburb', 'merchant_state', 'merchant_long_lat'],\n",
       "      dtype='object')"
      ]
     },
     "execution_count": 22,
     "metadata": {},
     "output_type": "execute_result"
    }
   ],
   "source": [
    "df.isna().sum()[df.isna().sum() > 0].index"
   ]
  },
  {
   "cell_type": "code",
   "execution_count": 23,
   "metadata": {
    "ExecuteTime": {
     "end_time": "2020-07-27T14:37:45.881330Z",
     "start_time": "2020-07-27T14:37:45.772237Z"
    }
   },
   "outputs": [],
   "source": [
    "df[['card_present_flag', 'merchant_id', 'merchant_suburb', 'merchant_state', 'merchant_long_lat']] = df[['card_present_flag', 'merchant_id', 'merchant_suburb', 'merchant_state', 'merchant_long_lat']].fillna(value=-1)"
   ]
  },
  {
   "cell_type": "code",
   "execution_count": 24,
   "metadata": {
    "ExecuteTime": {
     "end_time": "2020-07-27T14:37:45.977270Z",
     "start_time": "2020-07-27T14:37:45.884329Z"
    }
   },
   "outputs": [],
   "source": [
    "df = df.drop(columns=['merchant_code', 'bpay_biller_code', 'transaction_id', 'currency', 'country'])"
   ]
  },
  {
   "cell_type": "code",
   "execution_count": 25,
   "metadata": {
    "ExecuteTime": {
     "end_time": "2020-07-27T14:37:46.135345Z",
     "start_time": "2020-07-27T14:37:45.984267Z"
    }
   },
   "outputs": [
    {
     "data": {
      "text/plain": [
       "status               0\n",
       "card_present_flag    0\n",
       "account              0\n",
       "long_lat             0\n",
       "txn_description      0\n",
       "merchant_id          0\n",
       "first_name           0\n",
       "balance              0\n",
       "date                 0\n",
       "gender               0\n",
       "age                  0\n",
       "merchant_suburb      0\n",
       "merchant_state       0\n",
       "extraction           0\n",
       "amount               0\n",
       "customer_id          0\n",
       "merchant_long_lat    0\n",
       "movement             0\n",
       "dtype: int64"
      ]
     },
     "execution_count": 25,
     "metadata": {},
     "output_type": "execute_result"
    }
   ],
   "source": [
    "df.isna().sum()"
   ]
  },
  {
   "cell_type": "markdown",
   "metadata": {},
   "source": [
    "# Duplicate Values"
   ]
  },
  {
   "cell_type": "code",
   "execution_count": 26,
   "metadata": {
    "ExecuteTime": {
     "end_time": "2020-07-27T14:37:46.245309Z",
     "start_time": "2020-07-27T14:37:46.139343Z"
    }
   },
   "outputs": [
    {
     "data": {
      "text/html": [
       "<div>\n",
       "<style scoped>\n",
       "    .dataframe tbody tr th:only-of-type {\n",
       "        vertical-align: middle;\n",
       "    }\n",
       "\n",
       "    .dataframe tbody tr th {\n",
       "        vertical-align: top;\n",
       "    }\n",
       "\n",
       "    .dataframe thead th {\n",
       "        text-align: right;\n",
       "    }\n",
       "</style>\n",
       "<table border=\"1\" class=\"dataframe\">\n",
       "  <thead>\n",
       "    <tr style=\"text-align: right;\">\n",
       "      <th></th>\n",
       "      <th>status</th>\n",
       "      <th>card_present_flag</th>\n",
       "      <th>account</th>\n",
       "      <th>long_lat</th>\n",
       "      <th>txn_description</th>\n",
       "      <th>merchant_id</th>\n",
       "      <th>first_name</th>\n",
       "      <th>balance</th>\n",
       "      <th>date</th>\n",
       "      <th>gender</th>\n",
       "      <th>age</th>\n",
       "      <th>merchant_suburb</th>\n",
       "      <th>merchant_state</th>\n",
       "      <th>extraction</th>\n",
       "      <th>amount</th>\n",
       "      <th>customer_id</th>\n",
       "      <th>merchant_long_lat</th>\n",
       "      <th>movement</th>\n",
       "    </tr>\n",
       "  </thead>\n",
       "  <tbody>\n",
       "  </tbody>\n",
       "</table>\n",
       "</div>"
      ],
      "text/plain": [
       "Empty DataFrame\n",
       "Columns: [status, card_present_flag, account, long_lat, txn_description, merchant_id, first_name, balance, date, gender, age, merchant_suburb, merchant_state, extraction, amount, customer_id, merchant_long_lat, movement]\n",
       "Index: []"
      ]
     },
     "execution_count": 26,
     "metadata": {},
     "output_type": "execute_result"
    }
   ],
   "source": [
    "df[df.duplicated(keep='first')]"
   ]
  },
  {
   "cell_type": "markdown",
   "metadata": {},
   "source": [
    "# Data Types & Validity"
   ]
  },
  {
   "cell_type": "code",
   "execution_count": 41,
   "metadata": {
    "ExecuteTime": {
     "end_time": "2020-07-27T14:43:11.652493Z",
     "start_time": "2020-07-27T14:43:11.643499Z"
    }
   },
   "outputs": [],
   "source": [
    "def separate_dtype(df):\n",
    "    '''Function to separate columns based on their data type'''\n",
    "    cats, nums, dates = [], [], []\n",
    "    for col in df.columns:\n",
    "        if df[col].dtype == 'O':\n",
    "            cats.append(col)\n",
    "        elif df[col].dtype in ['int64', 'float64', 'int32', 'float32']:\n",
    "            nums.append(col)\n",
    "        elif df[col].dtype in ['datetime64[ns]', 'datetime64[ns, UTC]', '<M8[ns]']:\n",
    "            dates.append(col)\n",
    "    return cats, nums, dates"
   ]
  },
  {
   "cell_type": "code",
   "execution_count": 28,
   "metadata": {
    "ExecuteTime": {
     "end_time": "2020-07-27T14:37:46.528689Z",
     "start_time": "2020-07-27T14:37:46.295278Z"
    }
   },
   "outputs": [],
   "source": [
    "cat_feats, num_feats, date_feats = separate_dtype(df)"
   ]
  },
  {
   "cell_type": "code",
   "execution_count": 29,
   "metadata": {
    "ExecuteTime": {
     "end_time": "2020-07-27T14:37:46.607980Z",
     "start_time": "2020-07-27T14:37:46.533680Z"
    }
   },
   "outputs": [],
   "source": [
    "def composition(col):\n",
    "    return df[col].value_counts().apply(lambda x: str(round(x/df[col].value_counts().sum()*100, 2))+'%')"
   ]
  },
  {
   "cell_type": "code",
   "execution_count": 30,
   "metadata": {
    "ExecuteTime": {
     "end_time": "2020-07-27T14:39:02.634410Z",
     "start_time": "2020-07-27T14:37:46.609976Z"
    },
    "scrolled": false
   },
   "outputs": [
    {
     "name": "stdout",
     "output_type": "stream",
     "text": [
      "status\n",
      "authorized    64.08%\n",
      "posted        35.92%\n",
      "Name: status, dtype: object\n",
      "\n",
      "\n",
      "account\n",
      "ACC-1598451071     4.8%\n",
      "ACC-1222300524    2.52%\n",
      "ACC-182446574     2.42%\n",
      "ACC-4258502723    2.16%\n",
      "ACC-1037050564    2.15%\n",
      "                  ...  \n",
      "ACC-1998563091    0.33%\n",
      "ACC-3881031190    0.31%\n",
      "ACC-721712940     0.28%\n",
      "ACC-4059612845    0.26%\n",
      "ACC-1217063613    0.21%\n",
      "Name: account, Length: 100, dtype: object\n",
      "\n",
      "\n",
      "long_lat\n",
      "153.41 -27.95     4.8%\n",
      "151.23 -33.94    2.52%\n",
      "116.06 -32.00    2.42%\n",
      "145.45 -37.74    2.16%\n",
      "153.10 -27.66    2.15%\n",
      "                 ...  \n",
      "149.03 -35.25    0.33%\n",
      "149.19 -21.15    0.31%\n",
      "145.09 -37.82    0.28%\n",
      "130.98 -12.49    0.26%\n",
      "147.61 -37.82    0.21%\n",
      "Name: long_lat, Length: 100, dtype: object\n",
      "\n",
      "\n",
      "txn_description\n",
      "SALES-POS     32.67%\n",
      "POS           31.41%\n",
      "PAYMENT       21.59%\n",
      "PAY/SALARY     7.33%\n",
      "INTER BANK     6.16%\n",
      "PHONE BANK     0.84%\n",
      "Name: txn_description, dtype: object\n",
      "\n",
      "\n",
      "merchant_id\n",
      "-1                                      35.92%\n",
      "106e1272-44ab-4dcb-a438-dd98e0071e51     0.12%\n",
      "6c84c219-96ea-4c6f-9de5-0a28bcaec62f      0.1%\n",
      "e28c426d-cbef-4e2d-aa06-1ba0b6b1902f     0.09%\n",
      "6ddddc40-5b69-4253-8a26-167999a8bf96     0.08%\n",
      "                                         ...  \n",
      "e4218e69-eb22-43a5-9a3b-43e9fafc5a2c     0.01%\n",
      "e251231c-4d2b-4fc7-92c4-6c9ece3b0df4     0.01%\n",
      "25c15dab-30e0-4df3-bcb1-85b76bb7ec2b     0.01%\n",
      "61bec0f3-20b1-4235-95e2-febd8a89f079     0.01%\n",
      "6c7151d0-dfe2-42d7-88fc-9504ca6390cd     0.01%\n",
      "Name: merchant_id, Length: 5726, dtype: object\n",
      "\n",
      "\n",
      "first_name\n",
      "Michael      6.19%\n",
      "Diana         4.8%\n",
      "Jessica      3.39%\n",
      "Joseph       3.25%\n",
      "Jeffrey      3.22%\n",
      "             ...  \n",
      "Cindy        0.42%\n",
      "Elizabeth    0.37%\n",
      "David        0.33%\n",
      "Andrew       0.28%\n",
      "Jonathan     0.26%\n",
      "Name: first_name, Length: 80, dtype: object\n",
      "\n",
      "\n",
      "gender\n",
      "M    52.19%\n",
      "F    47.81%\n",
      "Name: gender, dtype: object\n",
      "\n",
      "\n",
      "merchant_suburb\n",
      "-1                 35.92%\n",
      "Melbourne           2.12%\n",
      "Sydney              1.93%\n",
      "Southport           0.68%\n",
      "Brisbane City       0.66%\n",
      "                    ...  \n",
      "Illawong            0.01%\n",
      "Westleigh           0.01%\n",
      "Walgett             0.01%\n",
      "Grafton             0.01%\n",
      "Blackburn South     0.01%\n",
      "Name: merchant_suburb, Length: 1610, dtype: object\n",
      "\n",
      "\n",
      "merchant_state\n",
      "-1     35.92%\n",
      "NSW    18.01%\n",
      "VIC    17.69%\n",
      "QLD    12.92%\n",
      "WA      9.13%\n",
      "SA      3.45%\n",
      "NT       1.7%\n",
      "ACT     0.61%\n",
      "TAS     0.56%\n",
      "Name: merchant_state, dtype: object\n",
      "\n",
      "\n",
      "extraction\n",
      "2018-09-03T11:00:00.000+0000    0.08%\n",
      "2018-09-17T11:00:00.000+0000    0.07%\n",
      "2018-10-19T13:00:00.000+0000    0.07%\n",
      "2018-10-02T17:00:00.000+0000    0.07%\n",
      "2018-10-01T11:00:00.000+0000    0.07%\n",
      "                                ...  \n",
      "2018-10-14T11:25:48.000+0000    0.01%\n",
      "2018-08-21T15:28:57.000+0000    0.01%\n",
      "2018-09-01T10:48:19.000+0000    0.01%\n",
      "2018-08-11T20:35:11.000+0000    0.01%\n",
      "2018-08-18T21:37:17.000+0000    0.01%\n",
      "Name: extraction, Length: 9442, dtype: object\n",
      "\n",
      "\n",
      "customer_id\n",
      "CUS-2487424745     4.8%\n",
      "CUS-2142601169    2.52%\n",
      "CUS-3026014945    2.42%\n",
      "CUS-3378712515    2.16%\n",
      "CUS-1614226872    2.15%\n",
      "                  ...  \n",
      "CUS-3395687666    0.33%\n",
      "CUS-3201519139    0.31%\n",
      "CUS-1646183815    0.28%\n",
      "CUS-495599312     0.26%\n",
      "CUS-1739931018    0.21%\n",
      "Name: customer_id, Length: 100, dtype: object\n",
      "\n",
      "\n",
      "merchant_long_lat\n",
      "-1               35.92%\n",
      "151.21 -33.87      1.2%\n",
      "144.96 -37.82     0.71%\n",
      "144.97 -37.81     0.49%\n",
      "144.96 -37.81     0.47%\n",
      "                  ...  \n",
      "153.04 -27.37     0.01%\n",
      "150.82 -33.97     0.01%\n",
      "152.92 -30.46     0.01%\n",
      "150.52 -23.36     0.01%\n",
      "151.25 -33.75     0.01%\n",
      "Name: merchant_long_lat, Length: 2704, dtype: object\n",
      "\n",
      "\n",
      "movement\n",
      "debit     92.67%\n",
      "credit     7.33%\n",
      "Name: movement, dtype: object\n",
      "\n",
      "\n"
     ]
    }
   ],
   "source": [
    "for feat in cat_feats:\n",
    "    print(feat)\n",
    "    print(composition(feat))\n",
    "    print('\\n')\n",
    "    \n",
    "# FIX LONG_LAT, EXTRACTION, MERCHANT_LONG_LAT TO CORRECT FORMATS/DTYPE"
   ]
  },
  {
   "cell_type": "code",
   "execution_count": 31,
   "metadata": {
    "ExecuteTime": {
     "end_time": "2020-07-27T14:39:02.650401Z",
     "start_time": "2020-07-27T14:39:02.636409Z"
    }
   },
   "outputs": [],
   "source": [
    "df['long_lat'] = df['long_lat'].apply(lambda x: x.replace(' ', ', '))"
   ]
  },
  {
   "cell_type": "code",
   "execution_count": 32,
   "metadata": {
    "ExecuteTime": {
     "end_time": "2020-07-27T14:39:02.826356Z",
     "start_time": "2020-07-27T14:39:02.652400Z"
    }
   },
   "outputs": [],
   "source": [
    "df['extraction'] = pd.to_datetime(df['extraction'])"
   ]
  },
  {
   "cell_type": "code",
   "execution_count": 33,
   "metadata": {
    "ExecuteTime": {
     "end_time": "2020-07-27T14:39:02.936519Z",
     "start_time": "2020-07-27T14:39:02.828354Z"
    }
   },
   "outputs": [],
   "source": [
    "df['merchant_long_lat'] = [x.replace(' ',', ') if isinstance(x, str) else x for x in df['merchant_long_lat']]"
   ]
  },
  {
   "cell_type": "code",
   "execution_count": 34,
   "metadata": {
    "ExecuteTime": {
     "end_time": "2020-07-27T14:39:03.047477Z",
     "start_time": "2020-07-27T14:39:02.938514Z"
    }
   },
   "outputs": [],
   "source": [
    "cat_feats, num_feats, date_feats = separate_dtype(df)"
   ]
  },
  {
   "cell_type": "code",
   "execution_count": 35,
   "metadata": {
    "ExecuteTime": {
     "end_time": "2020-07-27T14:39:03.173703Z",
     "start_time": "2020-07-27T14:39:03.049481Z"
    }
   },
   "outputs": [
    {
     "data": {
      "text/html": [
       "<div>\n",
       "<style scoped>\n",
       "    .dataframe tbody tr th:only-of-type {\n",
       "        vertical-align: middle;\n",
       "    }\n",
       "\n",
       "    .dataframe tbody tr th {\n",
       "        vertical-align: top;\n",
       "    }\n",
       "\n",
       "    .dataframe thead th {\n",
       "        text-align: right;\n",
       "    }\n",
       "</style>\n",
       "<table border=\"1\" class=\"dataframe\">\n",
       "  <thead>\n",
       "    <tr style=\"text-align: right;\">\n",
       "      <th></th>\n",
       "      <th>card_present_flag</th>\n",
       "      <th>balance</th>\n",
       "      <th>age</th>\n",
       "      <th>amount</th>\n",
       "    </tr>\n",
       "  </thead>\n",
       "  <tbody>\n",
       "    <tr>\n",
       "      <th>count</th>\n",
       "      <td>12043.000000</td>\n",
       "      <td>12043.000000</td>\n",
       "      <td>12043.000000</td>\n",
       "      <td>12043.000000</td>\n",
       "    </tr>\n",
       "    <tr>\n",
       "      <th>mean</th>\n",
       "      <td>0.155111</td>\n",
       "      <td>14704.195553</td>\n",
       "      <td>30.582330</td>\n",
       "      <td>187.933588</td>\n",
       "    </tr>\n",
       "    <tr>\n",
       "      <th>std</th>\n",
       "      <td>0.921709</td>\n",
       "      <td>31503.722652</td>\n",
       "      <td>10.046343</td>\n",
       "      <td>592.599934</td>\n",
       "    </tr>\n",
       "    <tr>\n",
       "      <th>min</th>\n",
       "      <td>-1.000000</td>\n",
       "      <td>0.240000</td>\n",
       "      <td>18.000000</td>\n",
       "      <td>0.100000</td>\n",
       "    </tr>\n",
       "    <tr>\n",
       "      <th>25%</th>\n",
       "      <td>-1.000000</td>\n",
       "      <td>3158.585000</td>\n",
       "      <td>22.000000</td>\n",
       "      <td>16.000000</td>\n",
       "    </tr>\n",
       "    <tr>\n",
       "      <th>50%</th>\n",
       "      <td>1.000000</td>\n",
       "      <td>6432.010000</td>\n",
       "      <td>28.000000</td>\n",
       "      <td>29.000000</td>\n",
       "    </tr>\n",
       "    <tr>\n",
       "      <th>75%</th>\n",
       "      <td>1.000000</td>\n",
       "      <td>12465.945000</td>\n",
       "      <td>38.000000</td>\n",
       "      <td>53.655000</td>\n",
       "    </tr>\n",
       "    <tr>\n",
       "      <th>max</th>\n",
       "      <td>1.000000</td>\n",
       "      <td>267128.520000</td>\n",
       "      <td>78.000000</td>\n",
       "      <td>8835.980000</td>\n",
       "    </tr>\n",
       "  </tbody>\n",
       "</table>\n",
       "</div>"
      ],
      "text/plain": [
       "       card_present_flag        balance           age        amount\n",
       "count       12043.000000   12043.000000  12043.000000  12043.000000\n",
       "mean            0.155111   14704.195553     30.582330    187.933588\n",
       "std             0.921709   31503.722652     10.046343    592.599934\n",
       "min            -1.000000       0.240000     18.000000      0.100000\n",
       "25%            -1.000000    3158.585000     22.000000     16.000000\n",
       "50%             1.000000    6432.010000     28.000000     29.000000\n",
       "75%             1.000000   12465.945000     38.000000     53.655000\n",
       "max             1.000000  267128.520000     78.000000   8835.980000"
      ]
     },
     "execution_count": 35,
     "metadata": {},
     "output_type": "execute_result"
    }
   ],
   "source": [
    "df[num_feats].describe()\n",
    "\n",
    "# CARD_PRESENT_FLAG IS ACTUALLY BINARY 0/1"
   ]
  },
  {
   "cell_type": "code",
   "execution_count": 36,
   "metadata": {
    "ExecuteTime": {
     "end_time": "2020-07-27T14:39:03.252675Z",
     "start_time": "2020-07-27T14:39:03.175700Z"
    }
   },
   "outputs": [],
   "source": [
    "df['card_present_flag'] = df['card_present_flag'].astype('O')"
   ]
  },
  {
   "cell_type": "code",
   "execution_count": 42,
   "metadata": {
    "ExecuteTime": {
     "end_time": "2020-07-27T14:43:16.899140Z",
     "start_time": "2020-07-27T14:43:16.894143Z"
    }
   },
   "outputs": [],
   "source": [
    "cat_feats, num_feats, date_feats = separate_dtype(df)"
   ]
  },
  {
   "cell_type": "code",
   "execution_count": 43,
   "metadata": {
    "ExecuteTime": {
     "end_time": "2020-07-27T14:43:17.500848Z",
     "start_time": "2020-07-27T14:43:17.472866Z"
    }
   },
   "outputs": [
    {
     "data": {
      "text/html": [
       "<div>\n",
       "<style scoped>\n",
       "    .dataframe tbody tr th:only-of-type {\n",
       "        vertical-align: middle;\n",
       "    }\n",
       "\n",
       "    .dataframe tbody tr th {\n",
       "        vertical-align: top;\n",
       "    }\n",
       "\n",
       "    .dataframe thead th {\n",
       "        text-align: right;\n",
       "    }\n",
       "</style>\n",
       "<table border=\"1\" class=\"dataframe\">\n",
       "  <thead>\n",
       "    <tr style=\"text-align: right;\">\n",
       "      <th></th>\n",
       "      <th>date</th>\n",
       "      <th>extraction</th>\n",
       "    </tr>\n",
       "  </thead>\n",
       "  <tbody>\n",
       "    <tr>\n",
       "      <th>count</th>\n",
       "      <td>12043</td>\n",
       "      <td>12043</td>\n",
       "    </tr>\n",
       "    <tr>\n",
       "      <th>unique</th>\n",
       "      <td>91</td>\n",
       "      <td>9442</td>\n",
       "    </tr>\n",
       "    <tr>\n",
       "      <th>top</th>\n",
       "      <td>2018-09-28 00:00:00</td>\n",
       "      <td>2018-09-03 11:00:00+00:00</td>\n",
       "    </tr>\n",
       "    <tr>\n",
       "      <th>freq</th>\n",
       "      <td>174</td>\n",
       "      <td>10</td>\n",
       "    </tr>\n",
       "    <tr>\n",
       "      <th>first</th>\n",
       "      <td>2018-08-01 00:00:00</td>\n",
       "      <td>2018-08-01 01:01:15+00:00</td>\n",
       "    </tr>\n",
       "    <tr>\n",
       "      <th>last</th>\n",
       "      <td>2018-10-31 00:00:00</td>\n",
       "      <td>2018-10-31 23:59:44+00:00</td>\n",
       "    </tr>\n",
       "  </tbody>\n",
       "</table>\n",
       "</div>"
      ],
      "text/plain": [
       "                       date                 extraction\n",
       "count                 12043                      12043\n",
       "unique                   91                       9442\n",
       "top     2018-09-28 00:00:00  2018-09-03 11:00:00+00:00\n",
       "freq                    174                         10\n",
       "first   2018-08-01 00:00:00  2018-08-01 01:01:15+00:00\n",
       "last    2018-10-31 00:00:00  2018-10-31 23:59:44+00:00"
      ]
     },
     "execution_count": 43,
     "metadata": {},
     "output_type": "execute_result"
    }
   ],
   "source": [
    "df[date_feats].describe()\n",
    "\n",
    "# ALL VALUES ARE VALID AND WITHIN CORRECT DATA TYPE"
   ]
  },
  {
   "cell_type": "code",
   "execution_count": 53,
   "metadata": {
    "ExecuteTime": {
     "end_time": "2020-07-27T14:48:24.787887Z",
     "start_time": "2020-07-27T14:48:24.774895Z"
    }
   },
   "outputs": [
    {
     "name": "stdout",
     "output_type": "stream",
     "text": [
      "13 categorical features: ['status', 'card_present_flag', 'account', 'long_lat', 'txn_description', 'merchant_id', 'first_name', 'gender', 'merchant_suburb', 'merchant_state', 'customer_id', 'merchant_long_lat', 'movement'] \n",
      "3 numerical features: ['balance', 'age', 'amount'] \n",
      "2 datetime features: ['date', 'extraction']\n"
     ]
    }
   ],
   "source": [
    "print(f'{len(cat_feats)} categorical features: {cat_feats} \\n{len(num_feats)} numerical features: {num_feats} \\n{len(date_feats)} datetime features: {date_feats}')"
   ]
  },
  {
   "cell_type": "markdown",
   "metadata": {},
   "source": [
    "# Feature Engineering"
   ]
  },
  {
   "cell_type": "code",
   "execution_count": 58,
   "metadata": {
    "ExecuteTime": {
     "end_time": "2020-07-27T14:56:31.609650Z",
     "start_time": "2020-07-27T14:56:31.528698Z"
    }
   },
   "outputs": [],
   "source": [
    "df['day'] = df['date'].apply(lambda x: x.weekday())\n",
    "df['day'] = df['day'].map({0: 'Sunday', 1: 'Monday', 2: 'Tuesday', 3: 'Wednesday', 4: 'Thursday', 5: 'Friday', 6: 'Saturday'})"
   ]
  },
  {
   "cell_type": "code",
   "execution_count": 62,
   "metadata": {
    "ExecuteTime": {
     "end_time": "2020-07-27T15:00:54.333819Z",
     "start_time": "2020-07-27T15:00:54.320828Z"
    }
   },
   "outputs": [],
   "source": [
    "df['weekend'] = df['day'].apply(lambda x: 'Weekend' if x in ['Saturday', 'Sunday'] else 'Weekday')"
   ]
  },
  {
   "cell_type": "code",
   "execution_count": 68,
   "metadata": {
    "ExecuteTime": {
     "end_time": "2020-07-27T15:03:21.014134Z",
     "start_time": "2020-07-27T15:03:20.931183Z"
    }
   },
   "outputs": [],
   "source": [
    "df['month'] = df['date'].apply(lambda x: x.month)\n",
    "df['month'] = df['month'].map({8: 'August', 9: 'September', 10: 'October'})"
   ]
  },
  {
   "cell_type": "code",
   "execution_count": null,
   "metadata": {},
   "outputs": [],
   "source": []
  }
 ],
 "metadata": {
  "kernelspec": {
   "display_name": "Python 3",
   "language": "python",
   "name": "python3"
  },
  "language_info": {
   "codemirror_mode": {
    "name": "ipython",
    "version": 3
   },
   "file_extension": ".py",
   "mimetype": "text/x-python",
   "name": "python",
   "nbconvert_exporter": "python",
   "pygments_lexer": "ipython3",
   "version": "3.7.6"
  },
  "toc": {
   "base_numbering": 1,
   "nav_menu": {},
   "number_sections": true,
   "sideBar": true,
   "skip_h1_title": false,
   "title_cell": "Table of Contents",
   "title_sidebar": "Contents",
   "toc_cell": false,
   "toc_position": {},
   "toc_section_display": true,
   "toc_window_display": true
  },
  "varInspector": {
   "cols": {
    "lenName": 16,
    "lenType": 16,
    "lenVar": 40
   },
   "kernels_config": {
    "python": {
     "delete_cmd_postfix": "",
     "delete_cmd_prefix": "del ",
     "library": "var_list.py",
     "varRefreshCmd": "print(var_dic_list())"
    },
    "r": {
     "delete_cmd_postfix": ") ",
     "delete_cmd_prefix": "rm(",
     "library": "var_list.r",
     "varRefreshCmd": "cat(var_dic_list()) "
    }
   },
   "types_to_exclude": [
    "module",
    "function",
    "builtin_function_or_method",
    "instance",
    "_Feature"
   ],
   "window_display": false
  }
 },
 "nbformat": 4,
 "nbformat_minor": 4
}
