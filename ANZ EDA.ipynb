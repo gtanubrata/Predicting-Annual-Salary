{
 "cells": [
  {
   "cell_type": "markdown",
   "metadata": {},
   "source": [
    "# Task"
   ]
  },
  {
   "cell_type": "markdown",
   "metadata": {},
   "source": [
    "**Here is the background information on your task**\n",
    "\n",
    "This task is based on a synthesised transaction dataset containing 3 months’ worth of transactions for 100 hypothetical customers. It contains purchases, recurring transactions, and salary transactions.\n",
    "\n",
    "The dataset is designed to simulate realistic transaction behaviours that are observed in ANZ’s real transaction data, so many of the insights you can gather from the tasks below will be genuine."
   ]
  },
  {
   "cell_type": "markdown",
   "metadata": {},
   "source": [
    "**Here is your task**\n",
    "\n",
    "Load the transaction dataset below into an analysis tool of your choice (Excel, R, SAS, Tableau, or similar)\n",
    "\n",
    "Start by doing some basic checks – are there any data issues? Does the data need to be cleaned?\n",
    "\n",
    "Gather some interesting overall insights about the data. For example -- what is the average transaction amount? How many transactions do customers make each month, on average?\n",
    "\n",
    "Segment the dataset by transaction date and time. Visualise transaction volume and spending over the course of an average day or week. Consider the effect of any outliers that may distort your analysis.\n",
    "\n",
    "For a challenge – what insights can you draw from the location information provided in the dataset?\n",
    "\n",
    "Put together 2-3 slides summarising your most interesting findings to ANZ management."
   ]
  },
  {
   "cell_type": "markdown",
   "metadata": {},
   "source": [
    "# Init"
   ]
  },
  {
   "cell_type": "code",
   "execution_count": 1,
   "metadata": {
    "ExecuteTime": {
     "end_time": "2020-07-28T14:24:07.780819Z",
     "start_time": "2020-07-28T14:23:52.217126Z"
    }
   },
   "outputs": [],
   "source": [
    "import numpy as np\n",
    "import pandas as pd\n",
    "\n",
    "import matplotlib.pyplot as plt\n",
    "plt.style.use('fivethirtyeight')\n",
    "%matplotlib inline\n",
    "import seaborn as sns"
   ]
  },
  {
   "cell_type": "markdown",
   "metadata": {},
   "source": [
    "# Load"
   ]
  },
  {
   "cell_type": "code",
   "execution_count": 2,
   "metadata": {
    "ExecuteTime": {
     "end_time": "2020-07-28T14:24:12.225953Z",
     "start_time": "2020-07-28T14:24:07.781812Z"
    }
   },
   "outputs": [],
   "source": [
    "df = pd.ExcelFile('ANZ synthesised transaction dataset.xlsx')"
   ]
  },
  {
   "cell_type": "code",
   "execution_count": 3,
   "metadata": {
    "ExecuteTime": {
     "end_time": "2020-07-28T14:24:12.241936Z",
     "start_time": "2020-07-28T14:24:12.227945Z"
    }
   },
   "outputs": [
    {
     "name": "stdout",
     "output_type": "stream",
     "text": [
      "['DSynth_Output_100c_3m_v3']\n"
     ]
    }
   ],
   "source": [
    "print(df.sheet_names)"
   ]
  },
  {
   "cell_type": "code",
   "execution_count": 4,
   "metadata": {
    "ExecuteTime": {
     "end_time": "2020-07-28T14:24:12.653250Z",
     "start_time": "2020-07-28T14:24:12.243935Z"
    }
   },
   "outputs": [],
   "source": [
    "df = df.parse('DSynth_Output_100c_3m_v3')"
   ]
  },
  {
   "cell_type": "markdown",
   "metadata": {},
   "source": [
    "# Check"
   ]
  },
  {
   "cell_type": "code",
   "execution_count": 5,
   "metadata": {
    "ExecuteTime": {
     "end_time": "2020-07-28T14:24:12.733219Z",
     "start_time": "2020-07-28T14:24:12.655246Z"
    }
   },
   "outputs": [
    {
     "data": {
      "text/html": [
       "<div>\n",
       "<style scoped>\n",
       "    .dataframe tbody tr th:only-of-type {\n",
       "        vertical-align: middle;\n",
       "    }\n",
       "\n",
       "    .dataframe tbody tr th {\n",
       "        vertical-align: top;\n",
       "    }\n",
       "\n",
       "    .dataframe thead th {\n",
       "        text-align: right;\n",
       "    }\n",
       "</style>\n",
       "<table border=\"1\" class=\"dataframe\">\n",
       "  <thead>\n",
       "    <tr style=\"text-align: right;\">\n",
       "      <th></th>\n",
       "      <th>status</th>\n",
       "      <th>card_present_flag</th>\n",
       "      <th>bpay_biller_code</th>\n",
       "      <th>account</th>\n",
       "      <th>currency</th>\n",
       "      <th>long_lat</th>\n",
       "      <th>txn_description</th>\n",
       "      <th>merchant_id</th>\n",
       "      <th>merchant_code</th>\n",
       "      <th>first_name</th>\n",
       "      <th>...</th>\n",
       "      <th>age</th>\n",
       "      <th>merchant_suburb</th>\n",
       "      <th>merchant_state</th>\n",
       "      <th>extraction</th>\n",
       "      <th>amount</th>\n",
       "      <th>transaction_id</th>\n",
       "      <th>country</th>\n",
       "      <th>customer_id</th>\n",
       "      <th>merchant_long_lat</th>\n",
       "      <th>movement</th>\n",
       "    </tr>\n",
       "  </thead>\n",
       "  <tbody>\n",
       "    <tr>\n",
       "      <th>0</th>\n",
       "      <td>authorized</td>\n",
       "      <td>1.0</td>\n",
       "      <td>NaN</td>\n",
       "      <td>ACC-1598451071</td>\n",
       "      <td>AUD</td>\n",
       "      <td>153.41 -27.95</td>\n",
       "      <td>POS</td>\n",
       "      <td>81c48296-73be-44a7-befa-d053f48ce7cd</td>\n",
       "      <td>NaN</td>\n",
       "      <td>Diana</td>\n",
       "      <td>...</td>\n",
       "      <td>26</td>\n",
       "      <td>Ashmore</td>\n",
       "      <td>QLD</td>\n",
       "      <td>2018-08-01T01:01:15.000+0000</td>\n",
       "      <td>16.25</td>\n",
       "      <td>a623070bfead4541a6b0fff8a09e706c</td>\n",
       "      <td>Australia</td>\n",
       "      <td>CUS-2487424745</td>\n",
       "      <td>153.38 -27.99</td>\n",
       "      <td>debit</td>\n",
       "    </tr>\n",
       "    <tr>\n",
       "      <th>1</th>\n",
       "      <td>authorized</td>\n",
       "      <td>0.0</td>\n",
       "      <td>NaN</td>\n",
       "      <td>ACC-1598451071</td>\n",
       "      <td>AUD</td>\n",
       "      <td>153.41 -27.95</td>\n",
       "      <td>SALES-POS</td>\n",
       "      <td>830a451c-316e-4a6a-bf25-e37caedca49e</td>\n",
       "      <td>NaN</td>\n",
       "      <td>Diana</td>\n",
       "      <td>...</td>\n",
       "      <td>26</td>\n",
       "      <td>Sydney</td>\n",
       "      <td>NSW</td>\n",
       "      <td>2018-08-01T01:13:45.000+0000</td>\n",
       "      <td>14.19</td>\n",
       "      <td>13270a2a902145da9db4c951e04b51b9</td>\n",
       "      <td>Australia</td>\n",
       "      <td>CUS-2487424745</td>\n",
       "      <td>151.21 -33.87</td>\n",
       "      <td>debit</td>\n",
       "    </tr>\n",
       "    <tr>\n",
       "      <th>2</th>\n",
       "      <td>authorized</td>\n",
       "      <td>1.0</td>\n",
       "      <td>NaN</td>\n",
       "      <td>ACC-1222300524</td>\n",
       "      <td>AUD</td>\n",
       "      <td>151.23 -33.94</td>\n",
       "      <td>POS</td>\n",
       "      <td>835c231d-8cdf-4e96-859d-e9d571760cf0</td>\n",
       "      <td>NaN</td>\n",
       "      <td>Michael</td>\n",
       "      <td>...</td>\n",
       "      <td>38</td>\n",
       "      <td>Sydney</td>\n",
       "      <td>NSW</td>\n",
       "      <td>2018-08-01T01:26:15.000+0000</td>\n",
       "      <td>6.42</td>\n",
       "      <td>feb79e7ecd7048a5a36ec889d1a94270</td>\n",
       "      <td>Australia</td>\n",
       "      <td>CUS-2142601169</td>\n",
       "      <td>151.21 -33.87</td>\n",
       "      <td>debit</td>\n",
       "    </tr>\n",
       "    <tr>\n",
       "      <th>3</th>\n",
       "      <td>authorized</td>\n",
       "      <td>1.0</td>\n",
       "      <td>NaN</td>\n",
       "      <td>ACC-1037050564</td>\n",
       "      <td>AUD</td>\n",
       "      <td>153.10 -27.66</td>\n",
       "      <td>SALES-POS</td>\n",
       "      <td>48514682-c78a-4a88-b0da-2d6302e64673</td>\n",
       "      <td>NaN</td>\n",
       "      <td>Rhonda</td>\n",
       "      <td>...</td>\n",
       "      <td>40</td>\n",
       "      <td>Buderim</td>\n",
       "      <td>QLD</td>\n",
       "      <td>2018-08-01T01:38:45.000+0000</td>\n",
       "      <td>40.90</td>\n",
       "      <td>2698170da3704fd981b15e64a006079e</td>\n",
       "      <td>Australia</td>\n",
       "      <td>CUS-1614226872</td>\n",
       "      <td>153.05 -26.68</td>\n",
       "      <td>debit</td>\n",
       "    </tr>\n",
       "    <tr>\n",
       "      <th>4</th>\n",
       "      <td>authorized</td>\n",
       "      <td>1.0</td>\n",
       "      <td>NaN</td>\n",
       "      <td>ACC-1598451071</td>\n",
       "      <td>AUD</td>\n",
       "      <td>153.41 -27.95</td>\n",
       "      <td>SALES-POS</td>\n",
       "      <td>b4e02c10-0852-4273-b8fd-7b3395e32eb0</td>\n",
       "      <td>NaN</td>\n",
       "      <td>Diana</td>\n",
       "      <td>...</td>\n",
       "      <td>26</td>\n",
       "      <td>Mermaid Beach</td>\n",
       "      <td>QLD</td>\n",
       "      <td>2018-08-01T01:51:15.000+0000</td>\n",
       "      <td>3.25</td>\n",
       "      <td>329adf79878c4cf0aeb4188b4691c266</td>\n",
       "      <td>Australia</td>\n",
       "      <td>CUS-2487424745</td>\n",
       "      <td>153.44 -28.06</td>\n",
       "      <td>debit</td>\n",
       "    </tr>\n",
       "  </tbody>\n",
       "</table>\n",
       "<p>5 rows × 23 columns</p>\n",
       "</div>"
      ],
      "text/plain": [
       "       status  card_present_flag bpay_biller_code         account currency  \\\n",
       "0  authorized                1.0              NaN  ACC-1598451071      AUD   \n",
       "1  authorized                0.0              NaN  ACC-1598451071      AUD   \n",
       "2  authorized                1.0              NaN  ACC-1222300524      AUD   \n",
       "3  authorized                1.0              NaN  ACC-1037050564      AUD   \n",
       "4  authorized                1.0              NaN  ACC-1598451071      AUD   \n",
       "\n",
       "        long_lat txn_description                           merchant_id  \\\n",
       "0  153.41 -27.95             POS  81c48296-73be-44a7-befa-d053f48ce7cd   \n",
       "1  153.41 -27.95       SALES-POS  830a451c-316e-4a6a-bf25-e37caedca49e   \n",
       "2  151.23 -33.94             POS  835c231d-8cdf-4e96-859d-e9d571760cf0   \n",
       "3  153.10 -27.66       SALES-POS  48514682-c78a-4a88-b0da-2d6302e64673   \n",
       "4  153.41 -27.95       SALES-POS  b4e02c10-0852-4273-b8fd-7b3395e32eb0   \n",
       "\n",
       "   merchant_code first_name  ...  age merchant_suburb merchant_state  \\\n",
       "0            NaN      Diana  ...   26         Ashmore            QLD   \n",
       "1            NaN      Diana  ...   26          Sydney            NSW   \n",
       "2            NaN    Michael  ...   38          Sydney            NSW   \n",
       "3            NaN     Rhonda  ...   40         Buderim            QLD   \n",
       "4            NaN      Diana  ...   26   Mermaid Beach            QLD   \n",
       "\n",
       "                     extraction amount                    transaction_id  \\\n",
       "0  2018-08-01T01:01:15.000+0000  16.25  a623070bfead4541a6b0fff8a09e706c   \n",
       "1  2018-08-01T01:13:45.000+0000  14.19  13270a2a902145da9db4c951e04b51b9   \n",
       "2  2018-08-01T01:26:15.000+0000   6.42  feb79e7ecd7048a5a36ec889d1a94270   \n",
       "3  2018-08-01T01:38:45.000+0000  40.90  2698170da3704fd981b15e64a006079e   \n",
       "4  2018-08-01T01:51:15.000+0000   3.25  329adf79878c4cf0aeb4188b4691c266   \n",
       "\n",
       "     country     customer_id merchant_long_lat movement  \n",
       "0  Australia  CUS-2487424745     153.38 -27.99    debit  \n",
       "1  Australia  CUS-2487424745     151.21 -33.87    debit  \n",
       "2  Australia  CUS-2142601169     151.21 -33.87    debit  \n",
       "3  Australia  CUS-1614226872     153.05 -26.68    debit  \n",
       "4  Australia  CUS-2487424745     153.44 -28.06    debit  \n",
       "\n",
       "[5 rows x 23 columns]"
      ]
     },
     "execution_count": 5,
     "metadata": {},
     "output_type": "execute_result"
    }
   ],
   "source": [
    "df.head()"
   ]
  },
  {
   "cell_type": "code",
   "execution_count": 6,
   "metadata": {
    "ExecuteTime": {
     "end_time": "2020-07-28T14:24:12.841409Z",
     "start_time": "2020-07-28T14:24:12.737215Z"
    }
   },
   "outputs": [
    {
     "name": "stdout",
     "output_type": "stream",
     "text": [
      "<class 'pandas.core.frame.DataFrame'>\n",
      "RangeIndex: 12043 entries, 0 to 12042\n",
      "Data columns (total 23 columns):\n",
      " #   Column             Non-Null Count  Dtype         \n",
      "---  ------             --------------  -----         \n",
      " 0   status             12043 non-null  object        \n",
      " 1   card_present_flag  7717 non-null   float64       \n",
      " 2   bpay_biller_code   885 non-null    object        \n",
      " 3   account            12043 non-null  object        \n",
      " 4   currency           12043 non-null  object        \n",
      " 5   long_lat           12043 non-null  object        \n",
      " 6   txn_description    12043 non-null  object        \n",
      " 7   merchant_id        7717 non-null   object        \n",
      " 8   merchant_code      883 non-null    float64       \n",
      " 9   first_name         12043 non-null  object        \n",
      " 10  balance            12043 non-null  float64       \n",
      " 11  date               12043 non-null  datetime64[ns]\n",
      " 12  gender             12043 non-null  object        \n",
      " 13  age                12043 non-null  int64         \n",
      " 14  merchant_suburb    7717 non-null   object        \n",
      " 15  merchant_state     7717 non-null   object        \n",
      " 16  extraction         12043 non-null  object        \n",
      " 17  amount             12043 non-null  float64       \n",
      " 18  transaction_id     12043 non-null  object        \n",
      " 19  country            12043 non-null  object        \n",
      " 20  customer_id        12043 non-null  object        \n",
      " 21  merchant_long_lat  7717 non-null   object        \n",
      " 22  movement           12043 non-null  object        \n",
      "dtypes: datetime64[ns](1), float64(4), int64(1), object(17)\n",
      "memory usage: 1.3+ MB\n"
     ]
    }
   ],
   "source": [
    "df.info()"
   ]
  },
  {
   "cell_type": "code",
   "execution_count": 7,
   "metadata": {
    "ExecuteTime": {
     "end_time": "2020-07-28T14:24:12.998839Z",
     "start_time": "2020-07-28T14:24:12.843402Z"
    }
   },
   "outputs": [
    {
     "data": {
      "text/html": [
       "<div>\n",
       "<style scoped>\n",
       "    .dataframe tbody tr th:only-of-type {\n",
       "        vertical-align: middle;\n",
       "    }\n",
       "\n",
       "    .dataframe tbody tr th {\n",
       "        vertical-align: top;\n",
       "    }\n",
       "\n",
       "    .dataframe thead th {\n",
       "        text-align: right;\n",
       "    }\n",
       "</style>\n",
       "<table border=\"1\" class=\"dataframe\">\n",
       "  <thead>\n",
       "    <tr style=\"text-align: right;\">\n",
       "      <th></th>\n",
       "      <th>card_present_flag</th>\n",
       "      <th>merchant_code</th>\n",
       "      <th>balance</th>\n",
       "      <th>age</th>\n",
       "      <th>amount</th>\n",
       "    </tr>\n",
       "  </thead>\n",
       "  <tbody>\n",
       "    <tr>\n",
       "      <th>count</th>\n",
       "      <td>7717.000000</td>\n",
       "      <td>883.0</td>\n",
       "      <td>12043.000000</td>\n",
       "      <td>12043.000000</td>\n",
       "      <td>12043.000000</td>\n",
       "    </tr>\n",
       "    <tr>\n",
       "      <th>mean</th>\n",
       "      <td>0.802644</td>\n",
       "      <td>0.0</td>\n",
       "      <td>14704.195553</td>\n",
       "      <td>30.582330</td>\n",
       "      <td>187.933588</td>\n",
       "    </tr>\n",
       "    <tr>\n",
       "      <th>std</th>\n",
       "      <td>0.398029</td>\n",
       "      <td>0.0</td>\n",
       "      <td>31503.722652</td>\n",
       "      <td>10.046343</td>\n",
       "      <td>592.599934</td>\n",
       "    </tr>\n",
       "    <tr>\n",
       "      <th>min</th>\n",
       "      <td>0.000000</td>\n",
       "      <td>0.0</td>\n",
       "      <td>0.240000</td>\n",
       "      <td>18.000000</td>\n",
       "      <td>0.100000</td>\n",
       "    </tr>\n",
       "    <tr>\n",
       "      <th>25%</th>\n",
       "      <td>1.000000</td>\n",
       "      <td>0.0</td>\n",
       "      <td>3158.585000</td>\n",
       "      <td>22.000000</td>\n",
       "      <td>16.000000</td>\n",
       "    </tr>\n",
       "    <tr>\n",
       "      <th>50%</th>\n",
       "      <td>1.000000</td>\n",
       "      <td>0.0</td>\n",
       "      <td>6432.010000</td>\n",
       "      <td>28.000000</td>\n",
       "      <td>29.000000</td>\n",
       "    </tr>\n",
       "    <tr>\n",
       "      <th>75%</th>\n",
       "      <td>1.000000</td>\n",
       "      <td>0.0</td>\n",
       "      <td>12465.945000</td>\n",
       "      <td>38.000000</td>\n",
       "      <td>53.655000</td>\n",
       "    </tr>\n",
       "    <tr>\n",
       "      <th>max</th>\n",
       "      <td>1.000000</td>\n",
       "      <td>0.0</td>\n",
       "      <td>267128.520000</td>\n",
       "      <td>78.000000</td>\n",
       "      <td>8835.980000</td>\n",
       "    </tr>\n",
       "  </tbody>\n",
       "</table>\n",
       "</div>"
      ],
      "text/plain": [
       "       card_present_flag  merchant_code        balance           age  \\\n",
       "count        7717.000000          883.0   12043.000000  12043.000000   \n",
       "mean            0.802644            0.0   14704.195553     30.582330   \n",
       "std             0.398029            0.0   31503.722652     10.046343   \n",
       "min             0.000000            0.0       0.240000     18.000000   \n",
       "25%             1.000000            0.0    3158.585000     22.000000   \n",
       "50%             1.000000            0.0    6432.010000     28.000000   \n",
       "75%             1.000000            0.0   12465.945000     38.000000   \n",
       "max             1.000000            0.0  267128.520000     78.000000   \n",
       "\n",
       "             amount  \n",
       "count  12043.000000  \n",
       "mean     187.933588  \n",
       "std      592.599934  \n",
       "min        0.100000  \n",
       "25%       16.000000  \n",
       "50%       29.000000  \n",
       "75%       53.655000  \n",
       "max     8835.980000  "
      ]
     },
     "execution_count": 7,
     "metadata": {},
     "output_type": "execute_result"
    }
   ],
   "source": [
    "df.describe()"
   ]
  },
  {
   "cell_type": "code",
   "execution_count": 8,
   "metadata": {
    "ExecuteTime": {
     "end_time": "2020-07-28T14:24:13.265752Z",
     "start_time": "2020-07-28T14:24:12.999838Z"
    },
    "scrolled": false
   },
   "outputs": [
    {
     "data": {
      "text/html": [
       "<div>\n",
       "<style scoped>\n",
       "    .dataframe tbody tr th:only-of-type {\n",
       "        vertical-align: middle;\n",
       "    }\n",
       "\n",
       "    .dataframe tbody tr th {\n",
       "        vertical-align: top;\n",
       "    }\n",
       "\n",
       "    .dataframe thead th {\n",
       "        text-align: right;\n",
       "    }\n",
       "</style>\n",
       "<table border=\"1\" class=\"dataframe\">\n",
       "  <thead>\n",
       "    <tr style=\"text-align: right;\">\n",
       "      <th></th>\n",
       "      <th>status</th>\n",
       "      <th>bpay_biller_code</th>\n",
       "      <th>account</th>\n",
       "      <th>currency</th>\n",
       "      <th>long_lat</th>\n",
       "      <th>txn_description</th>\n",
       "      <th>merchant_id</th>\n",
       "      <th>first_name</th>\n",
       "      <th>date</th>\n",
       "      <th>gender</th>\n",
       "      <th>merchant_suburb</th>\n",
       "      <th>merchant_state</th>\n",
       "      <th>extraction</th>\n",
       "      <th>transaction_id</th>\n",
       "      <th>country</th>\n",
       "      <th>customer_id</th>\n",
       "      <th>merchant_long_lat</th>\n",
       "      <th>movement</th>\n",
       "    </tr>\n",
       "  </thead>\n",
       "  <tbody>\n",
       "    <tr>\n",
       "      <th>count</th>\n",
       "      <td>12043</td>\n",
       "      <td>885.0</td>\n",
       "      <td>12043</td>\n",
       "      <td>12043</td>\n",
       "      <td>12043</td>\n",
       "      <td>12043</td>\n",
       "      <td>7717</td>\n",
       "      <td>12043</td>\n",
       "      <td>12043</td>\n",
       "      <td>12043</td>\n",
       "      <td>7717</td>\n",
       "      <td>7717</td>\n",
       "      <td>12043</td>\n",
       "      <td>12043</td>\n",
       "      <td>12043</td>\n",
       "      <td>12043</td>\n",
       "      <td>7717</td>\n",
       "      <td>12043</td>\n",
       "    </tr>\n",
       "    <tr>\n",
       "      <th>unique</th>\n",
       "      <td>2</td>\n",
       "      <td>3.0</td>\n",
       "      <td>100</td>\n",
       "      <td>1</td>\n",
       "      <td>100</td>\n",
       "      <td>6</td>\n",
       "      <td>5725</td>\n",
       "      <td>80</td>\n",
       "      <td>91</td>\n",
       "      <td>2</td>\n",
       "      <td>1609</td>\n",
       "      <td>8</td>\n",
       "      <td>9442</td>\n",
       "      <td>12043</td>\n",
       "      <td>1</td>\n",
       "      <td>100</td>\n",
       "      <td>2703</td>\n",
       "      <td>2</td>\n",
       "    </tr>\n",
       "    <tr>\n",
       "      <th>top</th>\n",
       "      <td>authorized</td>\n",
       "      <td>0.0</td>\n",
       "      <td>ACC-1598451071</td>\n",
       "      <td>AUD</td>\n",
       "      <td>153.41 -27.95</td>\n",
       "      <td>SALES-POS</td>\n",
       "      <td>106e1272-44ab-4dcb-a438-dd98e0071e51</td>\n",
       "      <td>Michael</td>\n",
       "      <td>2018-09-28 00:00:00</td>\n",
       "      <td>M</td>\n",
       "      <td>Melbourne</td>\n",
       "      <td>NSW</td>\n",
       "      <td>2018-09-03T11:00:00.000+0000</td>\n",
       "      <td>42def094cba24b0e94ea01721acd6a75</td>\n",
       "      <td>Australia</td>\n",
       "      <td>CUS-2487424745</td>\n",
       "      <td>151.21 -33.87</td>\n",
       "      <td>debit</td>\n",
       "    </tr>\n",
       "    <tr>\n",
       "      <th>freq</th>\n",
       "      <td>7717</td>\n",
       "      <td>883.0</td>\n",
       "      <td>578</td>\n",
       "      <td>12043</td>\n",
       "      <td>578</td>\n",
       "      <td>3934</td>\n",
       "      <td>14</td>\n",
       "      <td>746</td>\n",
       "      <td>174</td>\n",
       "      <td>6285</td>\n",
       "      <td>255</td>\n",
       "      <td>2169</td>\n",
       "      <td>10</td>\n",
       "      <td>1</td>\n",
       "      <td>12043</td>\n",
       "      <td>578</td>\n",
       "      <td>145</td>\n",
       "      <td>11160</td>\n",
       "    </tr>\n",
       "    <tr>\n",
       "      <th>first</th>\n",
       "      <td>NaN</td>\n",
       "      <td>NaN</td>\n",
       "      <td>NaN</td>\n",
       "      <td>NaN</td>\n",
       "      <td>NaN</td>\n",
       "      <td>NaN</td>\n",
       "      <td>NaN</td>\n",
       "      <td>NaN</td>\n",
       "      <td>2018-08-01 00:00:00</td>\n",
       "      <td>NaN</td>\n",
       "      <td>NaN</td>\n",
       "      <td>NaN</td>\n",
       "      <td>NaN</td>\n",
       "      <td>NaN</td>\n",
       "      <td>NaN</td>\n",
       "      <td>NaN</td>\n",
       "      <td>NaN</td>\n",
       "      <td>NaN</td>\n",
       "    </tr>\n",
       "    <tr>\n",
       "      <th>last</th>\n",
       "      <td>NaN</td>\n",
       "      <td>NaN</td>\n",
       "      <td>NaN</td>\n",
       "      <td>NaN</td>\n",
       "      <td>NaN</td>\n",
       "      <td>NaN</td>\n",
       "      <td>NaN</td>\n",
       "      <td>NaN</td>\n",
       "      <td>2018-10-31 00:00:00</td>\n",
       "      <td>NaN</td>\n",
       "      <td>NaN</td>\n",
       "      <td>NaN</td>\n",
       "      <td>NaN</td>\n",
       "      <td>NaN</td>\n",
       "      <td>NaN</td>\n",
       "      <td>NaN</td>\n",
       "      <td>NaN</td>\n",
       "      <td>NaN</td>\n",
       "    </tr>\n",
       "  </tbody>\n",
       "</table>\n",
       "</div>"
      ],
      "text/plain": [
       "            status  bpay_biller_code         account currency       long_lat  \\\n",
       "count        12043             885.0           12043    12043          12043   \n",
       "unique           2               3.0             100        1            100   \n",
       "top     authorized               0.0  ACC-1598451071      AUD  153.41 -27.95   \n",
       "freq          7717             883.0             578    12043            578   \n",
       "first          NaN               NaN             NaN      NaN            NaN   \n",
       "last           NaN               NaN             NaN      NaN            NaN   \n",
       "\n",
       "       txn_description                           merchant_id first_name  \\\n",
       "count            12043                                  7717      12043   \n",
       "unique               6                                  5725         80   \n",
       "top          SALES-POS  106e1272-44ab-4dcb-a438-dd98e0071e51    Michael   \n",
       "freq              3934                                    14        746   \n",
       "first              NaN                                   NaN        NaN   \n",
       "last               NaN                                   NaN        NaN   \n",
       "\n",
       "                       date gender merchant_suburb merchant_state  \\\n",
       "count                 12043  12043            7717           7717   \n",
       "unique                   91      2            1609              8   \n",
       "top     2018-09-28 00:00:00      M       Melbourne            NSW   \n",
       "freq                    174   6285             255           2169   \n",
       "first   2018-08-01 00:00:00    NaN             NaN            NaN   \n",
       "last    2018-10-31 00:00:00    NaN             NaN            NaN   \n",
       "\n",
       "                          extraction                    transaction_id  \\\n",
       "count                          12043                             12043   \n",
       "unique                          9442                             12043   \n",
       "top     2018-09-03T11:00:00.000+0000  42def094cba24b0e94ea01721acd6a75   \n",
       "freq                              10                                 1   \n",
       "first                            NaN                               NaN   \n",
       "last                             NaN                               NaN   \n",
       "\n",
       "          country     customer_id merchant_long_lat movement  \n",
       "count       12043           12043              7717    12043  \n",
       "unique          1             100              2703        2  \n",
       "top     Australia  CUS-2487424745     151.21 -33.87    debit  \n",
       "freq        12043             578               145    11160  \n",
       "first         NaN             NaN               NaN      NaN  \n",
       "last          NaN             NaN               NaN      NaN  "
      ]
     },
     "execution_count": 8,
     "metadata": {},
     "output_type": "execute_result"
    }
   ],
   "source": [
    "df.describe(exclude='number')"
   ]
  },
  {
   "cell_type": "markdown",
   "metadata": {},
   "source": [
    "# Missing/Useless Values"
   ]
  },
  {
   "cell_type": "code",
   "execution_count": 9,
   "metadata": {
    "ExecuteTime": {
     "end_time": "2020-07-28T14:24:13.407514Z",
     "start_time": "2020-07-28T14:24:13.267751Z"
    }
   },
   "outputs": [
    {
     "data": {
      "text/plain": [
       "card_present_flag     4326\n",
       "bpay_biller_code     11158\n",
       "merchant_id           4326\n",
       "merchant_code        11160\n",
       "merchant_suburb       4326\n",
       "merchant_state        4326\n",
       "merchant_long_lat     4326\n",
       "dtype: int64"
      ]
     },
     "execution_count": 9,
     "metadata": {},
     "output_type": "execute_result"
    }
   ],
   "source": [
    "df.isna().sum()[df.isna().sum() > 0]"
   ]
  },
  {
   "cell_type": "code",
   "execution_count": 10,
   "metadata": {
    "ExecuteTime": {
     "end_time": "2020-07-28T14:24:13.678071Z",
     "start_time": "2020-07-28T14:24:13.409501Z"
    }
   },
   "outputs": [
    {
     "data": {
      "text/plain": [
       "array(['posted'], dtype=object)"
      ]
     },
     "execution_count": 10,
     "metadata": {},
     "output_type": "execute_result"
    }
   ],
   "source": [
    "df[df['card_present_flag'].isna()]['status'].unique()\n",
    "\n",
    "# THIS TYPE OF TXN DO NOT REQUIRE MERCHANT DATA"
   ]
  },
  {
   "cell_type": "code",
   "execution_count": 11,
   "metadata": {
    "ExecuteTime": {
     "end_time": "2020-07-28T14:24:13.991132Z",
     "start_time": "2020-07-28T14:24:13.681071Z"
    }
   },
   "outputs": [
    {
     "data": {
      "text/plain": [
       "array(['authorized'], dtype=object)"
      ]
     },
     "execution_count": 11,
     "metadata": {},
     "output_type": "execute_result"
    }
   ],
   "source": [
    "df[df['card_present_flag'].notna()]['status'].unique()"
   ]
  },
  {
   "cell_type": "code",
   "execution_count": 12,
   "metadata": {
    "ExecuteTime": {
     "end_time": "2020-07-28T14:24:14.133043Z",
     "start_time": "2020-07-28T14:24:13.993131Z"
    }
   },
   "outputs": [
    {
     "data": {
      "text/plain": [
       "array(['PAYMENT', 'INTER BANK', 'PAY/SALARY', 'PHONE BANK'], dtype=object)"
      ]
     },
     "execution_count": 12,
     "metadata": {},
     "output_type": "execute_result"
    }
   ],
   "source": [
    "df[df['card_present_flag'].isna()]['txn_description'].unique()\n",
    "\n",
    "# THIS TYPE OF TXN DO NOT REQUIRE MERCHANT DATA"
   ]
  },
  {
   "cell_type": "code",
   "execution_count": 13,
   "metadata": {
    "ExecuteTime": {
     "end_time": "2020-07-28T14:24:14.307359Z",
     "start_time": "2020-07-28T14:24:14.135041Z"
    }
   },
   "outputs": [
    {
     "data": {
      "text/plain": [
       "array(['POS', 'SALES-POS'], dtype=object)"
      ]
     },
     "execution_count": 13,
     "metadata": {},
     "output_type": "execute_result"
    }
   ],
   "source": [
    "df[df['card_present_flag'].notna()]['txn_description'].unique()"
   ]
  },
  {
   "cell_type": "code",
   "execution_count": 14,
   "metadata": {
    "ExecuteTime": {
     "end_time": "2020-07-28T14:24:14.431646Z",
     "start_time": "2020-07-28T14:24:14.312355Z"
    }
   },
   "outputs": [
    {
     "data": {
      "text/plain": [
       "array([nan,  0.])"
      ]
     },
     "execution_count": 14,
     "metadata": {},
     "output_type": "execute_result"
    }
   ],
   "source": [
    "df['merchant_code'].unique()"
   ]
  },
  {
   "cell_type": "code",
   "execution_count": 15,
   "metadata": {
    "ExecuteTime": {
     "end_time": "2020-07-28T14:24:14.541040Z",
     "start_time": "2020-07-28T14:24:14.436643Z"
    }
   },
   "outputs": [
    {
     "data": {
      "text/plain": [
       "array(['PAY/SALARY'], dtype=object)"
      ]
     },
     "execution_count": 15,
     "metadata": {},
     "output_type": "execute_result"
    }
   ],
   "source": [
    "df[df['merchant_code'].notna()]['txn_description'].unique()"
   ]
  },
  {
   "cell_type": "code",
   "execution_count": 16,
   "metadata": {
    "ExecuteTime": {
     "end_time": "2020-07-28T14:24:14.667046Z",
     "start_time": "2020-07-28T14:24:14.546031Z"
    }
   },
   "outputs": [
    {
     "data": {
      "text/plain": [
       "array([0.])"
      ]
     },
     "execution_count": 16,
     "metadata": {},
     "output_type": "execute_result"
    }
   ],
   "source": [
    "df[df['txn_description'] == 'PAY/SALARY']['merchant_code'].unique()\n",
    "\n",
    "# ? NO USEFUL INFORMATION"
   ]
  },
  {
   "cell_type": "code",
   "execution_count": 17,
   "metadata": {
    "ExecuteTime": {
     "end_time": "2020-07-28T14:24:14.807488Z",
     "start_time": "2020-07-28T14:24:14.672041Z"
    }
   },
   "outputs": [
    {
     "data": {
      "text/plain": [
       "array([nan, 0, ' THE DISCOUNT CHEMIST GROUP',\n",
       "       ' LAND WATER & PLANNING East Melbourne'], dtype=object)"
      ]
     },
     "execution_count": 17,
     "metadata": {},
     "output_type": "execute_result"
    }
   ],
   "source": [
    "df['bpay_biller_code'].unique()"
   ]
  },
  {
   "cell_type": "code",
   "execution_count": 18,
   "metadata": {
    "ExecuteTime": {
     "end_time": "2020-07-28T14:24:15.121416Z",
     "start_time": "2020-07-28T14:24:14.810488Z"
    }
   },
   "outputs": [
    {
     "data": {
      "text/html": [
       "<div>\n",
       "<style scoped>\n",
       "    .dataframe tbody tr th:only-of-type {\n",
       "        vertical-align: middle;\n",
       "    }\n",
       "\n",
       "    .dataframe tbody tr th {\n",
       "        vertical-align: top;\n",
       "    }\n",
       "\n",
       "    .dataframe thead th {\n",
       "        text-align: right;\n",
       "    }\n",
       "</style>\n",
       "<table border=\"1\" class=\"dataframe\">\n",
       "  <thead>\n",
       "    <tr style=\"text-align: right;\">\n",
       "      <th></th>\n",
       "      <th>status</th>\n",
       "      <th>card_present_flag</th>\n",
       "      <th>bpay_biller_code</th>\n",
       "      <th>account</th>\n",
       "      <th>currency</th>\n",
       "      <th>long_lat</th>\n",
       "      <th>txn_description</th>\n",
       "      <th>merchant_id</th>\n",
       "      <th>merchant_code</th>\n",
       "      <th>first_name</th>\n",
       "      <th>...</th>\n",
       "      <th>age</th>\n",
       "      <th>merchant_suburb</th>\n",
       "      <th>merchant_state</th>\n",
       "      <th>extraction</th>\n",
       "      <th>amount</th>\n",
       "      <th>transaction_id</th>\n",
       "      <th>country</th>\n",
       "      <th>customer_id</th>\n",
       "      <th>merchant_long_lat</th>\n",
       "      <th>movement</th>\n",
       "    </tr>\n",
       "  </thead>\n",
       "  <tbody>\n",
       "    <tr>\n",
       "      <th>3050</th>\n",
       "      <td>authorized</td>\n",
       "      <td>1.0</td>\n",
       "      <td>THE DISCOUNT CHEMIST GROUP</td>\n",
       "      <td>ACC-2681137560</td>\n",
       "      <td>AUD</td>\n",
       "      <td>151.11 -33.99</td>\n",
       "      <td>POS</td>\n",
       "      <td>786e2dcb-aa00-4a01-a8d7-7cff67fd69e1</td>\n",
       "      <td>NaN</td>\n",
       "      <td>Nathaniel</td>\n",
       "      <td>...</td>\n",
       "      <td>31</td>\n",
       "      <td>Bondi Junction</td>\n",
       "      <td>NSW</td>\n",
       "      <td>2018-08-25T09:17:31.000+0000</td>\n",
       "      <td>20.69</td>\n",
       "      <td>156aa5c521d649099523070b2a40e2e9</td>\n",
       "      <td>Australia</td>\n",
       "      <td>CUS-2083971310</td>\n",
       "      <td>151.25 -33.89</td>\n",
       "      <td>debit</td>\n",
       "    </tr>\n",
       "  </tbody>\n",
       "</table>\n",
       "<p>1 rows × 23 columns</p>\n",
       "</div>"
      ],
      "text/plain": [
       "          status  card_present_flag             bpay_biller_code  \\\n",
       "3050  authorized                1.0   THE DISCOUNT CHEMIST GROUP   \n",
       "\n",
       "             account currency       long_lat txn_description  \\\n",
       "3050  ACC-2681137560      AUD  151.11 -33.99             POS   \n",
       "\n",
       "                               merchant_id  merchant_code first_name  ...  \\\n",
       "3050  786e2dcb-aa00-4a01-a8d7-7cff67fd69e1            NaN  Nathaniel  ...   \n",
       "\n",
       "      age merchant_suburb merchant_state                    extraction amount  \\\n",
       "3050   31  Bondi Junction            NSW  2018-08-25T09:17:31.000+0000  20.69   \n",
       "\n",
       "                        transaction_id    country     customer_id  \\\n",
       "3050  156aa5c521d649099523070b2a40e2e9  Australia  CUS-2083971310   \n",
       "\n",
       "     merchant_long_lat movement  \n",
       "3050     151.25 -33.89    debit  \n",
       "\n",
       "[1 rows x 23 columns]"
      ]
     },
     "execution_count": 18,
     "metadata": {},
     "output_type": "execute_result"
    }
   ],
   "source": [
    "df[df['bpay_biller_code'] == ' THE DISCOUNT CHEMIST GROUP']"
   ]
  },
  {
   "cell_type": "code",
   "execution_count": 19,
   "metadata": {
    "ExecuteTime": {
     "end_time": "2020-07-28T14:24:15.435244Z",
     "start_time": "2020-07-28T14:24:15.123415Z"
    }
   },
   "outputs": [
    {
     "data": {
      "text/html": [
       "<div>\n",
       "<style scoped>\n",
       "    .dataframe tbody tr th:only-of-type {\n",
       "        vertical-align: middle;\n",
       "    }\n",
       "\n",
       "    .dataframe tbody tr th {\n",
       "        vertical-align: top;\n",
       "    }\n",
       "\n",
       "    .dataframe thead th {\n",
       "        text-align: right;\n",
       "    }\n",
       "</style>\n",
       "<table border=\"1\" class=\"dataframe\">\n",
       "  <thead>\n",
       "    <tr style=\"text-align: right;\">\n",
       "      <th></th>\n",
       "      <th>status</th>\n",
       "      <th>card_present_flag</th>\n",
       "      <th>bpay_biller_code</th>\n",
       "      <th>account</th>\n",
       "      <th>currency</th>\n",
       "      <th>long_lat</th>\n",
       "      <th>txn_description</th>\n",
       "      <th>merchant_id</th>\n",
       "      <th>merchant_code</th>\n",
       "      <th>first_name</th>\n",
       "      <th>...</th>\n",
       "      <th>age</th>\n",
       "      <th>merchant_suburb</th>\n",
       "      <th>merchant_state</th>\n",
       "      <th>extraction</th>\n",
       "      <th>amount</th>\n",
       "      <th>transaction_id</th>\n",
       "      <th>country</th>\n",
       "      <th>customer_id</th>\n",
       "      <th>merchant_long_lat</th>\n",
       "      <th>movement</th>\n",
       "    </tr>\n",
       "  </thead>\n",
       "  <tbody>\n",
       "    <tr>\n",
       "      <th>4358</th>\n",
       "      <td>authorized</td>\n",
       "      <td>1.0</td>\n",
       "      <td>LAND WATER &amp; PLANNING East Melbourne</td>\n",
       "      <td>ACC-80388494</td>\n",
       "      <td>AUD</td>\n",
       "      <td>144.97 -37.42</td>\n",
       "      <td>SALES-POS</td>\n",
       "      <td>bfac8fdf-39fb-4300-9267-0a7097d3f365</td>\n",
       "      <td>NaN</td>\n",
       "      <td>Dustin</td>\n",
       "      <td>...</td>\n",
       "      <td>28</td>\n",
       "      <td>East Melbourne</td>\n",
       "      <td>VIC</td>\n",
       "      <td>2018-09-04T09:42:51.000+0000</td>\n",
       "      <td>24.01</td>\n",
       "      <td>77dfd0ea900745819a25200f1194185b</td>\n",
       "      <td>Australia</td>\n",
       "      <td>CUS-1140341822</td>\n",
       "      <td>144.97 -37.81</td>\n",
       "      <td>debit</td>\n",
       "    </tr>\n",
       "  </tbody>\n",
       "</table>\n",
       "<p>1 rows × 23 columns</p>\n",
       "</div>"
      ],
      "text/plain": [
       "          status  card_present_flag                       bpay_biller_code  \\\n",
       "4358  authorized                1.0   LAND WATER & PLANNING East Melbourne   \n",
       "\n",
       "           account currency       long_lat txn_description  \\\n",
       "4358  ACC-80388494      AUD  144.97 -37.42       SALES-POS   \n",
       "\n",
       "                               merchant_id  merchant_code first_name  ...  \\\n",
       "4358  bfac8fdf-39fb-4300-9267-0a7097d3f365            NaN     Dustin  ...   \n",
       "\n",
       "      age merchant_suburb merchant_state                    extraction amount  \\\n",
       "4358   28  East Melbourne            VIC  2018-09-04T09:42:51.000+0000  24.01   \n",
       "\n",
       "                        transaction_id    country     customer_id  \\\n",
       "4358  77dfd0ea900745819a25200f1194185b  Australia  CUS-1140341822   \n",
       "\n",
       "     merchant_long_lat movement  \n",
       "4358     144.97 -37.81    debit  \n",
       "\n",
       "[1 rows x 23 columns]"
      ]
     },
     "execution_count": 19,
     "metadata": {},
     "output_type": "execute_result"
    }
   ],
   "source": [
    "df[df['bpay_biller_code'] == ' LAND WATER & PLANNING East Melbourne']\n",
    "\n",
    "# THIS COLUMN ALSO SEEMS NOT USEFUL"
   ]
  },
  {
   "cell_type": "code",
   "execution_count": 20,
   "metadata": {
    "ExecuteTime": {
     "end_time": "2020-07-28T14:24:15.754207Z",
     "start_time": "2020-07-28T14:24:15.437242Z"
    }
   },
   "outputs": [
    {
     "data": {
      "text/plain": [
       "transaction_id    12043\n",
       "dtype: int64"
      ]
     },
     "execution_count": 20,
     "metadata": {},
     "output_type": "execute_result"
    }
   ],
   "source": [
    "df.nunique()[df.nunique()==len(df)]\n",
    "\n",
    "# THIS COLUMN IS REDUNDANT"
   ]
  },
  {
   "cell_type": "code",
   "execution_count": 21,
   "metadata": {
    "ExecuteTime": {
     "end_time": "2020-07-28T14:24:15.941087Z",
     "start_time": "2020-07-28T14:24:15.759201Z"
    }
   },
   "outputs": [
    {
     "data": {
      "text/plain": [
       "currency         1\n",
       "merchant_code    1\n",
       "country          1\n",
       "dtype: int64"
      ]
     },
     "execution_count": 21,
     "metadata": {},
     "output_type": "execute_result"
    }
   ],
   "source": [
    "df.nunique()[df.nunique()==1]\n",
    "\n",
    "# THESE COLUMNS ARE USELESS"
   ]
  },
  {
   "cell_type": "code",
   "execution_count": 22,
   "metadata": {
    "ExecuteTime": {
     "end_time": "2020-07-28T14:24:16.193753Z",
     "start_time": "2020-07-28T14:24:15.946084Z"
    }
   },
   "outputs": [
    {
     "data": {
      "text/plain": [
       "Index(['card_present_flag', 'bpay_biller_code', 'merchant_id', 'merchant_code',\n",
       "       'merchant_suburb', 'merchant_state', 'merchant_long_lat'],\n",
       "      dtype='object')"
      ]
     },
     "execution_count": 22,
     "metadata": {},
     "output_type": "execute_result"
    }
   ],
   "source": [
    "df.isna().sum()[df.isna().sum() > 0].index"
   ]
  },
  {
   "cell_type": "code",
   "execution_count": 23,
   "metadata": {
    "ExecuteTime": {
     "end_time": "2020-07-28T14:24:16.415292Z",
     "start_time": "2020-07-28T14:24:16.195737Z"
    }
   },
   "outputs": [],
   "source": [
    "df[['card_present_flag', 'merchant_id', 'merchant_suburb', 'merchant_state', 'merchant_long_lat']] = df[['card_present_flag', 'merchant_id', 'merchant_suburb', 'merchant_state', 'merchant_long_lat']].fillna(value=-1)"
   ]
  },
  {
   "cell_type": "code",
   "execution_count": 24,
   "metadata": {
    "ExecuteTime": {
     "end_time": "2020-07-28T14:24:16.745202Z",
     "start_time": "2020-07-28T14:24:16.421288Z"
    }
   },
   "outputs": [],
   "source": [
    "df = df.drop(columns=['merchant_code', 'bpay_biller_code', 'transaction_id', 'currency', 'country'])"
   ]
  },
  {
   "cell_type": "code",
   "execution_count": 25,
   "metadata": {
    "ExecuteTime": {
     "end_time": "2020-07-28T14:24:16.947396Z",
     "start_time": "2020-07-28T14:24:16.750195Z"
    }
   },
   "outputs": [
    {
     "data": {
      "text/plain": [
       "status               0\n",
       "card_present_flag    0\n",
       "account              0\n",
       "long_lat             0\n",
       "txn_description      0\n",
       "merchant_id          0\n",
       "first_name           0\n",
       "balance              0\n",
       "date                 0\n",
       "gender               0\n",
       "age                  0\n",
       "merchant_suburb      0\n",
       "merchant_state       0\n",
       "extraction           0\n",
       "amount               0\n",
       "customer_id          0\n",
       "merchant_long_lat    0\n",
       "movement             0\n",
       "dtype: int64"
      ]
     },
     "execution_count": 25,
     "metadata": {},
     "output_type": "execute_result"
    }
   ],
   "source": [
    "df.isna().sum()"
   ]
  },
  {
   "cell_type": "markdown",
   "metadata": {},
   "source": [
    "# Duplicate Values"
   ]
  },
  {
   "cell_type": "code",
   "execution_count": 26,
   "metadata": {
    "ExecuteTime": {
     "end_time": "2020-07-28T14:24:17.280310Z",
     "start_time": "2020-07-28T14:24:16.953391Z"
    }
   },
   "outputs": [
    {
     "data": {
      "text/html": [
       "<div>\n",
       "<style scoped>\n",
       "    .dataframe tbody tr th:only-of-type {\n",
       "        vertical-align: middle;\n",
       "    }\n",
       "\n",
       "    .dataframe tbody tr th {\n",
       "        vertical-align: top;\n",
       "    }\n",
       "\n",
       "    .dataframe thead th {\n",
       "        text-align: right;\n",
       "    }\n",
       "</style>\n",
       "<table border=\"1\" class=\"dataframe\">\n",
       "  <thead>\n",
       "    <tr style=\"text-align: right;\">\n",
       "      <th></th>\n",
       "      <th>status</th>\n",
       "      <th>card_present_flag</th>\n",
       "      <th>account</th>\n",
       "      <th>long_lat</th>\n",
       "      <th>txn_description</th>\n",
       "      <th>merchant_id</th>\n",
       "      <th>first_name</th>\n",
       "      <th>balance</th>\n",
       "      <th>date</th>\n",
       "      <th>gender</th>\n",
       "      <th>age</th>\n",
       "      <th>merchant_suburb</th>\n",
       "      <th>merchant_state</th>\n",
       "      <th>extraction</th>\n",
       "      <th>amount</th>\n",
       "      <th>customer_id</th>\n",
       "      <th>merchant_long_lat</th>\n",
       "      <th>movement</th>\n",
       "    </tr>\n",
       "  </thead>\n",
       "  <tbody>\n",
       "  </tbody>\n",
       "</table>\n",
       "</div>"
      ],
      "text/plain": [
       "Empty DataFrame\n",
       "Columns: [status, card_present_flag, account, long_lat, txn_description, merchant_id, first_name, balance, date, gender, age, merchant_suburb, merchant_state, extraction, amount, customer_id, merchant_long_lat, movement]\n",
       "Index: []"
      ]
     },
     "execution_count": 26,
     "metadata": {},
     "output_type": "execute_result"
    }
   ],
   "source": [
    "df[df.duplicated(keep='first')]"
   ]
  },
  {
   "cell_type": "markdown",
   "metadata": {},
   "source": [
    "# Data Types & Validity"
   ]
  },
  {
   "cell_type": "code",
   "execution_count": 27,
   "metadata": {
    "ExecuteTime": {
     "end_time": "2020-07-28T14:24:17.343289Z",
     "start_time": "2020-07-28T14:24:17.282308Z"
    }
   },
   "outputs": [],
   "source": [
    "def separate_dtype(df):\n",
    "    '''Function to separate columns based on their data type\n",
    "       df = dataframe'''\n",
    "    cats, nums, dates = [], [], []\n",
    "    for col in df.columns:\n",
    "        if df[col].dtype == 'O':\n",
    "            cats.append(col)\n",
    "        elif df[col].dtype in ['int64', 'float64', 'int32', 'float32']:\n",
    "            nums.append(col)\n",
    "        elif df[col].dtype in ['datetime64[ns]', 'datetime64[ns, UTC]', '<M8[ns]']:\n",
    "            dates.append(col)\n",
    "    return cats, nums, dates"
   ]
  },
  {
   "cell_type": "code",
   "execution_count": 28,
   "metadata": {
    "ExecuteTime": {
     "end_time": "2020-07-28T14:24:17.485548Z",
     "start_time": "2020-07-28T14:24:17.348285Z"
    }
   },
   "outputs": [],
   "source": [
    "cat_feats, num_feats, date_feats = separate_dtype(df)"
   ]
  },
  {
   "cell_type": "code",
   "execution_count": 29,
   "metadata": {
    "ExecuteTime": {
     "end_time": "2020-07-28T14:24:17.693304Z",
     "start_time": "2020-07-28T14:24:17.490551Z"
    }
   },
   "outputs": [],
   "source": [
    "def composition(col):\n",
    "    return df[col].value_counts().apply(lambda x: str(round(x/df[col].value_counts().sum()*100, 2))+'%')"
   ]
  },
  {
   "cell_type": "code",
   "execution_count": 30,
   "metadata": {
    "ExecuteTime": {
     "end_time": "2020-07-28T14:25:35.658482Z",
     "start_time": "2020-07-28T14:24:17.698300Z"
    },
    "scrolled": false
   },
   "outputs": [
    {
     "name": "stdout",
     "output_type": "stream",
     "text": [
      "status\n",
      "authorized    64.08%\n",
      "posted        35.92%\n",
      "Name: status, dtype: object\n",
      "\n",
      "\n",
      "account\n",
      "ACC-1598451071     4.8%\n",
      "ACC-1222300524    2.52%\n",
      "ACC-182446574     2.42%\n",
      "ACC-4258502723    2.16%\n",
      "ACC-1037050564    2.15%\n",
      "                  ...  \n",
      "ACC-1998563091    0.33%\n",
      "ACC-3881031190    0.31%\n",
      "ACC-721712940     0.28%\n",
      "ACC-4059612845    0.26%\n",
      "ACC-1217063613    0.21%\n",
      "Name: account, Length: 100, dtype: object\n",
      "\n",
      "\n",
      "long_lat\n",
      "153.41 -27.95     4.8%\n",
      "151.23 -33.94    2.52%\n",
      "116.06 -32.00    2.42%\n",
      "145.45 -37.74    2.16%\n",
      "153.10 -27.66    2.15%\n",
      "                 ...  \n",
      "149.03 -35.25    0.33%\n",
      "149.19 -21.15    0.31%\n",
      "145.09 -37.82    0.28%\n",
      "130.98 -12.49    0.26%\n",
      "147.61 -37.82    0.21%\n",
      "Name: long_lat, Length: 100, dtype: object\n",
      "\n",
      "\n",
      "txn_description\n",
      "SALES-POS     32.67%\n",
      "POS           31.41%\n",
      "PAYMENT       21.59%\n",
      "PAY/SALARY     7.33%\n",
      "INTER BANK     6.16%\n",
      "PHONE BANK     0.84%\n",
      "Name: txn_description, dtype: object\n",
      "\n",
      "\n",
      "merchant_id\n",
      "-1                                      35.92%\n",
      "106e1272-44ab-4dcb-a438-dd98e0071e51     0.12%\n",
      "6c84c219-96ea-4c6f-9de5-0a28bcaec62f      0.1%\n",
      "e28c426d-cbef-4e2d-aa06-1ba0b6b1902f     0.09%\n",
      "aef30de1-c67e-4ab7-8577-2931a4bf3c7e     0.08%\n",
      "                                         ...  \n",
      "a397420b-f7e2-4349-b5ec-6054fda30a13     0.01%\n",
      "a5dd6907-a988-439e-8eff-cb953cf65f05     0.01%\n",
      "0de914e5-d9d9-4dfa-aae8-6cae722a1c53     0.01%\n",
      "368aab5c-85e7-42b3-8610-de85628a74ed     0.01%\n",
      "f3720aac-32cc-43ef-a924-9d923af42601     0.01%\n",
      "Name: merchant_id, Length: 5726, dtype: object\n",
      "\n",
      "\n",
      "first_name\n",
      "Michael      6.19%\n",
      "Diana         4.8%\n",
      "Jessica      3.39%\n",
      "Joseph       3.25%\n",
      "Jeffrey      3.22%\n",
      "             ...  \n",
      "Cindy        0.42%\n",
      "Elizabeth    0.37%\n",
      "David        0.33%\n",
      "Andrew       0.28%\n",
      "Jonathan     0.26%\n",
      "Name: first_name, Length: 80, dtype: object\n",
      "\n",
      "\n",
      "gender\n",
      "M    52.19%\n",
      "F    47.81%\n",
      "Name: gender, dtype: object\n",
      "\n",
      "\n",
      "merchant_suburb\n",
      "-1               35.92%\n",
      "Melbourne         2.12%\n",
      "Sydney            1.93%\n",
      "Southport         0.68%\n",
      "Brisbane City     0.66%\n",
      "                  ...  \n",
      "Mango Hill        0.01%\n",
      "Glenroy           0.01%\n",
      "Valla             0.01%\n",
      "Sydenham          0.01%\n",
      "Erskineville      0.01%\n",
      "Name: merchant_suburb, Length: 1610, dtype: object\n",
      "\n",
      "\n",
      "merchant_state\n",
      "-1     35.92%\n",
      "NSW    18.01%\n",
      "VIC    17.69%\n",
      "QLD    12.92%\n",
      "WA      9.13%\n",
      "SA      3.45%\n",
      "NT       1.7%\n",
      "ACT     0.61%\n",
      "TAS     0.56%\n",
      "Name: merchant_state, dtype: object\n",
      "\n",
      "\n",
      "extraction\n",
      "2018-09-03T11:00:00.000+0000    0.08%\n",
      "2018-09-04T17:00:00.000+0000    0.07%\n",
      "2018-10-02T17:00:00.000+0000    0.07%\n",
      "2018-09-17T11:00:00.000+0000    0.07%\n",
      "2018-10-23T17:00:00.000+0000    0.07%\n",
      "                                ...  \n",
      "2018-09-28T21:30:13.000+0000    0.01%\n",
      "2018-09-30T23:45:39.000+0000    0.01%\n",
      "2018-10-05T08:00:00.000+0000    0.01%\n",
      "2018-09-16T23:09:09.000+0000    0.01%\n",
      "2018-10-16T21:04:48.000+0000    0.01%\n",
      "Name: extraction, Length: 9442, dtype: object\n",
      "\n",
      "\n",
      "customer_id\n",
      "CUS-2487424745     4.8%\n",
      "CUS-2142601169    2.52%\n",
      "CUS-3026014945    2.42%\n",
      "CUS-3378712515    2.16%\n",
      "CUS-1614226872    2.15%\n",
      "                  ...  \n",
      "CUS-3395687666    0.33%\n",
      "CUS-3201519139    0.31%\n",
      "CUS-1646183815    0.28%\n",
      "CUS-495599312     0.26%\n",
      "CUS-1739931018    0.21%\n",
      "Name: customer_id, Length: 100, dtype: object\n",
      "\n",
      "\n",
      "merchant_long_lat\n",
      "-1               35.92%\n",
      "151.21 -33.87      1.2%\n",
      "144.96 -37.82     0.71%\n",
      "144.97 -37.81     0.49%\n",
      "144.96 -37.81     0.47%\n",
      "                  ...  \n",
      "115.91 -31.85     0.01%\n",
      "150.9 -32.28      0.01%\n",
      "151.06 -34.06     0.01%\n",
      "150.96 -33.91     0.01%\n",
      "145.91 -37.23     0.01%\n",
      "Name: merchant_long_lat, Length: 2704, dtype: object\n",
      "\n",
      "\n",
      "movement\n",
      "debit     92.67%\n",
      "credit     7.33%\n",
      "Name: movement, dtype: object\n",
      "\n",
      "\n"
     ]
    }
   ],
   "source": [
    "for feat in cat_feats:\n",
    "    print(feat)\n",
    "    print(composition(feat))\n",
    "    print('\\n')\n",
    "    \n",
    "# FIX LONG_LAT, EXTRACTION, MERCHANT_LONG_LAT TO CORRECT FORMATS/DTYPE"
   ]
  },
  {
   "cell_type": "code",
   "execution_count": 31,
   "metadata": {
    "ExecuteTime": {
     "end_time": "2020-07-28T14:25:35.674472Z",
     "start_time": "2020-07-28T14:25:35.660482Z"
    }
   },
   "outputs": [],
   "source": [
    "df['long_lat'] = df['long_lat'].apply(lambda x: x.replace(' ', ', '))"
   ]
  },
  {
   "cell_type": "code",
   "execution_count": 32,
   "metadata": {
    "ExecuteTime": {
     "end_time": "2020-07-28T14:25:35.849735Z",
     "start_time": "2020-07-28T14:25:35.676471Z"
    }
   },
   "outputs": [],
   "source": [
    "df['extraction'] = pd.to_datetime(df['extraction'])"
   ]
  },
  {
   "cell_type": "code",
   "execution_count": 33,
   "metadata": {
    "ExecuteTime": {
     "end_time": "2020-07-28T14:25:35.959970Z",
     "start_time": "2020-07-28T14:25:35.851734Z"
    }
   },
   "outputs": [],
   "source": [
    "df['merchant_long_lat'] = [x.replace(' ',', ') if isinstance(x, str) else x for x in df['merchant_long_lat']]"
   ]
  },
  {
   "cell_type": "code",
   "execution_count": 34,
   "metadata": {
    "ExecuteTime": {
     "end_time": "2020-07-28T14:25:36.071050Z",
     "start_time": "2020-07-28T14:25:35.960973Z"
    }
   },
   "outputs": [],
   "source": [
    "cat_feats, num_feats, date_feats = separate_dtype(df)"
   ]
  },
  {
   "cell_type": "code",
   "execution_count": 35,
   "metadata": {
    "ExecuteTime": {
     "end_time": "2020-07-28T14:25:36.165989Z",
     "start_time": "2020-07-28T14:25:36.076047Z"
    }
   },
   "outputs": [
    {
     "data": {
      "text/html": [
       "<div>\n",
       "<style scoped>\n",
       "    .dataframe tbody tr th:only-of-type {\n",
       "        vertical-align: middle;\n",
       "    }\n",
       "\n",
       "    .dataframe tbody tr th {\n",
       "        vertical-align: top;\n",
       "    }\n",
       "\n",
       "    .dataframe thead th {\n",
       "        text-align: right;\n",
       "    }\n",
       "</style>\n",
       "<table border=\"1\" class=\"dataframe\">\n",
       "  <thead>\n",
       "    <tr style=\"text-align: right;\">\n",
       "      <th></th>\n",
       "      <th>card_present_flag</th>\n",
       "      <th>balance</th>\n",
       "      <th>age</th>\n",
       "      <th>amount</th>\n",
       "    </tr>\n",
       "  </thead>\n",
       "  <tbody>\n",
       "    <tr>\n",
       "      <th>count</th>\n",
       "      <td>12043.000000</td>\n",
       "      <td>12043.000000</td>\n",
       "      <td>12043.000000</td>\n",
       "      <td>12043.000000</td>\n",
       "    </tr>\n",
       "    <tr>\n",
       "      <th>mean</th>\n",
       "      <td>0.155111</td>\n",
       "      <td>14704.195553</td>\n",
       "      <td>30.582330</td>\n",
       "      <td>187.933588</td>\n",
       "    </tr>\n",
       "    <tr>\n",
       "      <th>std</th>\n",
       "      <td>0.921709</td>\n",
       "      <td>31503.722652</td>\n",
       "      <td>10.046343</td>\n",
       "      <td>592.599934</td>\n",
       "    </tr>\n",
       "    <tr>\n",
       "      <th>min</th>\n",
       "      <td>-1.000000</td>\n",
       "      <td>0.240000</td>\n",
       "      <td>18.000000</td>\n",
       "      <td>0.100000</td>\n",
       "    </tr>\n",
       "    <tr>\n",
       "      <th>25%</th>\n",
       "      <td>-1.000000</td>\n",
       "      <td>3158.585000</td>\n",
       "      <td>22.000000</td>\n",
       "      <td>16.000000</td>\n",
       "    </tr>\n",
       "    <tr>\n",
       "      <th>50%</th>\n",
       "      <td>1.000000</td>\n",
       "      <td>6432.010000</td>\n",
       "      <td>28.000000</td>\n",
       "      <td>29.000000</td>\n",
       "    </tr>\n",
       "    <tr>\n",
       "      <th>75%</th>\n",
       "      <td>1.000000</td>\n",
       "      <td>12465.945000</td>\n",
       "      <td>38.000000</td>\n",
       "      <td>53.655000</td>\n",
       "    </tr>\n",
       "    <tr>\n",
       "      <th>max</th>\n",
       "      <td>1.000000</td>\n",
       "      <td>267128.520000</td>\n",
       "      <td>78.000000</td>\n",
       "      <td>8835.980000</td>\n",
       "    </tr>\n",
       "  </tbody>\n",
       "</table>\n",
       "</div>"
      ],
      "text/plain": [
       "       card_present_flag        balance           age        amount\n",
       "count       12043.000000   12043.000000  12043.000000  12043.000000\n",
       "mean            0.155111   14704.195553     30.582330    187.933588\n",
       "std             0.921709   31503.722652     10.046343    592.599934\n",
       "min            -1.000000       0.240000     18.000000      0.100000\n",
       "25%            -1.000000    3158.585000     22.000000     16.000000\n",
       "50%             1.000000    6432.010000     28.000000     29.000000\n",
       "75%             1.000000   12465.945000     38.000000     53.655000\n",
       "max             1.000000  267128.520000     78.000000   8835.980000"
      ]
     },
     "execution_count": 35,
     "metadata": {},
     "output_type": "execute_result"
    }
   ],
   "source": [
    "df[num_feats].describe()\n",
    "\n",
    "# CARD_PRESENT_FLAG IS ACTUALLY BINARY 0/1"
   ]
  },
  {
   "cell_type": "code",
   "execution_count": 36,
   "metadata": {
    "ExecuteTime": {
     "end_time": "2020-07-28T14:25:36.275924Z",
     "start_time": "2020-07-28T14:25:36.166988Z"
    }
   },
   "outputs": [],
   "source": [
    "df['card_present_flag'] = df['card_present_flag'].astype('O')"
   ]
  },
  {
   "cell_type": "code",
   "execution_count": 37,
   "metadata": {
    "ExecuteTime": {
     "end_time": "2020-07-28T14:25:36.404058Z",
     "start_time": "2020-07-28T14:25:36.279924Z"
    }
   },
   "outputs": [],
   "source": [
    "cat_feats, num_feats, date_feats = separate_dtype(df)"
   ]
  },
  {
   "cell_type": "code",
   "execution_count": 38,
   "metadata": {
    "ExecuteTime": {
     "end_time": "2020-07-28T14:25:36.546284Z",
     "start_time": "2020-07-28T14:25:36.409052Z"
    }
   },
   "outputs": [
    {
     "data": {
      "text/html": [
       "<div>\n",
       "<style scoped>\n",
       "    .dataframe tbody tr th:only-of-type {\n",
       "        vertical-align: middle;\n",
       "    }\n",
       "\n",
       "    .dataframe tbody tr th {\n",
       "        vertical-align: top;\n",
       "    }\n",
       "\n",
       "    .dataframe thead th {\n",
       "        text-align: right;\n",
       "    }\n",
       "</style>\n",
       "<table border=\"1\" class=\"dataframe\">\n",
       "  <thead>\n",
       "    <tr style=\"text-align: right;\">\n",
       "      <th></th>\n",
       "      <th>date</th>\n",
       "      <th>extraction</th>\n",
       "    </tr>\n",
       "  </thead>\n",
       "  <tbody>\n",
       "    <tr>\n",
       "      <th>count</th>\n",
       "      <td>12043</td>\n",
       "      <td>12043</td>\n",
       "    </tr>\n",
       "    <tr>\n",
       "      <th>unique</th>\n",
       "      <td>91</td>\n",
       "      <td>9442</td>\n",
       "    </tr>\n",
       "    <tr>\n",
       "      <th>top</th>\n",
       "      <td>2018-09-28 00:00:00</td>\n",
       "      <td>2018-09-03 11:00:00+00:00</td>\n",
       "    </tr>\n",
       "    <tr>\n",
       "      <th>freq</th>\n",
       "      <td>174</td>\n",
       "      <td>10</td>\n",
       "    </tr>\n",
       "    <tr>\n",
       "      <th>first</th>\n",
       "      <td>2018-08-01 00:00:00</td>\n",
       "      <td>2018-08-01 01:01:15+00:00</td>\n",
       "    </tr>\n",
       "    <tr>\n",
       "      <th>last</th>\n",
       "      <td>2018-10-31 00:00:00</td>\n",
       "      <td>2018-10-31 23:59:44+00:00</td>\n",
       "    </tr>\n",
       "  </tbody>\n",
       "</table>\n",
       "</div>"
      ],
      "text/plain": [
       "                       date                 extraction\n",
       "count                 12043                      12043\n",
       "unique                   91                       9442\n",
       "top     2018-09-28 00:00:00  2018-09-03 11:00:00+00:00\n",
       "freq                    174                         10\n",
       "first   2018-08-01 00:00:00  2018-08-01 01:01:15+00:00\n",
       "last    2018-10-31 00:00:00  2018-10-31 23:59:44+00:00"
      ]
     },
     "execution_count": 38,
     "metadata": {},
     "output_type": "execute_result"
    }
   ],
   "source": [
    "df[date_feats].describe()\n",
    "\n",
    "# ALL VALUES ARE VALID AND WITHIN CORRECT DATA TYPE"
   ]
  },
  {
   "cell_type": "code",
   "execution_count": 39,
   "metadata": {
    "ExecuteTime": {
     "end_time": "2020-07-28T14:25:36.657304Z",
     "start_time": "2020-07-28T14:25:36.548282Z"
    }
   },
   "outputs": [
    {
     "name": "stdout",
     "output_type": "stream",
     "text": [
      "13 categorical features: ['status', 'card_present_flag', 'account', 'long_lat', 'txn_description', 'merchant_id', 'first_name', 'gender', 'merchant_suburb', 'merchant_state', 'customer_id', 'merchant_long_lat', 'movement'] \n",
      "3 numerical features: ['balance', 'age', 'amount'] \n",
      "2 datetime features: ['date', 'extraction']\n"
     ]
    }
   ],
   "source": [
    "print(f'{len(cat_feats)} categorical features: {cat_feats} \\n{len(num_feats)} numerical features: {num_feats} \\n{len(date_feats)} datetime features: {date_feats}')"
   ]
  },
  {
   "cell_type": "markdown",
   "metadata": {},
   "source": [
    "# Feature Engineering"
   ]
  },
  {
   "cell_type": "code",
   "execution_count": 40,
   "metadata": {
    "ExecuteTime": {
     "end_time": "2020-07-28T14:25:36.812359Z",
     "start_time": "2020-07-28T14:25:36.659303Z"
    }
   },
   "outputs": [],
   "source": [
    "df['day'] = df['date'].apply(lambda x: x.weekday())\n",
    "df['day'] = df['day'].map({0: 'Sunday', 1: 'Monday', 2: 'Tuesday', 3: 'Wednesday', 4: 'Thursday', 5: 'Friday', 6: 'Saturday'})"
   ]
  },
  {
   "cell_type": "code",
   "execution_count": 41,
   "metadata": {
    "ExecuteTime": {
     "end_time": "2020-07-28T14:25:36.908586Z",
     "start_time": "2020-07-28T14:25:36.816350Z"
    }
   },
   "outputs": [],
   "source": [
    "df['weekend'] = df['day'].apply(lambda x: 'Weekend' if x in ['Saturday', 'Sunday'] else 'Weekday')"
   ]
  },
  {
   "cell_type": "code",
   "execution_count": 42,
   "metadata": {
    "ExecuteTime": {
     "end_time": "2020-07-28T14:25:37.064883Z",
     "start_time": "2020-07-28T14:25:36.911598Z"
    }
   },
   "outputs": [],
   "source": [
    "df['month'] = df['date'].apply(lambda x: x.month)\n",
    "df['month'] = df['month'].map({8: 'August', 9: 'September', 10: 'October'})"
   ]
  },
  {
   "cell_type": "code",
   "execution_count": 43,
   "metadata": {
    "ExecuteTime": {
     "end_time": "2020-07-28T14:25:40.110570Z",
     "start_time": "2020-07-28T14:25:37.065879Z"
    }
   },
   "outputs": [],
   "source": [
    "df['debit'] = df.apply(lambda row: row['amount'] if row['movement']=='debit' else 0, axis=1)\n",
    "df['credit'] = df.apply(lambda row: row['amount'] if row['movement']=='credit' else 0, axis=1)"
   ]
  },
  {
   "cell_type": "code",
   "execution_count": 44,
   "metadata": {
    "ExecuteTime": {
     "end_time": "2020-07-28T14:25:40.222494Z",
     "start_time": "2020-07-28T14:25:40.111562Z"
    }
   },
   "outputs": [],
   "source": [
    "df['week'] = df['date'].apply(lambda x: f'Week {x.week}')"
   ]
  },
  {
   "cell_type": "code",
   "execution_count": 45,
   "metadata": {
    "ExecuteTime": {
     "end_time": "2020-07-28T14:25:40.379957Z",
     "start_time": "2020-07-28T14:25:40.224493Z"
    }
   },
   "outputs": [],
   "source": [
    "cat_feats, num_feats, date_feats = separate_dtype(df)"
   ]
  },
  {
   "cell_type": "code",
   "execution_count": 46,
   "metadata": {
    "ExecuteTime": {
     "end_time": "2020-07-28T14:26:14.459801Z",
     "start_time": "2020-07-28T14:25:40.381954Z"
    },
    "scrolled": false
   },
   "outputs": [
    {
     "name": "stdout",
     "output_type": "stream",
     "text": [
      "status\n",
      "authorized    64.08%\n",
      "posted        35.92%\n",
      "Name: status, dtype: object\n",
      "\n",
      "\n",
      "card_present_flag\n",
      " 1.0    51.43%\n",
      "-1.0    35.92%\n",
      " 0.0    12.65%\n",
      "Name: card_present_flag, dtype: object\n",
      "\n",
      "\n",
      "account\n",
      "ACC-1598451071     4.8%\n",
      "ACC-1222300524    2.52%\n",
      "ACC-182446574     2.42%\n",
      "ACC-4258502723    2.16%\n",
      "ACC-1037050564    2.15%\n",
      "                  ...  \n",
      "ACC-1998563091    0.33%\n",
      "ACC-3881031190    0.31%\n",
      "ACC-721712940     0.28%\n",
      "ACC-4059612845    0.26%\n",
      "ACC-1217063613    0.21%\n",
      "Name: account, Length: 100, dtype: object\n",
      "\n",
      "\n",
      "long_lat\n",
      "153.41, -27.95     4.8%\n",
      "151.23, -33.94    2.52%\n",
      "116.06, -32.00    2.42%\n",
      "145.45, -37.74    2.16%\n",
      "153.10, -27.66    2.15%\n",
      "                  ...  \n",
      "149.03, -35.25    0.33%\n",
      "149.19, -21.15    0.31%\n",
      "145.09, -37.82    0.28%\n",
      "130.98, -12.49    0.26%\n",
      "147.61, -37.82    0.21%\n",
      "Name: long_lat, Length: 100, dtype: object\n",
      "\n",
      "\n",
      "txn_description\n",
      "SALES-POS     32.67%\n",
      "POS           31.41%\n",
      "PAYMENT       21.59%\n",
      "PAY/SALARY     7.33%\n",
      "INTER BANK     6.16%\n",
      "PHONE BANK     0.84%\n",
      "Name: txn_description, dtype: object\n",
      "\n",
      "\n",
      "merchant_id\n",
      "-1                                      35.92%\n",
      "106e1272-44ab-4dcb-a438-dd98e0071e51     0.12%\n",
      "6c84c219-96ea-4c6f-9de5-0a28bcaec62f      0.1%\n",
      "e28c426d-cbef-4e2d-aa06-1ba0b6b1902f     0.09%\n",
      "aef30de1-c67e-4ab7-8577-2931a4bf3c7e     0.08%\n",
      "                                         ...  \n",
      "a397420b-f7e2-4349-b5ec-6054fda30a13     0.01%\n",
      "a5dd6907-a988-439e-8eff-cb953cf65f05     0.01%\n",
      "0de914e5-d9d9-4dfa-aae8-6cae722a1c53     0.01%\n",
      "368aab5c-85e7-42b3-8610-de85628a74ed     0.01%\n",
      "f3720aac-32cc-43ef-a924-9d923af42601     0.01%\n",
      "Name: merchant_id, Length: 5726, dtype: object\n",
      "\n",
      "\n",
      "first_name\n",
      "Michael      6.19%\n",
      "Diana         4.8%\n",
      "Jessica      3.39%\n",
      "Joseph       3.25%\n",
      "Jeffrey      3.22%\n",
      "             ...  \n",
      "Cindy        0.42%\n",
      "Elizabeth    0.37%\n",
      "David        0.33%\n",
      "Andrew       0.28%\n",
      "Jonathan     0.26%\n",
      "Name: first_name, Length: 80, dtype: object\n",
      "\n",
      "\n",
      "gender\n",
      "M    52.19%\n",
      "F    47.81%\n",
      "Name: gender, dtype: object\n",
      "\n",
      "\n",
      "merchant_suburb\n",
      "-1               35.92%\n",
      "Melbourne         2.12%\n",
      "Sydney            1.93%\n",
      "Southport         0.68%\n",
      "Brisbane City     0.66%\n",
      "                  ...  \n",
      "Mango Hill        0.01%\n",
      "Glenroy           0.01%\n",
      "Valla             0.01%\n",
      "Sydenham          0.01%\n",
      "Erskineville      0.01%\n",
      "Name: merchant_suburb, Length: 1610, dtype: object\n",
      "\n",
      "\n",
      "merchant_state\n",
      "-1     35.92%\n",
      "NSW    18.01%\n",
      "VIC    17.69%\n",
      "QLD    12.92%\n",
      "WA      9.13%\n",
      "SA      3.45%\n",
      "NT       1.7%\n",
      "ACT     0.61%\n",
      "TAS     0.56%\n",
      "Name: merchant_state, dtype: object\n",
      "\n",
      "\n",
      "customer_id\n",
      "CUS-2487424745     4.8%\n",
      "CUS-2142601169    2.52%\n",
      "CUS-3026014945    2.42%\n",
      "CUS-3378712515    2.16%\n",
      "CUS-1614226872    2.15%\n",
      "                  ...  \n",
      "CUS-3395687666    0.33%\n",
      "CUS-3201519139    0.31%\n",
      "CUS-1646183815    0.28%\n",
      "CUS-495599312     0.26%\n",
      "CUS-1739931018    0.21%\n",
      "Name: customer_id, Length: 100, dtype: object\n",
      "\n",
      "\n",
      "merchant_long_lat\n",
      "-1                35.92%\n",
      "151.21, -33.87      1.2%\n",
      "144.96, -37.82     0.71%\n",
      "144.97, -37.81     0.49%\n",
      "144.96, -37.81     0.47%\n",
      "                   ...  \n",
      "115.99, -32.15     0.01%\n",
      "150.72, -33.75     0.01%\n",
      "144.93, -37.81     0.01%\n",
      "138.51, -34.85     0.01%\n",
      "144.88, -37.84     0.01%\n",
      "Name: merchant_long_lat, Length: 2704, dtype: object\n",
      "\n",
      "\n",
      "movement\n",
      "debit     92.67%\n",
      "credit     7.33%\n",
      "Name: movement, dtype: object\n",
      "\n",
      "\n",
      "day\n",
      "Thursday     17.21%\n",
      "Tuesday      17.13%\n",
      "Wednesday    14.95%\n",
      "Friday       14.19%\n",
      "Saturday     12.87%\n",
      "Monday       12.35%\n",
      "Sunday       11.29%\n",
      "Name: day, dtype: object\n",
      "\n",
      "\n",
      "weekend\n",
      "Weekday    75.84%\n",
      "Weekend    24.16%\n",
      "Name: weekend, dtype: object\n",
      "\n",
      "\n",
      "month\n",
      "October      33.94%\n",
      "September    33.32%\n",
      "August       32.74%\n",
      "Name: month, dtype: object\n",
      "\n",
      "\n",
      "week\n",
      "Week 40    7.88%\n",
      "Week 42    7.83%\n",
      "Week 38    7.83%\n",
      "Week 35    7.81%\n",
      "Week 39    7.79%\n",
      "Week 36    7.77%\n",
      "Week 43    7.76%\n",
      "Week 37    7.72%\n",
      "Week 41    7.71%\n",
      "Week 34    7.64%\n",
      "Week 32    7.42%\n",
      "Week 33    6.57%\n",
      "Week 31    5.51%\n",
      "Week 44    2.76%\n",
      "Name: week, dtype: object\n",
      "\n",
      "\n"
     ]
    }
   ],
   "source": [
    "for feat in cat_feats:\n",
    "    print(feat)\n",
    "    print(composition(feat))\n",
    "    print('\\n')"
   ]
  },
  {
   "cell_type": "code",
   "execution_count": 47,
   "metadata": {
    "ExecuteTime": {
     "end_time": "2020-07-28T14:26:14.507772Z",
     "start_time": "2020-07-28T14:26:14.461800Z"
    }
   },
   "outputs": [
    {
     "data": {
      "text/html": [
       "<div>\n",
       "<style scoped>\n",
       "    .dataframe tbody tr th:only-of-type {\n",
       "        vertical-align: middle;\n",
       "    }\n",
       "\n",
       "    .dataframe tbody tr th {\n",
       "        vertical-align: top;\n",
       "    }\n",
       "\n",
       "    .dataframe thead th {\n",
       "        text-align: right;\n",
       "    }\n",
       "</style>\n",
       "<table border=\"1\" class=\"dataframe\">\n",
       "  <thead>\n",
       "    <tr style=\"text-align: right;\">\n",
       "      <th></th>\n",
       "      <th>balance</th>\n",
       "      <th>age</th>\n",
       "      <th>amount</th>\n",
       "      <th>debit</th>\n",
       "      <th>credit</th>\n",
       "    </tr>\n",
       "  </thead>\n",
       "  <tbody>\n",
       "    <tr>\n",
       "      <th>count</th>\n",
       "      <td>12043.000000</td>\n",
       "      <td>12043.000000</td>\n",
       "      <td>12043.000000</td>\n",
       "      <td>12043.000000</td>\n",
       "      <td>12043.000000</td>\n",
       "    </tr>\n",
       "    <tr>\n",
       "      <th>mean</th>\n",
       "      <td>14704.195553</td>\n",
       "      <td>30.582330</td>\n",
       "      <td>187.933588</td>\n",
       "      <td>48.717707</td>\n",
       "      <td>139.215881</td>\n",
       "    </tr>\n",
       "    <tr>\n",
       "      <th>std</th>\n",
       "      <td>31503.722652</td>\n",
       "      <td>10.046343</td>\n",
       "      <td>592.599934</td>\n",
       "      <td>151.135148</td>\n",
       "      <td>584.720901</td>\n",
       "    </tr>\n",
       "    <tr>\n",
       "      <th>min</th>\n",
       "      <td>0.240000</td>\n",
       "      <td>18.000000</td>\n",
       "      <td>0.100000</td>\n",
       "      <td>0.000000</td>\n",
       "      <td>0.000000</td>\n",
       "    </tr>\n",
       "    <tr>\n",
       "      <th>25%</th>\n",
       "      <td>3158.585000</td>\n",
       "      <td>22.000000</td>\n",
       "      <td>16.000000</td>\n",
       "      <td>12.870000</td>\n",
       "      <td>0.000000</td>\n",
       "    </tr>\n",
       "    <tr>\n",
       "      <th>50%</th>\n",
       "      <td>6432.010000</td>\n",
       "      <td>28.000000</td>\n",
       "      <td>29.000000</td>\n",
       "      <td>24.440000</td>\n",
       "      <td>0.000000</td>\n",
       "    </tr>\n",
       "    <tr>\n",
       "      <th>75%</th>\n",
       "      <td>12465.945000</td>\n",
       "      <td>38.000000</td>\n",
       "      <td>53.655000</td>\n",
       "      <td>43.000000</td>\n",
       "      <td>0.000000</td>\n",
       "    </tr>\n",
       "    <tr>\n",
       "      <th>max</th>\n",
       "      <td>267128.520000</td>\n",
       "      <td>78.000000</td>\n",
       "      <td>8835.980000</td>\n",
       "      <td>7081.090000</td>\n",
       "      <td>8835.980000</td>\n",
       "    </tr>\n",
       "  </tbody>\n",
       "</table>\n",
       "</div>"
      ],
      "text/plain": [
       "             balance           age        amount         debit        credit\n",
       "count   12043.000000  12043.000000  12043.000000  12043.000000  12043.000000\n",
       "mean    14704.195553     30.582330    187.933588     48.717707    139.215881\n",
       "std     31503.722652     10.046343    592.599934    151.135148    584.720901\n",
       "min         0.240000     18.000000      0.100000      0.000000      0.000000\n",
       "25%      3158.585000     22.000000     16.000000     12.870000      0.000000\n",
       "50%      6432.010000     28.000000     29.000000     24.440000      0.000000\n",
       "75%     12465.945000     38.000000     53.655000     43.000000      0.000000\n",
       "max    267128.520000     78.000000   8835.980000   7081.090000   8835.980000"
      ]
     },
     "execution_count": 47,
     "metadata": {},
     "output_type": "execute_result"
    }
   ],
   "source": [
    "df[num_feats].describe()"
   ]
  },
  {
   "cell_type": "code",
   "execution_count": 48,
   "metadata": {
    "ExecuteTime": {
     "end_time": "2020-07-28T14:26:14.633693Z",
     "start_time": "2020-07-28T14:26:14.509770Z"
    }
   },
   "outputs": [
    {
     "data": {
      "text/html": [
       "<div>\n",
       "<style scoped>\n",
       "    .dataframe tbody tr th:only-of-type {\n",
       "        vertical-align: middle;\n",
       "    }\n",
       "\n",
       "    .dataframe tbody tr th {\n",
       "        vertical-align: top;\n",
       "    }\n",
       "\n",
       "    .dataframe thead th {\n",
       "        text-align: right;\n",
       "    }\n",
       "</style>\n",
       "<table border=\"1\" class=\"dataframe\">\n",
       "  <thead>\n",
       "    <tr style=\"text-align: right;\">\n",
       "      <th></th>\n",
       "      <th>date</th>\n",
       "      <th>extraction</th>\n",
       "    </tr>\n",
       "  </thead>\n",
       "  <tbody>\n",
       "    <tr>\n",
       "      <th>count</th>\n",
       "      <td>12043</td>\n",
       "      <td>12043</td>\n",
       "    </tr>\n",
       "    <tr>\n",
       "      <th>unique</th>\n",
       "      <td>91</td>\n",
       "      <td>9442</td>\n",
       "    </tr>\n",
       "    <tr>\n",
       "      <th>top</th>\n",
       "      <td>2018-09-28 00:00:00</td>\n",
       "      <td>2018-09-03 11:00:00+00:00</td>\n",
       "    </tr>\n",
       "    <tr>\n",
       "      <th>freq</th>\n",
       "      <td>174</td>\n",
       "      <td>10</td>\n",
       "    </tr>\n",
       "    <tr>\n",
       "      <th>first</th>\n",
       "      <td>2018-08-01 00:00:00</td>\n",
       "      <td>2018-08-01 01:01:15+00:00</td>\n",
       "    </tr>\n",
       "    <tr>\n",
       "      <th>last</th>\n",
       "      <td>2018-10-31 00:00:00</td>\n",
       "      <td>2018-10-31 23:59:44+00:00</td>\n",
       "    </tr>\n",
       "  </tbody>\n",
       "</table>\n",
       "</div>"
      ],
      "text/plain": [
       "                       date                 extraction\n",
       "count                 12043                      12043\n",
       "unique                   91                       9442\n",
       "top     2018-09-28 00:00:00  2018-09-03 11:00:00+00:00\n",
       "freq                    174                         10\n",
       "first   2018-08-01 00:00:00  2018-08-01 01:01:15+00:00\n",
       "last    2018-10-31 00:00:00  2018-10-31 23:59:44+00:00"
      ]
     },
     "execution_count": 48,
     "metadata": {},
     "output_type": "execute_result"
    }
   ],
   "source": [
    "df[date_feats].describe()"
   ]
  },
  {
   "cell_type": "markdown",
   "metadata": {},
   "source": [
    "# Freeform"
   ]
  },
  {
   "cell_type": "markdown",
   "metadata": {},
   "source": [
    "Note that salary is a credit (adding to balance instead of subtracting)"
   ]
  },
  {
   "cell_type": "code",
   "execution_count": 49,
   "metadata": {
    "ExecuteTime": {
     "end_time": "2020-07-28T14:26:14.728637Z",
     "start_time": "2020-07-28T14:26:14.636691Z"
    }
   },
   "outputs": [
    {
     "data": {
      "text/html": [
       "<div>\n",
       "<style scoped>\n",
       "    .dataframe tbody tr th:only-of-type {\n",
       "        vertical-align: middle;\n",
       "    }\n",
       "\n",
       "    .dataframe tbody tr th {\n",
       "        vertical-align: top;\n",
       "    }\n",
       "\n",
       "    .dataframe thead th {\n",
       "        text-align: right;\n",
       "    }\n",
       "</style>\n",
       "<table border=\"1\" class=\"dataframe\">\n",
       "  <thead>\n",
       "    <tr style=\"text-align: right;\">\n",
       "      <th>movement</th>\n",
       "      <th>credit</th>\n",
       "      <th>debit</th>\n",
       "    </tr>\n",
       "    <tr>\n",
       "      <th>txn_description</th>\n",
       "      <th></th>\n",
       "      <th></th>\n",
       "    </tr>\n",
       "  </thead>\n",
       "  <tbody>\n",
       "    <tr>\n",
       "      <th>INTER BANK</th>\n",
       "      <td>0</td>\n",
       "      <td>742</td>\n",
       "    </tr>\n",
       "    <tr>\n",
       "      <th>PAY/SALARY</th>\n",
       "      <td>883</td>\n",
       "      <td>0</td>\n",
       "    </tr>\n",
       "    <tr>\n",
       "      <th>PAYMENT</th>\n",
       "      <td>0</td>\n",
       "      <td>2600</td>\n",
       "    </tr>\n",
       "    <tr>\n",
       "      <th>PHONE BANK</th>\n",
       "      <td>0</td>\n",
       "      <td>101</td>\n",
       "    </tr>\n",
       "    <tr>\n",
       "      <th>POS</th>\n",
       "      <td>0</td>\n",
       "      <td>3783</td>\n",
       "    </tr>\n",
       "    <tr>\n",
       "      <th>SALES-POS</th>\n",
       "      <td>0</td>\n",
       "      <td>3934</td>\n",
       "    </tr>\n",
       "  </tbody>\n",
       "</table>\n",
       "</div>"
      ],
      "text/plain": [
       "movement         credit  debit\n",
       "txn_description               \n",
       "INTER BANK            0    742\n",
       "PAY/SALARY          883      0\n",
       "PAYMENT               0   2600\n",
       "PHONE BANK            0    101\n",
       "POS                   0   3783\n",
       "SALES-POS             0   3934"
      ]
     },
     "execution_count": 49,
     "metadata": {},
     "output_type": "execute_result"
    }
   ],
   "source": [
    "pd.crosstab(df.txn_description, df.movement)"
   ]
  },
  {
   "cell_type": "markdown",
   "metadata": {},
   "source": [
    "Sum of amounts based on transaction type per customer"
   ]
  },
  {
   "cell_type": "code",
   "execution_count": 50,
   "metadata": {
    "ExecuteTime": {
     "end_time": "2020-07-28T14:26:14.934505Z",
     "start_time": "2020-07-28T14:26:14.731634Z"
    }
   },
   "outputs": [
    {
     "data": {
      "text/html": [
       "<div>\n",
       "<style scoped>\n",
       "    .dataframe tbody tr th:only-of-type {\n",
       "        vertical-align: middle;\n",
       "    }\n",
       "\n",
       "    .dataframe tbody tr th {\n",
       "        vertical-align: top;\n",
       "    }\n",
       "\n",
       "    .dataframe thead th {\n",
       "        text-align: right;\n",
       "    }\n",
       "</style>\n",
       "<table border=\"1\" class=\"dataframe\">\n",
       "  <thead>\n",
       "    <tr style=\"text-align: right;\">\n",
       "      <th>txn_description</th>\n",
       "      <th>INTER BANK</th>\n",
       "      <th>PAY/SALARY</th>\n",
       "      <th>PAYMENT</th>\n",
       "      <th>PHONE BANK</th>\n",
       "      <th>POS</th>\n",
       "      <th>SALES-POS</th>\n",
       "      <th>TOTAL</th>\n",
       "      <th>DEBITS</th>\n",
       "    </tr>\n",
       "    <tr>\n",
       "      <th>customer_id</th>\n",
       "      <th></th>\n",
       "      <th></th>\n",
       "      <th></th>\n",
       "      <th></th>\n",
       "      <th></th>\n",
       "      <th></th>\n",
       "      <th></th>\n",
       "      <th></th>\n",
       "    </tr>\n",
       "  </thead>\n",
       "  <tbody>\n",
       "    <tr>\n",
       "      <th>CUS-1005756958</th>\n",
       "      <td>NaN</td>\n",
       "      <td>12616.11</td>\n",
       "      <td>1296.0</td>\n",
       "      <td>546.0</td>\n",
       "      <td>748.01</td>\n",
       "      <td>1062.85</td>\n",
       "      <td>16268.97</td>\n",
       "      <td>3652.86</td>\n",
       "    </tr>\n",
       "    <tr>\n",
       "      <th>CUS-1117979751</th>\n",
       "      <td>1001.0</td>\n",
       "      <td>25050.55</td>\n",
       "      <td>3957.0</td>\n",
       "      <td>NaN</td>\n",
       "      <td>606.37</td>\n",
       "      <td>3369.45</td>\n",
       "      <td>33984.37</td>\n",
       "      <td>8933.82</td>\n",
       "    </tr>\n",
       "    <tr>\n",
       "      <th>CUS-1140341822</th>\n",
       "      <td>270.0</td>\n",
       "      <td>11499.06</td>\n",
       "      <td>852.0</td>\n",
       "      <td>NaN</td>\n",
       "      <td>1356.47</td>\n",
       "      <td>3033.07</td>\n",
       "      <td>17010.60</td>\n",
       "      <td>5511.54</td>\n",
       "    </tr>\n",
       "    <tr>\n",
       "      <th>CUS-1147642491</th>\n",
       "      <td>250.0</td>\n",
       "      <td>22248.07</td>\n",
       "      <td>2597.0</td>\n",
       "      <td>NaN</td>\n",
       "      <td>2062.31</td>\n",
       "      <td>1823.44</td>\n",
       "      <td>28980.82</td>\n",
       "      <td>6732.75</td>\n",
       "    </tr>\n",
       "    <tr>\n",
       "      <th>CUS-1196156254</th>\n",
       "      <td>767.0</td>\n",
       "      <td>27326.11</td>\n",
       "      <td>3017.0</td>\n",
       "      <td>NaN</td>\n",
       "      <td>2305.65</td>\n",
       "      <td>2634.96</td>\n",
       "      <td>36050.72</td>\n",
       "      <td>8724.61</td>\n",
       "    </tr>\n",
       "    <tr>\n",
       "      <th>...</th>\n",
       "      <td>...</td>\n",
       "      <td>...</td>\n",
       "      <td>...</td>\n",
       "      <td>...</td>\n",
       "      <td>...</td>\n",
       "      <td>...</td>\n",
       "      <td>...</td>\n",
       "      <td>...</td>\n",
       "    </tr>\n",
       "    <tr>\n",
       "      <th>CUS-809013380</th>\n",
       "      <td>1383.0</td>\n",
       "      <td>13481.91</td>\n",
       "      <td>1543.0</td>\n",
       "      <td>NaN</td>\n",
       "      <td>1135.01</td>\n",
       "      <td>1267.17</td>\n",
       "      <td>18810.09</td>\n",
       "      <td>5328.18</td>\n",
       "    </tr>\n",
       "    <tr>\n",
       "      <th>CUS-860700529</th>\n",
       "      <td>234.0</td>\n",
       "      <td>10851.72</td>\n",
       "      <td>629.0</td>\n",
       "      <td>402.0</td>\n",
       "      <td>2731.99</td>\n",
       "      <td>3251.17</td>\n",
       "      <td>18099.88</td>\n",
       "      <td>7248.16</td>\n",
       "    </tr>\n",
       "    <tr>\n",
       "      <th>CUS-880898248</th>\n",
       "      <td>NaN</td>\n",
       "      <td>8603.88</td>\n",
       "      <td>1240.0</td>\n",
       "      <td>NaN</td>\n",
       "      <td>422.13</td>\n",
       "      <td>1196.44</td>\n",
       "      <td>11462.45</td>\n",
       "      <td>2858.57</td>\n",
       "    </tr>\n",
       "    <tr>\n",
       "      <th>CUS-883482547</th>\n",
       "      <td>NaN</td>\n",
       "      <td>27842.22</td>\n",
       "      <td>4298.0</td>\n",
       "      <td>793.0</td>\n",
       "      <td>1562.39</td>\n",
       "      <td>2143.80</td>\n",
       "      <td>36639.41</td>\n",
       "      <td>8797.19</td>\n",
       "    </tr>\n",
       "    <tr>\n",
       "      <th>TOTAL</th>\n",
       "      <td>64331.0</td>\n",
       "      <td>1676576.85</td>\n",
       "      <td>201794.0</td>\n",
       "      <td>10716.0</td>\n",
       "      <td>152861.24</td>\n",
       "      <td>157005.11</td>\n",
       "      <td>2263284.20</td>\n",
       "      <td>586707.35</td>\n",
       "    </tr>\n",
       "  </tbody>\n",
       "</table>\n",
       "<p>101 rows × 8 columns</p>\n",
       "</div>"
      ],
      "text/plain": [
       "txn_description  INTER BANK  PAY/SALARY   PAYMENT  PHONE BANK        POS  \\\n",
       "customer_id                                                                \n",
       "CUS-1005756958          NaN    12616.11    1296.0       546.0     748.01   \n",
       "CUS-1117979751       1001.0    25050.55    3957.0         NaN     606.37   \n",
       "CUS-1140341822        270.0    11499.06     852.0         NaN    1356.47   \n",
       "CUS-1147642491        250.0    22248.07    2597.0         NaN    2062.31   \n",
       "CUS-1196156254        767.0    27326.11    3017.0         NaN    2305.65   \n",
       "...                     ...         ...       ...         ...        ...   \n",
       "CUS-809013380        1383.0    13481.91    1543.0         NaN    1135.01   \n",
       "CUS-860700529         234.0    10851.72     629.0       402.0    2731.99   \n",
       "CUS-880898248           NaN     8603.88    1240.0         NaN     422.13   \n",
       "CUS-883482547           NaN    27842.22    4298.0       793.0    1562.39   \n",
       "TOTAL               64331.0  1676576.85  201794.0     10716.0  152861.24   \n",
       "\n",
       "txn_description  SALES-POS       TOTAL     DEBITS  \n",
       "customer_id                                        \n",
       "CUS-1005756958     1062.85    16268.97    3652.86  \n",
       "CUS-1117979751     3369.45    33984.37    8933.82  \n",
       "CUS-1140341822     3033.07    17010.60    5511.54  \n",
       "CUS-1147642491     1823.44    28980.82    6732.75  \n",
       "CUS-1196156254     2634.96    36050.72    8724.61  \n",
       "...                    ...         ...        ...  \n",
       "CUS-809013380      1267.17    18810.09    5328.18  \n",
       "CUS-860700529      3251.17    18099.88    7248.16  \n",
       "CUS-880898248      1196.44    11462.45    2858.57  \n",
       "CUS-883482547      2143.80    36639.41    8797.19  \n",
       "TOTAL            157005.11  2263284.20  586707.35  \n",
       "\n",
       "[101 rows x 8 columns]"
      ]
     },
     "execution_count": 50,
     "metadata": {},
     "output_type": "execute_result"
    }
   ],
   "source": [
    "agg_amount = pd.crosstab(df.customer_id, df.txn_description, values=df.amount, aggfunc='sum', margins=True, margins_name='TOTAL')\n",
    "agg_amount['DEBITS'] = agg_amount.apply(lambda row: np.nansum([row['INTER BANK'],  row['PAYMENT'],  row['PHONE BANK'], row['POS'], row['SALES-POS']]), axis=1)\n",
    "agg_amount"
   ]
  },
  {
   "cell_type": "markdown",
   "metadata": {},
   "source": [
    "Average spend of transaction per customer per MONTH"
   ]
  },
  {
   "cell_type": "code",
   "execution_count": 51,
   "metadata": {
    "ExecuteTime": {
     "end_time": "2020-07-28T14:26:14.982476Z",
     "start_time": "2020-07-28T14:26:14.937504Z"
    },
    "scrolled": false
   },
   "outputs": [
    {
     "data": {
      "text/plain": [
       "txn_description\n",
       "INTER BANK     214.436667\n",
       "PAY/SALARY    5588.589500\n",
       "PAYMENT        672.646667\n",
       "PHONE BANK      35.720000\n",
       "POS            509.537467\n",
       "SALES-POS      523.350367\n",
       "TOTAL         7544.280667\n",
       "DEBITS        1955.691167\n",
       "Name: TOTAL, dtype: float64"
      ]
     },
     "execution_count": 51,
     "metadata": {},
     "output_type": "execute_result"
    }
   ],
   "source": [
    "agg_amount.iloc[-1,:]/df['customer_id'].nunique()/df['month'].nunique()"
   ]
  },
  {
   "cell_type": "markdown",
   "metadata": {},
   "source": [
    "10 top spender customers"
   ]
  },
  {
   "cell_type": "code",
   "execution_count": 52,
   "metadata": {
    "ExecuteTime": {
     "end_time": "2020-07-28T14:26:15.202341Z",
     "start_time": "2020-07-28T14:26:14.984474Z"
    }
   },
   "outputs": [
    {
     "data": {
      "text/html": [
       "<div>\n",
       "<style scoped>\n",
       "    .dataframe tbody tr th:only-of-type {\n",
       "        vertical-align: middle;\n",
       "    }\n",
       "\n",
       "    .dataframe tbody tr th {\n",
       "        vertical-align: top;\n",
       "    }\n",
       "\n",
       "    .dataframe thead th {\n",
       "        text-align: right;\n",
       "    }\n",
       "</style>\n",
       "<table border=\"1\" class=\"dataframe\">\n",
       "  <thead>\n",
       "    <tr style=\"text-align: right;\">\n",
       "      <th>txn_description</th>\n",
       "      <th>INTER BANK</th>\n",
       "      <th>PAY/SALARY</th>\n",
       "      <th>PAYMENT</th>\n",
       "      <th>PHONE BANK</th>\n",
       "      <th>POS</th>\n",
       "      <th>SALES-POS</th>\n",
       "      <th>TOTAL</th>\n",
       "      <th>DEBITS</th>\n",
       "    </tr>\n",
       "    <tr>\n",
       "      <th>customer_id</th>\n",
       "      <th></th>\n",
       "      <th></th>\n",
       "      <th></th>\n",
       "      <th></th>\n",
       "      <th></th>\n",
       "      <th></th>\n",
       "      <th></th>\n",
       "      <th></th>\n",
       "    </tr>\n",
       "  </thead>\n",
       "  <tbody>\n",
       "    <tr>\n",
       "      <th>TOTAL</th>\n",
       "      <td>21443.666667</td>\n",
       "      <td>558858.950000</td>\n",
       "      <td>67264.666667</td>\n",
       "      <td>3572.0</td>\n",
       "      <td>50953.746667</td>\n",
       "      <td>52335.036667</td>\n",
       "      <td>754428.066667</td>\n",
       "      <td>195569.116667</td>\n",
       "    </tr>\n",
       "    <tr>\n",
       "      <th>CUS-1271030853</th>\n",
       "      <td>406.333333</td>\n",
       "      <td>5404.700000</td>\n",
       "      <td>647.000000</td>\n",
       "      <td>NaN</td>\n",
       "      <td>2748.023333</td>\n",
       "      <td>487.203333</td>\n",
       "      <td>9693.260000</td>\n",
       "      <td>4288.560000</td>\n",
       "    </tr>\n",
       "    <tr>\n",
       "      <th>CUS-2738291516</th>\n",
       "      <td>163.000000</td>\n",
       "      <td>11027.293333</td>\n",
       "      <td>1777.333333</td>\n",
       "      <td>NaN</td>\n",
       "      <td>245.920000</td>\n",
       "      <td>1922.840000</td>\n",
       "      <td>15136.386667</td>\n",
       "      <td>4109.093333</td>\n",
       "    </tr>\n",
       "    <tr>\n",
       "      <th>CUS-51506836</th>\n",
       "      <td>1264.666667</td>\n",
       "      <td>4016.326667</td>\n",
       "      <td>846.000000</td>\n",
       "      <td>NaN</td>\n",
       "      <td>1118.100000</td>\n",
       "      <td>788.490000</td>\n",
       "      <td>8033.583333</td>\n",
       "      <td>4017.256667</td>\n",
       "    </tr>\n",
       "    <tr>\n",
       "      <th>CUS-2487424745</th>\n",
       "      <td>178.666667</td>\n",
       "      <td>4730.460000</td>\n",
       "      <td>555.000000</td>\n",
       "      <td>NaN</td>\n",
       "      <td>1610.323333</td>\n",
       "      <td>1662.746667</td>\n",
       "      <td>8737.196667</td>\n",
       "      <td>4006.736667</td>\n",
       "    </tr>\n",
       "    <tr>\n",
       "      <th>CUS-4142663097</th>\n",
       "      <td>262.000000</td>\n",
       "      <td>8207.756667</td>\n",
       "      <td>1328.666667</td>\n",
       "      <td>NaN</td>\n",
       "      <td>878.743333</td>\n",
       "      <td>1518.916667</td>\n",
       "      <td>12196.083333</td>\n",
       "      <td>3988.326667</td>\n",
       "    </tr>\n",
       "    <tr>\n",
       "      <th>CUS-325142416</th>\n",
       "      <td>1224.333333</td>\n",
       "      <td>5382.136667</td>\n",
       "      <td>306.666667</td>\n",
       "      <td>NaN</td>\n",
       "      <td>574.296667</td>\n",
       "      <td>1673.570000</td>\n",
       "      <td>9161.003333</td>\n",
       "      <td>3778.866667</td>\n",
       "    </tr>\n",
       "    <tr>\n",
       "      <th>CUS-2142601169</th>\n",
       "      <td>NaN</td>\n",
       "      <td>4342.563333</td>\n",
       "      <td>327.666667</td>\n",
       "      <td>NaN</td>\n",
       "      <td>2212.043333</td>\n",
       "      <td>1016.543333</td>\n",
       "      <td>7898.816667</td>\n",
       "      <td>3556.253333</td>\n",
       "    </tr>\n",
       "    <tr>\n",
       "      <th>CUS-1617121891</th>\n",
       "      <td>618.000000</td>\n",
       "      <td>7767.130000</td>\n",
       "      <td>664.333333</td>\n",
       "      <td>NaN</td>\n",
       "      <td>1247.820000</td>\n",
       "      <td>731.300000</td>\n",
       "      <td>11028.583333</td>\n",
       "      <td>3261.453333</td>\n",
       "    </tr>\n",
       "    <tr>\n",
       "      <th>CUS-2695611575</th>\n",
       "      <td>127.000000</td>\n",
       "      <td>3975.616667</td>\n",
       "      <td>538.000000</td>\n",
       "      <td>NaN</td>\n",
       "      <td>1871.930000</td>\n",
       "      <td>647.443333</td>\n",
       "      <td>7159.990000</td>\n",
       "      <td>3184.373333</td>\n",
       "    </tr>\n",
       "    <tr>\n",
       "      <th>CUS-3026014945</th>\n",
       "      <td>572.000000</td>\n",
       "      <td>6627.016667</td>\n",
       "      <td>315.000000</td>\n",
       "      <td>NaN</td>\n",
       "      <td>1161.213333</td>\n",
       "      <td>1016.216667</td>\n",
       "      <td>9691.446667</td>\n",
       "      <td>3064.430000</td>\n",
       "    </tr>\n",
       "  </tbody>\n",
       "</table>\n",
       "</div>"
      ],
      "text/plain": [
       "txn_description    INTER BANK     PAY/SALARY       PAYMENT  PHONE BANK  \\\n",
       "customer_id                                                              \n",
       "TOTAL            21443.666667  558858.950000  67264.666667      3572.0   \n",
       "CUS-1271030853     406.333333    5404.700000    647.000000         NaN   \n",
       "CUS-2738291516     163.000000   11027.293333   1777.333333         NaN   \n",
       "CUS-51506836      1264.666667    4016.326667    846.000000         NaN   \n",
       "CUS-2487424745     178.666667    4730.460000    555.000000         NaN   \n",
       "CUS-4142663097     262.000000    8207.756667   1328.666667         NaN   \n",
       "CUS-325142416     1224.333333    5382.136667    306.666667         NaN   \n",
       "CUS-2142601169            NaN    4342.563333    327.666667         NaN   \n",
       "CUS-1617121891     618.000000    7767.130000    664.333333         NaN   \n",
       "CUS-2695611575     127.000000    3975.616667    538.000000         NaN   \n",
       "CUS-3026014945     572.000000    6627.016667    315.000000         NaN   \n",
       "\n",
       "txn_description           POS     SALES-POS          TOTAL         DEBITS  \n",
       "customer_id                                                                \n",
       "TOTAL            50953.746667  52335.036667  754428.066667  195569.116667  \n",
       "CUS-1271030853    2748.023333    487.203333    9693.260000    4288.560000  \n",
       "CUS-2738291516     245.920000   1922.840000   15136.386667    4109.093333  \n",
       "CUS-51506836      1118.100000    788.490000    8033.583333    4017.256667  \n",
       "CUS-2487424745    1610.323333   1662.746667    8737.196667    4006.736667  \n",
       "CUS-4142663097     878.743333   1518.916667   12196.083333    3988.326667  \n",
       "CUS-325142416      574.296667   1673.570000    9161.003333    3778.866667  \n",
       "CUS-2142601169    2212.043333   1016.543333    7898.816667    3556.253333  \n",
       "CUS-1617121891    1247.820000    731.300000   11028.583333    3261.453333  \n",
       "CUS-2695611575    1871.930000    647.443333    7159.990000    3184.373333  \n",
       "CUS-3026014945    1161.213333   1016.216667    9691.446667    3064.430000  "
      ]
     },
     "execution_count": 52,
     "metadata": {},
     "output_type": "execute_result"
    }
   ],
   "source": [
    "agg_amount.sort_values(by='DEBITS', ascending=False).head(11)/df['month'].nunique()"
   ]
  },
  {
   "cell_type": "markdown",
   "metadata": {},
   "source": [
    "10 top earning customers"
   ]
  },
  {
   "cell_type": "code",
   "execution_count": 53,
   "metadata": {
    "ExecuteTime": {
     "end_time": "2020-07-28T14:26:15.360242Z",
     "start_time": "2020-07-28T14:26:15.204339Z"
    }
   },
   "outputs": [
    {
     "data": {
      "text/html": [
       "<div>\n",
       "<style scoped>\n",
       "    .dataframe tbody tr th:only-of-type {\n",
       "        vertical-align: middle;\n",
       "    }\n",
       "\n",
       "    .dataframe tbody tr th {\n",
       "        vertical-align: top;\n",
       "    }\n",
       "\n",
       "    .dataframe thead th {\n",
       "        text-align: right;\n",
       "    }\n",
       "</style>\n",
       "<table border=\"1\" class=\"dataframe\">\n",
       "  <thead>\n",
       "    <tr style=\"text-align: right;\">\n",
       "      <th>txn_description</th>\n",
       "      <th>INTER BANK</th>\n",
       "      <th>PAY/SALARY</th>\n",
       "      <th>PAYMENT</th>\n",
       "      <th>PHONE BANK</th>\n",
       "      <th>POS</th>\n",
       "      <th>SALES-POS</th>\n",
       "      <th>TOTAL</th>\n",
       "      <th>DEBITS</th>\n",
       "    </tr>\n",
       "    <tr>\n",
       "      <th>customer_id</th>\n",
       "      <th></th>\n",
       "      <th></th>\n",
       "      <th></th>\n",
       "      <th></th>\n",
       "      <th></th>\n",
       "      <th></th>\n",
       "      <th></th>\n",
       "      <th></th>\n",
       "    </tr>\n",
       "  </thead>\n",
       "  <tbody>\n",
       "    <tr>\n",
       "      <th>TOTAL</th>\n",
       "      <td>21443.666667</td>\n",
       "      <td>558858.950000</td>\n",
       "      <td>67264.666667</td>\n",
       "      <td>3572.000000</td>\n",
       "      <td>50953.746667</td>\n",
       "      <td>52335.036667</td>\n",
       "      <td>754428.066667</td>\n",
       "      <td>195569.116667</td>\n",
       "    </tr>\n",
       "    <tr>\n",
       "      <th>CUS-1816693151</th>\n",
       "      <td>257.000000</td>\n",
       "      <td>11781.306667</td>\n",
       "      <td>907.333333</td>\n",
       "      <td>NaN</td>\n",
       "      <td>193.693333</td>\n",
       "      <td>265.846667</td>\n",
       "      <td>13405.180000</td>\n",
       "      <td>1623.873333</td>\n",
       "    </tr>\n",
       "    <tr>\n",
       "      <th>CUS-3142625864</th>\n",
       "      <td>944.333333</td>\n",
       "      <td>11214.710000</td>\n",
       "      <td>951.333333</td>\n",
       "      <td>NaN</td>\n",
       "      <td>698.110000</td>\n",
       "      <td>420.946667</td>\n",
       "      <td>14229.433333</td>\n",
       "      <td>3014.723333</td>\n",
       "    </tr>\n",
       "    <tr>\n",
       "      <th>CUS-2738291516</th>\n",
       "      <td>163.000000</td>\n",
       "      <td>11027.293333</td>\n",
       "      <td>1777.333333</td>\n",
       "      <td>NaN</td>\n",
       "      <td>245.920000</td>\n",
       "      <td>1922.840000</td>\n",
       "      <td>15136.386667</td>\n",
       "      <td>4109.093333</td>\n",
       "    </tr>\n",
       "    <tr>\n",
       "      <th>CUS-2155701614</th>\n",
       "      <td>374.000000</td>\n",
       "      <td>10587.373333</td>\n",
       "      <td>1376.666667</td>\n",
       "      <td>82.000000</td>\n",
       "      <td>170.983333</td>\n",
       "      <td>56.906667</td>\n",
       "      <td>12647.930000</td>\n",
       "      <td>2060.556667</td>\n",
       "    </tr>\n",
       "    <tr>\n",
       "      <th>CUS-261674136</th>\n",
       "      <td>NaN</td>\n",
       "      <td>10279.033333</td>\n",
       "      <td>915.666667</td>\n",
       "      <td>186.333333</td>\n",
       "      <td>255.633333</td>\n",
       "      <td>625.376667</td>\n",
       "      <td>12262.043333</td>\n",
       "      <td>1983.010000</td>\n",
       "    </tr>\n",
       "    <tr>\n",
       "      <th>CUS-2031327464</th>\n",
       "      <td>385.000000</td>\n",
       "      <td>9881.560000</td>\n",
       "      <td>1204.000000</td>\n",
       "      <td>NaN</td>\n",
       "      <td>180.196667</td>\n",
       "      <td>293.566667</td>\n",
       "      <td>11944.323333</td>\n",
       "      <td>2062.763333</td>\n",
       "    </tr>\n",
       "    <tr>\n",
       "      <th>CUS-527400765</th>\n",
       "      <td>305.666667</td>\n",
       "      <td>9837.426667</td>\n",
       "      <td>890.666667</td>\n",
       "      <td>164.000000</td>\n",
       "      <td>474.273333</td>\n",
       "      <td>509.170000</td>\n",
       "      <td>12181.203333</td>\n",
       "      <td>2343.776667</td>\n",
       "    </tr>\n",
       "    <tr>\n",
       "      <th>CUS-3336454548</th>\n",
       "      <td>564.000000</td>\n",
       "      <td>9641.870000</td>\n",
       "      <td>696.000000</td>\n",
       "      <td>84.000000</td>\n",
       "      <td>221.016667</td>\n",
       "      <td>133.280000</td>\n",
       "      <td>11340.166667</td>\n",
       "      <td>1698.296667</td>\n",
       "    </tr>\n",
       "    <tr>\n",
       "      <th>CUS-883482547</th>\n",
       "      <td>NaN</td>\n",
       "      <td>9280.740000</td>\n",
       "      <td>1432.666667</td>\n",
       "      <td>264.333333</td>\n",
       "      <td>520.796667</td>\n",
       "      <td>714.600000</td>\n",
       "      <td>12213.136667</td>\n",
       "      <td>2932.396667</td>\n",
       "    </tr>\n",
       "    <tr>\n",
       "      <th>CUS-1462656821</th>\n",
       "      <td>233.666667</td>\n",
       "      <td>9109.216667</td>\n",
       "      <td>1089.000000</td>\n",
       "      <td>NaN</td>\n",
       "      <td>595.883333</td>\n",
       "      <td>475.966667</td>\n",
       "      <td>11503.733333</td>\n",
       "      <td>2394.516667</td>\n",
       "    </tr>\n",
       "  </tbody>\n",
       "</table>\n",
       "</div>"
      ],
      "text/plain": [
       "txn_description    INTER BANK     PAY/SALARY       PAYMENT   PHONE BANK  \\\n",
       "customer_id                                                               \n",
       "TOTAL            21443.666667  558858.950000  67264.666667  3572.000000   \n",
       "CUS-1816693151     257.000000   11781.306667    907.333333          NaN   \n",
       "CUS-3142625864     944.333333   11214.710000    951.333333          NaN   \n",
       "CUS-2738291516     163.000000   11027.293333   1777.333333          NaN   \n",
       "CUS-2155701614     374.000000   10587.373333   1376.666667    82.000000   \n",
       "CUS-261674136             NaN   10279.033333    915.666667   186.333333   \n",
       "CUS-2031327464     385.000000    9881.560000   1204.000000          NaN   \n",
       "CUS-527400765      305.666667    9837.426667    890.666667   164.000000   \n",
       "CUS-3336454548     564.000000    9641.870000    696.000000    84.000000   \n",
       "CUS-883482547             NaN    9280.740000   1432.666667   264.333333   \n",
       "CUS-1462656821     233.666667    9109.216667   1089.000000          NaN   \n",
       "\n",
       "txn_description           POS     SALES-POS          TOTAL         DEBITS  \n",
       "customer_id                                                                \n",
       "TOTAL            50953.746667  52335.036667  754428.066667  195569.116667  \n",
       "CUS-1816693151     193.693333    265.846667   13405.180000    1623.873333  \n",
       "CUS-3142625864     698.110000    420.946667   14229.433333    3014.723333  \n",
       "CUS-2738291516     245.920000   1922.840000   15136.386667    4109.093333  \n",
       "CUS-2155701614     170.983333     56.906667   12647.930000    2060.556667  \n",
       "CUS-261674136      255.633333    625.376667   12262.043333    1983.010000  \n",
       "CUS-2031327464     180.196667    293.566667   11944.323333    2062.763333  \n",
       "CUS-527400765      474.273333    509.170000   12181.203333    2343.776667  \n",
       "CUS-3336454548     221.016667    133.280000   11340.166667    1698.296667  \n",
       "CUS-883482547      520.796667    714.600000   12213.136667    2932.396667  \n",
       "CUS-1462656821     595.883333    475.966667   11503.733333    2394.516667  "
      ]
     },
     "execution_count": 53,
     "metadata": {},
     "output_type": "execute_result"
    }
   ],
   "source": [
    "agg_amount.sort_values(by='PAY/SALARY', ascending=False).head(11)/df['month'].nunique()"
   ]
  },
  {
   "cell_type": "markdown",
   "metadata": {},
   "source": [
    "10 top high avg balance customers"
   ]
  },
  {
   "cell_type": "code",
   "execution_count": 54,
   "metadata": {
    "ExecuteTime": {
     "end_time": "2020-07-28T14:26:15.472174Z",
     "start_time": "2020-07-28T14:26:15.362242Z"
    }
   },
   "outputs": [
    {
     "data": {
      "text/html": [
       "<div>\n",
       "<style scoped>\n",
       "    .dataframe tbody tr th:only-of-type {\n",
       "        vertical-align: middle;\n",
       "    }\n",
       "\n",
       "    .dataframe tbody tr th {\n",
       "        vertical-align: top;\n",
       "    }\n",
       "\n",
       "    .dataframe thead th {\n",
       "        text-align: right;\n",
       "    }\n",
       "</style>\n",
       "<table border=\"1\" class=\"dataframe\">\n",
       "  <thead>\n",
       "    <tr style=\"text-align: right;\">\n",
       "      <th></th>\n",
       "      <th>balance</th>\n",
       "      <th>debit</th>\n",
       "      <th>credit</th>\n",
       "    </tr>\n",
       "    <tr>\n",
       "      <th>customer_id</th>\n",
       "      <th></th>\n",
       "      <th></th>\n",
       "      <th></th>\n",
       "    </tr>\n",
       "  </thead>\n",
       "  <tbody>\n",
       "    <tr>\n",
       "      <th>CUS-2370108457</th>\n",
       "      <td>263753.766119</td>\n",
       "      <td>103.383731</td>\n",
       "      <td>195.220299</td>\n",
       "    </tr>\n",
       "    <tr>\n",
       "      <th>CUS-527400765</th>\n",
       "      <td>198565.143775</td>\n",
       "      <td>46.565099</td>\n",
       "      <td>195.445563</td>\n",
       "    </tr>\n",
       "    <tr>\n",
       "      <th>CUS-2819545904</th>\n",
       "      <td>111300.797619</td>\n",
       "      <td>89.629524</td>\n",
       "      <td>359.028889</td>\n",
       "    </tr>\n",
       "    <tr>\n",
       "      <th>CUS-1816693151</th>\n",
       "      <td>65420.404231</td>\n",
       "      <td>62.456667</td>\n",
       "      <td>453.127179</td>\n",
       "    </tr>\n",
       "    <tr>\n",
       "      <th>CUS-3117610635</th>\n",
       "      <td>61491.350647</td>\n",
       "      <td>46.833381</td>\n",
       "      <td>117.345755</td>\n",
       "    </tr>\n",
       "    <tr>\n",
       "      <th>CUS-495599312</th>\n",
       "      <td>57566.579032</td>\n",
       "      <td>95.837419</td>\n",
       "      <td>597.795484</td>\n",
       "    </tr>\n",
       "    <tr>\n",
       "      <th>CUS-1609060617</th>\n",
       "      <td>56685.795802</td>\n",
       "      <td>77.167037</td>\n",
       "      <td>211.462222</td>\n",
       "    </tr>\n",
       "    <tr>\n",
       "      <th>CUS-1646183815</th>\n",
       "      <td>54240.641471</td>\n",
       "      <td>42.829706</td>\n",
       "      <td>276.148235</td>\n",
       "    </tr>\n",
       "    <tr>\n",
       "      <th>CUS-3462882033</th>\n",
       "      <td>46338.733837</td>\n",
       "      <td>42.227093</td>\n",
       "      <td>222.907674</td>\n",
       "    </tr>\n",
       "    <tr>\n",
       "      <th>CUS-2663907001</th>\n",
       "      <td>39427.873576</td>\n",
       "      <td>55.339030</td>\n",
       "      <td>147.446182</td>\n",
       "    </tr>\n",
       "  </tbody>\n",
       "</table>\n",
       "</div>"
      ],
      "text/plain": [
       "                      balance       debit      credit\n",
       "customer_id                                          \n",
       "CUS-2370108457  263753.766119  103.383731  195.220299\n",
       "CUS-527400765   198565.143775   46.565099  195.445563\n",
       "CUS-2819545904  111300.797619   89.629524  359.028889\n",
       "CUS-1816693151   65420.404231   62.456667  453.127179\n",
       "CUS-3117610635   61491.350647   46.833381  117.345755\n",
       "CUS-495599312    57566.579032   95.837419  597.795484\n",
       "CUS-1609060617   56685.795802   77.167037  211.462222\n",
       "CUS-1646183815   54240.641471   42.829706  276.148235\n",
       "CUS-3462882033   46338.733837   42.227093  222.907674\n",
       "CUS-2663907001   39427.873576   55.339030  147.446182"
      ]
     },
     "execution_count": 54,
     "metadata": {},
     "output_type": "execute_result"
    }
   ],
   "source": [
    "df.groupby('customer_id').agg('mean')[['balance', 'debit', 'credit']].sort_values(by='balance', ascending=False).head(10)"
   ]
  },
  {
   "cell_type": "markdown",
   "metadata": {},
   "source": [
    "Frequency of transaction types per customer"
   ]
  },
  {
   "cell_type": "code",
   "execution_count": 55,
   "metadata": {
    "ExecuteTime": {
     "end_time": "2020-07-28T14:26:15.613085Z",
     "start_time": "2020-07-28T14:26:15.475172Z"
    }
   },
   "outputs": [
    {
     "data": {
      "text/html": [
       "<div>\n",
       "<style scoped>\n",
       "    .dataframe tbody tr th:only-of-type {\n",
       "        vertical-align: middle;\n",
       "    }\n",
       "\n",
       "    .dataframe tbody tr th {\n",
       "        vertical-align: top;\n",
       "    }\n",
       "\n",
       "    .dataframe thead th {\n",
       "        text-align: right;\n",
       "    }\n",
       "</style>\n",
       "<table border=\"1\" class=\"dataframe\">\n",
       "  <thead>\n",
       "    <tr style=\"text-align: right;\">\n",
       "      <th>txn_description</th>\n",
       "      <th>INTER BANK</th>\n",
       "      <th>PAY/SALARY</th>\n",
       "      <th>PAYMENT</th>\n",
       "      <th>PHONE BANK</th>\n",
       "      <th>POS</th>\n",
       "      <th>SALES-POS</th>\n",
       "      <th>TOTAL FREQ</th>\n",
       "    </tr>\n",
       "    <tr>\n",
       "      <th>customer_id</th>\n",
       "      <th></th>\n",
       "      <th></th>\n",
       "      <th></th>\n",
       "      <th></th>\n",
       "      <th></th>\n",
       "      <th></th>\n",
       "      <th></th>\n",
       "    </tr>\n",
       "  </thead>\n",
       "  <tbody>\n",
       "    <tr>\n",
       "      <th>CUS-1005756958</th>\n",
       "      <td>NaN</td>\n",
       "      <td>13.0</td>\n",
       "      <td>9.0</td>\n",
       "      <td>3.0</td>\n",
       "      <td>26.0</td>\n",
       "      <td>22.0</td>\n",
       "      <td>73</td>\n",
       "    </tr>\n",
       "    <tr>\n",
       "      <th>CUS-1117979751</th>\n",
       "      <td>1.0</td>\n",
       "      <td>7.0</td>\n",
       "      <td>40.0</td>\n",
       "      <td>NaN</td>\n",
       "      <td>26.0</td>\n",
       "      <td>26.0</td>\n",
       "      <td>100</td>\n",
       "    </tr>\n",
       "    <tr>\n",
       "      <th>CUS-1140341822</th>\n",
       "      <td>3.0</td>\n",
       "      <td>6.0</td>\n",
       "      <td>6.0</td>\n",
       "      <td>NaN</td>\n",
       "      <td>39.0</td>\n",
       "      <td>26.0</td>\n",
       "      <td>80</td>\n",
       "    </tr>\n",
       "    <tr>\n",
       "      <th>CUS-1147642491</th>\n",
       "      <td>2.0</td>\n",
       "      <td>13.0</td>\n",
       "      <td>27.0</td>\n",
       "      <td>NaN</td>\n",
       "      <td>38.0</td>\n",
       "      <td>38.0</td>\n",
       "      <td>118</td>\n",
       "    </tr>\n",
       "    <tr>\n",
       "      <th>CUS-1196156254</th>\n",
       "      <td>5.0</td>\n",
       "      <td>7.0</td>\n",
       "      <td>70.0</td>\n",
       "      <td>NaN</td>\n",
       "      <td>74.0</td>\n",
       "      <td>89.0</td>\n",
       "      <td>245</td>\n",
       "    </tr>\n",
       "    <tr>\n",
       "      <th>...</th>\n",
       "      <td>...</td>\n",
       "      <td>...</td>\n",
       "      <td>...</td>\n",
       "      <td>...</td>\n",
       "      <td>...</td>\n",
       "      <td>...</td>\n",
       "      <td>...</td>\n",
       "    </tr>\n",
       "    <tr>\n",
       "      <th>CUS-809013380</th>\n",
       "      <td>1.0</td>\n",
       "      <td>13.0</td>\n",
       "      <td>22.0</td>\n",
       "      <td>NaN</td>\n",
       "      <td>51.0</td>\n",
       "      <td>37.0</td>\n",
       "      <td>124</td>\n",
       "    </tr>\n",
       "    <tr>\n",
       "      <th>CUS-860700529</th>\n",
       "      <td>3.0</td>\n",
       "      <td>6.0</td>\n",
       "      <td>15.0</td>\n",
       "      <td>3.0</td>\n",
       "      <td>97.0</td>\n",
       "      <td>109.0</td>\n",
       "      <td>233</td>\n",
       "    </tr>\n",
       "    <tr>\n",
       "      <th>CUS-880898248</th>\n",
       "      <td>NaN</td>\n",
       "      <td>6.0</td>\n",
       "      <td>16.0</td>\n",
       "      <td>NaN</td>\n",
       "      <td>21.0</td>\n",
       "      <td>35.0</td>\n",
       "      <td>78</td>\n",
       "    </tr>\n",
       "    <tr>\n",
       "      <th>CUS-883482547</th>\n",
       "      <td>NaN</td>\n",
       "      <td>7.0</td>\n",
       "      <td>47.0</td>\n",
       "      <td>4.0</td>\n",
       "      <td>51.0</td>\n",
       "      <td>69.0</td>\n",
       "      <td>178</td>\n",
       "    </tr>\n",
       "    <tr>\n",
       "      <th>TOTAL FREQ</th>\n",
       "      <td>742.0</td>\n",
       "      <td>883.0</td>\n",
       "      <td>2600.0</td>\n",
       "      <td>101.0</td>\n",
       "      <td>3783.0</td>\n",
       "      <td>3934.0</td>\n",
       "      <td>12043</td>\n",
       "    </tr>\n",
       "  </tbody>\n",
       "</table>\n",
       "<p>101 rows × 7 columns</p>\n",
       "</div>"
      ],
      "text/plain": [
       "txn_description  INTER BANK  PAY/SALARY  PAYMENT  PHONE BANK     POS  \\\n",
       "customer_id                                                            \n",
       "CUS-1005756958          NaN        13.0      9.0         3.0    26.0   \n",
       "CUS-1117979751          1.0         7.0     40.0         NaN    26.0   \n",
       "CUS-1140341822          3.0         6.0      6.0         NaN    39.0   \n",
       "CUS-1147642491          2.0        13.0     27.0         NaN    38.0   \n",
       "CUS-1196156254          5.0         7.0     70.0         NaN    74.0   \n",
       "...                     ...         ...      ...         ...     ...   \n",
       "CUS-809013380           1.0        13.0     22.0         NaN    51.0   \n",
       "CUS-860700529           3.0         6.0     15.0         3.0    97.0   \n",
       "CUS-880898248           NaN         6.0     16.0         NaN    21.0   \n",
       "CUS-883482547           NaN         7.0     47.0         4.0    51.0   \n",
       "TOTAL FREQ            742.0       883.0   2600.0       101.0  3783.0   \n",
       "\n",
       "txn_description  SALES-POS  TOTAL FREQ  \n",
       "customer_id                             \n",
       "CUS-1005756958        22.0          73  \n",
       "CUS-1117979751        26.0         100  \n",
       "CUS-1140341822        26.0          80  \n",
       "CUS-1147642491        38.0         118  \n",
       "CUS-1196156254        89.0         245  \n",
       "...                    ...         ...  \n",
       "CUS-809013380         37.0         124  \n",
       "CUS-860700529        109.0         233  \n",
       "CUS-880898248         35.0          78  \n",
       "CUS-883482547         69.0         178  \n",
       "TOTAL FREQ          3934.0       12043  \n",
       "\n",
       "[101 rows x 7 columns]"
      ]
     },
     "execution_count": 55,
     "metadata": {},
     "output_type": "execute_result"
    }
   ],
   "source": [
    "agg_freq = pd.crosstab(df.customer_id, df.txn_description, values=df.amount, aggfunc='count', margins=True, margins_name='TOTAL FREQ')\n",
    "agg_freq"
   ]
  },
  {
   "cell_type": "markdown",
   "metadata": {},
   "source": [
    "Average transaction frequency per customer per MONTH"
   ]
  },
  {
   "cell_type": "code",
   "execution_count": 56,
   "metadata": {
    "ExecuteTime": {
     "end_time": "2020-07-28T14:26:15.691898Z",
     "start_time": "2020-07-28T14:26:15.614086Z"
    }
   },
   "outputs": [
    {
     "data": {
      "text/plain": [
       "txn_description\n",
       "INTER BANK     2.473333\n",
       "PAY/SALARY     2.943333\n",
       "PAYMENT        8.666667\n",
       "PHONE BANK     0.336667\n",
       "POS           12.610000\n",
       "SALES-POS     13.113333\n",
       "TOTAL FREQ    40.143333\n",
       "Name: TOTAL FREQ, dtype: float64"
      ]
     },
     "execution_count": 56,
     "metadata": {},
     "output_type": "execute_result"
    }
   ],
   "source": [
    "agg_freq.iloc[-1,:]/df['customer_id'].nunique()/df['month'].nunique()"
   ]
  },
  {
   "cell_type": "markdown",
   "metadata": {},
   "source": [
    "Variety of salary frequency: monthly, biweekly, weekly, and in-between. Many values due to different days of payment"
   ]
  },
  {
   "cell_type": "code",
   "execution_count": 57,
   "metadata": {
    "ExecuteTime": {
     "end_time": "2020-07-28T14:26:15.786403Z",
     "start_time": "2020-07-28T14:26:15.693899Z"
    }
   },
   "outputs": [
    {
     "data": {
      "text/plain": [
       "array([13.,  7.,  6., 12., 14.,  2.,  4.,  5.,  3.])"
      ]
     },
     "execution_count": 57,
     "metadata": {},
     "output_type": "execute_result"
    }
   ],
   "source": [
    "agg_freq.iloc[:-1,:]['PAY/SALARY'].unique()"
   ]
  },
  {
   "cell_type": "markdown",
   "metadata": {},
   "source": [
    "This is a typical bank statement of a customer"
   ]
  },
  {
   "cell_type": "code",
   "execution_count": 58,
   "metadata": {
    "ExecuteTime": {
     "end_time": "2020-07-28T14:26:15.897864Z",
     "start_time": "2020-07-28T14:26:15.788389Z"
    }
   },
   "outputs": [
    {
     "data": {
      "text/html": [
       "<div>\n",
       "<style scoped>\n",
       "    .dataframe tbody tr th:only-of-type {\n",
       "        vertical-align: middle;\n",
       "    }\n",
       "\n",
       "    .dataframe tbody tr th {\n",
       "        vertical-align: top;\n",
       "    }\n",
       "\n",
       "    .dataframe thead th {\n",
       "        text-align: right;\n",
       "    }\n",
       "</style>\n",
       "<table border=\"1\" class=\"dataframe\">\n",
       "  <thead>\n",
       "    <tr style=\"text-align: right;\">\n",
       "      <th></th>\n",
       "      <th>txn_description</th>\n",
       "      <th>balance</th>\n",
       "      <th>date</th>\n",
       "      <th>amount</th>\n",
       "      <th>movement</th>\n",
       "      <th>debit</th>\n",
       "      <th>credit</th>\n",
       "    </tr>\n",
       "  </thead>\n",
       "  <tbody>\n",
       "    <tr>\n",
       "      <th>16</th>\n",
       "      <td>INTER BANK</td>\n",
       "      <td>260514.83</td>\n",
       "      <td>2018-08-01</td>\n",
       "      <td>22.00</td>\n",
       "      <td>debit</td>\n",
       "      <td>22.00</td>\n",
       "      <td>0.0</td>\n",
       "    </tr>\n",
       "    <tr>\n",
       "      <th>256</th>\n",
       "      <td>PAYMENT</td>\n",
       "      <td>260464.83</td>\n",
       "      <td>2018-08-02</td>\n",
       "      <td>50.00</td>\n",
       "      <td>debit</td>\n",
       "      <td>50.00</td>\n",
       "      <td>0.0</td>\n",
       "    </tr>\n",
       "    <tr>\n",
       "      <th>441</th>\n",
       "      <td>POS</td>\n",
       "      <td>260342.02</td>\n",
       "      <td>2018-08-03</td>\n",
       "      <td>122.81</td>\n",
       "      <td>debit</td>\n",
       "      <td>122.81</td>\n",
       "      <td>0.0</td>\n",
       "    </tr>\n",
       "    <tr>\n",
       "      <th>558</th>\n",
       "      <td>PAYMENT</td>\n",
       "      <td>260299.02</td>\n",
       "      <td>2018-08-04</td>\n",
       "      <td>43.00</td>\n",
       "      <td>debit</td>\n",
       "      <td>43.00</td>\n",
       "      <td>0.0</td>\n",
       "    </tr>\n",
       "    <tr>\n",
       "      <th>810</th>\n",
       "      <td>POS</td>\n",
       "      <td>258285.94</td>\n",
       "      <td>2018-08-07</td>\n",
       "      <td>2013.08</td>\n",
       "      <td>debit</td>\n",
       "      <td>2013.08</td>\n",
       "      <td>0.0</td>\n",
       "    </tr>\n",
       "    <tr>\n",
       "      <th>...</th>\n",
       "      <td>...</td>\n",
       "      <td>...</td>\n",
       "      <td>...</td>\n",
       "      <td>...</td>\n",
       "      <td>...</td>\n",
       "      <td>...</td>\n",
       "      <td>...</td>\n",
       "    </tr>\n",
       "    <tr>\n",
       "      <th>11013</th>\n",
       "      <td>SALES-POS</td>\n",
       "      <td>266877.26</td>\n",
       "      <td>2018-10-24</td>\n",
       "      <td>17.06</td>\n",
       "      <td>debit</td>\n",
       "      <td>17.06</td>\n",
       "      <td>0.0</td>\n",
       "    </tr>\n",
       "    <tr>\n",
       "      <th>11123</th>\n",
       "      <td>POS</td>\n",
       "      <td>266754.88</td>\n",
       "      <td>2018-10-24</td>\n",
       "      <td>122.38</td>\n",
       "      <td>debit</td>\n",
       "      <td>122.38</td>\n",
       "      <td>0.0</td>\n",
       "    </tr>\n",
       "    <tr>\n",
       "      <th>11247</th>\n",
       "      <td>PAYMENT</td>\n",
       "      <td>266704.88</td>\n",
       "      <td>2018-10-25</td>\n",
       "      <td>50.00</td>\n",
       "      <td>debit</td>\n",
       "      <td>50.00</td>\n",
       "      <td>0.0</td>\n",
       "    </tr>\n",
       "    <tr>\n",
       "      <th>11561</th>\n",
       "      <td>PAYMENT</td>\n",
       "      <td>266661.88</td>\n",
       "      <td>2018-10-27</td>\n",
       "      <td>43.00</td>\n",
       "      <td>debit</td>\n",
       "      <td>43.00</td>\n",
       "      <td>0.0</td>\n",
       "    </tr>\n",
       "    <tr>\n",
       "      <th>11916</th>\n",
       "      <td>INTER BANK</td>\n",
       "      <td>266639.88</td>\n",
       "      <td>2018-10-31</td>\n",
       "      <td>22.00</td>\n",
       "      <td>debit</td>\n",
       "      <td>22.00</td>\n",
       "      <td>0.0</td>\n",
       "    </tr>\n",
       "  </tbody>\n",
       "</table>\n",
       "<p>67 rows × 7 columns</p>\n",
       "</div>"
      ],
      "text/plain": [
       "      txn_description    balance       date   amount movement    debit  credit\n",
       "16         INTER BANK  260514.83 2018-08-01    22.00    debit    22.00     0.0\n",
       "256           PAYMENT  260464.83 2018-08-02    50.00    debit    50.00     0.0\n",
       "441               POS  260342.02 2018-08-03   122.81    debit   122.81     0.0\n",
       "558           PAYMENT  260299.02 2018-08-04    43.00    debit    43.00     0.0\n",
       "810               POS  258285.94 2018-08-07  2013.08    debit  2013.08     0.0\n",
       "...               ...        ...        ...      ...      ...      ...     ...\n",
       "11013       SALES-POS  266877.26 2018-10-24    17.06    debit    17.06     0.0\n",
       "11123             POS  266754.88 2018-10-24   122.38    debit   122.38     0.0\n",
       "11247         PAYMENT  266704.88 2018-10-25    50.00    debit    50.00     0.0\n",
       "11561         PAYMENT  266661.88 2018-10-27    43.00    debit    43.00     0.0\n",
       "11916      INTER BANK  266639.88 2018-10-31    22.00    debit    22.00     0.0\n",
       "\n",
       "[67 rows x 7 columns]"
      ]
     },
     "execution_count": 58,
     "metadata": {},
     "output_type": "execute_result"
    }
   ],
   "source": [
    "df[df['customer_id'] == 'CUS-2370108457'][['txn_description', 'balance', 'date', 'amount', 'movement', 'debit', 'credit']]"
   ]
  },
  {
   "cell_type": "markdown",
   "metadata": {},
   "source": [
    "Weekly amount of transaction per customer"
   ]
  },
  {
   "cell_type": "code",
   "execution_count": 59,
   "metadata": {
    "ExecuteTime": {
     "end_time": "2020-07-28T14:26:16.070756Z",
     "start_time": "2020-07-28T14:26:15.899863Z"
    },
    "scrolled": false
   },
   "outputs": [
    {
     "data": {
      "text/html": [
       "<div>\n",
       "<style scoped>\n",
       "    .dataframe tbody tr th:only-of-type {\n",
       "        vertical-align: middle;\n",
       "    }\n",
       "\n",
       "    .dataframe tbody tr th {\n",
       "        vertical-align: top;\n",
       "    }\n",
       "\n",
       "    .dataframe thead th {\n",
       "        text-align: right;\n",
       "    }\n",
       "</style>\n",
       "<table border=\"1\" class=\"dataframe\">\n",
       "  <thead>\n",
       "    <tr style=\"text-align: right;\">\n",
       "      <th>week</th>\n",
       "      <th>Week 31</th>\n",
       "      <th>Week 32</th>\n",
       "      <th>Week 33</th>\n",
       "      <th>Week 34</th>\n",
       "      <th>Week 35</th>\n",
       "      <th>Week 36</th>\n",
       "      <th>Week 37</th>\n",
       "      <th>Week 38</th>\n",
       "      <th>Week 39</th>\n",
       "      <th>Week 40</th>\n",
       "      <th>Week 41</th>\n",
       "      <th>Week 42</th>\n",
       "      <th>Week 43</th>\n",
       "      <th>Week 44</th>\n",
       "      <th>Total</th>\n",
       "    </tr>\n",
       "    <tr>\n",
       "      <th>customer_id</th>\n",
       "      <th></th>\n",
       "      <th></th>\n",
       "      <th></th>\n",
       "      <th></th>\n",
       "      <th></th>\n",
       "      <th></th>\n",
       "      <th></th>\n",
       "      <th></th>\n",
       "      <th></th>\n",
       "      <th></th>\n",
       "      <th></th>\n",
       "      <th></th>\n",
       "      <th></th>\n",
       "      <th></th>\n",
       "      <th></th>\n",
       "    </tr>\n",
       "  </thead>\n",
       "  <tbody>\n",
       "    <tr>\n",
       "      <th>CUS-1005756958</th>\n",
       "      <td>35.355000</td>\n",
       "      <td>127.008333</td>\n",
       "      <td>140.995556</td>\n",
       "      <td>111.430588</td>\n",
       "      <td>549.235000</td>\n",
       "      <td>559.235000</td>\n",
       "      <td>162.544286</td>\n",
       "      <td>563.235000</td>\n",
       "      <td>426.823333</td>\n",
       "      <td>559.235000</td>\n",
       "      <td>970.470000</td>\n",
       "      <td>563.235000</td>\n",
       "      <td>426.823333</td>\n",
       "      <td>970.470000</td>\n",
       "      <td>222.862603</td>\n",
       "    </tr>\n",
       "    <tr>\n",
       "      <th>CUS-1117979751</th>\n",
       "      <td>26.778000</td>\n",
       "      <td>745.984000</td>\n",
       "      <td>33.012500</td>\n",
       "      <td>232.947222</td>\n",
       "      <td>49.141250</td>\n",
       "      <td>949.997143</td>\n",
       "      <td>365.333333</td>\n",
       "      <td>1212.412500</td>\n",
       "      <td>65.119000</td>\n",
       "      <td>387.067000</td>\n",
       "      <td>31.347500</td>\n",
       "      <td>1224.550000</td>\n",
       "      <td>64.611000</td>\n",
       "      <td>741.528000</td>\n",
       "      <td>339.843700</td>\n",
       "    </tr>\n",
       "    <tr>\n",
       "      <th>CUS-1140341822</th>\n",
       "      <td>9.210000</td>\n",
       "      <td>401.988000</td>\n",
       "      <td>22.920000</td>\n",
       "      <td>731.503333</td>\n",
       "      <td>58.535000</td>\n",
       "      <td>398.006000</td>\n",
       "      <td>84.720000</td>\n",
       "      <td>364.722000</td>\n",
       "      <td>58.275000</td>\n",
       "      <td>493.787500</td>\n",
       "      <td>27.542857</td>\n",
       "      <td>226.526471</td>\n",
       "      <td>31.535385</td>\n",
       "      <td>21.865000</td>\n",
       "      <td>212.632500</td>\n",
       "    </tr>\n",
       "    <tr>\n",
       "      <th>CUS-1147642491</th>\n",
       "      <td>NaN</td>\n",
       "      <td>878.695000</td>\n",
       "      <td>230.671818</td>\n",
       "      <td>306.296667</td>\n",
       "      <td>258.906364</td>\n",
       "      <td>449.510000</td>\n",
       "      <td>177.810000</td>\n",
       "      <td>215.844000</td>\n",
       "      <td>249.717500</td>\n",
       "      <td>192.049091</td>\n",
       "      <td>289.151250</td>\n",
       "      <td>222.853333</td>\n",
       "      <td>167.936154</td>\n",
       "      <td>319.658333</td>\n",
       "      <td>245.600169</td>\n",
       "    </tr>\n",
       "    <tr>\n",
       "      <th>CUS-1196156254</th>\n",
       "      <td>380.946364</td>\n",
       "      <td>43.807778</td>\n",
       "      <td>270.312500</td>\n",
       "      <td>25.517778</td>\n",
       "      <td>213.385000</td>\n",
       "      <td>28.090476</td>\n",
       "      <td>209.142174</td>\n",
       "      <td>31.336923</td>\n",
       "      <td>205.260870</td>\n",
       "      <td>34.420000</td>\n",
       "      <td>165.028333</td>\n",
       "      <td>48.696667</td>\n",
       "      <td>608.104286</td>\n",
       "      <td>22.828333</td>\n",
       "      <td>147.145796</td>\n",
       "    </tr>\n",
       "    <tr>\n",
       "      <th>...</th>\n",
       "      <td>...</td>\n",
       "      <td>...</td>\n",
       "      <td>...</td>\n",
       "      <td>...</td>\n",
       "      <td>...</td>\n",
       "      <td>...</td>\n",
       "      <td>...</td>\n",
       "      <td>...</td>\n",
       "      <td>...</td>\n",
       "      <td>...</td>\n",
       "      <td>...</td>\n",
       "      <td>...</td>\n",
       "      <td>...</td>\n",
       "      <td>...</td>\n",
       "      <td>...</td>\n",
       "    </tr>\n",
       "    <tr>\n",
       "      <th>CUS-809013380</th>\n",
       "      <td>41.248333</td>\n",
       "      <td>122.019000</td>\n",
       "      <td>94.349231</td>\n",
       "      <td>141.645500</td>\n",
       "      <td>69.313103</td>\n",
       "      <td>138.852222</td>\n",
       "      <td>272.265000</td>\n",
       "      <td>203.218750</td>\n",
       "      <td>140.604545</td>\n",
       "      <td>311.595000</td>\n",
       "      <td>532.535000</td>\n",
       "      <td>381.023333</td>\n",
       "      <td>317.540000</td>\n",
       "      <td>1037.070000</td>\n",
       "      <td>151.694274</td>\n",
       "    </tr>\n",
       "    <tr>\n",
       "      <th>CUS-860700529</th>\n",
       "      <td>208.314545</td>\n",
       "      <td>24.531667</td>\n",
       "      <td>55.768235</td>\n",
       "      <td>23.000000</td>\n",
       "      <td>179.869091</td>\n",
       "      <td>28.019231</td>\n",
       "      <td>76.635263</td>\n",
       "      <td>37.261250</td>\n",
       "      <td>123.027059</td>\n",
       "      <td>23.686667</td>\n",
       "      <td>130.818000</td>\n",
       "      <td>38.060000</td>\n",
       "      <td>129.110000</td>\n",
       "      <td>24.131250</td>\n",
       "      <td>77.681888</td>\n",
       "    </tr>\n",
       "    <tr>\n",
       "      <th>CUS-880898248</th>\n",
       "      <td>724.170000</td>\n",
       "      <td>65.495714</td>\n",
       "      <td>37.867143</td>\n",
       "      <td>25.316000</td>\n",
       "      <td>385.140000</td>\n",
       "      <td>21.026667</td>\n",
       "      <td>337.020000</td>\n",
       "      <td>25.542500</td>\n",
       "      <td>747.490000</td>\n",
       "      <td>34.076667</td>\n",
       "      <td>162.804545</td>\n",
       "      <td>27.231000</td>\n",
       "      <td>382.540000</td>\n",
       "      <td>61.000000</td>\n",
       "      <td>146.954487</td>\n",
       "    </tr>\n",
       "    <tr>\n",
       "      <th>CUS-883482547</th>\n",
       "      <td>20.698462</td>\n",
       "      <td>366.360714</td>\n",
       "      <td>32.994000</td>\n",
       "      <td>310.185333</td>\n",
       "      <td>39.954615</td>\n",
       "      <td>834.892857</td>\n",
       "      <td>30.934706</td>\n",
       "      <td>296.755625</td>\n",
       "      <td>41.629286</td>\n",
       "      <td>320.338571</td>\n",
       "      <td>31.871579</td>\n",
       "      <td>422.821000</td>\n",
       "      <td>62.912222</td>\n",
       "      <td>593.341429</td>\n",
       "      <td>205.839382</td>\n",
       "    </tr>\n",
       "    <tr>\n",
       "      <th>Total</th>\n",
       "      <td>151.315346</td>\n",
       "      <td>191.737796</td>\n",
       "      <td>180.216372</td>\n",
       "      <td>189.795859</td>\n",
       "      <td>162.706660</td>\n",
       "      <td>194.403141</td>\n",
       "      <td>186.912108</td>\n",
       "      <td>198.120488</td>\n",
       "      <td>187.498859</td>\n",
       "      <td>179.005933</td>\n",
       "      <td>174.715065</td>\n",
       "      <td>217.294899</td>\n",
       "      <td>196.041241</td>\n",
       "      <td>248.730753</td>\n",
       "      <td>187.933588</td>\n",
       "    </tr>\n",
       "  </tbody>\n",
       "</table>\n",
       "<p>101 rows × 15 columns</p>\n",
       "</div>"
      ],
      "text/plain": [
       "week               Week 31     Week 32     Week 33     Week 34     Week 35  \\\n",
       "customer_id                                                                  \n",
       "CUS-1005756958   35.355000  127.008333  140.995556  111.430588  549.235000   \n",
       "CUS-1117979751   26.778000  745.984000   33.012500  232.947222   49.141250   \n",
       "CUS-1140341822    9.210000  401.988000   22.920000  731.503333   58.535000   \n",
       "CUS-1147642491         NaN  878.695000  230.671818  306.296667  258.906364   \n",
       "CUS-1196156254  380.946364   43.807778  270.312500   25.517778  213.385000   \n",
       "...                    ...         ...         ...         ...         ...   \n",
       "CUS-809013380    41.248333  122.019000   94.349231  141.645500   69.313103   \n",
       "CUS-860700529   208.314545   24.531667   55.768235   23.000000  179.869091   \n",
       "CUS-880898248   724.170000   65.495714   37.867143   25.316000  385.140000   \n",
       "CUS-883482547    20.698462  366.360714   32.994000  310.185333   39.954615   \n",
       "Total           151.315346  191.737796  180.216372  189.795859  162.706660   \n",
       "\n",
       "week               Week 36     Week 37      Week 38     Week 39     Week 40  \\\n",
       "customer_id                                                                   \n",
       "CUS-1005756958  559.235000  162.544286   563.235000  426.823333  559.235000   \n",
       "CUS-1117979751  949.997143  365.333333  1212.412500   65.119000  387.067000   \n",
       "CUS-1140341822  398.006000   84.720000   364.722000   58.275000  493.787500   \n",
       "CUS-1147642491  449.510000  177.810000   215.844000  249.717500  192.049091   \n",
       "CUS-1196156254   28.090476  209.142174    31.336923  205.260870   34.420000   \n",
       "...                    ...         ...          ...         ...         ...   \n",
       "CUS-809013380   138.852222  272.265000   203.218750  140.604545  311.595000   \n",
       "CUS-860700529    28.019231   76.635263    37.261250  123.027059   23.686667   \n",
       "CUS-880898248    21.026667  337.020000    25.542500  747.490000   34.076667   \n",
       "CUS-883482547   834.892857   30.934706   296.755625   41.629286  320.338571   \n",
       "Total           194.403141  186.912108   198.120488  187.498859  179.005933   \n",
       "\n",
       "week               Week 41      Week 42     Week 43      Week 44       Total  \n",
       "customer_id                                                                   \n",
       "CUS-1005756958  970.470000   563.235000  426.823333   970.470000  222.862603  \n",
       "CUS-1117979751   31.347500  1224.550000   64.611000   741.528000  339.843700  \n",
       "CUS-1140341822   27.542857   226.526471   31.535385    21.865000  212.632500  \n",
       "CUS-1147642491  289.151250   222.853333  167.936154   319.658333  245.600169  \n",
       "CUS-1196156254  165.028333    48.696667  608.104286    22.828333  147.145796  \n",
       "...                    ...          ...         ...          ...         ...  \n",
       "CUS-809013380   532.535000   381.023333  317.540000  1037.070000  151.694274  \n",
       "CUS-860700529   130.818000    38.060000  129.110000    24.131250   77.681888  \n",
       "CUS-880898248   162.804545    27.231000  382.540000    61.000000  146.954487  \n",
       "CUS-883482547    31.871579   422.821000   62.912222   593.341429  205.839382  \n",
       "Total           174.715065   217.294899  196.041241   248.730753  187.933588  \n",
       "\n",
       "[101 rows x 15 columns]"
      ]
     },
     "execution_count": 59,
     "metadata": {},
     "output_type": "execute_result"
    }
   ],
   "source": [
    "week_amount = pd.pivot_table(data=df, values='amount', index='customer_id', columns='week',\n",
    "                             margins=True, margins_name='Total')\n",
    "week_amount"
   ]
  },
  {
   "cell_type": "code",
   "execution_count": 64,
   "metadata": {
    "ExecuteTime": {
     "end_time": "2020-07-28T14:28:19.295269Z",
     "start_time": "2020-07-28T14:28:18.166969Z"
    },
    "scrolled": false
   },
   "outputs": [
    {
     "data": {
      "text/plain": [
       "Text(0.5, 1.0, 'Weekly Amount of Transactions')"
      ]
     },
     "execution_count": 64,
     "metadata": {},
     "output_type": "execute_result"
    },
    {
     "data": {
      "image/png": "[encoded data removed]",
      "text/plain": [
       "<Figure size 432x288 with 1 Axes>"
      ]
     },
     "metadata": {
      "needs_background": "light"
     },
     "output_type": "display_data"
    }
   ],
   "source": [
    "sns.lineplot(data=df, x='week', y='amount')\n",
    "plt.xticks(rotation='45')\n",
    "plt.xlabel('Week')\n",
    "plt.ylabel('Amount')\n",
    "plt.title('Weekly Amount of Transactions')"
   ]
  },
  {
   "cell_type": "markdown",
   "metadata": {},
   "source": [
    "Montly amount of transactions per month"
   ]
  },
  {
   "cell_type": "code",
   "execution_count": 61,
   "metadata": {
    "ExecuteTime": {
     "end_time": "2020-07-28T14:26:16.494527Z",
     "start_time": "2020-07-28T14:26:16.433557Z"
    }
   },
   "outputs": [
    {
     "data": {
      "text/html": [
       "<div>\n",
       "<style scoped>\n",
       "    .dataframe tbody tr th:only-of-type {\n",
       "        vertical-align: middle;\n",
       "    }\n",
       "\n",
       "    .dataframe tbody tr th {\n",
       "        vertical-align: top;\n",
       "    }\n",
       "\n",
       "    .dataframe thead th {\n",
       "        text-align: right;\n",
       "    }\n",
       "</style>\n",
       "<table border=\"1\" class=\"dataframe\">\n",
       "  <thead>\n",
       "    <tr style=\"text-align: right;\">\n",
       "      <th>month</th>\n",
       "      <th>August</th>\n",
       "      <th>September</th>\n",
       "      <th>October</th>\n",
       "    </tr>\n",
       "    <tr>\n",
       "      <th>customer_id</th>\n",
       "      <th></th>\n",
       "      <th></th>\n",
       "      <th></th>\n",
       "    </tr>\n",
       "  </thead>\n",
       "  <tbody>\n",
       "    <tr>\n",
       "      <th>CUS-1005756958</th>\n",
       "      <td>122.788000</td>\n",
       "      <td>333.087143</td>\n",
       "      <td>607.372222</td>\n",
       "    </tr>\n",
       "    <tr>\n",
       "      <th>CUS-1117979751</th>\n",
       "      <td>202.402326</td>\n",
       "      <td>530.304400</td>\n",
       "      <td>375.733125</td>\n",
       "    </tr>\n",
       "    <tr>\n",
       "      <th>CUS-1140341822</th>\n",
       "      <td>294.950667</td>\n",
       "      <td>277.897727</td>\n",
       "      <td>150.525349</td>\n",
       "    </tr>\n",
       "    <tr>\n",
       "      <th>CUS-1147642491</th>\n",
       "      <td>305.363103</td>\n",
       "      <td>228.825128</td>\n",
       "      <td>224.022200</td>\n",
       "    </tr>\n",
       "    <tr>\n",
       "      <th>CUS-1196156254</th>\n",
       "      <td>179.216220</td>\n",
       "      <td>113.517449</td>\n",
       "      <td>157.388923</td>\n",
       "    </tr>\n",
       "    <tr>\n",
       "      <th>...</th>\n",
       "      <td>...</td>\n",
       "      <td>...</td>\n",
       "      <td>...</td>\n",
       "    </tr>\n",
       "    <tr>\n",
       "      <th>CUS-809013380</th>\n",
       "      <td>105.385441</td>\n",
       "      <td>140.050714</td>\n",
       "      <td>411.553571</td>\n",
       "    </tr>\n",
       "    <tr>\n",
       "      <th>CUS-860700529</th>\n",
       "      <td>105.405094</td>\n",
       "      <td>68.092247</td>\n",
       "      <td>70.914286</td>\n",
       "    </tr>\n",
       "    <tr>\n",
       "      <th>CUS-880898248</th>\n",
       "      <td>134.296562</td>\n",
       "      <td>200.494706</td>\n",
       "      <td>129.536207</td>\n",
       "    </tr>\n",
       "    <tr>\n",
       "      <th>CUS-883482547</th>\n",
       "      <td>176.448525</td>\n",
       "      <td>204.102414</td>\n",
       "      <td>237.934068</td>\n",
       "    </tr>\n",
       "    <tr>\n",
       "      <th>Total</th>\n",
       "      <td>185.121867</td>\n",
       "      <td>182.045903</td>\n",
       "      <td>196.427323</td>\n",
       "    </tr>\n",
       "  </tbody>\n",
       "</table>\n",
       "<p>101 rows × 3 columns</p>\n",
       "</div>"
      ],
      "text/plain": [
       "month               August   September     October\n",
       "customer_id                                       \n",
       "CUS-1005756958  122.788000  333.087143  607.372222\n",
       "CUS-1117979751  202.402326  530.304400  375.733125\n",
       "CUS-1140341822  294.950667  277.897727  150.525349\n",
       "CUS-1147642491  305.363103  228.825128  224.022200\n",
       "CUS-1196156254  179.216220  113.517449  157.388923\n",
       "...                    ...         ...         ...\n",
       "CUS-809013380   105.385441  140.050714  411.553571\n",
       "CUS-860700529   105.405094   68.092247   70.914286\n",
       "CUS-880898248   134.296562  200.494706  129.536207\n",
       "CUS-883482547   176.448525  204.102414  237.934068\n",
       "Total           185.121867  182.045903  196.427323\n",
       "\n",
       "[101 rows x 3 columns]"
      ]
     },
     "execution_count": 61,
     "metadata": {},
     "output_type": "execute_result"
    }
   ],
   "source": [
    "month_amount = pd.pivot_table(data=df, index='customer_id', columns='month', \n",
    "                           values='amount', margins=True, margins_name='Total')\n",
    "month_amount.reindex(columns=['August', 'September', 'October'])"
   ]
  },
  {
   "cell_type": "code",
   "execution_count": 65,
   "metadata": {
    "ExecuteTime": {
     "end_time": "2020-07-28T14:29:30.127268Z",
     "start_time": "2020-07-28T14:29:29.524642Z"
    }
   },
   "outputs": [
    {
     "data": {
      "text/plain": [
       "Text(0.5, 1.0, 'Monthly Amount of Transactions')"
      ]
     },
     "execution_count": 65,
     "metadata": {},
     "output_type": "execute_result"
    },
    {
     "data": {
      "image/png": "[encoded data removed]",
      "text/plain": [
       "<Figure size 432x288 with 1 Axes>"
      ]
     },
     "metadata": {
      "needs_background": "light"
     },
     "output_type": "display_data"
    }
   ],
   "source": [
    "sns.lineplot(data=df, x='month', y='amount')\n",
    "plt.xticks(rotation='45')\n",
    "plt.xlabel('Month')\n",
    "plt.ylabel('Amount')\n",
    "plt.title('Monthly Amount of Transactions')"
   ]
  },
  {
   "cell_type": "code",
   "execution_count": null,
   "metadata": {},
   "outputs": [],
   "source": []
  }
 ],
 "metadata": {
  "kernelspec": {
   "display_name": "Python 3",
   "language": "python",
   "name": "python3"
  },
  "language_info": {
   "codemirror_mode": {
    "name": "ipython",
    "version": 3
   },
   "file_extension": ".py",
   "mimetype": "text/x-python",
   "name": "python",
   "nbconvert_exporter": "python",
   "pygments_lexer": "ipython3",
   "version": "3.7.6"
  },
  "toc": {
   "base_numbering": 1,
   "nav_menu": {},
   "number_sections": true,
   "sideBar": true,
   "skip_h1_title": false,
   "title_cell": "Table of Contents",
   "title_sidebar": "Contents",
   "toc_cell": false,
   "toc_position": {
    "height": "calc(100% - 180px)",
    "left": "10px",
    "top": "150px",
    "width": "256px"
   },
   "toc_section_display": true,
   "toc_window_display": true
  },
  "varInspector": {
   "cols": {
    "lenName": 16,
    "lenType": 16,
    "lenVar": 40
   },
   "kernels_config": {
    "python": {
     "delete_cmd_postfix": "",
     "delete_cmd_prefix": "del ",
     "library": "var_list.py",
     "varRefreshCmd": "print(var_dic_list())"
    },
    "r": {
     "delete_cmd_postfix": ") ",
     "delete_cmd_prefix": "rm(",
     "library": "var_list.r",
     "varRefreshCmd": "cat(var_dic_list()) "
    }
   },
   "types_to_exclude": [
    "module",
    "function",
    "builtin_function_or_method",
    "instance",
    "_Feature"
   ],
   "window_display": false
  }
 },
 "nbformat": 4,
 "nbformat_minor": 4
}
