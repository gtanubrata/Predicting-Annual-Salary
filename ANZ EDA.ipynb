{
 "cells": [
  {
   "cell_type": "markdown",
   "metadata": {},
   "source": [
    "# Task"
   ]
  },
  {
   "cell_type": "markdown",
   "metadata": {},
   "source": [
    "**Here is the background information on your task**\n",
    "\n",
    "This task is based on a synthesised transaction dataset containing 3 months’ worth of transactions for 100 hypothetical customers. It contains purchases, recurring transactions, and salary transactions.\n",
    "\n",
    "The dataset is designed to simulate realistic transaction behaviours that are observed in ANZ’s real transaction data, so many of the insights you can gather from the tasks below will be genuine."
   ]
  },
  {
   "cell_type": "markdown",
   "metadata": {},
   "source": [
    "**Here is your task**\n",
    "\n",
    "Load the transaction dataset below into an analysis tool of your choice (Excel, R, SAS, Tableau, or similar)\n",
    "\n",
    "Start by doing some basic checks – are there any data issues? Does the data need to be cleaned?\n",
    "\n",
    "Gather some interesting overall insights about the data. For example -- what is the average transaction amount? How many transactions do customers make each month, on average?\n",
    "\n",
    "Segment the dataset by transaction date and time. Visualise transaction volume and spending over the course of an average day or week. Consider the effect of any outliers that may distort your analysis.\n",
    "\n",
    "For a challenge – what insights can you draw from the location information provided in the dataset?\n",
    "\n",
    "Put together 2-3 slides summarising your most interesting findings to ANZ management."
   ]
  },
  {
   "cell_type": "markdown",
   "metadata": {},
   "source": [
    "# Init"
   ]
  },
  {
   "cell_type": "code",
   "execution_count": 1,
   "metadata": {
    "ExecuteTime": {
     "end_time": "2020-07-29T16:21:32.165566Z",
     "start_time": "2020-07-29T16:21:09.544702Z"
    }
   },
   "outputs": [],
   "source": [
    "import numpy as np\n",
    "import pandas as pd\n",
    "\n",
    "import matplotlib.pyplot as plt\n",
    "plt.style.use('seaborn-pastel')\n",
    "%matplotlib inline\n",
    "import seaborn as sns"
   ]
  },
  {
   "cell_type": "markdown",
   "metadata": {},
   "source": [
    "# Load"
   ]
  },
  {
   "cell_type": "code",
   "execution_count": 2,
   "metadata": {
    "ExecuteTime": {
     "end_time": "2020-07-29T16:21:36.647551Z",
     "start_time": "2020-07-29T16:21:32.170574Z"
    }
   },
   "outputs": [],
   "source": [
    "df = pd.ExcelFile('ANZ synthesised transaction dataset.xlsx')"
   ]
  },
  {
   "cell_type": "code",
   "execution_count": 3,
   "metadata": {
    "ExecuteTime": {
     "end_time": "2020-07-29T16:21:36.662534Z",
     "start_time": "2020-07-29T16:21:36.648544Z"
    }
   },
   "outputs": [
    {
     "name": "stdout",
     "output_type": "stream",
     "text": [
      "['DSynth_Output_100c_3m_v3']\n"
     ]
    }
   ],
   "source": [
    "print(df.sheet_names)"
   ]
  },
  {
   "cell_type": "code",
   "execution_count": 4,
   "metadata": {
    "ExecuteTime": {
     "end_time": "2020-07-29T16:21:37.107371Z",
     "start_time": "2020-07-29T16:21:36.664534Z"
    }
   },
   "outputs": [],
   "source": [
    "df = df.parse('DSynth_Output_100c_3m_v3')"
   ]
  },
  {
   "cell_type": "markdown",
   "metadata": {},
   "source": [
    "# Check"
   ]
  },
  {
   "cell_type": "code",
   "execution_count": 5,
   "metadata": {
    "ExecuteTime": {
     "end_time": "2020-07-29T16:21:37.218506Z",
     "start_time": "2020-07-29T16:21:37.109369Z"
    }
   },
   "outputs": [
    {
     "data": {
      "text/html": [
       "<div>\n",
       "<style scoped>\n",
       "    .dataframe tbody tr th:only-of-type {\n",
       "        vertical-align: middle;\n",
       "    }\n",
       "\n",
       "    .dataframe tbody tr th {\n",
       "        vertical-align: top;\n",
       "    }\n",
       "\n",
       "    .dataframe thead th {\n",
       "        text-align: right;\n",
       "    }\n",
       "</style>\n",
       "<table border=\"1\" class=\"dataframe\">\n",
       "  <thead>\n",
       "    <tr style=\"text-align: right;\">\n",
       "      <th></th>\n",
       "      <th>status</th>\n",
       "      <th>card_present_flag</th>\n",
       "      <th>bpay_biller_code</th>\n",
       "      <th>account</th>\n",
       "      <th>currency</th>\n",
       "      <th>long_lat</th>\n",
       "      <th>txn_description</th>\n",
       "      <th>merchant_id</th>\n",
       "      <th>merchant_code</th>\n",
       "      <th>first_name</th>\n",
       "      <th>...</th>\n",
       "      <th>age</th>\n",
       "      <th>merchant_suburb</th>\n",
       "      <th>merchant_state</th>\n",
       "      <th>extraction</th>\n",
       "      <th>amount</th>\n",
       "      <th>transaction_id</th>\n",
       "      <th>country</th>\n",
       "      <th>customer_id</th>\n",
       "      <th>merchant_long_lat</th>\n",
       "      <th>movement</th>\n",
       "    </tr>\n",
       "  </thead>\n",
       "  <tbody>\n",
       "    <tr>\n",
       "      <th>0</th>\n",
       "      <td>authorized</td>\n",
       "      <td>1.0</td>\n",
       "      <td>NaN</td>\n",
       "      <td>ACC-1598451071</td>\n",
       "      <td>AUD</td>\n",
       "      <td>153.41 -27.95</td>\n",
       "      <td>POS</td>\n",
       "      <td>81c48296-73be-44a7-befa-d053f48ce7cd</td>\n",
       "      <td>NaN</td>\n",
       "      <td>Diana</td>\n",
       "      <td>...</td>\n",
       "      <td>26</td>\n",
       "      <td>Ashmore</td>\n",
       "      <td>QLD</td>\n",
       "      <td>2018-08-01T01:01:15.000+0000</td>\n",
       "      <td>16.25</td>\n",
       "      <td>a623070bfead4541a6b0fff8a09e706c</td>\n",
       "      <td>Australia</td>\n",
       "      <td>CUS-2487424745</td>\n",
       "      <td>153.38 -27.99</td>\n",
       "      <td>debit</td>\n",
       "    </tr>\n",
       "    <tr>\n",
       "      <th>1</th>\n",
       "      <td>authorized</td>\n",
       "      <td>0.0</td>\n",
       "      <td>NaN</td>\n",
       "      <td>ACC-1598451071</td>\n",
       "      <td>AUD</td>\n",
       "      <td>153.41 -27.95</td>\n",
       "      <td>SALES-POS</td>\n",
       "      <td>830a451c-316e-4a6a-bf25-e37caedca49e</td>\n",
       "      <td>NaN</td>\n",
       "      <td>Diana</td>\n",
       "      <td>...</td>\n",
       "      <td>26</td>\n",
       "      <td>Sydney</td>\n",
       "      <td>NSW</td>\n",
       "      <td>2018-08-01T01:13:45.000+0000</td>\n",
       "      <td>14.19</td>\n",
       "      <td>13270a2a902145da9db4c951e04b51b9</td>\n",
       "      <td>Australia</td>\n",
       "      <td>CUS-2487424745</td>\n",
       "      <td>151.21 -33.87</td>\n",
       "      <td>debit</td>\n",
       "    </tr>\n",
       "    <tr>\n",
       "      <th>2</th>\n",
       "      <td>authorized</td>\n",
       "      <td>1.0</td>\n",
       "      <td>NaN</td>\n",
       "      <td>ACC-1222300524</td>\n",
       "      <td>AUD</td>\n",
       "      <td>151.23 -33.94</td>\n",
       "      <td>POS</td>\n",
       "      <td>835c231d-8cdf-4e96-859d-e9d571760cf0</td>\n",
       "      <td>NaN</td>\n",
       "      <td>Michael</td>\n",
       "      <td>...</td>\n",
       "      <td>38</td>\n",
       "      <td>Sydney</td>\n",
       "      <td>NSW</td>\n",
       "      <td>2018-08-01T01:26:15.000+0000</td>\n",
       "      <td>6.42</td>\n",
       "      <td>feb79e7ecd7048a5a36ec889d1a94270</td>\n",
       "      <td>Australia</td>\n",
       "      <td>CUS-2142601169</td>\n",
       "      <td>151.21 -33.87</td>\n",
       "      <td>debit</td>\n",
       "    </tr>\n",
       "    <tr>\n",
       "      <th>3</th>\n",
       "      <td>authorized</td>\n",
       "      <td>1.0</td>\n",
       "      <td>NaN</td>\n",
       "      <td>ACC-1037050564</td>\n",
       "      <td>AUD</td>\n",
       "      <td>153.10 -27.66</td>\n",
       "      <td>SALES-POS</td>\n",
       "      <td>48514682-c78a-4a88-b0da-2d6302e64673</td>\n",
       "      <td>NaN</td>\n",
       "      <td>Rhonda</td>\n",
       "      <td>...</td>\n",
       "      <td>40</td>\n",
       "      <td>Buderim</td>\n",
       "      <td>QLD</td>\n",
       "      <td>2018-08-01T01:38:45.000+0000</td>\n",
       "      <td>40.90</td>\n",
       "      <td>2698170da3704fd981b15e64a006079e</td>\n",
       "      <td>Australia</td>\n",
       "      <td>CUS-1614226872</td>\n",
       "      <td>153.05 -26.68</td>\n",
       "      <td>debit</td>\n",
       "    </tr>\n",
       "    <tr>\n",
       "      <th>4</th>\n",
       "      <td>authorized</td>\n",
       "      <td>1.0</td>\n",
       "      <td>NaN</td>\n",
       "      <td>ACC-1598451071</td>\n",
       "      <td>AUD</td>\n",
       "      <td>153.41 -27.95</td>\n",
       "      <td>SALES-POS</td>\n",
       "      <td>b4e02c10-0852-4273-b8fd-7b3395e32eb0</td>\n",
       "      <td>NaN</td>\n",
       "      <td>Diana</td>\n",
       "      <td>...</td>\n",
       "      <td>26</td>\n",
       "      <td>Mermaid Beach</td>\n",
       "      <td>QLD</td>\n",
       "      <td>2018-08-01T01:51:15.000+0000</td>\n",
       "      <td>3.25</td>\n",
       "      <td>329adf79878c4cf0aeb4188b4691c266</td>\n",
       "      <td>Australia</td>\n",
       "      <td>CUS-2487424745</td>\n",
       "      <td>153.44 -28.06</td>\n",
       "      <td>debit</td>\n",
       "    </tr>\n",
       "  </tbody>\n",
       "</table>\n",
       "<p>5 rows × 23 columns</p>\n",
       "</div>"
      ],
      "text/plain": [
       "       status  card_present_flag bpay_biller_code         account currency  \\\n",
       "0  authorized                1.0              NaN  ACC-1598451071      AUD   \n",
       "1  authorized                0.0              NaN  ACC-1598451071      AUD   \n",
       "2  authorized                1.0              NaN  ACC-1222300524      AUD   \n",
       "3  authorized                1.0              NaN  ACC-1037050564      AUD   \n",
       "4  authorized                1.0              NaN  ACC-1598451071      AUD   \n",
       "\n",
       "        long_lat txn_description                           merchant_id  \\\n",
       "0  153.41 -27.95             POS  81c48296-73be-44a7-befa-d053f48ce7cd   \n",
       "1  153.41 -27.95       SALES-POS  830a451c-316e-4a6a-bf25-e37caedca49e   \n",
       "2  151.23 -33.94             POS  835c231d-8cdf-4e96-859d-e9d571760cf0   \n",
       "3  153.10 -27.66       SALES-POS  48514682-c78a-4a88-b0da-2d6302e64673   \n",
       "4  153.41 -27.95       SALES-POS  b4e02c10-0852-4273-b8fd-7b3395e32eb0   \n",
       "\n",
       "   merchant_code first_name  ...  age merchant_suburb merchant_state  \\\n",
       "0            NaN      Diana  ...   26         Ashmore            QLD   \n",
       "1            NaN      Diana  ...   26          Sydney            NSW   \n",
       "2            NaN    Michael  ...   38          Sydney            NSW   \n",
       "3            NaN     Rhonda  ...   40         Buderim            QLD   \n",
       "4            NaN      Diana  ...   26   Mermaid Beach            QLD   \n",
       "\n",
       "                     extraction amount                    transaction_id  \\\n",
       "0  2018-08-01T01:01:15.000+0000  16.25  a623070bfead4541a6b0fff8a09e706c   \n",
       "1  2018-08-01T01:13:45.000+0000  14.19  13270a2a902145da9db4c951e04b51b9   \n",
       "2  2018-08-01T01:26:15.000+0000   6.42  feb79e7ecd7048a5a36ec889d1a94270   \n",
       "3  2018-08-01T01:38:45.000+0000  40.90  2698170da3704fd981b15e64a006079e   \n",
       "4  2018-08-01T01:51:15.000+0000   3.25  329adf79878c4cf0aeb4188b4691c266   \n",
       "\n",
       "     country     customer_id merchant_long_lat movement  \n",
       "0  Australia  CUS-2487424745     153.38 -27.99    debit  \n",
       "1  Australia  CUS-2487424745     151.21 -33.87    debit  \n",
       "2  Australia  CUS-2142601169     151.21 -33.87    debit  \n",
       "3  Australia  CUS-1614226872     153.05 -26.68    debit  \n",
       "4  Australia  CUS-2487424745     153.44 -28.06    debit  \n",
       "\n",
       "[5 rows x 23 columns]"
      ]
     },
     "execution_count": 5,
     "metadata": {},
     "output_type": "execute_result"
    }
   ],
   "source": [
    "df.head()"
   ]
  },
  {
   "cell_type": "code",
   "execution_count": 6,
   "metadata": {
    "ExecuteTime": {
     "end_time": "2020-07-29T16:21:37.281468Z",
     "start_time": "2020-07-29T16:21:37.220504Z"
    }
   },
   "outputs": [
    {
     "name": "stdout",
     "output_type": "stream",
     "text": [
      "<class 'pandas.core.frame.DataFrame'>\n",
      "RangeIndex: 12043 entries, 0 to 12042\n",
      "Data columns (total 23 columns):\n",
      " #   Column             Non-Null Count  Dtype         \n",
      "---  ------             --------------  -----         \n",
      " 0   status             12043 non-null  object        \n",
      " 1   card_present_flag  7717 non-null   float64       \n",
      " 2   bpay_biller_code   885 non-null    object        \n",
      " 3   account            12043 non-null  object        \n",
      " 4   currency           12043 non-null  object        \n",
      " 5   long_lat           12043 non-null  object        \n",
      " 6   txn_description    12043 non-null  object        \n",
      " 7   merchant_id        7717 non-null   object        \n",
      " 8   merchant_code      883 non-null    float64       \n",
      " 9   first_name         12043 non-null  object        \n",
      " 10  balance            12043 non-null  float64       \n",
      " 11  date               12043 non-null  datetime64[ns]\n",
      " 12  gender             12043 non-null  object        \n",
      " 13  age                12043 non-null  int64         \n",
      " 14  merchant_suburb    7717 non-null   object        \n",
      " 15  merchant_state     7717 non-null   object        \n",
      " 16  extraction         12043 non-null  object        \n",
      " 17  amount             12043 non-null  float64       \n",
      " 18  transaction_id     12043 non-null  object        \n",
      " 19  country            12043 non-null  object        \n",
      " 20  customer_id        12043 non-null  object        \n",
      " 21  merchant_long_lat  7717 non-null   object        \n",
      " 22  movement           12043 non-null  object        \n",
      "dtypes: datetime64[ns](1), float64(4), int64(1), object(17)\n",
      "memory usage: 1.3+ MB\n"
     ]
    }
   ],
   "source": [
    "df.info()"
   ]
  },
  {
   "cell_type": "code",
   "execution_count": 7,
   "metadata": {
    "ExecuteTime": {
     "end_time": "2020-07-29T16:21:37.486342Z",
     "start_time": "2020-07-29T16:21:37.284465Z"
    }
   },
   "outputs": [
    {
     "data": {
      "text/html": [
       "<div>\n",
       "<style scoped>\n",
       "    .dataframe tbody tr th:only-of-type {\n",
       "        vertical-align: middle;\n",
       "    }\n",
       "\n",
       "    .dataframe tbody tr th {\n",
       "        vertical-align: top;\n",
       "    }\n",
       "\n",
       "    .dataframe thead th {\n",
       "        text-align: right;\n",
       "    }\n",
       "</style>\n",
       "<table border=\"1\" class=\"dataframe\">\n",
       "  <thead>\n",
       "    <tr style=\"text-align: right;\">\n",
       "      <th></th>\n",
       "      <th>card_present_flag</th>\n",
       "      <th>merchant_code</th>\n",
       "      <th>balance</th>\n",
       "      <th>age</th>\n",
       "      <th>amount</th>\n",
       "    </tr>\n",
       "  </thead>\n",
       "  <tbody>\n",
       "    <tr>\n",
       "      <th>count</th>\n",
       "      <td>7717.000000</td>\n",
       "      <td>883.0</td>\n",
       "      <td>12043.000000</td>\n",
       "      <td>12043.000000</td>\n",
       "      <td>12043.000000</td>\n",
       "    </tr>\n",
       "    <tr>\n",
       "      <th>mean</th>\n",
       "      <td>0.802644</td>\n",
       "      <td>0.0</td>\n",
       "      <td>14704.195553</td>\n",
       "      <td>30.582330</td>\n",
       "      <td>187.933588</td>\n",
       "    </tr>\n",
       "    <tr>\n",
       "      <th>std</th>\n",
       "      <td>0.398029</td>\n",
       "      <td>0.0</td>\n",
       "      <td>31503.722652</td>\n",
       "      <td>10.046343</td>\n",
       "      <td>592.599934</td>\n",
       "    </tr>\n",
       "    <tr>\n",
       "      <th>min</th>\n",
       "      <td>0.000000</td>\n",
       "      <td>0.0</td>\n",
       "      <td>0.240000</td>\n",
       "      <td>18.000000</td>\n",
       "      <td>0.100000</td>\n",
       "    </tr>\n",
       "    <tr>\n",
       "      <th>25%</th>\n",
       "      <td>1.000000</td>\n",
       "      <td>0.0</td>\n",
       "      <td>3158.585000</td>\n",
       "      <td>22.000000</td>\n",
       "      <td>16.000000</td>\n",
       "    </tr>\n",
       "    <tr>\n",
       "      <th>50%</th>\n",
       "      <td>1.000000</td>\n",
       "      <td>0.0</td>\n",
       "      <td>6432.010000</td>\n",
       "      <td>28.000000</td>\n",
       "      <td>29.000000</td>\n",
       "    </tr>\n",
       "    <tr>\n",
       "      <th>75%</th>\n",
       "      <td>1.000000</td>\n",
       "      <td>0.0</td>\n",
       "      <td>12465.945000</td>\n",
       "      <td>38.000000</td>\n",
       "      <td>53.655000</td>\n",
       "    </tr>\n",
       "    <tr>\n",
       "      <th>max</th>\n",
       "      <td>1.000000</td>\n",
       "      <td>0.0</td>\n",
       "      <td>267128.520000</td>\n",
       "      <td>78.000000</td>\n",
       "      <td>8835.980000</td>\n",
       "    </tr>\n",
       "  </tbody>\n",
       "</table>\n",
       "</div>"
      ],
      "text/plain": [
       "       card_present_flag  merchant_code        balance           age  \\\n",
       "count        7717.000000          883.0   12043.000000  12043.000000   \n",
       "mean            0.802644            0.0   14704.195553     30.582330   \n",
       "std             0.398029            0.0   31503.722652     10.046343   \n",
       "min             0.000000            0.0       0.240000     18.000000   \n",
       "25%             1.000000            0.0    3158.585000     22.000000   \n",
       "50%             1.000000            0.0    6432.010000     28.000000   \n",
       "75%             1.000000            0.0   12465.945000     38.000000   \n",
       "max             1.000000            0.0  267128.520000     78.000000   \n",
       "\n",
       "             amount  \n",
       "count  12043.000000  \n",
       "mean     187.933588  \n",
       "std      592.599934  \n",
       "min        0.100000  \n",
       "25%       16.000000  \n",
       "50%       29.000000  \n",
       "75%       53.655000  \n",
       "max     8835.980000  "
      ]
     },
     "execution_count": 7,
     "metadata": {},
     "output_type": "execute_result"
    }
   ],
   "source": [
    "df.describe()"
   ]
  },
  {
   "cell_type": "code",
   "execution_count": 8,
   "metadata": {
    "ExecuteTime": {
     "end_time": "2020-07-29T16:21:37.660235Z",
     "start_time": "2020-07-29T16:21:37.489339Z"
    },
    "scrolled": false
   },
   "outputs": [
    {
     "data": {
      "text/html": [
       "<div>\n",
       "<style scoped>\n",
       "    .dataframe tbody tr th:only-of-type {\n",
       "        vertical-align: middle;\n",
       "    }\n",
       "\n",
       "    .dataframe tbody tr th {\n",
       "        vertical-align: top;\n",
       "    }\n",
       "\n",
       "    .dataframe thead th {\n",
       "        text-align: right;\n",
       "    }\n",
       "</style>\n",
       "<table border=\"1\" class=\"dataframe\">\n",
       "  <thead>\n",
       "    <tr style=\"text-align: right;\">\n",
       "      <th></th>\n",
       "      <th>status</th>\n",
       "      <th>bpay_biller_code</th>\n",
       "      <th>account</th>\n",
       "      <th>currency</th>\n",
       "      <th>long_lat</th>\n",
       "      <th>txn_description</th>\n",
       "      <th>merchant_id</th>\n",
       "      <th>first_name</th>\n",
       "      <th>date</th>\n",
       "      <th>gender</th>\n",
       "      <th>merchant_suburb</th>\n",
       "      <th>merchant_state</th>\n",
       "      <th>extraction</th>\n",
       "      <th>transaction_id</th>\n",
       "      <th>country</th>\n",
       "      <th>customer_id</th>\n",
       "      <th>merchant_long_lat</th>\n",
       "      <th>movement</th>\n",
       "    </tr>\n",
       "  </thead>\n",
       "  <tbody>\n",
       "    <tr>\n",
       "      <th>count</th>\n",
       "      <td>12043</td>\n",
       "      <td>885.0</td>\n",
       "      <td>12043</td>\n",
       "      <td>12043</td>\n",
       "      <td>12043</td>\n",
       "      <td>12043</td>\n",
       "      <td>7717</td>\n",
       "      <td>12043</td>\n",
       "      <td>12043</td>\n",
       "      <td>12043</td>\n",
       "      <td>7717</td>\n",
       "      <td>7717</td>\n",
       "      <td>12043</td>\n",
       "      <td>12043</td>\n",
       "      <td>12043</td>\n",
       "      <td>12043</td>\n",
       "      <td>7717</td>\n",
       "      <td>12043</td>\n",
       "    </tr>\n",
       "    <tr>\n",
       "      <th>unique</th>\n",
       "      <td>2</td>\n",
       "      <td>3.0</td>\n",
       "      <td>100</td>\n",
       "      <td>1</td>\n",
       "      <td>100</td>\n",
       "      <td>6</td>\n",
       "      <td>5725</td>\n",
       "      <td>80</td>\n",
       "      <td>91</td>\n",
       "      <td>2</td>\n",
       "      <td>1609</td>\n",
       "      <td>8</td>\n",
       "      <td>9442</td>\n",
       "      <td>12043</td>\n",
       "      <td>1</td>\n",
       "      <td>100</td>\n",
       "      <td>2703</td>\n",
       "      <td>2</td>\n",
       "    </tr>\n",
       "    <tr>\n",
       "      <th>top</th>\n",
       "      <td>authorized</td>\n",
       "      <td>0.0</td>\n",
       "      <td>ACC-1598451071</td>\n",
       "      <td>AUD</td>\n",
       "      <td>153.41 -27.95</td>\n",
       "      <td>SALES-POS</td>\n",
       "      <td>106e1272-44ab-4dcb-a438-dd98e0071e51</td>\n",
       "      <td>Michael</td>\n",
       "      <td>2018-09-28 00:00:00</td>\n",
       "      <td>M</td>\n",
       "      <td>Melbourne</td>\n",
       "      <td>NSW</td>\n",
       "      <td>2018-09-03T11:00:00.000+0000</td>\n",
       "      <td>df076f64071446d6923dc3e0d9d354bf</td>\n",
       "      <td>Australia</td>\n",
       "      <td>CUS-2487424745</td>\n",
       "      <td>151.21 -33.87</td>\n",
       "      <td>debit</td>\n",
       "    </tr>\n",
       "    <tr>\n",
       "      <th>freq</th>\n",
       "      <td>7717</td>\n",
       "      <td>883.0</td>\n",
       "      <td>578</td>\n",
       "      <td>12043</td>\n",
       "      <td>578</td>\n",
       "      <td>3934</td>\n",
       "      <td>14</td>\n",
       "      <td>746</td>\n",
       "      <td>174</td>\n",
       "      <td>6285</td>\n",
       "      <td>255</td>\n",
       "      <td>2169</td>\n",
       "      <td>10</td>\n",
       "      <td>1</td>\n",
       "      <td>12043</td>\n",
       "      <td>578</td>\n",
       "      <td>145</td>\n",
       "      <td>11160</td>\n",
       "    </tr>\n",
       "    <tr>\n",
       "      <th>first</th>\n",
       "      <td>NaN</td>\n",
       "      <td>NaN</td>\n",
       "      <td>NaN</td>\n",
       "      <td>NaN</td>\n",
       "      <td>NaN</td>\n",
       "      <td>NaN</td>\n",
       "      <td>NaN</td>\n",
       "      <td>NaN</td>\n",
       "      <td>2018-08-01 00:00:00</td>\n",
       "      <td>NaN</td>\n",
       "      <td>NaN</td>\n",
       "      <td>NaN</td>\n",
       "      <td>NaN</td>\n",
       "      <td>NaN</td>\n",
       "      <td>NaN</td>\n",
       "      <td>NaN</td>\n",
       "      <td>NaN</td>\n",
       "      <td>NaN</td>\n",
       "    </tr>\n",
       "    <tr>\n",
       "      <th>last</th>\n",
       "      <td>NaN</td>\n",
       "      <td>NaN</td>\n",
       "      <td>NaN</td>\n",
       "      <td>NaN</td>\n",
       "      <td>NaN</td>\n",
       "      <td>NaN</td>\n",
       "      <td>NaN</td>\n",
       "      <td>NaN</td>\n",
       "      <td>2018-10-31 00:00:00</td>\n",
       "      <td>NaN</td>\n",
       "      <td>NaN</td>\n",
       "      <td>NaN</td>\n",
       "      <td>NaN</td>\n",
       "      <td>NaN</td>\n",
       "      <td>NaN</td>\n",
       "      <td>NaN</td>\n",
       "      <td>NaN</td>\n",
       "      <td>NaN</td>\n",
       "    </tr>\n",
       "  </tbody>\n",
       "</table>\n",
       "</div>"
      ],
      "text/plain": [
       "            status  bpay_biller_code         account currency       long_lat  \\\n",
       "count        12043             885.0           12043    12043          12043   \n",
       "unique           2               3.0             100        1            100   \n",
       "top     authorized               0.0  ACC-1598451071      AUD  153.41 -27.95   \n",
       "freq          7717             883.0             578    12043            578   \n",
       "first          NaN               NaN             NaN      NaN            NaN   \n",
       "last           NaN               NaN             NaN      NaN            NaN   \n",
       "\n",
       "       txn_description                           merchant_id first_name  \\\n",
       "count            12043                                  7717      12043   \n",
       "unique               6                                  5725         80   \n",
       "top          SALES-POS  106e1272-44ab-4dcb-a438-dd98e0071e51    Michael   \n",
       "freq              3934                                    14        746   \n",
       "first              NaN                                   NaN        NaN   \n",
       "last               NaN                                   NaN        NaN   \n",
       "\n",
       "                       date gender merchant_suburb merchant_state  \\\n",
       "count                 12043  12043            7717           7717   \n",
       "unique                   91      2            1609              8   \n",
       "top     2018-09-28 00:00:00      M       Melbourne            NSW   \n",
       "freq                    174   6285             255           2169   \n",
       "first   2018-08-01 00:00:00    NaN             NaN            NaN   \n",
       "last    2018-10-31 00:00:00    NaN             NaN            NaN   \n",
       "\n",
       "                          extraction                    transaction_id  \\\n",
       "count                          12043                             12043   \n",
       "unique                          9442                             12043   \n",
       "top     2018-09-03T11:00:00.000+0000  df076f64071446d6923dc3e0d9d354bf   \n",
       "freq                              10                                 1   \n",
       "first                            NaN                               NaN   \n",
       "last                             NaN                               NaN   \n",
       "\n",
       "          country     customer_id merchant_long_lat movement  \n",
       "count       12043           12043              7717    12043  \n",
       "unique          1             100              2703        2  \n",
       "top     Australia  CUS-2487424745     151.21 -33.87    debit  \n",
       "freq        12043             578               145    11160  \n",
       "first         NaN             NaN               NaN      NaN  \n",
       "last          NaN             NaN               NaN      NaN  "
      ]
     },
     "execution_count": 8,
     "metadata": {},
     "output_type": "execute_result"
    }
   ],
   "source": [
    "df.describe(exclude='number')"
   ]
  },
  {
   "cell_type": "markdown",
   "metadata": {},
   "source": [
    "# Missing/Useless Values"
   ]
  },
  {
   "cell_type": "code",
   "execution_count": 9,
   "metadata": {
    "ExecuteTime": {
     "end_time": "2020-07-29T16:21:37.724194Z",
     "start_time": "2020-07-29T16:21:37.662232Z"
    }
   },
   "outputs": [
    {
     "data": {
      "text/plain": [
       "card_present_flag     4326\n",
       "bpay_biller_code     11158\n",
       "merchant_id           4326\n",
       "merchant_code        11160\n",
       "merchant_suburb       4326\n",
       "merchant_state        4326\n",
       "merchant_long_lat     4326\n",
       "dtype: int64"
      ]
     },
     "execution_count": 9,
     "metadata": {},
     "output_type": "execute_result"
    }
   ],
   "source": [
    "df.isna().sum()[df.isna().sum() > 0]"
   ]
  },
  {
   "cell_type": "code",
   "execution_count": 10,
   "metadata": {
    "ExecuteTime": {
     "end_time": "2020-07-29T16:21:37.818136Z",
     "start_time": "2020-07-29T16:21:37.726193Z"
    }
   },
   "outputs": [
    {
     "data": {
      "text/plain": [
       "array(['posted'], dtype=object)"
      ]
     },
     "execution_count": 10,
     "metadata": {},
     "output_type": "execute_result"
    }
   ],
   "source": [
    "df[df['card_present_flag'].isna()]['status'].unique()\n",
    "\n",
    "# THIS TYPE OF TXN DO NOT REQUIRE MERCHANT DATA"
   ]
  },
  {
   "cell_type": "code",
   "execution_count": 11,
   "metadata": {
    "ExecuteTime": {
     "end_time": "2020-07-29T16:21:37.929090Z",
     "start_time": "2020-07-29T16:21:37.819135Z"
    }
   },
   "outputs": [
    {
     "data": {
      "text/plain": [
       "array(['authorized'], dtype=object)"
      ]
     },
     "execution_count": 11,
     "metadata": {},
     "output_type": "execute_result"
    }
   ],
   "source": [
    "df[df['card_present_flag'].notna()]['status'].unique()"
   ]
  },
  {
   "cell_type": "code",
   "execution_count": 12,
   "metadata": {
    "ExecuteTime": {
     "end_time": "2020-07-29T16:21:38.055013Z",
     "start_time": "2020-07-29T16:21:37.930089Z"
    }
   },
   "outputs": [
    {
     "data": {
      "text/plain": [
       "array(['PAYMENT', 'INTER BANK', 'PAY/SALARY', 'PHONE BANK'], dtype=object)"
      ]
     },
     "execution_count": 12,
     "metadata": {},
     "output_type": "execute_result"
    }
   ],
   "source": [
    "df[df['card_present_flag'].isna()]['txn_description'].unique()\n",
    "\n",
    "# THIS TYPE OF TXN DO NOT REQUIRE MERCHANT DATA"
   ]
  },
  {
   "cell_type": "code",
   "execution_count": 13,
   "metadata": {
    "ExecuteTime": {
     "end_time": "2020-07-29T16:21:38.164945Z",
     "start_time": "2020-07-29T16:21:38.057012Z"
    }
   },
   "outputs": [
    {
     "data": {
      "text/plain": [
       "array(['POS', 'SALES-POS'], dtype=object)"
      ]
     },
     "execution_count": 13,
     "metadata": {},
     "output_type": "execute_result"
    }
   ],
   "source": [
    "df[df['card_present_flag'].notna()]['txn_description'].unique()"
   ]
  },
  {
   "cell_type": "code",
   "execution_count": 14,
   "metadata": {
    "ExecuteTime": {
     "end_time": "2020-07-29T16:21:38.275876Z",
     "start_time": "2020-07-29T16:21:38.166944Z"
    }
   },
   "outputs": [
    {
     "data": {
      "text/plain": [
       "array([nan,  0.])"
      ]
     },
     "execution_count": 14,
     "metadata": {},
     "output_type": "execute_result"
    }
   ],
   "source": [
    "df['merchant_code'].unique()"
   ]
  },
  {
   "cell_type": "code",
   "execution_count": 15,
   "metadata": {
    "ExecuteTime": {
     "end_time": "2020-07-29T16:21:38.385808Z",
     "start_time": "2020-07-29T16:21:38.276875Z"
    }
   },
   "outputs": [
    {
     "data": {
      "text/plain": [
       "array(['PAY/SALARY'], dtype=object)"
      ]
     },
     "execution_count": 15,
     "metadata": {},
     "output_type": "execute_result"
    }
   ],
   "source": [
    "df[df['merchant_code'].notna()]['txn_description'].unique()"
   ]
  },
  {
   "cell_type": "code",
   "execution_count": 16,
   "metadata": {
    "ExecuteTime": {
     "end_time": "2020-07-29T16:21:38.544711Z",
     "start_time": "2020-07-29T16:21:38.388807Z"
    }
   },
   "outputs": [
    {
     "data": {
      "text/plain": [
       "array([0.])"
      ]
     },
     "execution_count": 16,
     "metadata": {},
     "output_type": "execute_result"
    }
   ],
   "source": [
    "df[df['txn_description'] == 'PAY/SALARY']['merchant_code'].unique()\n",
    "\n",
    "# ? NO USEFUL INFORMATION"
   ]
  },
  {
   "cell_type": "code",
   "execution_count": 17,
   "metadata": {
    "ExecuteTime": {
     "end_time": "2020-07-29T16:21:38.717601Z",
     "start_time": "2020-07-29T16:21:38.546708Z"
    }
   },
   "outputs": [
    {
     "data": {
      "text/plain": [
       "array([nan, 0, ' THE DISCOUNT CHEMIST GROUP',\n",
       "       ' LAND WATER & PLANNING East Melbourne'], dtype=object)"
      ]
     },
     "execution_count": 17,
     "metadata": {},
     "output_type": "execute_result"
    }
   ],
   "source": [
    "df['bpay_biller_code'].unique()"
   ]
  },
  {
   "cell_type": "code",
   "execution_count": 18,
   "metadata": {
    "ExecuteTime": {
     "end_time": "2020-07-29T16:21:38.860512Z",
     "start_time": "2020-07-29T16:21:38.719601Z"
    }
   },
   "outputs": [
    {
     "data": {
      "text/html": [
       "<div>\n",
       "<style scoped>\n",
       "    .dataframe tbody tr th:only-of-type {\n",
       "        vertical-align: middle;\n",
       "    }\n",
       "\n",
       "    .dataframe tbody tr th {\n",
       "        vertical-align: top;\n",
       "    }\n",
       "\n",
       "    .dataframe thead th {\n",
       "        text-align: right;\n",
       "    }\n",
       "</style>\n",
       "<table border=\"1\" class=\"dataframe\">\n",
       "  <thead>\n",
       "    <tr style=\"text-align: right;\">\n",
       "      <th></th>\n",
       "      <th>status</th>\n",
       "      <th>card_present_flag</th>\n",
       "      <th>bpay_biller_code</th>\n",
       "      <th>account</th>\n",
       "      <th>currency</th>\n",
       "      <th>long_lat</th>\n",
       "      <th>txn_description</th>\n",
       "      <th>merchant_id</th>\n",
       "      <th>merchant_code</th>\n",
       "      <th>first_name</th>\n",
       "      <th>...</th>\n",
       "      <th>age</th>\n",
       "      <th>merchant_suburb</th>\n",
       "      <th>merchant_state</th>\n",
       "      <th>extraction</th>\n",
       "      <th>amount</th>\n",
       "      <th>transaction_id</th>\n",
       "      <th>country</th>\n",
       "      <th>customer_id</th>\n",
       "      <th>merchant_long_lat</th>\n",
       "      <th>movement</th>\n",
       "    </tr>\n",
       "  </thead>\n",
       "  <tbody>\n",
       "    <tr>\n",
       "      <th>3050</th>\n",
       "      <td>authorized</td>\n",
       "      <td>1.0</td>\n",
       "      <td>THE DISCOUNT CHEMIST GROUP</td>\n",
       "      <td>ACC-2681137560</td>\n",
       "      <td>AUD</td>\n",
       "      <td>151.11 -33.99</td>\n",
       "      <td>POS</td>\n",
       "      <td>786e2dcb-aa00-4a01-a8d7-7cff67fd69e1</td>\n",
       "      <td>NaN</td>\n",
       "      <td>Nathaniel</td>\n",
       "      <td>...</td>\n",
       "      <td>31</td>\n",
       "      <td>Bondi Junction</td>\n",
       "      <td>NSW</td>\n",
       "      <td>2018-08-25T09:17:31.000+0000</td>\n",
       "      <td>20.69</td>\n",
       "      <td>156aa5c521d649099523070b2a40e2e9</td>\n",
       "      <td>Australia</td>\n",
       "      <td>CUS-2083971310</td>\n",
       "      <td>151.25 -33.89</td>\n",
       "      <td>debit</td>\n",
       "    </tr>\n",
       "  </tbody>\n",
       "</table>\n",
       "<p>1 rows × 23 columns</p>\n",
       "</div>"
      ],
      "text/plain": [
       "          status  card_present_flag             bpay_biller_code  \\\n",
       "3050  authorized                1.0   THE DISCOUNT CHEMIST GROUP   \n",
       "\n",
       "             account currency       long_lat txn_description  \\\n",
       "3050  ACC-2681137560      AUD  151.11 -33.99             POS   \n",
       "\n",
       "                               merchant_id  merchant_code first_name  ...  \\\n",
       "3050  786e2dcb-aa00-4a01-a8d7-7cff67fd69e1            NaN  Nathaniel  ...   \n",
       "\n",
       "      age merchant_suburb merchant_state                    extraction amount  \\\n",
       "3050   31  Bondi Junction            NSW  2018-08-25T09:17:31.000+0000  20.69   \n",
       "\n",
       "                        transaction_id    country     customer_id  \\\n",
       "3050  156aa5c521d649099523070b2a40e2e9  Australia  CUS-2083971310   \n",
       "\n",
       "     merchant_long_lat movement  \n",
       "3050     151.25 -33.89    debit  \n",
       "\n",
       "[1 rows x 23 columns]"
      ]
     },
     "execution_count": 18,
     "metadata": {},
     "output_type": "execute_result"
    }
   ],
   "source": [
    "df[df['bpay_biller_code'] == ' THE DISCOUNT CHEMIST GROUP']"
   ]
  },
  {
   "cell_type": "code",
   "execution_count": 19,
   "metadata": {
    "ExecuteTime": {
     "end_time": "2020-07-29T16:21:39.099364Z",
     "start_time": "2020-07-29T16:21:38.862511Z"
    }
   },
   "outputs": [
    {
     "data": {
      "text/html": [
       "<div>\n",
       "<style scoped>\n",
       "    .dataframe tbody tr th:only-of-type {\n",
       "        vertical-align: middle;\n",
       "    }\n",
       "\n",
       "    .dataframe tbody tr th {\n",
       "        vertical-align: top;\n",
       "    }\n",
       "\n",
       "    .dataframe thead th {\n",
       "        text-align: right;\n",
       "    }\n",
       "</style>\n",
       "<table border=\"1\" class=\"dataframe\">\n",
       "  <thead>\n",
       "    <tr style=\"text-align: right;\">\n",
       "      <th></th>\n",
       "      <th>status</th>\n",
       "      <th>card_present_flag</th>\n",
       "      <th>bpay_biller_code</th>\n",
       "      <th>account</th>\n",
       "      <th>currency</th>\n",
       "      <th>long_lat</th>\n",
       "      <th>txn_description</th>\n",
       "      <th>merchant_id</th>\n",
       "      <th>merchant_code</th>\n",
       "      <th>first_name</th>\n",
       "      <th>...</th>\n",
       "      <th>age</th>\n",
       "      <th>merchant_suburb</th>\n",
       "      <th>merchant_state</th>\n",
       "      <th>extraction</th>\n",
       "      <th>amount</th>\n",
       "      <th>transaction_id</th>\n",
       "      <th>country</th>\n",
       "      <th>customer_id</th>\n",
       "      <th>merchant_long_lat</th>\n",
       "      <th>movement</th>\n",
       "    </tr>\n",
       "  </thead>\n",
       "  <tbody>\n",
       "    <tr>\n",
       "      <th>4358</th>\n",
       "      <td>authorized</td>\n",
       "      <td>1.0</td>\n",
       "      <td>LAND WATER &amp; PLANNING East Melbourne</td>\n",
       "      <td>ACC-80388494</td>\n",
       "      <td>AUD</td>\n",
       "      <td>144.97 -37.42</td>\n",
       "      <td>SALES-POS</td>\n",
       "      <td>bfac8fdf-39fb-4300-9267-0a7097d3f365</td>\n",
       "      <td>NaN</td>\n",
       "      <td>Dustin</td>\n",
       "      <td>...</td>\n",
       "      <td>28</td>\n",
       "      <td>East Melbourne</td>\n",
       "      <td>VIC</td>\n",
       "      <td>2018-09-04T09:42:51.000+0000</td>\n",
       "      <td>24.01</td>\n",
       "      <td>77dfd0ea900745819a25200f1194185b</td>\n",
       "      <td>Australia</td>\n",
       "      <td>CUS-1140341822</td>\n",
       "      <td>144.97 -37.81</td>\n",
       "      <td>debit</td>\n",
       "    </tr>\n",
       "  </tbody>\n",
       "</table>\n",
       "<p>1 rows × 23 columns</p>\n",
       "</div>"
      ],
      "text/plain": [
       "          status  card_present_flag                       bpay_biller_code  \\\n",
       "4358  authorized                1.0   LAND WATER & PLANNING East Melbourne   \n",
       "\n",
       "           account currency       long_lat txn_description  \\\n",
       "4358  ACC-80388494      AUD  144.97 -37.42       SALES-POS   \n",
       "\n",
       "                               merchant_id  merchant_code first_name  ...  \\\n",
       "4358  bfac8fdf-39fb-4300-9267-0a7097d3f365            NaN     Dustin  ...   \n",
       "\n",
       "      age merchant_suburb merchant_state                    extraction amount  \\\n",
       "4358   28  East Melbourne            VIC  2018-09-04T09:42:51.000+0000  24.01   \n",
       "\n",
       "                        transaction_id    country     customer_id  \\\n",
       "4358  77dfd0ea900745819a25200f1194185b  Australia  CUS-1140341822   \n",
       "\n",
       "     merchant_long_lat movement  \n",
       "4358     144.97 -37.81    debit  \n",
       "\n",
       "[1 rows x 23 columns]"
      ]
     },
     "execution_count": 19,
     "metadata": {},
     "output_type": "execute_result"
    }
   ],
   "source": [
    "df[df['bpay_biller_code'] == ' LAND WATER & PLANNING East Melbourne']\n",
    "\n",
    "# THIS COLUMN ALSO SEEMS NOT USEFUL"
   ]
  },
  {
   "cell_type": "code",
   "execution_count": 20,
   "metadata": {
    "ExecuteTime": {
     "end_time": "2020-07-29T16:21:39.572452Z",
     "start_time": "2020-07-29T16:21:39.101364Z"
    }
   },
   "outputs": [
    {
     "data": {
      "text/plain": [
       "transaction_id    12043\n",
       "dtype: int64"
      ]
     },
     "execution_count": 20,
     "metadata": {},
     "output_type": "execute_result"
    }
   ],
   "source": [
    "df.nunique()[df.nunique()==len(df)]\n",
    "\n",
    "# THIS COLUMN IS REDUNDANT"
   ]
  },
  {
   "cell_type": "code",
   "execution_count": 21,
   "metadata": {
    "ExecuteTime": {
     "end_time": "2020-07-29T16:21:39.793473Z",
     "start_time": "2020-07-29T16:21:39.574445Z"
    }
   },
   "outputs": [
    {
     "data": {
      "text/plain": [
       "currency         1\n",
       "merchant_code    1\n",
       "country          1\n",
       "dtype: int64"
      ]
     },
     "execution_count": 21,
     "metadata": {},
     "output_type": "execute_result"
    }
   ],
   "source": [
    "df.nunique()[df.nunique()==1]\n",
    "\n",
    "# THESE COLUMNS ARE USELESS"
   ]
  },
  {
   "cell_type": "code",
   "execution_count": 22,
   "metadata": {
    "ExecuteTime": {
     "end_time": "2020-07-29T16:21:39.824459Z",
     "start_time": "2020-07-29T16:21:39.795478Z"
    }
   },
   "outputs": [
    {
     "data": {
      "text/plain": [
       "Index(['card_present_flag', 'bpay_biller_code', 'merchant_id', 'merchant_code',\n",
       "       'merchant_suburb', 'merchant_state', 'merchant_long_lat'],\n",
       "      dtype='object')"
      ]
     },
     "execution_count": 22,
     "metadata": {},
     "output_type": "execute_result"
    }
   ],
   "source": [
    "df.isna().sum()[df.isna().sum() > 0].index"
   ]
  },
  {
   "cell_type": "code",
   "execution_count": 23,
   "metadata": {
    "ExecuteTime": {
     "end_time": "2020-07-29T16:21:39.966371Z",
     "start_time": "2020-07-29T16:21:39.826458Z"
    }
   },
   "outputs": [],
   "source": [
    "df[['card_present_flag', 'merchant_id', 'merchant_suburb', 'merchant_state', 'merchant_long_lat']] = df[['card_present_flag', 'merchant_id', 'merchant_suburb', 'merchant_state', 'merchant_long_lat']].fillna(value=-1)"
   ]
  },
  {
   "cell_type": "code",
   "execution_count": 24,
   "metadata": {
    "ExecuteTime": {
     "end_time": "2020-07-29T16:21:40.077304Z",
     "start_time": "2020-07-29T16:21:39.968370Z"
    }
   },
   "outputs": [],
   "source": [
    "df = df.drop(columns=['merchant_code', 'bpay_biller_code', 'transaction_id', 'currency', 'country'])"
   ]
  },
  {
   "cell_type": "code",
   "execution_count": 25,
   "metadata": {
    "ExecuteTime": {
     "end_time": "2020-07-29T16:21:40.219231Z",
     "start_time": "2020-07-29T16:21:40.082299Z"
    }
   },
   "outputs": [
    {
     "data": {
      "text/plain": [
       "status               0\n",
       "card_present_flag    0\n",
       "account              0\n",
       "long_lat             0\n",
       "txn_description      0\n",
       "merchant_id          0\n",
       "first_name           0\n",
       "balance              0\n",
       "date                 0\n",
       "gender               0\n",
       "age                  0\n",
       "merchant_suburb      0\n",
       "merchant_state       0\n",
       "extraction           0\n",
       "amount               0\n",
       "customer_id          0\n",
       "merchant_long_lat    0\n",
       "movement             0\n",
       "dtype: int64"
      ]
     },
     "execution_count": 25,
     "metadata": {},
     "output_type": "execute_result"
    }
   ],
   "source": [
    "df.isna().sum()"
   ]
  },
  {
   "cell_type": "markdown",
   "metadata": {},
   "source": [
    "# Duplicate Values"
   ]
  },
  {
   "cell_type": "code",
   "execution_count": 26,
   "metadata": {
    "ExecuteTime": {
     "end_time": "2020-07-29T16:21:40.582349Z",
     "start_time": "2020-07-29T16:21:40.222230Z"
    }
   },
   "outputs": [
    {
     "data": {
      "text/html": [
       "<div>\n",
       "<style scoped>\n",
       "    .dataframe tbody tr th:only-of-type {\n",
       "        vertical-align: middle;\n",
       "    }\n",
       "\n",
       "    .dataframe tbody tr th {\n",
       "        vertical-align: top;\n",
       "    }\n",
       "\n",
       "    .dataframe thead th {\n",
       "        text-align: right;\n",
       "    }\n",
       "</style>\n",
       "<table border=\"1\" class=\"dataframe\">\n",
       "  <thead>\n",
       "    <tr style=\"text-align: right;\">\n",
       "      <th></th>\n",
       "      <th>status</th>\n",
       "      <th>card_present_flag</th>\n",
       "      <th>account</th>\n",
       "      <th>long_lat</th>\n",
       "      <th>txn_description</th>\n",
       "      <th>merchant_id</th>\n",
       "      <th>first_name</th>\n",
       "      <th>balance</th>\n",
       "      <th>date</th>\n",
       "      <th>gender</th>\n",
       "      <th>age</th>\n",
       "      <th>merchant_suburb</th>\n",
       "      <th>merchant_state</th>\n",
       "      <th>extraction</th>\n",
       "      <th>amount</th>\n",
       "      <th>customer_id</th>\n",
       "      <th>merchant_long_lat</th>\n",
       "      <th>movement</th>\n",
       "    </tr>\n",
       "  </thead>\n",
       "  <tbody>\n",
       "  </tbody>\n",
       "</table>\n",
       "</div>"
      ],
      "text/plain": [
       "Empty DataFrame\n",
       "Columns: [status, card_present_flag, account, long_lat, txn_description, merchant_id, first_name, balance, date, gender, age, merchant_suburb, merchant_state, extraction, amount, customer_id, merchant_long_lat, movement]\n",
       "Index: []"
      ]
     },
     "execution_count": 26,
     "metadata": {},
     "output_type": "execute_result"
    }
   ],
   "source": [
    "df[df.duplicated(keep='first')]"
   ]
  },
  {
   "cell_type": "markdown",
   "metadata": {},
   "source": [
    "# Data Types & Validity"
   ]
  },
  {
   "cell_type": "code",
   "execution_count": 27,
   "metadata": {
    "ExecuteTime": {
     "end_time": "2020-07-29T16:21:40.630309Z",
     "start_time": "2020-07-29T16:21:40.584338Z"
    }
   },
   "outputs": [],
   "source": [
    "def separate_dtype(df):\n",
    "    '''Function to separate columns based on their data type\n",
    "       df = dataframe'''\n",
    "    cats, nums, dates = [], [], []\n",
    "    for col in df.columns:\n",
    "        if df[col].dtype == 'O':\n",
    "            cats.append(col)\n",
    "        elif df[col].dtype in ['int64', 'float64', 'int32', 'float32']:\n",
    "            nums.append(col)\n",
    "        elif df[col].dtype in ['datetime64[ns]', 'datetime64[ns, UTC]', '<M8[ns]']:\n",
    "            dates.append(col)\n",
    "    return cats, nums, dates"
   ]
  },
  {
   "cell_type": "code",
   "execution_count": 28,
   "metadata": {
    "ExecuteTime": {
     "end_time": "2020-07-29T16:21:40.741309Z",
     "start_time": "2020-07-29T16:21:40.632308Z"
    }
   },
   "outputs": [],
   "source": [
    "cat_feats, num_feats, date_feats = separate_dtype(df)"
   ]
  },
  {
   "cell_type": "code",
   "execution_count": 29,
   "metadata": {
    "ExecuteTime": {
     "end_time": "2020-07-29T16:21:40.869219Z",
     "start_time": "2020-07-29T16:21:40.743296Z"
    }
   },
   "outputs": [],
   "source": [
    "def composition(col):\n",
    "    return df[col].value_counts().apply(lambda x: str(round(x/df[col].value_counts().sum()*100, 2))+'%')"
   ]
  },
  {
   "cell_type": "code",
   "execution_count": 30,
   "metadata": {
    "ExecuteTime": {
     "end_time": "2020-07-29T16:23:05.258173Z",
     "start_time": "2020-07-29T16:21:40.871218Z"
    },
    "scrolled": false
   },
   "outputs": [
    {
     "name": "stdout",
     "output_type": "stream",
     "text": [
      "status\n",
      "authorized    64.08%\n",
      "posted        35.92%\n",
      "Name: status, dtype: object\n",
      "\n",
      "\n",
      "account\n",
      "ACC-1598451071     4.8%\n",
      "ACC-1222300524    2.52%\n",
      "ACC-182446574     2.42%\n",
      "ACC-4258502723    2.16%\n",
      "ACC-1037050564    2.15%\n",
      "                  ...  \n",
      "ACC-1998563091    0.33%\n",
      "ACC-3881031190    0.31%\n",
      "ACC-721712940     0.28%\n",
      "ACC-4059612845    0.26%\n",
      "ACC-1217063613    0.21%\n",
      "Name: account, Length: 100, dtype: object\n",
      "\n",
      "\n",
      "long_lat\n",
      "153.41 -27.95     4.8%\n",
      "151.23 -33.94    2.52%\n",
      "116.06 -32.00    2.42%\n",
      "145.45 -37.74    2.16%\n",
      "153.10 -27.66    2.15%\n",
      "                 ...  \n",
      "149.03 -35.25    0.33%\n",
      "149.19 -21.15    0.31%\n",
      "145.09 -37.82    0.28%\n",
      "130.98 -12.49    0.26%\n",
      "147.61 -37.82    0.21%\n",
      "Name: long_lat, Length: 100, dtype: object\n",
      "\n",
      "\n",
      "txn_description\n",
      "SALES-POS     32.67%\n",
      "POS           31.41%\n",
      "PAYMENT       21.59%\n",
      "PAY/SALARY     7.33%\n",
      "INTER BANK     6.16%\n",
      "PHONE BANK     0.84%\n",
      "Name: txn_description, dtype: object\n",
      "\n",
      "\n",
      "merchant_id\n",
      "-1                                      35.92%\n",
      "106e1272-44ab-4dcb-a438-dd98e0071e51     0.12%\n",
      "6c84c219-96ea-4c6f-9de5-0a28bcaec62f      0.1%\n",
      "e28c426d-cbef-4e2d-aa06-1ba0b6b1902f     0.09%\n",
      "aef30de1-c67e-4ab7-8577-2931a4bf3c7e     0.08%\n",
      "                                         ...  \n",
      "9f0ac63e-1791-4faf-a3a3-5fd1e12e82fb     0.01%\n",
      "24879f07-b76f-4d5f-a376-1f2720c0c29a     0.01%\n",
      "2660b4a7-c122-46e1-94ba-936d87a23e4e     0.01%\n",
      "90b719ad-1dad-4d77-8f06-11507532fc78     0.01%\n",
      "c6f8db8d-b03c-4e19-b2b1-2c366982e2a7     0.01%\n",
      "Name: merchant_id, Length: 5726, dtype: object\n",
      "\n",
      "\n",
      "first_name\n",
      "Michael      6.19%\n",
      "Diana         4.8%\n",
      "Jessica      3.39%\n",
      "Joseph       3.25%\n",
      "Jeffrey      3.22%\n",
      "             ...  \n",
      "Cindy        0.42%\n",
      "Elizabeth    0.37%\n",
      "David        0.33%\n",
      "Andrew       0.28%\n",
      "Jonathan     0.26%\n",
      "Name: first_name, Length: 80, dtype: object\n",
      "\n",
      "\n",
      "gender\n",
      "M    52.19%\n",
      "F    47.81%\n",
      "Name: gender, dtype: object\n",
      "\n",
      "\n",
      "merchant_suburb\n",
      "-1               35.92%\n",
      "Melbourne         2.12%\n",
      "Sydney            1.93%\n",
      "Southport         0.68%\n",
      "Brisbane City     0.66%\n",
      "                  ...  \n",
      "Federal           0.01%\n",
      "Vaucluse          0.01%\n",
      "Freeling          0.01%\n",
      "Ocean Grove       0.01%\n",
      "Sydenham          0.01%\n",
      "Name: merchant_suburb, Length: 1610, dtype: object\n",
      "\n",
      "\n",
      "merchant_state\n",
      "-1     35.92%\n",
      "NSW    18.01%\n",
      "VIC    17.69%\n",
      "QLD    12.92%\n",
      "WA      9.13%\n",
      "SA      3.45%\n",
      "NT       1.7%\n",
      "ACT     0.61%\n",
      "TAS     0.56%\n",
      "Name: merchant_state, dtype: object\n",
      "\n",
      "\n",
      "extraction\n",
      "2018-09-03T11:00:00.000+0000    0.08%\n",
      "2018-10-23T17:00:00.000+0000    0.07%\n",
      "2018-09-04T17:00:00.000+0000    0.07%\n",
      "2018-10-02T17:00:00.000+0000    0.07%\n",
      "2018-08-28T17:00:00.000+0000    0.07%\n",
      "                                ...  \n",
      "2018-09-17T12:00:00.000+0000    0.01%\n",
      "2018-10-18T16:37:46.000+0000    0.01%\n",
      "2018-09-08T01:37:11.000+0000    0.01%\n",
      "2018-09-05T08:09:59.000+0000    0.01%\n",
      "2018-10-17T09:08:53.000+0000    0.01%\n",
      "Name: extraction, Length: 9442, dtype: object\n",
      "\n",
      "\n",
      "customer_id\n",
      "CUS-2487424745     4.8%\n",
      "CUS-2142601169    2.52%\n",
      "CUS-3026014945    2.42%\n",
      "CUS-3378712515    2.16%\n",
      "CUS-1614226872    2.15%\n",
      "                  ...  \n",
      "CUS-3395687666    0.33%\n",
      "CUS-3201519139    0.31%\n",
      "CUS-1646183815    0.28%\n",
      "CUS-495599312     0.26%\n",
      "CUS-1739931018    0.21%\n",
      "Name: customer_id, Length: 100, dtype: object\n",
      "\n",
      "\n",
      "merchant_long_lat\n",
      "-1               35.92%\n",
      "151.21 -33.87      1.2%\n",
      "144.96 -37.82     0.71%\n",
      "144.97 -37.81     0.49%\n",
      "144.96 -37.81     0.47%\n",
      "                  ...  \n",
      "115.77 -32.08     0.01%\n",
      "139.3 -34.91      0.01%\n",
      "115.64 -33.32     0.01%\n",
      "149.03 -35.34     0.01%\n",
      "145.14 -37.75     0.01%\n",
      "Name: merchant_long_lat, Length: 2704, dtype: object\n",
      "\n",
      "\n",
      "movement\n",
      "debit     92.67%\n",
      "credit     7.33%\n",
      "Name: movement, dtype: object\n",
      "\n",
      "\n"
     ]
    }
   ],
   "source": [
    "for feat in cat_feats:\n",
    "    print(feat)\n",
    "    print(composition(feat))\n",
    "    print('\\n')\n",
    "    \n",
    "# FIX LONG_LAT, EXTRACTION, MERCHANT_LONG_LAT TO CORRECT FORMATS/DTYPE"
   ]
  },
  {
   "cell_type": "code",
   "execution_count": 31,
   "metadata": {
    "ExecuteTime": {
     "end_time": "2020-07-29T16:23:05.290155Z",
     "start_time": "2020-07-29T16:23:05.261172Z"
    }
   },
   "outputs": [],
   "source": [
    "df['long_lat'] = df['long_lat'].apply(lambda x: x.replace(' ', ', '))"
   ]
  },
  {
   "cell_type": "code",
   "execution_count": 32,
   "metadata": {
    "ExecuteTime": {
     "end_time": "2020-07-29T16:23:05.700189Z",
     "start_time": "2020-07-29T16:23:05.293155Z"
    }
   },
   "outputs": [],
   "source": [
    "df['extraction'] = pd.to_datetime(df['extraction'])"
   ]
  },
  {
   "cell_type": "code",
   "execution_count": 33,
   "metadata": {
    "ExecuteTime": {
     "end_time": "2020-07-29T16:23:05.950853Z",
     "start_time": "2020-07-29T16:23:05.702180Z"
    }
   },
   "outputs": [],
   "source": [
    "df['merchant_long_lat'] = [x.replace(' ',', ') if isinstance(x, str) else x for x in df['merchant_long_lat']]"
   ]
  },
  {
   "cell_type": "code",
   "execution_count": 34,
   "metadata": {
    "ExecuteTime": {
     "end_time": "2020-07-29T16:23:06.170542Z",
     "start_time": "2020-07-29T16:23:05.952854Z"
    }
   },
   "outputs": [],
   "source": [
    "cat_feats, num_feats, date_feats = separate_dtype(df)"
   ]
  },
  {
   "cell_type": "code",
   "execution_count": 35,
   "metadata": {
    "ExecuteTime": {
     "end_time": "2020-07-29T16:23:06.542611Z",
     "start_time": "2020-07-29T16:23:06.172539Z"
    }
   },
   "outputs": [
    {
     "data": {
      "text/html": [
       "<div>\n",
       "<style scoped>\n",
       "    .dataframe tbody tr th:only-of-type {\n",
       "        vertical-align: middle;\n",
       "    }\n",
       "\n",
       "    .dataframe tbody tr th {\n",
       "        vertical-align: top;\n",
       "    }\n",
       "\n",
       "    .dataframe thead th {\n",
       "        text-align: right;\n",
       "    }\n",
       "</style>\n",
       "<table border=\"1\" class=\"dataframe\">\n",
       "  <thead>\n",
       "    <tr style=\"text-align: right;\">\n",
       "      <th></th>\n",
       "      <th>card_present_flag</th>\n",
       "      <th>balance</th>\n",
       "      <th>age</th>\n",
       "      <th>amount</th>\n",
       "    </tr>\n",
       "  </thead>\n",
       "  <tbody>\n",
       "    <tr>\n",
       "      <th>count</th>\n",
       "      <td>12043.000000</td>\n",
       "      <td>12043.000000</td>\n",
       "      <td>12043.000000</td>\n",
       "      <td>12043.000000</td>\n",
       "    </tr>\n",
       "    <tr>\n",
       "      <th>mean</th>\n",
       "      <td>0.155111</td>\n",
       "      <td>14704.195553</td>\n",
       "      <td>30.582330</td>\n",
       "      <td>187.933588</td>\n",
       "    </tr>\n",
       "    <tr>\n",
       "      <th>std</th>\n",
       "      <td>0.921709</td>\n",
       "      <td>31503.722652</td>\n",
       "      <td>10.046343</td>\n",
       "      <td>592.599934</td>\n",
       "    </tr>\n",
       "    <tr>\n",
       "      <th>min</th>\n",
       "      <td>-1.000000</td>\n",
       "      <td>0.240000</td>\n",
       "      <td>18.000000</td>\n",
       "      <td>0.100000</td>\n",
       "    </tr>\n",
       "    <tr>\n",
       "      <th>25%</th>\n",
       "      <td>-1.000000</td>\n",
       "      <td>3158.585000</td>\n",
       "      <td>22.000000</td>\n",
       "      <td>16.000000</td>\n",
       "    </tr>\n",
       "    <tr>\n",
       "      <th>50%</th>\n",
       "      <td>1.000000</td>\n",
       "      <td>6432.010000</td>\n",
       "      <td>28.000000</td>\n",
       "      <td>29.000000</td>\n",
       "    </tr>\n",
       "    <tr>\n",
       "      <th>75%</th>\n",
       "      <td>1.000000</td>\n",
       "      <td>12465.945000</td>\n",
       "      <td>38.000000</td>\n",
       "      <td>53.655000</td>\n",
       "    </tr>\n",
       "    <tr>\n",
       "      <th>max</th>\n",
       "      <td>1.000000</td>\n",
       "      <td>267128.520000</td>\n",
       "      <td>78.000000</td>\n",
       "      <td>8835.980000</td>\n",
       "    </tr>\n",
       "  </tbody>\n",
       "</table>\n",
       "</div>"
      ],
      "text/plain": [
       "       card_present_flag        balance           age        amount\n",
       "count       12043.000000   12043.000000  12043.000000  12043.000000\n",
       "mean            0.155111   14704.195553     30.582330    187.933588\n",
       "std             0.921709   31503.722652     10.046343    592.599934\n",
       "min            -1.000000       0.240000     18.000000      0.100000\n",
       "25%            -1.000000    3158.585000     22.000000     16.000000\n",
       "50%             1.000000    6432.010000     28.000000     29.000000\n",
       "75%             1.000000   12465.945000     38.000000     53.655000\n",
       "max             1.000000  267128.520000     78.000000   8835.980000"
      ]
     },
     "execution_count": 35,
     "metadata": {},
     "output_type": "execute_result"
    }
   ],
   "source": [
    "df[num_feats].describe()\n",
    "\n",
    "# CARD_PRESENT_FLAG IS ACTUALLY BINARY 0/1"
   ]
  },
  {
   "cell_type": "code",
   "execution_count": 36,
   "metadata": {
    "ExecuteTime": {
     "end_time": "2020-07-29T16:23:06.714958Z",
     "start_time": "2020-07-29T16:23:06.545611Z"
    }
   },
   "outputs": [],
   "source": [
    "df['card_present_flag'] = df['card_present_flag'].astype('O')"
   ]
  },
  {
   "cell_type": "code",
   "execution_count": 37,
   "metadata": {
    "ExecuteTime": {
     "end_time": "2020-07-29T16:23:06.841001Z",
     "start_time": "2020-07-29T16:23:06.716956Z"
    }
   },
   "outputs": [],
   "source": [
    "cat_feats, num_feats, date_feats = separate_dtype(df)"
   ]
  },
  {
   "cell_type": "code",
   "execution_count": 38,
   "metadata": {
    "ExecuteTime": {
     "end_time": "2020-07-29T16:23:06.998533Z",
     "start_time": "2020-07-29T16:23:06.842993Z"
    }
   },
   "outputs": [
    {
     "data": {
      "text/html": [
       "<div>\n",
       "<style scoped>\n",
       "    .dataframe tbody tr th:only-of-type {\n",
       "        vertical-align: middle;\n",
       "    }\n",
       "\n",
       "    .dataframe tbody tr th {\n",
       "        vertical-align: top;\n",
       "    }\n",
       "\n",
       "    .dataframe thead th {\n",
       "        text-align: right;\n",
       "    }\n",
       "</style>\n",
       "<table border=\"1\" class=\"dataframe\">\n",
       "  <thead>\n",
       "    <tr style=\"text-align: right;\">\n",
       "      <th></th>\n",
       "      <th>date</th>\n",
       "      <th>extraction</th>\n",
       "    </tr>\n",
       "  </thead>\n",
       "  <tbody>\n",
       "    <tr>\n",
       "      <th>count</th>\n",
       "      <td>12043</td>\n",
       "      <td>12043</td>\n",
       "    </tr>\n",
       "    <tr>\n",
       "      <th>unique</th>\n",
       "      <td>91</td>\n",
       "      <td>9442</td>\n",
       "    </tr>\n",
       "    <tr>\n",
       "      <th>top</th>\n",
       "      <td>2018-09-28 00:00:00</td>\n",
       "      <td>2018-09-03 11:00:00+00:00</td>\n",
       "    </tr>\n",
       "    <tr>\n",
       "      <th>freq</th>\n",
       "      <td>174</td>\n",
       "      <td>10</td>\n",
       "    </tr>\n",
       "    <tr>\n",
       "      <th>first</th>\n",
       "      <td>2018-08-01 00:00:00</td>\n",
       "      <td>2018-08-01 01:01:15+00:00</td>\n",
       "    </tr>\n",
       "    <tr>\n",
       "      <th>last</th>\n",
       "      <td>2018-10-31 00:00:00</td>\n",
       "      <td>2018-10-31 23:59:44+00:00</td>\n",
       "    </tr>\n",
       "  </tbody>\n",
       "</table>\n",
       "</div>"
      ],
      "text/plain": [
       "                       date                 extraction\n",
       "count                 12043                      12043\n",
       "unique                   91                       9442\n",
       "top     2018-09-28 00:00:00  2018-09-03 11:00:00+00:00\n",
       "freq                    174                         10\n",
       "first   2018-08-01 00:00:00  2018-08-01 01:01:15+00:00\n",
       "last    2018-10-31 00:00:00  2018-10-31 23:59:44+00:00"
      ]
     },
     "execution_count": 38,
     "metadata": {},
     "output_type": "execute_result"
    }
   ],
   "source": [
    "df[date_feats].describe()\n",
    "\n",
    "# ALL VALUES ARE VALID AND WITHIN CORRECT DATA TYPE"
   ]
  },
  {
   "cell_type": "code",
   "execution_count": 39,
   "metadata": {
    "ExecuteTime": {
     "end_time": "2020-07-29T16:23:07.154433Z",
     "start_time": "2020-07-29T16:23:07.001528Z"
    }
   },
   "outputs": [
    {
     "name": "stdout",
     "output_type": "stream",
     "text": [
      "13 categorical features: ['status', 'card_present_flag', 'account', 'long_lat', 'txn_description', 'merchant_id', 'first_name', 'gender', 'merchant_suburb', 'merchant_state', 'customer_id', 'merchant_long_lat', 'movement'] \n",
      "3 numerical features: ['balance', 'age', 'amount'] \n",
      "2 datetime features: ['date', 'extraction']\n"
     ]
    }
   ],
   "source": [
    "print(f'{len(cat_feats)} categorical features: {cat_feats} \\n{len(num_feats)} numerical features: {num_feats} \\n{len(date_feats)} datetime features: {date_feats}')"
   ]
  },
  {
   "cell_type": "markdown",
   "metadata": {},
   "source": [
    "# Feature Engineering"
   ]
  },
  {
   "cell_type": "code",
   "execution_count": 40,
   "metadata": {
    "ExecuteTime": {
     "end_time": "2020-07-29T16:23:07.390287Z",
     "start_time": "2020-07-29T16:23:07.156430Z"
    }
   },
   "outputs": [],
   "source": [
    "df['day'] = df['date'].apply(lambda x: x.weekday())\n",
    "df['day'] = df['day'].map({0: 'Sunday', 1: 'Monday', 2: 'Tuesday', 3: 'Wednesday', 4: 'Thursday', 5: 'Friday', 6: 'Saturday'})"
   ]
  },
  {
   "cell_type": "code",
   "execution_count": 41,
   "metadata": {
    "ExecuteTime": {
     "end_time": "2020-07-29T16:23:07.606155Z",
     "start_time": "2020-07-29T16:23:07.393283Z"
    }
   },
   "outputs": [],
   "source": [
    "df['weekend'] = df['day'].apply(lambda x: 'Weekend' if x in ['Saturday', 'Sunday'] else 'Weekday')"
   ]
  },
  {
   "cell_type": "code",
   "execution_count": 42,
   "metadata": {
    "ExecuteTime": {
     "end_time": "2020-07-29T16:23:07.888977Z",
     "start_time": "2020-07-29T16:23:07.609151Z"
    }
   },
   "outputs": [],
   "source": [
    "df['month'] = df['date'].apply(lambda x: x.month)\n",
    "df['month'] = df['month'].map({8: 'August', 9: 'September', 10: 'October'})"
   ]
  },
  {
   "cell_type": "code",
   "execution_count": 43,
   "metadata": {
    "ExecuteTime": {
     "end_time": "2020-07-29T16:23:11.565736Z",
     "start_time": "2020-07-29T16:23:07.891974Z"
    }
   },
   "outputs": [],
   "source": [
    "df['debit'] = df.apply(lambda row: row['amount'] if row['movement']=='debit' else 0, axis=1)\n",
    "df['credit'] = df.apply(lambda row: row['amount'] if row['movement']=='credit' else 0, axis=1)"
   ]
  },
  {
   "cell_type": "code",
   "execution_count": 44,
   "metadata": {
    "ExecuteTime": {
     "end_time": "2020-07-29T16:23:12.044768Z",
     "start_time": "2020-07-29T16:23:11.567713Z"
    }
   },
   "outputs": [],
   "source": [
    "df['week'] = df['date'].apply(lambda x: f'Week {x.week}')"
   ]
  },
  {
   "cell_type": "code",
   "execution_count": 45,
   "metadata": {
    "ExecuteTime": {
     "end_time": "2020-07-29T16:23:12.795238Z",
     "start_time": "2020-07-29T16:23:12.046767Z"
    }
   },
   "outputs": [],
   "source": [
    "cat_feats, num_feats, date_feats = separate_dtype(df)"
   ]
  },
  {
   "cell_type": "code",
   "execution_count": 46,
   "metadata": {
    "ExecuteTime": {
     "end_time": "2020-07-29T16:23:51.043965Z",
     "start_time": "2020-07-29T16:23:12.798232Z"
    },
    "scrolled": false
   },
   "outputs": [
    {
     "name": "stdout",
     "output_type": "stream",
     "text": [
      "status\n",
      "authorized    64.08%\n",
      "posted        35.92%\n",
      "Name: status, dtype: object\n",
      "\n",
      "\n",
      "card_present_flag\n",
      " 1.0    51.43%\n",
      "-1.0    35.92%\n",
      " 0.0    12.65%\n",
      "Name: card_present_flag, dtype: object\n",
      "\n",
      "\n",
      "account\n",
      "ACC-1598451071     4.8%\n",
      "ACC-1222300524    2.52%\n",
      "ACC-182446574     2.42%\n",
      "ACC-4258502723    2.16%\n",
      "ACC-1037050564    2.15%\n",
      "                  ...  \n",
      "ACC-1998563091    0.33%\n",
      "ACC-3881031190    0.31%\n",
      "ACC-721712940     0.28%\n",
      "ACC-4059612845    0.26%\n",
      "ACC-1217063613    0.21%\n",
      "Name: account, Length: 100, dtype: object\n",
      "\n",
      "\n",
      "long_lat\n",
      "153.41, -27.95     4.8%\n",
      "151.23, -33.94    2.52%\n",
      "116.06, -32.00    2.42%\n",
      "145.45, -37.74    2.16%\n",
      "153.10, -27.66    2.15%\n",
      "                  ...  \n",
      "149.03, -35.25    0.33%\n",
      "149.19, -21.15    0.31%\n",
      "145.09, -37.82    0.28%\n",
      "130.98, -12.49    0.26%\n",
      "147.61, -37.82    0.21%\n",
      "Name: long_lat, Length: 100, dtype: object\n",
      "\n",
      "\n",
      "txn_description\n",
      "SALES-POS     32.67%\n",
      "POS           31.41%\n",
      "PAYMENT       21.59%\n",
      "PAY/SALARY     7.33%\n",
      "INTER BANK     6.16%\n",
      "PHONE BANK     0.84%\n",
      "Name: txn_description, dtype: object\n",
      "\n",
      "\n",
      "merchant_id\n",
      "-1                                      35.92%\n",
      "106e1272-44ab-4dcb-a438-dd98e0071e51     0.12%\n",
      "6c84c219-96ea-4c6f-9de5-0a28bcaec62f      0.1%\n",
      "e28c426d-cbef-4e2d-aa06-1ba0b6b1902f     0.09%\n",
      "aef30de1-c67e-4ab7-8577-2931a4bf3c7e     0.08%\n",
      "                                         ...  \n",
      "9f0ac63e-1791-4faf-a3a3-5fd1e12e82fb     0.01%\n",
      "24879f07-b76f-4d5f-a376-1f2720c0c29a     0.01%\n",
      "2660b4a7-c122-46e1-94ba-936d87a23e4e     0.01%\n",
      "90b719ad-1dad-4d77-8f06-11507532fc78     0.01%\n",
      "c6f8db8d-b03c-4e19-b2b1-2c366982e2a7     0.01%\n",
      "Name: merchant_id, Length: 5726, dtype: object\n",
      "\n",
      "\n",
      "first_name\n",
      "Michael      6.19%\n",
      "Diana         4.8%\n",
      "Jessica      3.39%\n",
      "Joseph       3.25%\n",
      "Jeffrey      3.22%\n",
      "             ...  \n",
      "Cindy        0.42%\n",
      "Elizabeth    0.37%\n",
      "David        0.33%\n",
      "Andrew       0.28%\n",
      "Jonathan     0.26%\n",
      "Name: first_name, Length: 80, dtype: object\n",
      "\n",
      "\n",
      "gender\n",
      "M    52.19%\n",
      "F    47.81%\n",
      "Name: gender, dtype: object\n",
      "\n",
      "\n",
      "merchant_suburb\n",
      "-1               35.92%\n",
      "Melbourne         2.12%\n",
      "Sydney            1.93%\n",
      "Southport         0.68%\n",
      "Brisbane City     0.66%\n",
      "                  ...  \n",
      "Federal           0.01%\n",
      "Vaucluse          0.01%\n",
      "Freeling          0.01%\n",
      "Ocean Grove       0.01%\n",
      "Sydenham          0.01%\n",
      "Name: merchant_suburb, Length: 1610, dtype: object\n",
      "\n",
      "\n",
      "merchant_state\n",
      "-1     35.92%\n",
      "NSW    18.01%\n",
      "VIC    17.69%\n",
      "QLD    12.92%\n",
      "WA      9.13%\n",
      "SA      3.45%\n",
      "NT       1.7%\n",
      "ACT     0.61%\n",
      "TAS     0.56%\n",
      "Name: merchant_state, dtype: object\n",
      "\n",
      "\n",
      "customer_id\n",
      "CUS-2487424745     4.8%\n",
      "CUS-2142601169    2.52%\n",
      "CUS-3026014945    2.42%\n",
      "CUS-3378712515    2.16%\n",
      "CUS-1614226872    2.15%\n",
      "                  ...  \n",
      "CUS-3395687666    0.33%\n",
      "CUS-3201519139    0.31%\n",
      "CUS-1646183815    0.28%\n",
      "CUS-495599312     0.26%\n",
      "CUS-1739931018    0.21%\n",
      "Name: customer_id, Length: 100, dtype: object\n",
      "\n",
      "\n",
      "merchant_long_lat\n",
      "-1                35.92%\n",
      "151.21, -33.87      1.2%\n",
      "144.96, -37.82     0.71%\n",
      "144.97, -37.81     0.49%\n",
      "144.96, -37.81     0.47%\n",
      "                   ...  \n",
      "151.15, -33.93     0.01%\n",
      "145.11, -37.97     0.01%\n",
      "153.46, -28.65     0.01%\n",
      "151.25, -33.77     0.01%\n",
      "144.92, -37.83     0.01%\n",
      "Name: merchant_long_lat, Length: 2704, dtype: object\n",
      "\n",
      "\n",
      "movement\n",
      "debit     92.67%\n",
      "credit     7.33%\n",
      "Name: movement, dtype: object\n",
      "\n",
      "\n",
      "day\n",
      "Thursday     17.21%\n",
      "Tuesday      17.13%\n",
      "Wednesday    14.95%\n",
      "Friday       14.19%\n",
      "Saturday     12.87%\n",
      "Monday       12.35%\n",
      "Sunday       11.29%\n",
      "Name: day, dtype: object\n",
      "\n",
      "\n",
      "weekend\n",
      "Weekday    75.84%\n",
      "Weekend    24.16%\n",
      "Name: weekend, dtype: object\n",
      "\n",
      "\n",
      "month\n",
      "October      33.94%\n",
      "September    33.32%\n",
      "August       32.74%\n",
      "Name: month, dtype: object\n",
      "\n",
      "\n",
      "week\n",
      "Week 40    7.88%\n",
      "Week 38    7.83%\n",
      "Week 42    7.83%\n",
      "Week 35    7.81%\n",
      "Week 39    7.79%\n",
      "Week 36    7.77%\n",
      "Week 43    7.76%\n",
      "Week 37    7.72%\n",
      "Week 41    7.71%\n",
      "Week 34    7.64%\n",
      "Week 32    7.42%\n",
      "Week 33    6.57%\n",
      "Week 31    5.51%\n",
      "Week 44    2.76%\n",
      "Name: week, dtype: object\n",
      "\n",
      "\n"
     ]
    }
   ],
   "source": [
    "for feat in cat_feats:\n",
    "    print(feat)\n",
    "    print(composition(feat))\n",
    "    print('\\n')"
   ]
  },
  {
   "cell_type": "code",
   "execution_count": 47,
   "metadata": {
    "ExecuteTime": {
     "end_time": "2020-07-29T16:23:51.075947Z",
     "start_time": "2020-07-29T16:23:51.044963Z"
    }
   },
   "outputs": [
    {
     "data": {
      "text/html": [
       "<div>\n",
       "<style scoped>\n",
       "    .dataframe tbody tr th:only-of-type {\n",
       "        vertical-align: middle;\n",
       "    }\n",
       "\n",
       "    .dataframe tbody tr th {\n",
       "        vertical-align: top;\n",
       "    }\n",
       "\n",
       "    .dataframe thead th {\n",
       "        text-align: right;\n",
       "    }\n",
       "</style>\n",
       "<table border=\"1\" class=\"dataframe\">\n",
       "  <thead>\n",
       "    <tr style=\"text-align: right;\">\n",
       "      <th></th>\n",
       "      <th>balance</th>\n",
       "      <th>age</th>\n",
       "      <th>amount</th>\n",
       "      <th>debit</th>\n",
       "      <th>credit</th>\n",
       "    </tr>\n",
       "  </thead>\n",
       "  <tbody>\n",
       "    <tr>\n",
       "      <th>count</th>\n",
       "      <td>12043.000000</td>\n",
       "      <td>12043.000000</td>\n",
       "      <td>12043.000000</td>\n",
       "      <td>12043.000000</td>\n",
       "      <td>12043.000000</td>\n",
       "    </tr>\n",
       "    <tr>\n",
       "      <th>mean</th>\n",
       "      <td>14704.195553</td>\n",
       "      <td>30.582330</td>\n",
       "      <td>187.933588</td>\n",
       "      <td>48.717707</td>\n",
       "      <td>139.215881</td>\n",
       "    </tr>\n",
       "    <tr>\n",
       "      <th>std</th>\n",
       "      <td>31503.722652</td>\n",
       "      <td>10.046343</td>\n",
       "      <td>592.599934</td>\n",
       "      <td>151.135148</td>\n",
       "      <td>584.720901</td>\n",
       "    </tr>\n",
       "    <tr>\n",
       "      <th>min</th>\n",
       "      <td>0.240000</td>\n",
       "      <td>18.000000</td>\n",
       "      <td>0.100000</td>\n",
       "      <td>0.000000</td>\n",
       "      <td>0.000000</td>\n",
       "    </tr>\n",
       "    <tr>\n",
       "      <th>25%</th>\n",
       "      <td>3158.585000</td>\n",
       "      <td>22.000000</td>\n",
       "      <td>16.000000</td>\n",
       "      <td>12.870000</td>\n",
       "      <td>0.000000</td>\n",
       "    </tr>\n",
       "    <tr>\n",
       "      <th>50%</th>\n",
       "      <td>6432.010000</td>\n",
       "      <td>28.000000</td>\n",
       "      <td>29.000000</td>\n",
       "      <td>24.440000</td>\n",
       "      <td>0.000000</td>\n",
       "    </tr>\n",
       "    <tr>\n",
       "      <th>75%</th>\n",
       "      <td>12465.945000</td>\n",
       "      <td>38.000000</td>\n",
       "      <td>53.655000</td>\n",
       "      <td>43.000000</td>\n",
       "      <td>0.000000</td>\n",
       "    </tr>\n",
       "    <tr>\n",
       "      <th>max</th>\n",
       "      <td>267128.520000</td>\n",
       "      <td>78.000000</td>\n",
       "      <td>8835.980000</td>\n",
       "      <td>7081.090000</td>\n",
       "      <td>8835.980000</td>\n",
       "    </tr>\n",
       "  </tbody>\n",
       "</table>\n",
       "</div>"
      ],
      "text/plain": [
       "             balance           age        amount         debit        credit\n",
       "count   12043.000000  12043.000000  12043.000000  12043.000000  12043.000000\n",
       "mean    14704.195553     30.582330    187.933588     48.717707    139.215881\n",
       "std     31503.722652     10.046343    592.599934    151.135148    584.720901\n",
       "min         0.240000     18.000000      0.100000      0.000000      0.000000\n",
       "25%      3158.585000     22.000000     16.000000     12.870000      0.000000\n",
       "50%      6432.010000     28.000000     29.000000     24.440000      0.000000\n",
       "75%     12465.945000     38.000000     53.655000     43.000000      0.000000\n",
       "max    267128.520000     78.000000   8835.980000   7081.090000   8835.980000"
      ]
     },
     "execution_count": 47,
     "metadata": {},
     "output_type": "execute_result"
    }
   ],
   "source": [
    "df[num_feats].describe()"
   ]
  },
  {
   "cell_type": "code",
   "execution_count": 48,
   "metadata": {
    "ExecuteTime": {
     "end_time": "2020-07-29T16:23:51.423424Z",
     "start_time": "2020-07-29T16:23:51.076944Z"
    }
   },
   "outputs": [
    {
     "data": {
      "text/html": [
       "<div>\n",
       "<style scoped>\n",
       "    .dataframe tbody tr th:only-of-type {\n",
       "        vertical-align: middle;\n",
       "    }\n",
       "\n",
       "    .dataframe tbody tr th {\n",
       "        vertical-align: top;\n",
       "    }\n",
       "\n",
       "    .dataframe thead th {\n",
       "        text-align: right;\n",
       "    }\n",
       "</style>\n",
       "<table border=\"1\" class=\"dataframe\">\n",
       "  <thead>\n",
       "    <tr style=\"text-align: right;\">\n",
       "      <th></th>\n",
       "      <th>date</th>\n",
       "      <th>extraction</th>\n",
       "    </tr>\n",
       "  </thead>\n",
       "  <tbody>\n",
       "    <tr>\n",
       "      <th>count</th>\n",
       "      <td>12043</td>\n",
       "      <td>12043</td>\n",
       "    </tr>\n",
       "    <tr>\n",
       "      <th>unique</th>\n",
       "      <td>91</td>\n",
       "      <td>9442</td>\n",
       "    </tr>\n",
       "    <tr>\n",
       "      <th>top</th>\n",
       "      <td>2018-09-28 00:00:00</td>\n",
       "      <td>2018-09-03 11:00:00+00:00</td>\n",
       "    </tr>\n",
       "    <tr>\n",
       "      <th>freq</th>\n",
       "      <td>174</td>\n",
       "      <td>10</td>\n",
       "    </tr>\n",
       "    <tr>\n",
       "      <th>first</th>\n",
       "      <td>2018-08-01 00:00:00</td>\n",
       "      <td>2018-08-01 01:01:15+00:00</td>\n",
       "    </tr>\n",
       "    <tr>\n",
       "      <th>last</th>\n",
       "      <td>2018-10-31 00:00:00</td>\n",
       "      <td>2018-10-31 23:59:44+00:00</td>\n",
       "    </tr>\n",
       "  </tbody>\n",
       "</table>\n",
       "</div>"
      ],
      "text/plain": [
       "                       date                 extraction\n",
       "count                 12043                      12043\n",
       "unique                   91                       9442\n",
       "top     2018-09-28 00:00:00  2018-09-03 11:00:00+00:00\n",
       "freq                    174                         10\n",
       "first   2018-08-01 00:00:00  2018-08-01 01:01:15+00:00\n",
       "last    2018-10-31 00:00:00  2018-10-31 23:59:44+00:00"
      ]
     },
     "execution_count": 48,
     "metadata": {},
     "output_type": "execute_result"
    }
   ],
   "source": [
    "df[date_feats].describe()"
   ]
  },
  {
   "cell_type": "markdown",
   "metadata": {},
   "source": [
    "# Freeform"
   ]
  },
  {
   "cell_type": "markdown",
   "metadata": {},
   "source": [
    "Note that salary is a credit (adding to balance instead of subtracting)"
   ]
  },
  {
   "cell_type": "code",
   "execution_count": 49,
   "metadata": {
    "ExecuteTime": {
     "end_time": "2020-07-29T16:23:51.912023Z",
     "start_time": "2020-07-29T16:23:51.426409Z"
    }
   },
   "outputs": [
    {
     "data": {
      "text/html": [
       "<div>\n",
       "<style scoped>\n",
       "    .dataframe tbody tr th:only-of-type {\n",
       "        vertical-align: middle;\n",
       "    }\n",
       "\n",
       "    .dataframe tbody tr th {\n",
       "        vertical-align: top;\n",
       "    }\n",
       "\n",
       "    .dataframe thead th {\n",
       "        text-align: right;\n",
       "    }\n",
       "</style>\n",
       "<table border=\"1\" class=\"dataframe\">\n",
       "  <thead>\n",
       "    <tr style=\"text-align: right;\">\n",
       "      <th>movement</th>\n",
       "      <th>credit</th>\n",
       "      <th>debit</th>\n",
       "    </tr>\n",
       "    <tr>\n",
       "      <th>txn_description</th>\n",
       "      <th></th>\n",
       "      <th></th>\n",
       "    </tr>\n",
       "  </thead>\n",
       "  <tbody>\n",
       "    <tr>\n",
       "      <th>INTER BANK</th>\n",
       "      <td>0</td>\n",
       "      <td>742</td>\n",
       "    </tr>\n",
       "    <tr>\n",
       "      <th>PAY/SALARY</th>\n",
       "      <td>883</td>\n",
       "      <td>0</td>\n",
       "    </tr>\n",
       "    <tr>\n",
       "      <th>PAYMENT</th>\n",
       "      <td>0</td>\n",
       "      <td>2600</td>\n",
       "    </tr>\n",
       "    <tr>\n",
       "      <th>PHONE BANK</th>\n",
       "      <td>0</td>\n",
       "      <td>101</td>\n",
       "    </tr>\n",
       "    <tr>\n",
       "      <th>POS</th>\n",
       "      <td>0</td>\n",
       "      <td>3783</td>\n",
       "    </tr>\n",
       "    <tr>\n",
       "      <th>SALES-POS</th>\n",
       "      <td>0</td>\n",
       "      <td>3934</td>\n",
       "    </tr>\n",
       "  </tbody>\n",
       "</table>\n",
       "</div>"
      ],
      "text/plain": [
       "movement         credit  debit\n",
       "txn_description               \n",
       "INTER BANK            0    742\n",
       "PAY/SALARY          883      0\n",
       "PAYMENT               0   2600\n",
       "PHONE BANK            0    101\n",
       "POS                   0   3783\n",
       "SALES-POS             0   3934"
      ]
     },
     "execution_count": 49,
     "metadata": {},
     "output_type": "execute_result"
    }
   ],
   "source": [
    "pd.crosstab(df.txn_description, df.movement)"
   ]
  },
  {
   "cell_type": "markdown",
   "metadata": {},
   "source": [
    "## Customer Stats"
   ]
  },
  {
   "cell_type": "markdown",
   "metadata": {},
   "source": [
    "Sum of amounts based on transaction type per customer"
   ]
  },
  {
   "cell_type": "code",
   "execution_count": 50,
   "metadata": {
    "ExecuteTime": {
     "end_time": "2020-07-29T16:23:52.005965Z",
     "start_time": "2020-07-29T16:23:51.914022Z"
    }
   },
   "outputs": [
    {
     "data": {
      "text/html": [
       "<div>\n",
       "<style scoped>\n",
       "    .dataframe tbody tr th:only-of-type {\n",
       "        vertical-align: middle;\n",
       "    }\n",
       "\n",
       "    .dataframe tbody tr th {\n",
       "        vertical-align: top;\n",
       "    }\n",
       "\n",
       "    .dataframe thead th {\n",
       "        text-align: right;\n",
       "    }\n",
       "</style>\n",
       "<table border=\"1\" class=\"dataframe\">\n",
       "  <thead>\n",
       "    <tr style=\"text-align: right;\">\n",
       "      <th>txn_description</th>\n",
       "      <th>INTER BANK</th>\n",
       "      <th>PAY/SALARY</th>\n",
       "      <th>PAYMENT</th>\n",
       "      <th>PHONE BANK</th>\n",
       "      <th>POS</th>\n",
       "      <th>SALES-POS</th>\n",
       "      <th>TOTAL</th>\n",
       "      <th>DEBITS</th>\n",
       "    </tr>\n",
       "    <tr>\n",
       "      <th>customer_id</th>\n",
       "      <th></th>\n",
       "      <th></th>\n",
       "      <th></th>\n",
       "      <th></th>\n",
       "      <th></th>\n",
       "      <th></th>\n",
       "      <th></th>\n",
       "      <th></th>\n",
       "    </tr>\n",
       "  </thead>\n",
       "  <tbody>\n",
       "    <tr>\n",
       "      <th>CUS-1005756958</th>\n",
       "      <td>NaN</td>\n",
       "      <td>12616.11</td>\n",
       "      <td>1296.0</td>\n",
       "      <td>546.0</td>\n",
       "      <td>748.01</td>\n",
       "      <td>1062.85</td>\n",
       "      <td>16268.97</td>\n",
       "      <td>3652.86</td>\n",
       "    </tr>\n",
       "    <tr>\n",
       "      <th>CUS-1117979751</th>\n",
       "      <td>1001.0</td>\n",
       "      <td>25050.55</td>\n",
       "      <td>3957.0</td>\n",
       "      <td>NaN</td>\n",
       "      <td>606.37</td>\n",
       "      <td>3369.45</td>\n",
       "      <td>33984.37</td>\n",
       "      <td>8933.82</td>\n",
       "    </tr>\n",
       "    <tr>\n",
       "      <th>CUS-1140341822</th>\n",
       "      <td>270.0</td>\n",
       "      <td>11499.06</td>\n",
       "      <td>852.0</td>\n",
       "      <td>NaN</td>\n",
       "      <td>1356.47</td>\n",
       "      <td>3033.07</td>\n",
       "      <td>17010.60</td>\n",
       "      <td>5511.54</td>\n",
       "    </tr>\n",
       "    <tr>\n",
       "      <th>CUS-1147642491</th>\n",
       "      <td>250.0</td>\n",
       "      <td>22248.07</td>\n",
       "      <td>2597.0</td>\n",
       "      <td>NaN</td>\n",
       "      <td>2062.31</td>\n",
       "      <td>1823.44</td>\n",
       "      <td>28980.82</td>\n",
       "      <td>6732.75</td>\n",
       "    </tr>\n",
       "    <tr>\n",
       "      <th>CUS-1196156254</th>\n",
       "      <td>767.0</td>\n",
       "      <td>27326.11</td>\n",
       "      <td>3017.0</td>\n",
       "      <td>NaN</td>\n",
       "      <td>2305.65</td>\n",
       "      <td>2634.96</td>\n",
       "      <td>36050.72</td>\n",
       "      <td>8724.61</td>\n",
       "    </tr>\n",
       "    <tr>\n",
       "      <th>...</th>\n",
       "      <td>...</td>\n",
       "      <td>...</td>\n",
       "      <td>...</td>\n",
       "      <td>...</td>\n",
       "      <td>...</td>\n",
       "      <td>...</td>\n",
       "      <td>...</td>\n",
       "      <td>...</td>\n",
       "    </tr>\n",
       "    <tr>\n",
       "      <th>CUS-809013380</th>\n",
       "      <td>1383.0</td>\n",
       "      <td>13481.91</td>\n",
       "      <td>1543.0</td>\n",
       "      <td>NaN</td>\n",
       "      <td>1135.01</td>\n",
       "      <td>1267.17</td>\n",
       "      <td>18810.09</td>\n",
       "      <td>5328.18</td>\n",
       "    </tr>\n",
       "    <tr>\n",
       "      <th>CUS-860700529</th>\n",
       "      <td>234.0</td>\n",
       "      <td>10851.72</td>\n",
       "      <td>629.0</td>\n",
       "      <td>402.0</td>\n",
       "      <td>2731.99</td>\n",
       "      <td>3251.17</td>\n",
       "      <td>18099.88</td>\n",
       "      <td>7248.16</td>\n",
       "    </tr>\n",
       "    <tr>\n",
       "      <th>CUS-880898248</th>\n",
       "      <td>NaN</td>\n",
       "      <td>8603.88</td>\n",
       "      <td>1240.0</td>\n",
       "      <td>NaN</td>\n",
       "      <td>422.13</td>\n",
       "      <td>1196.44</td>\n",
       "      <td>11462.45</td>\n",
       "      <td>2858.57</td>\n",
       "    </tr>\n",
       "    <tr>\n",
       "      <th>CUS-883482547</th>\n",
       "      <td>NaN</td>\n",
       "      <td>27842.22</td>\n",
       "      <td>4298.0</td>\n",
       "      <td>793.0</td>\n",
       "      <td>1562.39</td>\n",
       "      <td>2143.80</td>\n",
       "      <td>36639.41</td>\n",
       "      <td>8797.19</td>\n",
       "    </tr>\n",
       "    <tr>\n",
       "      <th>TOTAL</th>\n",
       "      <td>64331.0</td>\n",
       "      <td>1676576.85</td>\n",
       "      <td>201794.0</td>\n",
       "      <td>10716.0</td>\n",
       "      <td>152861.24</td>\n",
       "      <td>157005.11</td>\n",
       "      <td>2263284.20</td>\n",
       "      <td>586707.35</td>\n",
       "    </tr>\n",
       "  </tbody>\n",
       "</table>\n",
       "<p>101 rows × 8 columns</p>\n",
       "</div>"
      ],
      "text/plain": [
       "txn_description  INTER BANK  PAY/SALARY   PAYMENT  PHONE BANK        POS  \\\n",
       "customer_id                                                                \n",
       "CUS-1005756958          NaN    12616.11    1296.0       546.0     748.01   \n",
       "CUS-1117979751       1001.0    25050.55    3957.0         NaN     606.37   \n",
       "CUS-1140341822        270.0    11499.06     852.0         NaN    1356.47   \n",
       "CUS-1147642491        250.0    22248.07    2597.0         NaN    2062.31   \n",
       "CUS-1196156254        767.0    27326.11    3017.0         NaN    2305.65   \n",
       "...                     ...         ...       ...         ...        ...   \n",
       "CUS-809013380        1383.0    13481.91    1543.0         NaN    1135.01   \n",
       "CUS-860700529         234.0    10851.72     629.0       402.0    2731.99   \n",
       "CUS-880898248           NaN     8603.88    1240.0         NaN     422.13   \n",
       "CUS-883482547           NaN    27842.22    4298.0       793.0    1562.39   \n",
       "TOTAL               64331.0  1676576.85  201794.0     10716.0  152861.24   \n",
       "\n",
       "txn_description  SALES-POS       TOTAL     DEBITS  \n",
       "customer_id                                        \n",
       "CUS-1005756958     1062.85    16268.97    3652.86  \n",
       "CUS-1117979751     3369.45    33984.37    8933.82  \n",
       "CUS-1140341822     3033.07    17010.60    5511.54  \n",
       "CUS-1147642491     1823.44    28980.82    6732.75  \n",
       "CUS-1196156254     2634.96    36050.72    8724.61  \n",
       "...                    ...         ...        ...  \n",
       "CUS-809013380      1267.17    18810.09    5328.18  \n",
       "CUS-860700529      3251.17    18099.88    7248.16  \n",
       "CUS-880898248      1196.44    11462.45    2858.57  \n",
       "CUS-883482547      2143.80    36639.41    8797.19  \n",
       "TOTAL            157005.11  2263284.20  586707.35  \n",
       "\n",
       "[101 rows x 8 columns]"
      ]
     },
     "execution_count": 50,
     "metadata": {},
     "output_type": "execute_result"
    }
   ],
   "source": [
    "agg_amount = pd.crosstab(df.customer_id, df.txn_description, values=df.amount, aggfunc='sum', margins=True, margins_name='TOTAL')\n",
    "agg_amount['DEBITS'] = agg_amount.apply(lambda row: np.nansum([row['INTER BANK'],  row['PAYMENT'],  row['PHONE BANK'], row['POS'], row['SALES-POS']]), axis=1)\n",
    "agg_amount"
   ]
  },
  {
   "cell_type": "markdown",
   "metadata": {},
   "source": [
    "Average amount of transaction per customer per MONTH"
   ]
  },
  {
   "cell_type": "code",
   "execution_count": 51,
   "metadata": {
    "ExecuteTime": {
     "end_time": "2020-07-29T16:23:53.691108Z",
     "start_time": "2020-07-29T16:23:52.007962Z"
    },
    "scrolled": false
   },
   "outputs": [
    {
     "data": {
      "text/plain": [
       "<matplotlib.axes._subplots.AxesSubplot at 0xab55670>"
      ]
     },
     "execution_count": 51,
     "metadata": {},
     "output_type": "execute_result"
    },
    {
     "data": {
      "image/png": "[encoded data removed]",
      "text/plain": [
       "<Figure size 432x288 with 1 Axes>"
      ]
     },
     "metadata": {
      "needs_background": "light"
     },
     "output_type": "display_data"
    }
   ],
   "source": [
    "pd.DataFrame(agg_amount.iloc[-1,:].sort_values()/df['customer_id'].nunique()/df['month'].nunique()).plot(kind='barh')"
   ]
  },
  {
   "cell_type": "markdown",
   "metadata": {},
   "source": [
    "10 top spender customers"
   ]
  },
  {
   "cell_type": "code",
   "execution_count": 52,
   "metadata": {
    "ExecuteTime": {
     "end_time": "2020-07-29T16:23:53.722090Z",
     "start_time": "2020-07-29T16:23:53.693106Z"
    }
   },
   "outputs": [
    {
     "data": {
      "text/html": [
       "<div>\n",
       "<style scoped>\n",
       "    .dataframe tbody tr th:only-of-type {\n",
       "        vertical-align: middle;\n",
       "    }\n",
       "\n",
       "    .dataframe tbody tr th {\n",
       "        vertical-align: top;\n",
       "    }\n",
       "\n",
       "    .dataframe thead th {\n",
       "        text-align: right;\n",
       "    }\n",
       "</style>\n",
       "<table border=\"1\" class=\"dataframe\">\n",
       "  <thead>\n",
       "    <tr style=\"text-align: right;\">\n",
       "      <th>txn_description</th>\n",
       "      <th>INTER BANK</th>\n",
       "      <th>PAY/SALARY</th>\n",
       "      <th>PAYMENT</th>\n",
       "      <th>PHONE BANK</th>\n",
       "      <th>POS</th>\n",
       "      <th>SALES-POS</th>\n",
       "      <th>TOTAL</th>\n",
       "      <th>DEBITS</th>\n",
       "    </tr>\n",
       "    <tr>\n",
       "      <th>customer_id</th>\n",
       "      <th></th>\n",
       "      <th></th>\n",
       "      <th></th>\n",
       "      <th></th>\n",
       "      <th></th>\n",
       "      <th></th>\n",
       "      <th></th>\n",
       "      <th></th>\n",
       "    </tr>\n",
       "  </thead>\n",
       "  <tbody>\n",
       "    <tr>\n",
       "      <th>TOTAL</th>\n",
       "      <td>21443.666667</td>\n",
       "      <td>558858.950000</td>\n",
       "      <td>67264.666667</td>\n",
       "      <td>3572.0</td>\n",
       "      <td>50953.746667</td>\n",
       "      <td>52335.036667</td>\n",
       "      <td>754428.066667</td>\n",
       "      <td>195569.116667</td>\n",
       "    </tr>\n",
       "    <tr>\n",
       "      <th>CUS-1271030853</th>\n",
       "      <td>406.333333</td>\n",
       "      <td>5404.700000</td>\n",
       "      <td>647.000000</td>\n",
       "      <td>NaN</td>\n",
       "      <td>2748.023333</td>\n",
       "      <td>487.203333</td>\n",
       "      <td>9693.260000</td>\n",
       "      <td>4288.560000</td>\n",
       "    </tr>\n",
       "    <tr>\n",
       "      <th>CUS-2738291516</th>\n",
       "      <td>163.000000</td>\n",
       "      <td>11027.293333</td>\n",
       "      <td>1777.333333</td>\n",
       "      <td>NaN</td>\n",
       "      <td>245.920000</td>\n",
       "      <td>1922.840000</td>\n",
       "      <td>15136.386667</td>\n",
       "      <td>4109.093333</td>\n",
       "    </tr>\n",
       "    <tr>\n",
       "      <th>CUS-51506836</th>\n",
       "      <td>1264.666667</td>\n",
       "      <td>4016.326667</td>\n",
       "      <td>846.000000</td>\n",
       "      <td>NaN</td>\n",
       "      <td>1118.100000</td>\n",
       "      <td>788.490000</td>\n",
       "      <td>8033.583333</td>\n",
       "      <td>4017.256667</td>\n",
       "    </tr>\n",
       "    <tr>\n",
       "      <th>CUS-2487424745</th>\n",
       "      <td>178.666667</td>\n",
       "      <td>4730.460000</td>\n",
       "      <td>555.000000</td>\n",
       "      <td>NaN</td>\n",
       "      <td>1610.323333</td>\n",
       "      <td>1662.746667</td>\n",
       "      <td>8737.196667</td>\n",
       "      <td>4006.736667</td>\n",
       "    </tr>\n",
       "    <tr>\n",
       "      <th>CUS-4142663097</th>\n",
       "      <td>262.000000</td>\n",
       "      <td>8207.756667</td>\n",
       "      <td>1328.666667</td>\n",
       "      <td>NaN</td>\n",
       "      <td>878.743333</td>\n",
       "      <td>1518.916667</td>\n",
       "      <td>12196.083333</td>\n",
       "      <td>3988.326667</td>\n",
       "    </tr>\n",
       "    <tr>\n",
       "      <th>CUS-325142416</th>\n",
       "      <td>1224.333333</td>\n",
       "      <td>5382.136667</td>\n",
       "      <td>306.666667</td>\n",
       "      <td>NaN</td>\n",
       "      <td>574.296667</td>\n",
       "      <td>1673.570000</td>\n",
       "      <td>9161.003333</td>\n",
       "      <td>3778.866667</td>\n",
       "    </tr>\n",
       "    <tr>\n",
       "      <th>CUS-2142601169</th>\n",
       "      <td>NaN</td>\n",
       "      <td>4342.563333</td>\n",
       "      <td>327.666667</td>\n",
       "      <td>NaN</td>\n",
       "      <td>2212.043333</td>\n",
       "      <td>1016.543333</td>\n",
       "      <td>7898.816667</td>\n",
       "      <td>3556.253333</td>\n",
       "    </tr>\n",
       "    <tr>\n",
       "      <th>CUS-1617121891</th>\n",
       "      <td>618.000000</td>\n",
       "      <td>7767.130000</td>\n",
       "      <td>664.333333</td>\n",
       "      <td>NaN</td>\n",
       "      <td>1247.820000</td>\n",
       "      <td>731.300000</td>\n",
       "      <td>11028.583333</td>\n",
       "      <td>3261.453333</td>\n",
       "    </tr>\n",
       "    <tr>\n",
       "      <th>CUS-2695611575</th>\n",
       "      <td>127.000000</td>\n",
       "      <td>3975.616667</td>\n",
       "      <td>538.000000</td>\n",
       "      <td>NaN</td>\n",
       "      <td>1871.930000</td>\n",
       "      <td>647.443333</td>\n",
       "      <td>7159.990000</td>\n",
       "      <td>3184.373333</td>\n",
       "    </tr>\n",
       "    <tr>\n",
       "      <th>CUS-3026014945</th>\n",
       "      <td>572.000000</td>\n",
       "      <td>6627.016667</td>\n",
       "      <td>315.000000</td>\n",
       "      <td>NaN</td>\n",
       "      <td>1161.213333</td>\n",
       "      <td>1016.216667</td>\n",
       "      <td>9691.446667</td>\n",
       "      <td>3064.430000</td>\n",
       "    </tr>\n",
       "  </tbody>\n",
       "</table>\n",
       "</div>"
      ],
      "text/plain": [
       "txn_description    INTER BANK     PAY/SALARY       PAYMENT  PHONE BANK  \\\n",
       "customer_id                                                              \n",
       "TOTAL            21443.666667  558858.950000  67264.666667      3572.0   \n",
       "CUS-1271030853     406.333333    5404.700000    647.000000         NaN   \n",
       "CUS-2738291516     163.000000   11027.293333   1777.333333         NaN   \n",
       "CUS-51506836      1264.666667    4016.326667    846.000000         NaN   \n",
       "CUS-2487424745     178.666667    4730.460000    555.000000         NaN   \n",
       "CUS-4142663097     262.000000    8207.756667   1328.666667         NaN   \n",
       "CUS-325142416     1224.333333    5382.136667    306.666667         NaN   \n",
       "CUS-2142601169            NaN    4342.563333    327.666667         NaN   \n",
       "CUS-1617121891     618.000000    7767.130000    664.333333         NaN   \n",
       "CUS-2695611575     127.000000    3975.616667    538.000000         NaN   \n",
       "CUS-3026014945     572.000000    6627.016667    315.000000         NaN   \n",
       "\n",
       "txn_description           POS     SALES-POS          TOTAL         DEBITS  \n",
       "customer_id                                                                \n",
       "TOTAL            50953.746667  52335.036667  754428.066667  195569.116667  \n",
       "CUS-1271030853    2748.023333    487.203333    9693.260000    4288.560000  \n",
       "CUS-2738291516     245.920000   1922.840000   15136.386667    4109.093333  \n",
       "CUS-51506836      1118.100000    788.490000    8033.583333    4017.256667  \n",
       "CUS-2487424745    1610.323333   1662.746667    8737.196667    4006.736667  \n",
       "CUS-4142663097     878.743333   1518.916667   12196.083333    3988.326667  \n",
       "CUS-325142416      574.296667   1673.570000    9161.003333    3778.866667  \n",
       "CUS-2142601169    2212.043333   1016.543333    7898.816667    3556.253333  \n",
       "CUS-1617121891    1247.820000    731.300000   11028.583333    3261.453333  \n",
       "CUS-2695611575    1871.930000    647.443333    7159.990000    3184.373333  \n",
       "CUS-3026014945    1161.213333   1016.216667    9691.446667    3064.430000  "
      ]
     },
     "execution_count": 52,
     "metadata": {},
     "output_type": "execute_result"
    }
   ],
   "source": [
    "agg_amount.sort_values(by='DEBITS', ascending=False).head(11)/df['month'].nunique()"
   ]
  },
  {
   "cell_type": "markdown",
   "metadata": {},
   "source": [
    "10 top earning customers"
   ]
  },
  {
   "cell_type": "code",
   "execution_count": 53,
   "metadata": {
    "ExecuteTime": {
     "end_time": "2020-07-29T16:23:54.104452Z",
     "start_time": "2020-07-29T16:23:53.724089Z"
    }
   },
   "outputs": [
    {
     "data": {
      "text/html": [
       "<div>\n",
       "<style scoped>\n",
       "    .dataframe tbody tr th:only-of-type {\n",
       "        vertical-align: middle;\n",
       "    }\n",
       "\n",
       "    .dataframe tbody tr th {\n",
       "        vertical-align: top;\n",
       "    }\n",
       "\n",
       "    .dataframe thead th {\n",
       "        text-align: right;\n",
       "    }\n",
       "</style>\n",
       "<table border=\"1\" class=\"dataframe\">\n",
       "  <thead>\n",
       "    <tr style=\"text-align: right;\">\n",
       "      <th>txn_description</th>\n",
       "      <th>INTER BANK</th>\n",
       "      <th>PAY/SALARY</th>\n",
       "      <th>PAYMENT</th>\n",
       "      <th>PHONE BANK</th>\n",
       "      <th>POS</th>\n",
       "      <th>SALES-POS</th>\n",
       "      <th>TOTAL</th>\n",
       "      <th>DEBITS</th>\n",
       "    </tr>\n",
       "    <tr>\n",
       "      <th>customer_id</th>\n",
       "      <th></th>\n",
       "      <th></th>\n",
       "      <th></th>\n",
       "      <th></th>\n",
       "      <th></th>\n",
       "      <th></th>\n",
       "      <th></th>\n",
       "      <th></th>\n",
       "    </tr>\n",
       "  </thead>\n",
       "  <tbody>\n",
       "    <tr>\n",
       "      <th>TOTAL</th>\n",
       "      <td>21443.666667</td>\n",
       "      <td>558858.950000</td>\n",
       "      <td>67264.666667</td>\n",
       "      <td>3572.000000</td>\n",
       "      <td>50953.746667</td>\n",
       "      <td>52335.036667</td>\n",
       "      <td>754428.066667</td>\n",
       "      <td>195569.116667</td>\n",
       "    </tr>\n",
       "    <tr>\n",
       "      <th>CUS-1816693151</th>\n",
       "      <td>257.000000</td>\n",
       "      <td>11781.306667</td>\n",
       "      <td>907.333333</td>\n",
       "      <td>NaN</td>\n",
       "      <td>193.693333</td>\n",
       "      <td>265.846667</td>\n",
       "      <td>13405.180000</td>\n",
       "      <td>1623.873333</td>\n",
       "    </tr>\n",
       "    <tr>\n",
       "      <th>CUS-3142625864</th>\n",
       "      <td>944.333333</td>\n",
       "      <td>11214.710000</td>\n",
       "      <td>951.333333</td>\n",
       "      <td>NaN</td>\n",
       "      <td>698.110000</td>\n",
       "      <td>420.946667</td>\n",
       "      <td>14229.433333</td>\n",
       "      <td>3014.723333</td>\n",
       "    </tr>\n",
       "    <tr>\n",
       "      <th>CUS-2738291516</th>\n",
       "      <td>163.000000</td>\n",
       "      <td>11027.293333</td>\n",
       "      <td>1777.333333</td>\n",
       "      <td>NaN</td>\n",
       "      <td>245.920000</td>\n",
       "      <td>1922.840000</td>\n",
       "      <td>15136.386667</td>\n",
       "      <td>4109.093333</td>\n",
       "    </tr>\n",
       "    <tr>\n",
       "      <th>CUS-2155701614</th>\n",
       "      <td>374.000000</td>\n",
       "      <td>10587.373333</td>\n",
       "      <td>1376.666667</td>\n",
       "      <td>82.000000</td>\n",
       "      <td>170.983333</td>\n",
       "      <td>56.906667</td>\n",
       "      <td>12647.930000</td>\n",
       "      <td>2060.556667</td>\n",
       "    </tr>\n",
       "    <tr>\n",
       "      <th>CUS-261674136</th>\n",
       "      <td>NaN</td>\n",
       "      <td>10279.033333</td>\n",
       "      <td>915.666667</td>\n",
       "      <td>186.333333</td>\n",
       "      <td>255.633333</td>\n",
       "      <td>625.376667</td>\n",
       "      <td>12262.043333</td>\n",
       "      <td>1983.010000</td>\n",
       "    </tr>\n",
       "    <tr>\n",
       "      <th>CUS-2031327464</th>\n",
       "      <td>385.000000</td>\n",
       "      <td>9881.560000</td>\n",
       "      <td>1204.000000</td>\n",
       "      <td>NaN</td>\n",
       "      <td>180.196667</td>\n",
       "      <td>293.566667</td>\n",
       "      <td>11944.323333</td>\n",
       "      <td>2062.763333</td>\n",
       "    </tr>\n",
       "    <tr>\n",
       "      <th>CUS-527400765</th>\n",
       "      <td>305.666667</td>\n",
       "      <td>9837.426667</td>\n",
       "      <td>890.666667</td>\n",
       "      <td>164.000000</td>\n",
       "      <td>474.273333</td>\n",
       "      <td>509.170000</td>\n",
       "      <td>12181.203333</td>\n",
       "      <td>2343.776667</td>\n",
       "    </tr>\n",
       "    <tr>\n",
       "      <th>CUS-3336454548</th>\n",
       "      <td>564.000000</td>\n",
       "      <td>9641.870000</td>\n",
       "      <td>696.000000</td>\n",
       "      <td>84.000000</td>\n",
       "      <td>221.016667</td>\n",
       "      <td>133.280000</td>\n",
       "      <td>11340.166667</td>\n",
       "      <td>1698.296667</td>\n",
       "    </tr>\n",
       "    <tr>\n",
       "      <th>CUS-883482547</th>\n",
       "      <td>NaN</td>\n",
       "      <td>9280.740000</td>\n",
       "      <td>1432.666667</td>\n",
       "      <td>264.333333</td>\n",
       "      <td>520.796667</td>\n",
       "      <td>714.600000</td>\n",
       "      <td>12213.136667</td>\n",
       "      <td>2932.396667</td>\n",
       "    </tr>\n",
       "    <tr>\n",
       "      <th>CUS-1462656821</th>\n",
       "      <td>233.666667</td>\n",
       "      <td>9109.216667</td>\n",
       "      <td>1089.000000</td>\n",
       "      <td>NaN</td>\n",
       "      <td>595.883333</td>\n",
       "      <td>475.966667</td>\n",
       "      <td>11503.733333</td>\n",
       "      <td>2394.516667</td>\n",
       "    </tr>\n",
       "  </tbody>\n",
       "</table>\n",
       "</div>"
      ],
      "text/plain": [
       "txn_description    INTER BANK     PAY/SALARY       PAYMENT   PHONE BANK  \\\n",
       "customer_id                                                               \n",
       "TOTAL            21443.666667  558858.950000  67264.666667  3572.000000   \n",
       "CUS-1816693151     257.000000   11781.306667    907.333333          NaN   \n",
       "CUS-3142625864     944.333333   11214.710000    951.333333          NaN   \n",
       "CUS-2738291516     163.000000   11027.293333   1777.333333          NaN   \n",
       "CUS-2155701614     374.000000   10587.373333   1376.666667    82.000000   \n",
       "CUS-261674136             NaN   10279.033333    915.666667   186.333333   \n",
       "CUS-2031327464     385.000000    9881.560000   1204.000000          NaN   \n",
       "CUS-527400765      305.666667    9837.426667    890.666667   164.000000   \n",
       "CUS-3336454548     564.000000    9641.870000    696.000000    84.000000   \n",
       "CUS-883482547             NaN    9280.740000   1432.666667   264.333333   \n",
       "CUS-1462656821     233.666667    9109.216667   1089.000000          NaN   \n",
       "\n",
       "txn_description           POS     SALES-POS          TOTAL         DEBITS  \n",
       "customer_id                                                                \n",
       "TOTAL            50953.746667  52335.036667  754428.066667  195569.116667  \n",
       "CUS-1816693151     193.693333    265.846667   13405.180000    1623.873333  \n",
       "CUS-3142625864     698.110000    420.946667   14229.433333    3014.723333  \n",
       "CUS-2738291516     245.920000   1922.840000   15136.386667    4109.093333  \n",
       "CUS-2155701614     170.983333     56.906667   12647.930000    2060.556667  \n",
       "CUS-261674136      255.633333    625.376667   12262.043333    1983.010000  \n",
       "CUS-2031327464     180.196667    293.566667   11944.323333    2062.763333  \n",
       "CUS-527400765      474.273333    509.170000   12181.203333    2343.776667  \n",
       "CUS-3336454548     221.016667    133.280000   11340.166667    1698.296667  \n",
       "CUS-883482547      520.796667    714.600000   12213.136667    2932.396667  \n",
       "CUS-1462656821     595.883333    475.966667   11503.733333    2394.516667  "
      ]
     },
     "execution_count": 53,
     "metadata": {},
     "output_type": "execute_result"
    }
   ],
   "source": [
    "agg_amount.sort_values(by='PAY/SALARY', ascending=False).head(11)/df['month'].nunique()"
   ]
  },
  {
   "cell_type": "markdown",
   "metadata": {},
   "source": [
    "10 top high avg balance customers"
   ]
  },
  {
   "cell_type": "code",
   "execution_count": 54,
   "metadata": {
    "ExecuteTime": {
     "end_time": "2020-07-29T16:23:54.340492Z",
     "start_time": "2020-07-29T16:23:54.106452Z"
    }
   },
   "outputs": [
    {
     "data": {
      "text/html": [
       "<div>\n",
       "<style scoped>\n",
       "    .dataframe tbody tr th:only-of-type {\n",
       "        vertical-align: middle;\n",
       "    }\n",
       "\n",
       "    .dataframe tbody tr th {\n",
       "        vertical-align: top;\n",
       "    }\n",
       "\n",
       "    .dataframe thead th {\n",
       "        text-align: right;\n",
       "    }\n",
       "</style>\n",
       "<table border=\"1\" class=\"dataframe\">\n",
       "  <thead>\n",
       "    <tr style=\"text-align: right;\">\n",
       "      <th></th>\n",
       "      <th>balance</th>\n",
       "      <th>debit</th>\n",
       "      <th>credit</th>\n",
       "    </tr>\n",
       "    <tr>\n",
       "      <th>customer_id</th>\n",
       "      <th></th>\n",
       "      <th></th>\n",
       "      <th></th>\n",
       "    </tr>\n",
       "  </thead>\n",
       "  <tbody>\n",
       "    <tr>\n",
       "      <th>CUS-2370108457</th>\n",
       "      <td>263753.766119</td>\n",
       "      <td>103.383731</td>\n",
       "      <td>195.220299</td>\n",
       "    </tr>\n",
       "    <tr>\n",
       "      <th>CUS-527400765</th>\n",
       "      <td>198565.143775</td>\n",
       "      <td>46.565099</td>\n",
       "      <td>195.445563</td>\n",
       "    </tr>\n",
       "    <tr>\n",
       "      <th>CUS-2819545904</th>\n",
       "      <td>111300.797619</td>\n",
       "      <td>89.629524</td>\n",
       "      <td>359.028889</td>\n",
       "    </tr>\n",
       "    <tr>\n",
       "      <th>CUS-1816693151</th>\n",
       "      <td>65420.404231</td>\n",
       "      <td>62.456667</td>\n",
       "      <td>453.127179</td>\n",
       "    </tr>\n",
       "    <tr>\n",
       "      <th>CUS-3117610635</th>\n",
       "      <td>61491.350647</td>\n",
       "      <td>46.833381</td>\n",
       "      <td>117.345755</td>\n",
       "    </tr>\n",
       "    <tr>\n",
       "      <th>CUS-495599312</th>\n",
       "      <td>57566.579032</td>\n",
       "      <td>95.837419</td>\n",
       "      <td>597.795484</td>\n",
       "    </tr>\n",
       "    <tr>\n",
       "      <th>CUS-1609060617</th>\n",
       "      <td>56685.795802</td>\n",
       "      <td>77.167037</td>\n",
       "      <td>211.462222</td>\n",
       "    </tr>\n",
       "    <tr>\n",
       "      <th>CUS-1646183815</th>\n",
       "      <td>54240.641471</td>\n",
       "      <td>42.829706</td>\n",
       "      <td>276.148235</td>\n",
       "    </tr>\n",
       "    <tr>\n",
       "      <th>CUS-3462882033</th>\n",
       "      <td>46338.733837</td>\n",
       "      <td>42.227093</td>\n",
       "      <td>222.907674</td>\n",
       "    </tr>\n",
       "    <tr>\n",
       "      <th>CUS-2663907001</th>\n",
       "      <td>39427.873576</td>\n",
       "      <td>55.339030</td>\n",
       "      <td>147.446182</td>\n",
       "    </tr>\n",
       "  </tbody>\n",
       "</table>\n",
       "</div>"
      ],
      "text/plain": [
       "                      balance       debit      credit\n",
       "customer_id                                          \n",
       "CUS-2370108457  263753.766119  103.383731  195.220299\n",
       "CUS-527400765   198565.143775   46.565099  195.445563\n",
       "CUS-2819545904  111300.797619   89.629524  359.028889\n",
       "CUS-1816693151   65420.404231   62.456667  453.127179\n",
       "CUS-3117610635   61491.350647   46.833381  117.345755\n",
       "CUS-495599312    57566.579032   95.837419  597.795484\n",
       "CUS-1609060617   56685.795802   77.167037  211.462222\n",
       "CUS-1646183815   54240.641471   42.829706  276.148235\n",
       "CUS-3462882033   46338.733837   42.227093  222.907674\n",
       "CUS-2663907001   39427.873576   55.339030  147.446182"
      ]
     },
     "execution_count": 54,
     "metadata": {},
     "output_type": "execute_result"
    }
   ],
   "source": [
    "df.groupby('customer_id').agg('mean')[['balance', 'debit', 'credit']].sort_values(by='balance', ascending=False).head(10)"
   ]
  },
  {
   "cell_type": "markdown",
   "metadata": {},
   "source": [
    "Frequency of transaction types per customer"
   ]
  },
  {
   "cell_type": "code",
   "execution_count": 55,
   "metadata": {
    "ExecuteTime": {
     "end_time": "2020-07-29T16:23:54.607351Z",
     "start_time": "2020-07-29T16:23:54.342491Z"
    }
   },
   "outputs": [
    {
     "data": {
      "text/html": [
       "<div>\n",
       "<style scoped>\n",
       "    .dataframe tbody tr th:only-of-type {\n",
       "        vertical-align: middle;\n",
       "    }\n",
       "\n",
       "    .dataframe tbody tr th {\n",
       "        vertical-align: top;\n",
       "    }\n",
       "\n",
       "    .dataframe thead th {\n",
       "        text-align: right;\n",
       "    }\n",
       "</style>\n",
       "<table border=\"1\" class=\"dataframe\">\n",
       "  <thead>\n",
       "    <tr style=\"text-align: right;\">\n",
       "      <th>txn_description</th>\n",
       "      <th>INTER BANK</th>\n",
       "      <th>PAY/SALARY</th>\n",
       "      <th>PAYMENT</th>\n",
       "      <th>PHONE BANK</th>\n",
       "      <th>POS</th>\n",
       "      <th>SALES-POS</th>\n",
       "      <th>TOTAL FREQ</th>\n",
       "    </tr>\n",
       "    <tr>\n",
       "      <th>customer_id</th>\n",
       "      <th></th>\n",
       "      <th></th>\n",
       "      <th></th>\n",
       "      <th></th>\n",
       "      <th></th>\n",
       "      <th></th>\n",
       "      <th></th>\n",
       "    </tr>\n",
       "  </thead>\n",
       "  <tbody>\n",
       "    <tr>\n",
       "      <th>CUS-1005756958</th>\n",
       "      <td>NaN</td>\n",
       "      <td>13.0</td>\n",
       "      <td>9.0</td>\n",
       "      <td>3.0</td>\n",
       "      <td>26.0</td>\n",
       "      <td>22.0</td>\n",
       "      <td>73</td>\n",
       "    </tr>\n",
       "    <tr>\n",
       "      <th>CUS-1117979751</th>\n",
       "      <td>1.0</td>\n",
       "      <td>7.0</td>\n",
       "      <td>40.0</td>\n",
       "      <td>NaN</td>\n",
       "      <td>26.0</td>\n",
       "      <td>26.0</td>\n",
       "      <td>100</td>\n",
       "    </tr>\n",
       "    <tr>\n",
       "      <th>CUS-1140341822</th>\n",
       "      <td>3.0</td>\n",
       "      <td>6.0</td>\n",
       "      <td>6.0</td>\n",
       "      <td>NaN</td>\n",
       "      <td>39.0</td>\n",
       "      <td>26.0</td>\n",
       "      <td>80</td>\n",
       "    </tr>\n",
       "    <tr>\n",
       "      <th>CUS-1147642491</th>\n",
       "      <td>2.0</td>\n",
       "      <td>13.0</td>\n",
       "      <td>27.0</td>\n",
       "      <td>NaN</td>\n",
       "      <td>38.0</td>\n",
       "      <td>38.0</td>\n",
       "      <td>118</td>\n",
       "    </tr>\n",
       "    <tr>\n",
       "      <th>CUS-1196156254</th>\n",
       "      <td>5.0</td>\n",
       "      <td>7.0</td>\n",
       "      <td>70.0</td>\n",
       "      <td>NaN</td>\n",
       "      <td>74.0</td>\n",
       "      <td>89.0</td>\n",
       "      <td>245</td>\n",
       "    </tr>\n",
       "    <tr>\n",
       "      <th>...</th>\n",
       "      <td>...</td>\n",
       "      <td>...</td>\n",
       "      <td>...</td>\n",
       "      <td>...</td>\n",
       "      <td>...</td>\n",
       "      <td>...</td>\n",
       "      <td>...</td>\n",
       "    </tr>\n",
       "    <tr>\n",
       "      <th>CUS-809013380</th>\n",
       "      <td>1.0</td>\n",
       "      <td>13.0</td>\n",
       "      <td>22.0</td>\n",
       "      <td>NaN</td>\n",
       "      <td>51.0</td>\n",
       "      <td>37.0</td>\n",
       "      <td>124</td>\n",
       "    </tr>\n",
       "    <tr>\n",
       "      <th>CUS-860700529</th>\n",
       "      <td>3.0</td>\n",
       "      <td>6.0</td>\n",
       "      <td>15.0</td>\n",
       "      <td>3.0</td>\n",
       "      <td>97.0</td>\n",
       "      <td>109.0</td>\n",
       "      <td>233</td>\n",
       "    </tr>\n",
       "    <tr>\n",
       "      <th>CUS-880898248</th>\n",
       "      <td>NaN</td>\n",
       "      <td>6.0</td>\n",
       "      <td>16.0</td>\n",
       "      <td>NaN</td>\n",
       "      <td>21.0</td>\n",
       "      <td>35.0</td>\n",
       "      <td>78</td>\n",
       "    </tr>\n",
       "    <tr>\n",
       "      <th>CUS-883482547</th>\n",
       "      <td>NaN</td>\n",
       "      <td>7.0</td>\n",
       "      <td>47.0</td>\n",
       "      <td>4.0</td>\n",
       "      <td>51.0</td>\n",
       "      <td>69.0</td>\n",
       "      <td>178</td>\n",
       "    </tr>\n",
       "    <tr>\n",
       "      <th>TOTAL FREQ</th>\n",
       "      <td>742.0</td>\n",
       "      <td>883.0</td>\n",
       "      <td>2600.0</td>\n",
       "      <td>101.0</td>\n",
       "      <td>3783.0</td>\n",
       "      <td>3934.0</td>\n",
       "      <td>12043</td>\n",
       "    </tr>\n",
       "  </tbody>\n",
       "</table>\n",
       "<p>101 rows × 7 columns</p>\n",
       "</div>"
      ],
      "text/plain": [
       "txn_description  INTER BANK  PAY/SALARY  PAYMENT  PHONE BANK     POS  \\\n",
       "customer_id                                                            \n",
       "CUS-1005756958          NaN        13.0      9.0         3.0    26.0   \n",
       "CUS-1117979751          1.0         7.0     40.0         NaN    26.0   \n",
       "CUS-1140341822          3.0         6.0      6.0         NaN    39.0   \n",
       "CUS-1147642491          2.0        13.0     27.0         NaN    38.0   \n",
       "CUS-1196156254          5.0         7.0     70.0         NaN    74.0   \n",
       "...                     ...         ...      ...         ...     ...   \n",
       "CUS-809013380           1.0        13.0     22.0         NaN    51.0   \n",
       "CUS-860700529           3.0         6.0     15.0         3.0    97.0   \n",
       "CUS-880898248           NaN         6.0     16.0         NaN    21.0   \n",
       "CUS-883482547           NaN         7.0     47.0         4.0    51.0   \n",
       "TOTAL FREQ            742.0       883.0   2600.0       101.0  3783.0   \n",
       "\n",
       "txn_description  SALES-POS  TOTAL FREQ  \n",
       "customer_id                             \n",
       "CUS-1005756958        22.0          73  \n",
       "CUS-1117979751        26.0         100  \n",
       "CUS-1140341822        26.0          80  \n",
       "CUS-1147642491        38.0         118  \n",
       "CUS-1196156254        89.0         245  \n",
       "...                    ...         ...  \n",
       "CUS-809013380         37.0         124  \n",
       "CUS-860700529        109.0         233  \n",
       "CUS-880898248         35.0          78  \n",
       "CUS-883482547         69.0         178  \n",
       "TOTAL FREQ          3934.0       12043  \n",
       "\n",
       "[101 rows x 7 columns]"
      ]
     },
     "execution_count": 55,
     "metadata": {},
     "output_type": "execute_result"
    }
   ],
   "source": [
    "agg_freq = pd.crosstab(df.customer_id, df.txn_description, values=df.amount, aggfunc='count', margins=True, margins_name='TOTAL FREQ')\n",
    "agg_freq"
   ]
  },
  {
   "cell_type": "markdown",
   "metadata": {},
   "source": [
    "Average transaction frequency per customer per MONTH"
   ]
  },
  {
   "cell_type": "code",
   "execution_count": 56,
   "metadata": {
    "ExecuteTime": {
     "end_time": "2020-07-29T16:23:54.892175Z",
     "start_time": "2020-07-29T16:23:54.609351Z"
    }
   },
   "outputs": [
    {
     "data": {
      "text/plain": [
       "<matplotlib.axes._subplots.AxesSubplot at 0xaea91b0>"
      ]
     },
     "execution_count": 56,
     "metadata": {},
     "output_type": "execute_result"
    },
    {
     "data": {
      "image/png": "[encoded data removed]",
      "text/plain": [
       "<Figure size 432x288 with 1 Axes>"
      ]
     },
     "metadata": {
      "needs_background": "light"
     },
     "output_type": "display_data"
    }
   ],
   "source": [
    "pd.DataFrame(agg_freq.iloc[-1,:-1].sort_values()\n",
    "             /df['customer_id'].nunique()\n",
    "             /df['month'].nunique()\n",
    "            ).plot(kind='barh')"
   ]
  },
  {
   "cell_type": "markdown",
   "metadata": {},
   "source": [
    "Variety of salary/wage frequency: monthly, biweekly, weekly, and in-between. Many values due to different days of payment.\n",
    "Most customers get paid weekly"
   ]
  },
  {
   "cell_type": "code",
   "execution_count": 57,
   "metadata": {
    "ExecuteTime": {
     "end_time": "2020-07-29T16:23:54.907165Z",
     "start_time": "2020-07-29T16:23:54.894175Z"
    }
   },
   "outputs": [
    {
     "data": {
      "text/plain": [
       "6.0     28\n",
       "13.0    27\n",
       "7.0     24\n",
       "14.0     8\n",
       "12.0     5\n",
       "2.0      4\n",
       "4.0      2\n",
       "3.0      1\n",
       "5.0      1\n",
       "Name: PAY/SALARY, dtype: int64"
      ]
     },
     "execution_count": 57,
     "metadata": {},
     "output_type": "execute_result"
    }
   ],
   "source": [
    "agg_freq.iloc[:-1,:]['PAY/SALARY'].value_counts()"
   ]
  },
  {
   "cell_type": "markdown",
   "metadata": {},
   "source": [
    "This is a typical bank statement of a customer"
   ]
  },
  {
   "cell_type": "code",
   "execution_count": 58,
   "metadata": {
    "ExecuteTime": {
     "end_time": "2020-07-29T16:23:55.334591Z",
     "start_time": "2020-07-29T16:23:54.909165Z"
    }
   },
   "outputs": [
    {
     "data": {
      "text/html": [
       "<div>\n",
       "<style scoped>\n",
       "    .dataframe tbody tr th:only-of-type {\n",
       "        vertical-align: middle;\n",
       "    }\n",
       "\n",
       "    .dataframe tbody tr th {\n",
       "        vertical-align: top;\n",
       "    }\n",
       "\n",
       "    .dataframe thead th {\n",
       "        text-align: right;\n",
       "    }\n",
       "</style>\n",
       "<table border=\"1\" class=\"dataframe\">\n",
       "  <thead>\n",
       "    <tr style=\"text-align: right;\">\n",
       "      <th></th>\n",
       "      <th>txn_description</th>\n",
       "      <th>balance</th>\n",
       "      <th>date</th>\n",
       "      <th>amount</th>\n",
       "      <th>movement</th>\n",
       "      <th>debit</th>\n",
       "      <th>credit</th>\n",
       "    </tr>\n",
       "  </thead>\n",
       "  <tbody>\n",
       "    <tr>\n",
       "      <th>115</th>\n",
       "      <td>POS</td>\n",
       "      <td>823.53</td>\n",
       "      <td>2018-08-01</td>\n",
       "      <td>9.21</td>\n",
       "      <td>debit</td>\n",
       "      <td>9.21</td>\n",
       "      <td>0.00</td>\n",
       "    </tr>\n",
       "    <tr>\n",
       "      <th>699</th>\n",
       "      <td>POS</td>\n",
       "      <td>777.17</td>\n",
       "      <td>2018-08-06</td>\n",
       "      <td>46.36</td>\n",
       "      <td>debit</td>\n",
       "      <td>46.36</td>\n",
       "      <td>0.00</td>\n",
       "    </tr>\n",
       "    <tr>\n",
       "      <th>1041</th>\n",
       "      <td>SALES-POS</td>\n",
       "      <td>773.08</td>\n",
       "      <td>2018-08-09</td>\n",
       "      <td>4.09</td>\n",
       "      <td>debit</td>\n",
       "      <td>4.09</td>\n",
       "      <td>0.00</td>\n",
       "    </tr>\n",
       "    <tr>\n",
       "      <th>1161</th>\n",
       "      <td>SALES-POS</td>\n",
       "      <td>741.82</td>\n",
       "      <td>2018-08-09</td>\n",
       "      <td>31.26</td>\n",
       "      <td>debit</td>\n",
       "      <td>31.26</td>\n",
       "      <td>0.00</td>\n",
       "    </tr>\n",
       "    <tr>\n",
       "      <th>1253</th>\n",
       "      <td>PAY/SALARY</td>\n",
       "      <td>2658.33</td>\n",
       "      <td>2018-08-10</td>\n",
       "      <td>1916.51</td>\n",
       "      <td>credit</td>\n",
       "      <td>0.00</td>\n",
       "      <td>1916.51</td>\n",
       "    </tr>\n",
       "    <tr>\n",
       "      <th>...</th>\n",
       "      <td>...</td>\n",
       "      <td>...</td>\n",
       "      <td>...</td>\n",
       "      <td>...</td>\n",
       "      <td>...</td>\n",
       "      <td>...</td>\n",
       "      <td>...</td>\n",
       "    </tr>\n",
       "    <tr>\n",
       "      <th>11655</th>\n",
       "      <td>POS</td>\n",
       "      <td>6901.95</td>\n",
       "      <td>2018-10-28</td>\n",
       "      <td>15.09</td>\n",
       "      <td>debit</td>\n",
       "      <td>15.09</td>\n",
       "      <td>0.00</td>\n",
       "    </tr>\n",
       "    <tr>\n",
       "      <th>11661</th>\n",
       "      <td>POS</td>\n",
       "      <td>6875.96</td>\n",
       "      <td>2018-10-28</td>\n",
       "      <td>25.99</td>\n",
       "      <td>debit</td>\n",
       "      <td>25.99</td>\n",
       "      <td>0.00</td>\n",
       "    </tr>\n",
       "    <tr>\n",
       "      <th>11699</th>\n",
       "      <td>SALES-POS</td>\n",
       "      <td>6863.99</td>\n",
       "      <td>2018-10-28</td>\n",
       "      <td>11.97</td>\n",
       "      <td>debit</td>\n",
       "      <td>11.97</td>\n",
       "      <td>0.00</td>\n",
       "    </tr>\n",
       "    <tr>\n",
       "      <th>11884</th>\n",
       "      <td>SALES-POS</td>\n",
       "      <td>6840.44</td>\n",
       "      <td>2018-10-30</td>\n",
       "      <td>23.55</td>\n",
       "      <td>debit</td>\n",
       "      <td>23.55</td>\n",
       "      <td>0.00</td>\n",
       "    </tr>\n",
       "    <tr>\n",
       "      <th>11952</th>\n",
       "      <td>SALES-POS</td>\n",
       "      <td>6820.26</td>\n",
       "      <td>2018-10-31</td>\n",
       "      <td>20.18</td>\n",
       "      <td>debit</td>\n",
       "      <td>20.18</td>\n",
       "      <td>0.00</td>\n",
       "    </tr>\n",
       "  </tbody>\n",
       "</table>\n",
       "<p>80 rows × 7 columns</p>\n",
       "</div>"
      ],
      "text/plain": [
       "      txn_description  balance       date   amount movement  debit   credit\n",
       "115               POS   823.53 2018-08-01     9.21    debit   9.21     0.00\n",
       "699               POS   777.17 2018-08-06    46.36    debit  46.36     0.00\n",
       "1041        SALES-POS   773.08 2018-08-09     4.09    debit   4.09     0.00\n",
       "1161        SALES-POS   741.82 2018-08-09    31.26    debit  31.26     0.00\n",
       "1253       PAY/SALARY  2658.33 2018-08-10  1916.51   credit   0.00  1916.51\n",
       "...               ...      ...        ...      ...      ...    ...      ...\n",
       "11655             POS  6901.95 2018-10-28    15.09    debit  15.09     0.00\n",
       "11661             POS  6875.96 2018-10-28    25.99    debit  25.99     0.00\n",
       "11699       SALES-POS  6863.99 2018-10-28    11.97    debit  11.97     0.00\n",
       "11884       SALES-POS  6840.44 2018-10-30    23.55    debit  23.55     0.00\n",
       "11952       SALES-POS  6820.26 2018-10-31    20.18    debit  20.18     0.00\n",
       "\n",
       "[80 rows x 7 columns]"
      ]
     },
     "execution_count": 58,
     "metadata": {},
     "output_type": "execute_result"
    }
   ],
   "source": [
    "df[df['customer_id'] == 'CUS-1140341822'][['txn_description', 'balance', 'date', 'amount', 'movement', 'debit', 'credit']]"
   ]
  },
  {
   "cell_type": "markdown",
   "metadata": {},
   "source": [
    "Example of a customer with biweekly wage"
   ]
  },
  {
   "cell_type": "code",
   "execution_count": 59,
   "metadata": {
    "ExecuteTime": {
     "end_time": "2020-07-29T16:23:55.459513Z",
     "start_time": "2020-07-29T16:23:55.335590Z"
    }
   },
   "outputs": [
    {
     "data": {
      "text/html": [
       "<div>\n",
       "<style scoped>\n",
       "    .dataframe tbody tr th:only-of-type {\n",
       "        vertical-align: middle;\n",
       "    }\n",
       "\n",
       "    .dataframe tbody tr th {\n",
       "        vertical-align: top;\n",
       "    }\n",
       "\n",
       "    .dataframe thead th {\n",
       "        text-align: right;\n",
       "    }\n",
       "</style>\n",
       "<table border=\"1\" class=\"dataframe\">\n",
       "  <thead>\n",
       "    <tr style=\"text-align: right;\">\n",
       "      <th></th>\n",
       "      <th>txn_description</th>\n",
       "      <th>balance</th>\n",
       "      <th>date</th>\n",
       "      <th>amount</th>\n",
       "      <th>movement</th>\n",
       "      <th>debit</th>\n",
       "      <th>credit</th>\n",
       "    </tr>\n",
       "  </thead>\n",
       "  <tbody>\n",
       "    <tr>\n",
       "      <th>1253</th>\n",
       "      <td>PAY/SALARY</td>\n",
       "      <td>2658.33</td>\n",
       "      <td>2018-08-10</td>\n",
       "      <td>1916.51</td>\n",
       "      <td>credit</td>\n",
       "      <td>0.0</td>\n",
       "      <td>1916.51</td>\n",
       "    </tr>\n",
       "    <tr>\n",
       "      <th>2956</th>\n",
       "      <td>PAY/SALARY</td>\n",
       "      <td>4170.52</td>\n",
       "      <td>2018-08-24</td>\n",
       "      <td>1916.51</td>\n",
       "      <td>credit</td>\n",
       "      <td>0.0</td>\n",
       "      <td>1916.51</td>\n",
       "    </tr>\n",
       "    <tr>\n",
       "      <th>4830</th>\n",
       "      <td>PAY/SALARY</td>\n",
       "      <td>5896.44</td>\n",
       "      <td>2018-09-07</td>\n",
       "      <td>1916.51</td>\n",
       "      <td>credit</td>\n",
       "      <td>0.0</td>\n",
       "      <td>1916.51</td>\n",
       "    </tr>\n",
       "    <tr>\n",
       "      <th>6699</th>\n",
       "      <td>PAY/SALARY</td>\n",
       "      <td>7136.00</td>\n",
       "      <td>2018-09-21</td>\n",
       "      <td>1916.51</td>\n",
       "      <td>credit</td>\n",
       "      <td>0.0</td>\n",
       "      <td>1916.51</td>\n",
       "    </tr>\n",
       "    <tr>\n",
       "      <th>8596</th>\n",
       "      <td>PAY/SALARY</td>\n",
       "      <td>7530.55</td>\n",
       "      <td>2018-10-05</td>\n",
       "      <td>1916.51</td>\n",
       "      <td>credit</td>\n",
       "      <td>0.0</td>\n",
       "      <td>1916.51</td>\n",
       "    </tr>\n",
       "    <tr>\n",
       "      <th>10457</th>\n",
       "      <td>PAY/SALARY</td>\n",
       "      <td>7658.48</td>\n",
       "      <td>2018-10-19</td>\n",
       "      <td>1916.51</td>\n",
       "      <td>credit</td>\n",
       "      <td>0.0</td>\n",
       "      <td>1916.51</td>\n",
       "    </tr>\n",
       "  </tbody>\n",
       "</table>\n",
       "</div>"
      ],
      "text/plain": [
       "      txn_description  balance       date   amount movement  debit   credit\n",
       "1253       PAY/SALARY  2658.33 2018-08-10  1916.51   credit    0.0  1916.51\n",
       "2956       PAY/SALARY  4170.52 2018-08-24  1916.51   credit    0.0  1916.51\n",
       "4830       PAY/SALARY  5896.44 2018-09-07  1916.51   credit    0.0  1916.51\n",
       "6699       PAY/SALARY  7136.00 2018-09-21  1916.51   credit    0.0  1916.51\n",
       "8596       PAY/SALARY  7530.55 2018-10-05  1916.51   credit    0.0  1916.51\n",
       "10457      PAY/SALARY  7658.48 2018-10-19  1916.51   credit    0.0  1916.51"
      ]
     },
     "execution_count": 59,
     "metadata": {},
     "output_type": "execute_result"
    }
   ],
   "source": [
    "df[(df['customer_id'] == 'CUS-1140341822') & (df['txn_description'] == 'PAY/SALARY')][['txn_description', 'balance', 'date', 'amount', 'movement', 'debit', 'credit']]"
   ]
  },
  {
   "cell_type": "markdown",
   "metadata": {},
   "source": [
    "## Monthly Txn"
   ]
  },
  {
   "cell_type": "markdown",
   "metadata": {},
   "source": [
    "Monthly txn amount per types"
   ]
  },
  {
   "cell_type": "code",
   "execution_count": 60,
   "metadata": {
    "ExecuteTime": {
     "end_time": "2020-07-29T16:23:55.710244Z",
     "start_time": "2020-07-29T16:23:55.461512Z"
    }
   },
   "outputs": [
    {
     "data": {
      "text/html": [
       "<div>\n",
       "<style scoped>\n",
       "    .dataframe tbody tr th:only-of-type {\n",
       "        vertical-align: middle;\n",
       "    }\n",
       "\n",
       "    .dataframe tbody tr th {\n",
       "        vertical-align: top;\n",
       "    }\n",
       "\n",
       "    .dataframe thead th {\n",
       "        text-align: right;\n",
       "    }\n",
       "</style>\n",
       "<table border=\"1\" class=\"dataframe\">\n",
       "  <thead>\n",
       "    <tr style=\"text-align: right;\">\n",
       "      <th>month</th>\n",
       "      <th>August</th>\n",
       "      <th>September</th>\n",
       "      <th>October</th>\n",
       "    </tr>\n",
       "    <tr>\n",
       "      <th>txn_description</th>\n",
       "      <th></th>\n",
       "      <th></th>\n",
       "      <th></th>\n",
       "    </tr>\n",
       "  </thead>\n",
       "  <tbody>\n",
       "    <tr>\n",
       "      <th>INTER BANK</th>\n",
       "      <td>78.429167</td>\n",
       "      <td>92.741667</td>\n",
       "      <td>88.740458</td>\n",
       "    </tr>\n",
       "    <tr>\n",
       "      <th>PAY/SALARY</th>\n",
       "      <td>1878.571577</td>\n",
       "      <td>1899.248566</td>\n",
       "      <td>1917.466166</td>\n",
       "    </tr>\n",
       "    <tr>\n",
       "      <th>PAYMENT</th>\n",
       "      <td>66.514934</td>\n",
       "      <td>88.016148</td>\n",
       "      <td>77.914062</td>\n",
       "    </tr>\n",
       "    <tr>\n",
       "      <th>PHONE BANK</th>\n",
       "      <td>122.000000</td>\n",
       "      <td>123.121212</td>\n",
       "      <td>75.057143</td>\n",
       "    </tr>\n",
       "    <tr>\n",
       "      <th>POS</th>\n",
       "      <td>39.594396</td>\n",
       "      <td>35.788532</td>\n",
       "      <td>45.928860</td>\n",
       "    </tr>\n",
       "    <tr>\n",
       "      <th>SALES-POS</th>\n",
       "      <td>32.892636</td>\n",
       "      <td>49.742341</td>\n",
       "      <td>37.128536</td>\n",
       "    </tr>\n",
       "    <tr>\n",
       "      <th>Total</th>\n",
       "      <td>185.121867</td>\n",
       "      <td>182.045903</td>\n",
       "      <td>196.427323</td>\n",
       "    </tr>\n",
       "  </tbody>\n",
       "</table>\n",
       "</div>"
      ],
      "text/plain": [
       "month                 August    September      October\n",
       "txn_description                                       \n",
       "INTER BANK         78.429167    92.741667    88.740458\n",
       "PAY/SALARY       1878.571577  1899.248566  1917.466166\n",
       "PAYMENT            66.514934    88.016148    77.914062\n",
       "PHONE BANK        122.000000   123.121212    75.057143\n",
       "POS                39.594396    35.788532    45.928860\n",
       "SALES-POS          32.892636    49.742341    37.128536\n",
       "Total             185.121867   182.045903   196.427323"
      ]
     },
     "execution_count": 60,
     "metadata": {},
     "output_type": "execute_result"
    }
   ],
   "source": [
    "month_amount = pd.pivot_table(data=df, index='txn_description', columns='month', \n",
    "                           values='amount', margins=True, margins_name='Total'\n",
    "                             )\n",
    "month_amount = month_amount.reindex(columns=['August', 'September', 'October'])\n",
    "month_amount"
   ]
  },
  {
   "cell_type": "code",
   "execution_count": 61,
   "metadata": {
    "ExecuteTime": {
     "end_time": "2020-07-29T16:23:55.773205Z",
     "start_time": "2020-07-29T16:23:55.712243Z"
    }
   },
   "outputs": [],
   "source": [
    "avg_month_amount = np.mean(month_amount.iloc[-1,:])"
   ]
  },
  {
   "cell_type": "markdown",
   "metadata": {},
   "source": [
    "Note unusual flux:\n",
    "* Highest avg trx amount on October, largely due to increase in pay/salary amount"
   ]
  },
  {
   "cell_type": "code",
   "execution_count": 62,
   "metadata": {
    "ExecuteTime": {
     "end_time": "2020-07-29T16:23:56.658935Z",
     "start_time": "2020-07-29T16:23:55.775203Z"
    }
   },
   "outputs": [
    {
     "data": {
      "text/plain": [
       "Text(0.5, 1.0, 'Average Monthly Amount of Transactions')"
      ]
     },
     "execution_count": 62,
     "metadata": {},
     "output_type": "execute_result"
    },
    {
     "data": {
      "image/png": "[encoded data removed]",
      "text/plain": [
       "<Figure size 432x288 with 1 Axes>"
      ]
     },
     "metadata": {
      "needs_background": "light"
     },
     "output_type": "display_data"
    }
   ],
   "source": [
    "sns.lineplot(data=df, x='month', y='amount', sort=False)\n",
    "plt.axhline(avg_month_amount, linestyle='dashed', color='r', linewidth=1)\n",
    "plt.xticks(rotation='45')\n",
    "plt.xlabel('Month')\n",
    "plt.ylabel('Amount')\n",
    "plt.title('Average Monthly Amount of Transactions')"
   ]
  },
  {
   "cell_type": "markdown",
   "metadata": {},
   "source": [
    "Monthly txn freq per types"
   ]
  },
  {
   "cell_type": "code",
   "execution_count": 63,
   "metadata": {
    "ExecuteTime": {
     "end_time": "2020-07-29T16:23:56.735885Z",
     "start_time": "2020-07-29T16:23:56.660932Z"
    },
    "scrolled": false
   },
   "outputs": [
    {
     "data": {
      "text/html": [
       "<div>\n",
       "<style scoped>\n",
       "    .dataframe tbody tr th:only-of-type {\n",
       "        vertical-align: middle;\n",
       "    }\n",
       "\n",
       "    .dataframe tbody tr th {\n",
       "        vertical-align: top;\n",
       "    }\n",
       "\n",
       "    .dataframe thead th {\n",
       "        text-align: right;\n",
       "    }\n",
       "</style>\n",
       "<table border=\"1\" class=\"dataframe\">\n",
       "  <thead>\n",
       "    <tr style=\"text-align: right;\">\n",
       "      <th>month</th>\n",
       "      <th>August</th>\n",
       "      <th>September</th>\n",
       "      <th>October</th>\n",
       "    </tr>\n",
       "    <tr>\n",
       "      <th>txn_description</th>\n",
       "      <th></th>\n",
       "      <th></th>\n",
       "      <th></th>\n",
       "    </tr>\n",
       "  </thead>\n",
       "  <tbody>\n",
       "    <tr>\n",
       "      <th>INTER BANK</th>\n",
       "      <td>240</td>\n",
       "      <td>240</td>\n",
       "      <td>262</td>\n",
       "    </tr>\n",
       "    <tr>\n",
       "      <th>PAY/SALARY</th>\n",
       "      <td>298</td>\n",
       "      <td>272</td>\n",
       "      <td>313</td>\n",
       "    </tr>\n",
       "    <tr>\n",
       "      <th>PAYMENT</th>\n",
       "      <td>837</td>\n",
       "      <td>867</td>\n",
       "      <td>896</td>\n",
       "    </tr>\n",
       "    <tr>\n",
       "      <th>PHONE BANK</th>\n",
       "      <td>33</td>\n",
       "      <td>33</td>\n",
       "      <td>35</td>\n",
       "    </tr>\n",
       "    <tr>\n",
       "      <th>POS</th>\n",
       "      <td>1226</td>\n",
       "      <td>1294</td>\n",
       "      <td>1263</td>\n",
       "    </tr>\n",
       "    <tr>\n",
       "      <th>SALES-POS</th>\n",
       "      <td>1309</td>\n",
       "      <td>1307</td>\n",
       "      <td>1318</td>\n",
       "    </tr>\n",
       "    <tr>\n",
       "      <th>Total</th>\n",
       "      <td>3943</td>\n",
       "      <td>4013</td>\n",
       "      <td>4087</td>\n",
       "    </tr>\n",
       "  </tbody>\n",
       "</table>\n",
       "</div>"
      ],
      "text/plain": [
       "month            August  September  October\n",
       "txn_description                            \n",
       "INTER BANK          240        240      262\n",
       "PAY/SALARY          298        272      313\n",
       "PAYMENT             837        867      896\n",
       "PHONE BANK           33         33       35\n",
       "POS                1226       1294     1263\n",
       "SALES-POS          1309       1307     1318\n",
       "Total              3943       4013     4087"
      ]
     },
     "execution_count": 63,
     "metadata": {},
     "output_type": "execute_result"
    }
   ],
   "source": [
    "month_freq = pd.pivot_table(data=df, values='amount', index='txn_description', columns='month', aggfunc='count',\n",
    "                           margins=True, margins_name='Total')\n",
    "month_freq = month_freq.reindex(columns=['August', 'September', 'October'])\n",
    "month_freq"
   ]
  },
  {
   "cell_type": "code",
   "execution_count": 64,
   "metadata": {
    "ExecuteTime": {
     "end_time": "2020-07-29T16:23:56.956750Z",
     "start_time": "2020-07-29T16:23:56.737887Z"
    }
   },
   "outputs": [],
   "source": [
    "avg_month_freq = np.mean(month_freq.iloc[-1,:])"
   ]
  },
  {
   "cell_type": "markdown",
   "metadata": {},
   "source": [
    "Linear growth of monthly txn freq\n",
    "\n",
    "Movement in line with salary & payment"
   ]
  },
  {
   "cell_type": "code",
   "execution_count": 83,
   "metadata": {
    "ExecuteTime": {
     "end_time": "2020-07-29T16:25:35.960394Z",
     "start_time": "2020-07-29T16:25:35.748526Z"
    }
   },
   "outputs": [
    {
     "data": {
      "text/plain": [
       "([<matplotlib.axis.XTick at 0xad8d590>,\n",
       "  <matplotlib.axis.XTick at 0xcf45050>,\n",
       "  <matplotlib.axis.XTick at 0xcf3eb50>],\n",
       " <a list of 3 Text xticklabel objects>)"
      ]
     },
     "execution_count": 83,
     "metadata": {},
     "output_type": "execute_result"
    },
    {
     "data": {
      "image/png": "[encoded data removed]",
      "text/plain": [
       "<Figure size 432x288 with 1 Axes>"
      ]
     },
     "metadata": {
      "needs_background": "light"
     },
     "output_type": "display_data"
    }
   ],
   "source": [
    "month_freq.iloc[-1,:].plot(legend='TOTAL')\n",
    "plt.axhline(avg_month_freq, linestyle='dashed', color='r', linewidth=1)\n",
    "month_freq.iloc[1,:].plot(kind='line', color='r', legend='PAY/SALARY', linewidth=1)\n",
    "month_freq.iloc[2,:].plot(kind='line', color='g', legend='PAYMENT', linewidth=1)\n",
    "plt.xticks(range(3), list(df['month'].unique()), rotation=45)"
   ]
  },
  {
   "cell_type": "markdown",
   "metadata": {},
   "source": [
    "## Weekly txn"
   ]
  },
  {
   "cell_type": "markdown",
   "metadata": {},
   "source": [
    "Weekly txn amount per types"
   ]
  },
  {
   "cell_type": "code",
   "execution_count": 66,
   "metadata": {
    "ExecuteTime": {
     "end_time": "2020-07-29T16:23:57.366351Z",
     "start_time": "2020-07-29T16:23:57.288398Z"
    },
    "scrolled": false
   },
   "outputs": [
    {
     "data": {
      "text/html": [
       "<div>\n",
       "<style scoped>\n",
       "    .dataframe tbody tr th:only-of-type {\n",
       "        vertical-align: middle;\n",
       "    }\n",
       "\n",
       "    .dataframe tbody tr th {\n",
       "        vertical-align: top;\n",
       "    }\n",
       "\n",
       "    .dataframe thead th {\n",
       "        text-align: right;\n",
       "    }\n",
       "</style>\n",
       "<table border=\"1\" class=\"dataframe\">\n",
       "  <thead>\n",
       "    <tr style=\"text-align: right;\">\n",
       "      <th>week</th>\n",
       "      <th>Week 31</th>\n",
       "      <th>Week 32</th>\n",
       "      <th>Week 33</th>\n",
       "      <th>Week 34</th>\n",
       "      <th>Week 35</th>\n",
       "      <th>Week 36</th>\n",
       "      <th>Week 37</th>\n",
       "      <th>Week 38</th>\n",
       "      <th>Week 39</th>\n",
       "      <th>Week 40</th>\n",
       "      <th>Week 41</th>\n",
       "      <th>Week 42</th>\n",
       "      <th>Week 43</th>\n",
       "      <th>Week 44</th>\n",
       "      <th>Total</th>\n",
       "    </tr>\n",
       "    <tr>\n",
       "      <th>txn_description</th>\n",
       "      <th></th>\n",
       "      <th></th>\n",
       "      <th></th>\n",
       "      <th></th>\n",
       "      <th></th>\n",
       "      <th></th>\n",
       "      <th></th>\n",
       "      <th></th>\n",
       "      <th></th>\n",
       "      <th></th>\n",
       "      <th></th>\n",
       "      <th></th>\n",
       "      <th></th>\n",
       "      <th></th>\n",
       "      <th></th>\n",
       "    </tr>\n",
       "  </thead>\n",
       "  <tbody>\n",
       "    <tr>\n",
       "      <th>INTER BANK</th>\n",
       "      <td>64.564103</td>\n",
       "      <td>89.571429</td>\n",
       "      <td>59.040000</td>\n",
       "      <td>83.561404</td>\n",
       "      <td>86.211538</td>\n",
       "      <td>89.473684</td>\n",
       "      <td>111.719298</td>\n",
       "      <td>109.724138</td>\n",
       "      <td>65.129630</td>\n",
       "      <td>75.767857</td>\n",
       "      <td>85.706897</td>\n",
       "      <td>96.300000</td>\n",
       "      <td>115.830769</td>\n",
       "      <td>31.695652</td>\n",
       "      <td>86.699461</td>\n",
       "    </tr>\n",
       "    <tr>\n",
       "      <th>PAY/SALARY</th>\n",
       "      <td>1805.537105</td>\n",
       "      <td>1925.066765</td>\n",
       "      <td>1869.501034</td>\n",
       "      <td>2019.022319</td>\n",
       "      <td>1731.627385</td>\n",
       "      <td>1925.066765</td>\n",
       "      <td>1832.280597</td>\n",
       "      <td>1966.508406</td>\n",
       "      <td>1871.164559</td>\n",
       "      <td>1880.985294</td>\n",
       "      <td>1731.627385</td>\n",
       "      <td>2149.056667</td>\n",
       "      <td>1915.218696</td>\n",
       "      <td>1867.229744</td>\n",
       "      <td>1898.728029</td>\n",
       "    </tr>\n",
       "    <tr>\n",
       "      <th>PAYMENT</th>\n",
       "      <td>63.761194</td>\n",
       "      <td>71.087629</td>\n",
       "      <td>68.108571</td>\n",
       "      <td>61.702703</td>\n",
       "      <td>70.765306</td>\n",
       "      <td>86.512195</td>\n",
       "      <td>95.582160</td>\n",
       "      <td>84.441176</td>\n",
       "      <td>86.484848</td>\n",
       "      <td>79.451456</td>\n",
       "      <td>85.441860</td>\n",
       "      <td>65.843137</td>\n",
       "      <td>91.895238</td>\n",
       "      <td>38.426230</td>\n",
       "      <td>77.613077</td>\n",
       "    </tr>\n",
       "    <tr>\n",
       "      <th>PHONE BANK</th>\n",
       "      <td>54.250000</td>\n",
       "      <td>90.444444</td>\n",
       "      <td>303.285714</td>\n",
       "      <td>78.375000</td>\n",
       "      <td>44.333333</td>\n",
       "      <td>71.111111</td>\n",
       "      <td>44.333333</td>\n",
       "      <td>268.800000</td>\n",
       "      <td>64.000000</td>\n",
       "      <td>99.500000</td>\n",
       "      <td>44.333333</td>\n",
       "      <td>74.125000</td>\n",
       "      <td>78.375000</td>\n",
       "      <td>48.666667</td>\n",
       "      <td>106.099010</td>\n",
       "    </tr>\n",
       "    <tr>\n",
       "      <th>POS</th>\n",
       "      <td>53.218777</td>\n",
       "      <td>44.291811</td>\n",
       "      <td>35.222152</td>\n",
       "      <td>30.577409</td>\n",
       "      <td>34.831197</td>\n",
       "      <td>40.407162</td>\n",
       "      <td>37.158106</td>\n",
       "      <td>34.165288</td>\n",
       "      <td>32.562996</td>\n",
       "      <td>34.866327</td>\n",
       "      <td>54.749682</td>\n",
       "      <td>65.667310</td>\n",
       "      <td>34.733925</td>\n",
       "      <td>29.541068</td>\n",
       "      <td>40.407412</td>\n",
       "    </tr>\n",
       "    <tr>\n",
       "      <th>SALES-POS</th>\n",
       "      <td>38.167636</td>\n",
       "      <td>30.300397</td>\n",
       "      <td>33.350899</td>\n",
       "      <td>30.969500</td>\n",
       "      <td>35.277692</td>\n",
       "      <td>52.171531</td>\n",
       "      <td>45.062483</td>\n",
       "      <td>48.968862</td>\n",
       "      <td>55.466437</td>\n",
       "      <td>32.107714</td>\n",
       "      <td>34.812757</td>\n",
       "      <td>36.668252</td>\n",
       "      <td>46.611828</td>\n",
       "      <td>33.931262</td>\n",
       "      <td>39.909789</td>\n",
       "    </tr>\n",
       "    <tr>\n",
       "      <th>Total</th>\n",
       "      <td>151.315346</td>\n",
       "      <td>191.737796</td>\n",
       "      <td>180.216372</td>\n",
       "      <td>189.795859</td>\n",
       "      <td>162.706660</td>\n",
       "      <td>194.403141</td>\n",
       "      <td>186.912108</td>\n",
       "      <td>198.120488</td>\n",
       "      <td>187.498859</td>\n",
       "      <td>179.005933</td>\n",
       "      <td>174.715065</td>\n",
       "      <td>217.294899</td>\n",
       "      <td>196.041241</td>\n",
       "      <td>248.730753</td>\n",
       "      <td>187.933588</td>\n",
       "    </tr>\n",
       "  </tbody>\n",
       "</table>\n",
       "</div>"
      ],
      "text/plain": [
       "week                 Week 31      Week 32      Week 33      Week 34  \\\n",
       "txn_description                                                       \n",
       "INTER BANK         64.564103    89.571429    59.040000    83.561404   \n",
       "PAY/SALARY       1805.537105  1925.066765  1869.501034  2019.022319   \n",
       "PAYMENT            63.761194    71.087629    68.108571    61.702703   \n",
       "PHONE BANK         54.250000    90.444444   303.285714    78.375000   \n",
       "POS                53.218777    44.291811    35.222152    30.577409   \n",
       "SALES-POS          38.167636    30.300397    33.350899    30.969500   \n",
       "Total             151.315346   191.737796   180.216372   189.795859   \n",
       "\n",
       "week                 Week 35      Week 36      Week 37      Week 38  \\\n",
       "txn_description                                                       \n",
       "INTER BANK         86.211538    89.473684   111.719298   109.724138   \n",
       "PAY/SALARY       1731.627385  1925.066765  1832.280597  1966.508406   \n",
       "PAYMENT            70.765306    86.512195    95.582160    84.441176   \n",
       "PHONE BANK         44.333333    71.111111    44.333333   268.800000   \n",
       "POS                34.831197    40.407162    37.158106    34.165288   \n",
       "SALES-POS          35.277692    52.171531    45.062483    48.968862   \n",
       "Total             162.706660   194.403141   186.912108   198.120488   \n",
       "\n",
       "week                 Week 39      Week 40      Week 41      Week 42  \\\n",
       "txn_description                                                       \n",
       "INTER BANK         65.129630    75.767857    85.706897    96.300000   \n",
       "PAY/SALARY       1871.164559  1880.985294  1731.627385  2149.056667   \n",
       "PAYMENT            86.484848    79.451456    85.441860    65.843137   \n",
       "PHONE BANK         64.000000    99.500000    44.333333    74.125000   \n",
       "POS                32.562996    34.866327    54.749682    65.667310   \n",
       "SALES-POS          55.466437    32.107714    34.812757    36.668252   \n",
       "Total             187.498859   179.005933   174.715065   217.294899   \n",
       "\n",
       "week                 Week 43      Week 44        Total  \n",
       "txn_description                                         \n",
       "INTER BANK        115.830769    31.695652    86.699461  \n",
       "PAY/SALARY       1915.218696  1867.229744  1898.728029  \n",
       "PAYMENT            91.895238    38.426230    77.613077  \n",
       "PHONE BANK         78.375000    48.666667   106.099010  \n",
       "POS                34.733925    29.541068    40.407412  \n",
       "SALES-POS          46.611828    33.931262    39.909789  \n",
       "Total             196.041241   248.730753   187.933588  "
      ]
     },
     "execution_count": 66,
     "metadata": {},
     "output_type": "execute_result"
    }
   ],
   "source": [
    "week_amount = pd.pivot_table(data=df, values='amount', index='txn_description', columns='week',\n",
    "                             margins=True, margins_name='Total')\n",
    "week_amount"
   ]
  },
  {
   "cell_type": "code",
   "execution_count": 67,
   "metadata": {
    "ExecuteTime": {
     "end_time": "2020-07-29T16:23:57.430310Z",
     "start_time": "2020-07-29T16:23:57.368349Z"
    }
   },
   "outputs": [],
   "source": [
    "avg_week_amount = np.mean(week_amount.iloc[-1,:-1])"
   ]
  },
  {
   "cell_type": "markdown",
   "metadata": {},
   "source": [
    "Note unusual flux:\n",
    "* Under-avg: Week 31(!), Week 35\n",
    "* Exceed-avg: Week 42, Week 44(!)\n",
    "* Biggest mvt: Week 44 saw 26.88% increase from Week 43"
   ]
  },
  {
   "cell_type": "code",
   "execution_count": 68,
   "metadata": {
    "ExecuteTime": {
     "end_time": "2020-07-29T16:23:58.762486Z",
     "start_time": "2020-07-29T16:23:57.432309Z"
    },
    "scrolled": false
   },
   "outputs": [
    {
     "data": {
      "text/plain": [
       "Text(0.5, 1.0, 'Average Weekly Amount of Transactions')"
      ]
     },
     "execution_count": 68,
     "metadata": {},
     "output_type": "execute_result"
    },
    {
     "data": {
      "image/png": "[encoded data removed]",
      "text/plain": [
       "<Figure size 432x288 with 1 Axes>"
      ]
     },
     "metadata": {
      "needs_background": "light"
     },
     "output_type": "display_data"
    }
   ],
   "source": [
    "sns.lineplot(data=df, x='week', y='amount')\n",
    "plt.axhline(avg_week_amount, linestyle='dashed', color='r', linewidth=1)\n",
    "plt.xticks(rotation='45')\n",
    "plt.xlabel('Week')\n",
    "plt.ylabel('Amount')\n",
    "plt.title('Average Weekly Amount of Transactions')"
   ]
  },
  {
   "cell_type": "markdown",
   "metadata": {},
   "source": [
    "Weekly txn freq per types"
   ]
  },
  {
   "cell_type": "code",
   "execution_count": 69,
   "metadata": {
    "ExecuteTime": {
     "end_time": "2020-07-29T16:23:58.842436Z",
     "start_time": "2020-07-29T16:23:58.764483Z"
    },
    "scrolled": false
   },
   "outputs": [
    {
     "data": {
      "text/html": [
       "<div>\n",
       "<style scoped>\n",
       "    .dataframe tbody tr th:only-of-type {\n",
       "        vertical-align: middle;\n",
       "    }\n",
       "\n",
       "    .dataframe tbody tr th {\n",
       "        vertical-align: top;\n",
       "    }\n",
       "\n",
       "    .dataframe thead th {\n",
       "        text-align: right;\n",
       "    }\n",
       "</style>\n",
       "<table border=\"1\" class=\"dataframe\">\n",
       "  <thead>\n",
       "    <tr style=\"text-align: right;\">\n",
       "      <th>week</th>\n",
       "      <th>Week 31</th>\n",
       "      <th>Week 32</th>\n",
       "      <th>Week 33</th>\n",
       "      <th>Week 34</th>\n",
       "      <th>Week 35</th>\n",
       "      <th>Week 36</th>\n",
       "      <th>Week 37</th>\n",
       "      <th>Week 38</th>\n",
       "      <th>Week 39</th>\n",
       "      <th>Week 40</th>\n",
       "      <th>Week 41</th>\n",
       "      <th>Week 42</th>\n",
       "      <th>Week 43</th>\n",
       "      <th>Week 44</th>\n",
       "      <th>Total</th>\n",
       "    </tr>\n",
       "    <tr>\n",
       "      <th>txn_description</th>\n",
       "      <th></th>\n",
       "      <th></th>\n",
       "      <th></th>\n",
       "      <th></th>\n",
       "      <th></th>\n",
       "      <th></th>\n",
       "      <th></th>\n",
       "      <th></th>\n",
       "      <th></th>\n",
       "      <th></th>\n",
       "      <th></th>\n",
       "      <th></th>\n",
       "      <th></th>\n",
       "      <th></th>\n",
       "      <th></th>\n",
       "    </tr>\n",
       "  </thead>\n",
       "  <tbody>\n",
       "    <tr>\n",
       "      <th>INTER BANK</th>\n",
       "      <td>39</td>\n",
       "      <td>56</td>\n",
       "      <td>50</td>\n",
       "      <td>57</td>\n",
       "      <td>52</td>\n",
       "      <td>57</td>\n",
       "      <td>57</td>\n",
       "      <td>58</td>\n",
       "      <td>54</td>\n",
       "      <td>56</td>\n",
       "      <td>58</td>\n",
       "      <td>60</td>\n",
       "      <td>65</td>\n",
       "      <td>23</td>\n",
       "      <td>742</td>\n",
       "    </tr>\n",
       "    <tr>\n",
       "      <th>PAY/SALARY</th>\n",
       "      <td>38</td>\n",
       "      <td>68</td>\n",
       "      <td>58</td>\n",
       "      <td>69</td>\n",
       "      <td>65</td>\n",
       "      <td>68</td>\n",
       "      <td>67</td>\n",
       "      <td>69</td>\n",
       "      <td>68</td>\n",
       "      <td>68</td>\n",
       "      <td>65</td>\n",
       "      <td>72</td>\n",
       "      <td>69</td>\n",
       "      <td>39</td>\n",
       "      <td>883</td>\n",
       "    </tr>\n",
       "    <tr>\n",
       "      <th>PAYMENT</th>\n",
       "      <td>134</td>\n",
       "      <td>194</td>\n",
       "      <td>175</td>\n",
       "      <td>185</td>\n",
       "      <td>196</td>\n",
       "      <td>205</td>\n",
       "      <td>213</td>\n",
       "      <td>204</td>\n",
       "      <td>198</td>\n",
       "      <td>206</td>\n",
       "      <td>215</td>\n",
       "      <td>204</td>\n",
       "      <td>210</td>\n",
       "      <td>61</td>\n",
       "      <td>2600</td>\n",
       "    </tr>\n",
       "    <tr>\n",
       "      <th>PHONE BANK</th>\n",
       "      <td>4</td>\n",
       "      <td>9</td>\n",
       "      <td>7</td>\n",
       "      <td>8</td>\n",
       "      <td>6</td>\n",
       "      <td>9</td>\n",
       "      <td>6</td>\n",
       "      <td>10</td>\n",
       "      <td>7</td>\n",
       "      <td>10</td>\n",
       "      <td>6</td>\n",
       "      <td>8</td>\n",
       "      <td>8</td>\n",
       "      <td>3</td>\n",
       "      <td>101</td>\n",
       "    </tr>\n",
       "    <tr>\n",
       "      <th>POS</th>\n",
       "      <td>229</td>\n",
       "      <td>265</td>\n",
       "      <td>223</td>\n",
       "      <td>301</td>\n",
       "      <td>309</td>\n",
       "      <td>303</td>\n",
       "      <td>301</td>\n",
       "      <td>312</td>\n",
       "      <td>277</td>\n",
       "      <td>294</td>\n",
       "      <td>283</td>\n",
       "      <td>290</td>\n",
       "      <td>293</td>\n",
       "      <td>103</td>\n",
       "      <td>3783</td>\n",
       "    </tr>\n",
       "    <tr>\n",
       "      <th>SALES-POS</th>\n",
       "      <td>220</td>\n",
       "      <td>302</td>\n",
       "      <td>278</td>\n",
       "      <td>300</td>\n",
       "      <td>312</td>\n",
       "      <td>294</td>\n",
       "      <td>286</td>\n",
       "      <td>290</td>\n",
       "      <td>334</td>\n",
       "      <td>315</td>\n",
       "      <td>301</td>\n",
       "      <td>309</td>\n",
       "      <td>290</td>\n",
       "      <td>103</td>\n",
       "      <td>3934</td>\n",
       "    </tr>\n",
       "    <tr>\n",
       "      <th>Total</th>\n",
       "      <td>664</td>\n",
       "      <td>894</td>\n",
       "      <td>791</td>\n",
       "      <td>920</td>\n",
       "      <td>940</td>\n",
       "      <td>936</td>\n",
       "      <td>930</td>\n",
       "      <td>943</td>\n",
       "      <td>938</td>\n",
       "      <td>949</td>\n",
       "      <td>928</td>\n",
       "      <td>943</td>\n",
       "      <td>935</td>\n",
       "      <td>332</td>\n",
       "      <td>12043</td>\n",
       "    </tr>\n",
       "  </tbody>\n",
       "</table>\n",
       "</div>"
      ],
      "text/plain": [
       "week             Week 31  Week 32  Week 33  Week 34  Week 35  Week 36  \\\n",
       "txn_description                                                         \n",
       "INTER BANK            39       56       50       57       52       57   \n",
       "PAY/SALARY            38       68       58       69       65       68   \n",
       "PAYMENT              134      194      175      185      196      205   \n",
       "PHONE BANK             4        9        7        8        6        9   \n",
       "POS                  229      265      223      301      309      303   \n",
       "SALES-POS            220      302      278      300      312      294   \n",
       "Total                664      894      791      920      940      936   \n",
       "\n",
       "week             Week 37  Week 38  Week 39  Week 40  Week 41  Week 42  \\\n",
       "txn_description                                                         \n",
       "INTER BANK            57       58       54       56       58       60   \n",
       "PAY/SALARY            67       69       68       68       65       72   \n",
       "PAYMENT              213      204      198      206      215      204   \n",
       "PHONE BANK             6       10        7       10        6        8   \n",
       "POS                  301      312      277      294      283      290   \n",
       "SALES-POS            286      290      334      315      301      309   \n",
       "Total                930      943      938      949      928      943   \n",
       "\n",
       "week             Week 43  Week 44  Total  \n",
       "txn_description                           \n",
       "INTER BANK            65       23    742  \n",
       "PAY/SALARY            69       39    883  \n",
       "PAYMENT              210       61   2600  \n",
       "PHONE BANK             8        3    101  \n",
       "POS                  293      103   3783  \n",
       "SALES-POS            290      103   3934  \n",
       "Total                935      332  12043  "
      ]
     },
     "execution_count": 69,
     "metadata": {},
     "output_type": "execute_result"
    }
   ],
   "source": [
    "week_freq = pd.pivot_table(data=df, values='amount', index='txn_description', columns='week', aggfunc='count',\n",
    "                           margins=True, margins_name='Total')\n",
    "week_freq"
   ]
  },
  {
   "cell_type": "code",
   "execution_count": 70,
   "metadata": {
    "ExecuteTime": {
     "end_time": "2020-07-29T16:23:58.906397Z",
     "start_time": "2020-07-29T16:23:58.844435Z"
    }
   },
   "outputs": [],
   "source": [
    "avg_week_freq = np.mean(week_freq.iloc[-1,:-1])"
   ]
  },
  {
   "cell_type": "markdown",
   "metadata": {},
   "source": [
    "Suprisingly low txn freq at Week 44, when txn amount peaks\n",
    "\n",
    "Movement in line with payments, pos, sales-pos"
   ]
  },
  {
   "cell_type": "code",
   "execution_count": 71,
   "metadata": {
    "ExecuteTime": {
     "end_time": "2020-07-29T16:23:59.271170Z",
     "start_time": "2020-07-29T16:23:58.908396Z"
    }
   },
   "outputs": [
    {
     "data": {
      "text/plain": [
       "<matplotlib.legend.Legend at 0xae12a10>"
      ]
     },
     "execution_count": 71,
     "metadata": {},
     "output_type": "execute_result"
    },
    {
     "data": {
      "image/png": "[encoded data removed]",
      "text/plain": [
       "<Figure size 432x288 with 1 Axes>"
      ]
     },
     "metadata": {
      "needs_background": "light"
     },
     "output_type": "display_data"
    }
   ],
   "source": [
    "week_freq.iloc[-1,:-1].plot(legend='TOTAL')\n",
    "week_freq.iloc[2,:-1].plot(kind='line', color='y', legend='PAYMENT', linewidth=1)\n",
    "week_freq.iloc[4,:-1].plot(kind='line', color='g', legend='POS', linewidth=1)\n",
    "week_freq.iloc[5,:-1].plot(kind='line', color='r', legend='SALES-POS', linewidth=1)\n",
    "plt.axhline(avg_week_freq, linestyle='dashed', color='r', linewidth=1)\n",
    "plt.xticks(range(15), list(df['week'].unique()), rotation=45)\n",
    "plt.legend(loc='best')"
   ]
  },
  {
   "cell_type": "markdown",
   "metadata": {},
   "source": [
    "## Day-of-week Txn"
   ]
  },
  {
   "cell_type": "markdown",
   "metadata": {},
   "source": [
    "Day-of-week txn amount per types"
   ]
  },
  {
   "cell_type": "code",
   "execution_count": 72,
   "metadata": {
    "ExecuteTime": {
     "end_time": "2020-07-29T16:23:59.333132Z",
     "start_time": "2020-07-29T16:23:59.273169Z"
    },
    "scrolled": false
   },
   "outputs": [
    {
     "data": {
      "text/html": [
       "<div>\n",
       "<style scoped>\n",
       "    .dataframe tbody tr th:only-of-type {\n",
       "        vertical-align: middle;\n",
       "    }\n",
       "\n",
       "    .dataframe tbody tr th {\n",
       "        vertical-align: top;\n",
       "    }\n",
       "\n",
       "    .dataframe thead th {\n",
       "        text-align: right;\n",
       "    }\n",
       "</style>\n",
       "<table border=\"1\" class=\"dataframe\">\n",
       "  <thead>\n",
       "    <tr style=\"text-align: right;\">\n",
       "      <th>day</th>\n",
       "      <th>Monday</th>\n",
       "      <th>Tuesday</th>\n",
       "      <th>Wednesday</th>\n",
       "      <th>Thursday</th>\n",
       "      <th>Friday</th>\n",
       "      <th>Saturday</th>\n",
       "      <th>Sunday</th>\n",
       "    </tr>\n",
       "    <tr>\n",
       "      <th>txn_description</th>\n",
       "      <th></th>\n",
       "      <th></th>\n",
       "      <th></th>\n",
       "      <th></th>\n",
       "      <th></th>\n",
       "      <th></th>\n",
       "      <th></th>\n",
       "    </tr>\n",
       "  </thead>\n",
       "  <tbody>\n",
       "    <tr>\n",
       "      <th>INTER BANK</th>\n",
       "      <td>78.845528</td>\n",
       "      <td>60.917160</td>\n",
       "      <td>81.080460</td>\n",
       "      <td>95.500000</td>\n",
       "      <td>105.903226</td>\n",
       "      <td>96.663934</td>\n",
       "      <td>113.989899</td>\n",
       "    </tr>\n",
       "    <tr>\n",
       "      <th>PAY/SALARY</th>\n",
       "      <td>1595.270813</td>\n",
       "      <td>1789.362093</td>\n",
       "      <td>1704.373497</td>\n",
       "      <td>2127.712338</td>\n",
       "      <td>NaN</td>\n",
       "      <td>NaN</td>\n",
       "      <td>2136.075604</td>\n",
       "    </tr>\n",
       "    <tr>\n",
       "      <th>PAYMENT</th>\n",
       "      <td>81.594203</td>\n",
       "      <td>75.789116</td>\n",
       "      <td>78.088235</td>\n",
       "      <td>65.995745</td>\n",
       "      <td>89.085034</td>\n",
       "      <td>73.515152</td>\n",
       "      <td>85.733119</td>\n",
       "    </tr>\n",
       "    <tr>\n",
       "      <th>PHONE BANK</th>\n",
       "      <td>87.055556</td>\n",
       "      <td>59.466667</td>\n",
       "      <td>59.576923</td>\n",
       "      <td>140.200000</td>\n",
       "      <td>264.687500</td>\n",
       "      <td>140.600000</td>\n",
       "      <td>177.000000</td>\n",
       "    </tr>\n",
       "    <tr>\n",
       "      <th>POS</th>\n",
       "      <td>42.010773</td>\n",
       "      <td>37.674286</td>\n",
       "      <td>40.231012</td>\n",
       "      <td>40.860702</td>\n",
       "      <td>40.565276</td>\n",
       "      <td>46.670563</td>\n",
       "      <td>32.906102</td>\n",
       "    </tr>\n",
       "    <tr>\n",
       "      <th>SALES-POS</th>\n",
       "      <td>40.827635</td>\n",
       "      <td>41.259661</td>\n",
       "      <td>40.579226</td>\n",
       "      <td>34.919789</td>\n",
       "      <td>43.156204</td>\n",
       "      <td>38.733811</td>\n",
       "      <td>40.307088</td>\n",
       "    </tr>\n",
       "    <tr>\n",
       "      <th>Total</th>\n",
       "      <td>221.576456</td>\n",
       "      <td>195.215570</td>\n",
       "      <td>184.010422</td>\n",
       "      <td>249.353517</td>\n",
       "      <td>54.419286</td>\n",
       "      <td>53.015845</td>\n",
       "      <td>373.221000</td>\n",
       "    </tr>\n",
       "  </tbody>\n",
       "</table>\n",
       "</div>"
      ],
      "text/plain": [
       "day                   Monday      Tuesday    Wednesday     Thursday  \\\n",
       "txn_description                                                       \n",
       "INTER BANK         78.845528    60.917160    81.080460    95.500000   \n",
       "PAY/SALARY       1595.270813  1789.362093  1704.373497  2127.712338   \n",
       "PAYMENT            81.594203    75.789116    78.088235    65.995745   \n",
       "PHONE BANK         87.055556    59.466667    59.576923   140.200000   \n",
       "POS                42.010773    37.674286    40.231012    40.860702   \n",
       "SALES-POS          40.827635    41.259661    40.579226    34.919789   \n",
       "Total             221.576456   195.215570   184.010422   249.353517   \n",
       "\n",
       "day                  Friday    Saturday       Sunday  \n",
       "txn_description                                       \n",
       "INTER BANK       105.903226   96.663934   113.989899  \n",
       "PAY/SALARY              NaN         NaN  2136.075604  \n",
       "PAYMENT           89.085034   73.515152    85.733119  \n",
       "PHONE BANK       264.687500  140.600000   177.000000  \n",
       "POS               40.565276   46.670563    32.906102  \n",
       "SALES-POS         43.156204   38.733811    40.307088  \n",
       "Total             54.419286   53.015845   373.221000  "
      ]
     },
     "execution_count": 72,
     "metadata": {},
     "output_type": "execute_result"
    }
   ],
   "source": [
    "day_amount = pd.pivot_table(data=df, values='amount', index='txn_description', columns='day',\n",
    "                             margins=True, margins_name='Total')\n",
    "day_amount = day_amount.reindex(columns=['Monday', 'Tuesday', 'Wednesday', 'Thursday', 'Friday', 'Saturday', 'Sunday'])\n",
    "day_amount"
   ]
  },
  {
   "cell_type": "code",
   "execution_count": 73,
   "metadata": {
    "ExecuteTime": {
     "end_time": "2020-07-29T16:23:59.429072Z",
     "start_time": "2020-07-29T16:23:59.335131Z"
    }
   },
   "outputs": [],
   "source": [
    "avg_day_amount = np.mean(day_amount.iloc[-1,:])"
   ]
  },
  {
   "cell_type": "markdown",
   "metadata": {},
   "source": [
    "Highest txn amount on Sunday and lowest on Friday & Saturday, mostly due to salary"
   ]
  },
  {
   "cell_type": "code",
   "execution_count": 74,
   "metadata": {
    "ExecuteTime": {
     "end_time": "2020-07-29T16:24:00.456436Z",
     "start_time": "2020-07-29T16:23:59.431072Z"
    },
    "scrolled": false
   },
   "outputs": [
    {
     "data": {
      "text/plain": [
       "Text(0.5, 1.0, 'Average Daily Amount of Transactions')"
      ]
     },
     "execution_count": 74,
     "metadata": {},
     "output_type": "execute_result"
    },
    {
     "data": {
      "image/png": "[encoded data removed]",
      "text/plain": [
       "<Figure size 432x288 with 1 Axes>"
      ]
     },
     "metadata": {
      "needs_background": "light"
     },
     "output_type": "display_data"
    }
   ],
   "source": [
    "sns.barplot(data=df, x='day', y='amount', order=['Monday', 'Tuesday', 'Wednesday', 'Thursday', 'Friday', 'Saturday', 'Sunday'])\n",
    "plt.axhline(avg_day_amount, linestyle='dashed', color='b', linewidth=2)\n",
    "plt.xticks(rotation='45')\n",
    "plt.xlabel('Day')\n",
    "plt.ylabel('Amount')\n",
    "plt.title('Average Daily Amount of Transactions')"
   ]
  },
  {
   "cell_type": "markdown",
   "metadata": {},
   "source": [
    "Day-of-week txn freq per types"
   ]
  },
  {
   "cell_type": "code",
   "execution_count": 75,
   "metadata": {
    "ExecuteTime": {
     "end_time": "2020-07-29T16:24:00.551380Z",
     "start_time": "2020-07-29T16:24:00.458435Z"
    },
    "scrolled": false
   },
   "outputs": [
    {
     "data": {
      "text/html": [
       "<div>\n",
       "<style scoped>\n",
       "    .dataframe tbody tr th:only-of-type {\n",
       "        vertical-align: middle;\n",
       "    }\n",
       "\n",
       "    .dataframe tbody tr th {\n",
       "        vertical-align: top;\n",
       "    }\n",
       "\n",
       "    .dataframe thead th {\n",
       "        text-align: right;\n",
       "    }\n",
       "</style>\n",
       "<table border=\"1\" class=\"dataframe\">\n",
       "  <thead>\n",
       "    <tr style=\"text-align: right;\">\n",
       "      <th>day</th>\n",
       "      <th>Monday</th>\n",
       "      <th>Tuesday</th>\n",
       "      <th>Wednesday</th>\n",
       "      <th>Thursday</th>\n",
       "      <th>Friday</th>\n",
       "      <th>Saturday</th>\n",
       "      <th>Sunday</th>\n",
       "    </tr>\n",
       "    <tr>\n",
       "      <th>txn_description</th>\n",
       "      <th></th>\n",
       "      <th></th>\n",
       "      <th></th>\n",
       "      <th></th>\n",
       "      <th></th>\n",
       "      <th></th>\n",
       "      <th></th>\n",
       "    </tr>\n",
       "  </thead>\n",
       "  <tbody>\n",
       "    <tr>\n",
       "      <th>INTER BANK</th>\n",
       "      <td>123.0</td>\n",
       "      <td>169.0</td>\n",
       "      <td>87.0</td>\n",
       "      <td>80.0</td>\n",
       "      <td>62.0</td>\n",
       "      <td>122.0</td>\n",
       "      <td>99.0</td>\n",
       "    </tr>\n",
       "    <tr>\n",
       "      <th>PAY/SALARY</th>\n",
       "      <td>160.0</td>\n",
       "      <td>172.0</td>\n",
       "      <td>143.0</td>\n",
       "      <td>201.0</td>\n",
       "      <td>NaN</td>\n",
       "      <td>NaN</td>\n",
       "      <td>207.0</td>\n",
       "    </tr>\n",
       "    <tr>\n",
       "      <th>PAYMENT</th>\n",
       "      <td>345.0</td>\n",
       "      <td>441.0</td>\n",
       "      <td>442.0</td>\n",
       "      <td>470.0</td>\n",
       "      <td>294.0</td>\n",
       "      <td>297.0</td>\n",
       "      <td>311.0</td>\n",
       "    </tr>\n",
       "    <tr>\n",
       "      <th>PHONE BANK</th>\n",
       "      <td>18.0</td>\n",
       "      <td>30.0</td>\n",
       "      <td>26.0</td>\n",
       "      <td>5.0</td>\n",
       "      <td>16.0</td>\n",
       "      <td>5.0</td>\n",
       "      <td>1.0</td>\n",
       "    </tr>\n",
       "    <tr>\n",
       "      <th>POS</th>\n",
       "      <td>414.0</td>\n",
       "      <td>602.0</td>\n",
       "      <td>573.0</td>\n",
       "      <td>655.0</td>\n",
       "      <td>652.0</td>\n",
       "      <td>533.0</td>\n",
       "      <td>354.0</td>\n",
       "    </tr>\n",
       "    <tr>\n",
       "      <th>SALES-POS</th>\n",
       "      <td>427.0</td>\n",
       "      <td>649.0</td>\n",
       "      <td>530.0</td>\n",
       "      <td>662.0</td>\n",
       "      <td>685.0</td>\n",
       "      <td>593.0</td>\n",
       "      <td>388.0</td>\n",
       "    </tr>\n",
       "    <tr>\n",
       "      <th>Total</th>\n",
       "      <td>1487.0</td>\n",
       "      <td>2063.0</td>\n",
       "      <td>1801.0</td>\n",
       "      <td>2073.0</td>\n",
       "      <td>1709.0</td>\n",
       "      <td>1550.0</td>\n",
       "      <td>1360.0</td>\n",
       "    </tr>\n",
       "  </tbody>\n",
       "</table>\n",
       "</div>"
      ],
      "text/plain": [
       "day              Monday  Tuesday  Wednesday  Thursday  Friday  Saturday  \\\n",
       "txn_description                                                           \n",
       "INTER BANK        123.0    169.0       87.0      80.0    62.0     122.0   \n",
       "PAY/SALARY        160.0    172.0      143.0     201.0     NaN       NaN   \n",
       "PAYMENT           345.0    441.0      442.0     470.0   294.0     297.0   \n",
       "PHONE BANK         18.0     30.0       26.0       5.0    16.0       5.0   \n",
       "POS               414.0    602.0      573.0     655.0   652.0     533.0   \n",
       "SALES-POS         427.0    649.0      530.0     662.0   685.0     593.0   \n",
       "Total            1487.0   2063.0     1801.0    2073.0  1709.0    1550.0   \n",
       "\n",
       "day              Sunday  \n",
       "txn_description          \n",
       "INTER BANK         99.0  \n",
       "PAY/SALARY        207.0  \n",
       "PAYMENT           311.0  \n",
       "PHONE BANK          1.0  \n",
       "POS               354.0  \n",
       "SALES-POS         388.0  \n",
       "Total            1360.0  "
      ]
     },
     "execution_count": 75,
     "metadata": {},
     "output_type": "execute_result"
    }
   ],
   "source": [
    "day_freq = pd.pivot_table(data=df, values='amount', index='txn_description', columns='day', aggfunc='count',\n",
    "                           margins=True, margins_name='Total')\n",
    "day_freq = day_freq.reindex(columns=['Monday', 'Tuesday', 'Wednesday', 'Thursday', 'Friday', 'Saturday', 'Sunday'])\n",
    "day_freq"
   ]
  },
  {
   "cell_type": "code",
   "execution_count": 76,
   "metadata": {
    "ExecuteTime": {
     "end_time": "2020-07-29T16:24:00.756252Z",
     "start_time": "2020-07-29T16:24:00.554376Z"
    }
   },
   "outputs": [],
   "source": [
    "avg_day_freq = np.mean(day_freq.iloc[-1,:])"
   ]
  },
  {
   "cell_type": "markdown",
   "metadata": {},
   "source": [
    "Sunday is high amount low freq day\n",
    "\n",
    "Busiest days freq-wise are Tuesday, Thursday but the amounts are just average"
   ]
  },
  {
   "cell_type": "code",
   "execution_count": 77,
   "metadata": {
    "ExecuteTime": {
     "end_time": "2020-07-29T16:24:01.185984Z",
     "start_time": "2020-07-29T16:24:00.759248Z"
    },
    "scrolled": false
   },
   "outputs": [
    {
     "data": {
      "text/plain": [
       "<matplotlib.legend.Legend at 0xb0187d0>"
      ]
     },
     "execution_count": 77,
     "metadata": {},
     "output_type": "execute_result"
    },
    {
     "data": {
      "image/png": "[encoded data removed]",
      "text/plain": [
       "<Figure size 432x288 with 1 Axes>"
      ]
     },
     "metadata": {
      "needs_background": "light"
     },
     "output_type": "display_data"
    }
   ],
   "source": [
    "day_freq.iloc[-1,:].plot(kind='bar', legend='TOTAL')\n",
    "day_freq.iloc[2,:].plot(kind='line', color='y', legend='PAYMENT', linewidth=1)\n",
    "day_freq.iloc[4,:].plot(kind='line', color='m', legend='POS', linewidth=1)\n",
    "day_freq.iloc[5,:].plot(kind='line', color='b', legend='SALES-POS', linewidth=1)\n",
    "plt.axhline(avg_day_freq, linestyle='dashed', color='r', linewidth=2)\n",
    "plt.xticks(range(7), ['Monday', 'Tuesday', 'Wednesday', 'Thursday', 'Friday', 'Saturday', 'Sunday'], rotation=45)\n",
    "plt.legend(loc='best')"
   ]
  },
  {
   "cell_type": "code",
   "execution_count": 86,
   "metadata": {
    "ExecuteTime": {
     "end_time": "2020-07-29T16:29:53.235640Z",
     "start_time": "2020-07-29T16:29:53.201660Z"
    }
   },
   "outputs": [
    {
     "data": {
      "text/html": [
       "<div>\n",
       "<style scoped>\n",
       "    .dataframe tbody tr th:only-of-type {\n",
       "        vertical-align: middle;\n",
       "    }\n",
       "\n",
       "    .dataframe tbody tr th {\n",
       "        vertical-align: top;\n",
       "    }\n",
       "\n",
       "    .dataframe thead th {\n",
       "        text-align: right;\n",
       "    }\n",
       "</style>\n",
       "<table border=\"1\" class=\"dataframe\">\n",
       "  <thead>\n",
       "    <tr style=\"text-align: right;\">\n",
       "      <th></th>\n",
       "      <th></th>\n",
       "      <th>amount</th>\n",
       "      <th>debit</th>\n",
       "      <th>credit</th>\n",
       "    </tr>\n",
       "    <tr>\n",
       "      <th>date</th>\n",
       "      <th>day</th>\n",
       "      <th></th>\n",
       "      <th></th>\n",
       "      <th></th>\n",
       "    </tr>\n",
       "  </thead>\n",
       "  <tbody>\n",
       "    <tr>\n",
       "      <th>2018-08-01</th>\n",
       "      <th>Tuesday</th>\n",
       "      <td>218.014161</td>\n",
       "      <td>40.484964</td>\n",
       "      <td>177.529197</td>\n",
       "    </tr>\n",
       "    <tr>\n",
       "      <th>2018-08-02</th>\n",
       "      <th>Wednesday</th>\n",
       "      <td>143.331053</td>\n",
       "      <td>49.724276</td>\n",
       "      <td>93.606776</td>\n",
       "    </tr>\n",
       "    <tr>\n",
       "      <th>2018-08-03</th>\n",
       "      <th>Thursday</th>\n",
       "      <td>242.653376</td>\n",
       "      <td>51.184076</td>\n",
       "      <td>191.469299</td>\n",
       "    </tr>\n",
       "    <tr>\n",
       "      <th>2018-08-04</th>\n",
       "      <th>Friday</th>\n",
       "      <td>53.356356</td>\n",
       "      <td>53.356356</td>\n",
       "      <td>0.000000</td>\n",
       "    </tr>\n",
       "    <tr>\n",
       "      <th>2018-08-05</th>\n",
       "      <th>Saturday</th>\n",
       "      <td>44.265000</td>\n",
       "      <td>44.265000</td>\n",
       "      <td>0.000000</td>\n",
       "    </tr>\n",
       "    <tr>\n",
       "      <th>...</th>\n",
       "      <th>...</th>\n",
       "      <td>...</td>\n",
       "      <td>...</td>\n",
       "      <td>...</td>\n",
       "    </tr>\n",
       "    <tr>\n",
       "      <th>2018-10-27</th>\n",
       "      <th>Friday</th>\n",
       "      <td>50.155252</td>\n",
       "      <td>50.155252</td>\n",
       "      <td>0.000000</td>\n",
       "    </tr>\n",
       "    <tr>\n",
       "      <th>2018-10-28</th>\n",
       "      <th>Saturday</th>\n",
       "      <td>59.007762</td>\n",
       "      <td>59.007762</td>\n",
       "      <td>0.000000</td>\n",
       "    </tr>\n",
       "    <tr>\n",
       "      <th>2018-10-29</th>\n",
       "      <th>Sunday</th>\n",
       "      <td>377.932745</td>\n",
       "      <td>24.697843</td>\n",
       "      <td>353.234902</td>\n",
       "    </tr>\n",
       "    <tr>\n",
       "      <th>2018-10-30</th>\n",
       "      <th>Monday</th>\n",
       "      <td>247.891461</td>\n",
       "      <td>23.475506</td>\n",
       "      <td>224.415955</td>\n",
       "    </tr>\n",
       "    <tr>\n",
       "      <th>2018-10-31</th>\n",
       "      <th>Tuesday</th>\n",
       "      <td>155.795248</td>\n",
       "      <td>36.511702</td>\n",
       "      <td>119.283546</td>\n",
       "    </tr>\n",
       "  </tbody>\n",
       "</table>\n",
       "<p>91 rows × 3 columns</p>\n",
       "</div>"
      ],
      "text/plain": [
       "                          amount      debit      credit\n",
       "date       day                                         \n",
       "2018-08-01 Tuesday    218.014161  40.484964  177.529197\n",
       "2018-08-02 Wednesday  143.331053  49.724276   93.606776\n",
       "2018-08-03 Thursday   242.653376  51.184076  191.469299\n",
       "2018-08-04 Friday      53.356356  53.356356    0.000000\n",
       "2018-08-05 Saturday    44.265000  44.265000    0.000000\n",
       "...                          ...        ...         ...\n",
       "2018-10-27 Friday      50.155252  50.155252    0.000000\n",
       "2018-10-28 Saturday    59.007762  59.007762    0.000000\n",
       "2018-10-29 Sunday     377.932745  24.697843  353.234902\n",
       "2018-10-30 Monday     247.891461  23.475506  224.415955\n",
       "2018-10-31 Tuesday    155.795248  36.511702  119.283546\n",
       "\n",
       "[91 rows x 3 columns]"
      ]
     },
     "execution_count": 86,
     "metadata": {},
     "output_type": "execute_result"
    }
   ],
   "source": [
    "daily_amount = df.groupby(by=['date', 'day']).agg('mean')[['amount', 'debit', 'credit']]\n",
    "daily_amount"
   ]
  },
  {
   "cell_type": "code",
   "execution_count": 84,
   "metadata": {
    "ExecuteTime": {
     "end_time": "2020-07-29T16:27:14.909621Z",
     "start_time": "2020-07-29T16:27:14.499878Z"
    },
    "scrolled": false
   },
   "outputs": [
    {
     "data": {
      "text/plain": [
       "Text(0.5, 1.0, 'Daily Transaction Amounts during August-October 2018')"
      ]
     },
     "execution_count": 84,
     "metadata": {},
     "output_type": "execute_result"
    },
    {
     "data": {
      "image/png": "[encoded data removed]",
      "text/plain": [
       "<Figure size 1440x720 with 1 Axes>"
      ]
     },
     "metadata": {
      "needs_background": "light"
     },
     "output_type": "display_data"
    }
   ],
   "source": [
    "plt.figure(figsize=(20,10))\n",
    "for i, k in zip(range(3), ['amount', 'debit', 'credit']):\n",
    "    daily_amount.iloc[:,i].plot(legend=k)\n",
    "plt.xlabel('Date')\n",
    "plt.ylabel('AUD')\n",
    "plt.title('Daily Transaction Amounts during August-October 2018')"
   ]
  },
  {
   "cell_type": "code",
   "execution_count": 80,
   "metadata": {
    "ExecuteTime": {
     "end_time": "2020-07-29T16:24:02.089175Z",
     "start_time": "2020-07-29T16:24:01.987238Z"
    }
   },
   "outputs": [
    {
     "data": {
      "text/plain": [
       "date\n",
       "2018-08-01    137\n",
       "2018-08-02    152\n",
       "2018-08-03    157\n",
       "2018-08-04    118\n",
       "2018-08-05    100\n",
       "             ... \n",
       "2018-10-27    139\n",
       "2018-10-28    143\n",
       "2018-10-29    102\n",
       "2018-10-30     89\n",
       "2018-10-31    141\n",
       "Name: amount, Length: 91, dtype: int64"
      ]
     },
     "execution_count": 80,
     "metadata": {},
     "output_type": "execute_result"
    }
   ],
   "source": [
    "daily_freq = df.groupby(by='date').agg('count')['amount']\n",
    "daily_freq"
   ]
  },
  {
   "cell_type": "code",
   "execution_count": 85,
   "metadata": {
    "ExecuteTime": {
     "end_time": "2020-07-29T16:27:58.987304Z",
     "start_time": "2020-07-29T16:27:58.669500Z"
    },
    "scrolled": false
   },
   "outputs": [
    {
     "data": {
      "text/plain": [
       "Text(0.5, 1.0, 'Daily Transaction Frequency during August-October 2018')"
      ]
     },
     "execution_count": 85,
     "metadata": {},
     "output_type": "execute_result"
    },
    {
     "data": {
      "image/png": "[encoded data removed]",
      "text/plain": [
       "<Figure size 1440x720 with 1 Axes>"
      ]
     },
     "metadata": {
      "needs_background": "light"
     },
     "output_type": "display_data"
    }
   ],
   "source": [
    "plt.figure(figsize=(20,10))\n",
    "daily_freq.plot()\n",
    "plt.xlabel('Date')\n",
    "plt.ylabel('Frequency')\n",
    "plt.title('Daily Transaction Frequency during August-October 2018')"
   ]
  },
  {
   "cell_type": "code",
   "execution_count": null,
   "metadata": {},
   "outputs": [],
   "source": []
  },
  {
   "cell_type": "markdown",
   "metadata": {},
   "source": [
    "# Conclusion"
   ]
  },
  {
   "cell_type": "code",
   "execution_count": null,
   "metadata": {},
   "outputs": [],
   "source": []
  }
 ],
 "metadata": {
  "kernelspec": {
   "display_name": "Python 3",
   "language": "python",
   "name": "python3"
  },
  "language_info": {
   "codemirror_mode": {
    "name": "ipython",
    "version": 3
   },
   "file_extension": ".py",
   "mimetype": "text/x-python",
   "name": "python",
   "nbconvert_exporter": "python",
   "pygments_lexer": "ipython3",
   "version": "3.7.6"
  },
  "toc": {
   "base_numbering": 1,
   "nav_menu": {},
   "number_sections": true,
   "sideBar": true,
   "skip_h1_title": false,
   "title_cell": "Table of Contents",
   "title_sidebar": "Contents",
   "toc_cell": false,
   "toc_position": {
    "height": "calc(100% - 180px)",
    "left": "10px",
    "top": "150px",
    "width": "199.664px"
   },
   "toc_section_display": true,
   "toc_window_display": true
  },
  "varInspector": {
   "cols": {
    "lenName": 16,
    "lenType": 16,
    "lenVar": 40
   },
   "kernels_config": {
    "python": {
     "delete_cmd_postfix": "",
     "delete_cmd_prefix": "del ",
     "library": "var_list.py",
     "varRefreshCmd": "print(var_dic_list())"
    },
    "r": {
     "delete_cmd_postfix": ") ",
     "delete_cmd_prefix": "rm(",
     "library": "var_list.r",
     "varRefreshCmd": "cat(var_dic_list()) "
    }
   },
   "types_to_exclude": [
    "module",
    "function",
    "builtin_function_or_method",
    "instance",
    "_Feature"
   ],
   "window_display": false
  }
 },
 "nbformat": 4,
 "nbformat_minor": 4
}
